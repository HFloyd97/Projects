{
 "cells": [
  {
   "cell_type": "markdown",
   "id": "b70c6c10",
   "metadata": {},
   "source": [
    "## Asset symbols"
   ]
  },
  {
   "cell_type": "code",
   "execution_count": 150,
   "id": "9f4d0b62",
   "metadata": {},
   "outputs": [],
   "source": [
    "Gold = 'GC=F'\n",
    "Volatility_Index = '^VIX'\n",
    "BTC = 'BTC-USD'\n",
    "ETH = 'ETH-USD'\n",
    "ADA = 'ADA-USD'"
   ]
  },
  {
   "cell_type": "markdown",
   "id": "70f17c1b",
   "metadata": {},
   "source": [
    "## Import Packages"
   ]
  },
  {
   "cell_type": "code",
   "execution_count": 151,
   "id": "80ab6cc9",
   "metadata": {},
   "outputs": [],
   "source": [
    "from pandas_datareader import data as web\n",
    "from datetime import date\n",
    "import math\n",
    "from forex_python.converter import CurrencyRates\n",
    "\n",
    "c = CurrencyRates()"
   ]
  },
  {
   "cell_type": "markdown",
   "id": "2e493896",
   "metadata": {},
   "source": [
    "## Define Dates"
   ]
  },
  {
   "cell_type": "code",
   "execution_count": 101,
   "id": "62dadddd",
   "metadata": {},
   "outputs": [],
   "source": [
    "# Dates should be in the format 'yyyy/mm/dd'\n",
    "sdate = '2019/07/05'\n",
    "\n",
    "# Get todays date\n",
    "edate = date.today()"
   ]
  },
  {
   "cell_type": "markdown",
   "id": "7884e821",
   "metadata": {},
   "source": [
    "## Given some amount of cash £X, what is the most of Stock Y that can be bought at its current price, given a worst case scenario stock price of Z?"
   ]
  },
  {
   "cell_type": "code",
   "execution_count": 143,
   "id": "d8f0358e",
   "metadata": {},
   "outputs": [],
   "source": [
    "# This assumes the currency used to purchase the asset is £GBP and the asset being purchased is in $USD\n",
    "def max_shares(amount, ticker, worst_case_scenario):    \n",
    "    \n",
    "    # Reads data into a dataframe\n",
    "    df = web.DataReader(ticker, 'yahoo', sdate, edate)\n",
    "    \n",
    "    # Get live conversion rate GBP:USD\n",
    "    conversion_rate = round(c.get_rate('GBP', 'USD'), 2)\n",
    "    # If forex_python is making the script slow then uncomment the line blow,\n",
    "    # comment out the line above and manually adjust\n",
    "    \n",
    "    # conversion_rate = 1.2\n",
    "\n",
    "    # Calculate the dollar amount using the conversion rate\n",
    "    dollar_amount = math.floor(conversion_rate * amount)\n",
    "   \n",
    "    # We define the current price as the latest closing price\n",
    "    price = round(df['Close'][-1], 2)\n",
    "    \n",
    "    # Calculate the amount required to hold a single share\n",
    "    maintenance_per_share = price / 10\n",
    "    \n",
    "    # Calculate the maximum number of shares we can buy based on the worst_case_scenrio\n",
    "    constraint_1 = math.floor((dollar_amount/(price - worst_case_scenario + maintenance_per_share)) * 10) / 10.0\n",
    "    \n",
    "    # Calculate the maximum number of shares we can buy based on the margin required to purchase the shares\n",
    "    constraint_2 = math.floor((5 * dollar_amount / price)* 10) / 10.0\n",
    "\n",
    "    # The maximum amount of shares we can buy is the minimum of the 2 constraints above\n",
    "    max_shares = min(constraint_1, constraint_2)\n",
    "    \n",
    "    # Calculate the required margin to hold the calculated amount of shares\n",
    "    required_margin = math.ceil((price / 5) * max_shares)\n",
    "    maintenance_margin = math.ceil(required_margin / 2)\n",
    "    \n",
    "    # We define the highest price as the highest price in the period\n",
    "    period_high = round(max(df['High']), 2)\n",
    "    \n",
    "    # Calculate the profit if the stock went back to its period high\n",
    "    period_high_profit = round((period_high - price) * max_shares, 0)\n",
    "    \n",
    "    # Calculate return on investment (ROI) if the stock reaches period high\n",
    "    roi = round((period_high_profit / dollar_amount) * 100, 2)\n",
    "    \n",
    "    # Print info\n",
    "    print(f\"With your £{amount}, your equity will be ${dollar_amount}.\")\n",
    "    print(f\"The current {ticker} share price is ${price}.\")\n",
    "    print(f\"You can buy {max_shares} shares but your positions will close out if {ticker} reaches ${worst_case_scenario}.\")\n",
    "    print(\"\")\n",
    "    print(f\"The required margin for {max_shares} shares is ${required_margin}\")\n",
    "    print(f\"The maintenance margin is ${maintenance_margin}.\")\n",
    "    print(f\"To ensure your positions don't close out, your equity must exceed ${maintenance_margin}.\")\n",
    "    print(\"\")\n",
    "    print(f\"The period high for {ticker} is ${period_high}.\")\n",
    "    print(f\"If {ticker} reaches ${period_high} again, profit will be ${period_high_profit}.\")\n",
    "    print(f\"Your equity will be ${dollar_amount + period_high_profit}.\")\n",
    "    print(f\"Return on investment would be {roi}%\")\n",
    "    "
   ]
  },
  {
   "cell_type": "code",
   "execution_count": 146,
   "id": "95732c9a",
   "metadata": {},
   "outputs": [
    {
     "name": "stdout",
     "output_type": "stream",
     "text": [
      "With your £100, your equity will be $120.\n",
      "The current TSLA share price is $752.29.\n",
      "You can buy 0.4 shares but your positions will close out if TSLA reaches $550.\n",
      "\n",
      "The required margin for 0.4 shares is $61\n",
      "The maintenance margin is $31.\n",
      "To ensure your positions don't close out, your equity must exceed $31.\n",
      "\n",
      "The period high for TSLA is $1243.49.\n",
      "If TSLA reaches $1243.49 again, profit will be $196.0.\n",
      "Your equity will be $316.0.\n",
      "Return on investment would be 163.33%\n"
     ]
    }
   ],
   "source": [
    "max_shares(100, 'TSLA',  550)"
   ]
  },
  {
   "cell_type": "code",
   "execution_count": 145,
   "id": "11d748a9",
   "metadata": {},
   "outputs": [
    {
     "name": "stdout",
     "output_type": "stream",
     "text": [
      "With your £20, your equity will be $24.\n",
      "The current SPCE share price is $7.32.\n",
      "You can buy 7.8 shares but your positions will close out if SPCE reaches $5.\n",
      "\n",
      "The required margin for 7.8 shares is $12\n",
      "The maintenance margin is $6.\n",
      "To ensure your positions don't close out, your equity must exceed $6.\n",
      "\n",
      "The period high for SPCE is $62.8.\n",
      "If SPCE reaches $62.8 again, profit will be $433.0.\n",
      "Your equity will be $457.0.\n",
      "Return on investment would be 1804.17%\n"
     ]
    }
   ],
   "source": [
    "max_shares(20, 'SPCE', 5)"
   ]
  },
  {
   "cell_type": "code",
   "execution_count": 142,
   "id": "24cb6c7d",
   "metadata": {},
   "outputs": [
    {
     "name": "stdout",
     "output_type": "stream",
     "text": [
      "With your £120, your equity will be $144.\n",
      "The current NIO share price is $22.6.\n",
      "You can buy 9.6 shares but your positions will close out if NIO reaches $10.\n",
      "\n",
      "The required margin for 9.6 shares is $44\n",
      "The maintenance margin is $22.\n",
      "To ensure your positions don't close out, your equity must exceed $22.\n",
      "\n",
      "The period high for NIO is $66.99.\n",
      "If NIO reaches $66.99 again, profit will be $426.0.\n",
      "Your equity will be $570.0.\n",
      "Return on investment would be 295.83%\n"
     ]
    }
   ],
   "source": [
    "max_shares(120, 'NIO', 10)"
   ]
  },
  {
   "cell_type": "code",
   "execution_count": 148,
   "id": "f224e746",
   "metadata": {},
   "outputs": [
    {
     "name": "stdout",
     "output_type": "stream",
     "text": [
      "With your £1200, your equity will be $1440.\n",
      "The current GC=F share price is $1740.6.\n",
      "You can buy 3.4 shares but your positions will close out if GC=F reaches $1500.\n",
      "\n",
      "The required margin for 3.4 shares is $1184\n",
      "The maintenance margin is $592.\n",
      "To ensure your positions don't close out, your equity must exceed $592.\n",
      "\n",
      "The period high for GC=F is $2072.0.\n",
      "If GC=F reaches $2072.0 again, profit will be $1127.0.\n",
      "Your equity will be $2567.0.\n",
      "Return on investment would be 78.26%\n"
     ]
    }
   ],
   "source": [
    "max_shares(1200, Gold, 1500)"
   ]
  },
  {
   "cell_type": "code",
   "execution_count": 152,
   "id": "46d8f40e",
   "metadata": {},
   "outputs": [
    {
     "name": "stdout",
     "output_type": "stream",
     "text": [
      "With your £2000, your equity will be $2400.\n",
      "The current BTC-USD share price is $20928.46.\n",
      "You can buy 0.1 shares but your positions will close out if BTC-USD reaches $10000.\n",
      "\n",
      "The required margin for 0.1 shares is $419\n",
      "The maintenance margin is $210.\n",
      "To ensure your positions don't close out, your equity must exceed $210.\n",
      "\n",
      "The period high for BTC-USD is $68789.62.\n",
      "If BTC-USD reaches $68789.62 again, profit will be $4786.0.\n",
      "Your equity will be $7186.0.\n",
      "Return on investment would be 199.42%\n"
     ]
    }
   ],
   "source": [
    "max_shares(2000, BTC, 10000)"
   ]
  },
  {
   "cell_type": "code",
   "execution_count": null,
   "id": "d6121e42",
   "metadata": {},
   "outputs": [],
   "source": []
  }
 ],
 "metadata": {
  "kernelspec": {
   "display_name": "Python 3 (ipykernel)",
   "language": "python",
   "name": "python3"
  },
  "language_info": {
   "codemirror_mode": {
    "name": "ipython",
    "version": 3
   },
   "file_extension": ".py",
   "mimetype": "text/x-python",
   "name": "python",
   "nbconvert_exporter": "python",
   "pygments_lexer": "ipython3",
   "version": "3.8.3"
  }
 },
 "nbformat": 4,
 "nbformat_minor": 5
}
