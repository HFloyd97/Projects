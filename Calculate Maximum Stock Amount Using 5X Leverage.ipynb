{
 "cells": [
  {
   "cell_type": "markdown",
   "id": "9d20aa37",
   "metadata": {},
   "source": [
    "## Import Packages"
   ]
  },
  {
   "cell_type": "code",
   "execution_count": 1,
   "id": "82bb4933",
   "metadata": {},
   "outputs": [],
   "source": [
    "from pandas_datareader import data as web\n",
    "from datetime import date\n",
    "import math"
   ]
  },
  {
   "cell_type": "markdown",
   "id": "de0d4fcb",
   "metadata": {},
   "source": [
    "## Define Dates"
   ]
  },
  {
   "cell_type": "code",
   "execution_count": 2,
   "id": "8ebd1ddf",
   "metadata": {},
   "outputs": [],
   "source": [
    "# Dates should be in the format 'yyyy/mm/dd'\n",
    "sdate = '2022/07/05'\n",
    "\n",
    "# Get todays date\n",
    "edate = date.today()"
   ]
  },
  {
   "cell_type": "markdown",
   "id": "2dfc5619",
   "metadata": {},
   "source": [
    "## Given some amount of cash £X, what is the most of Stock Y that can be bought at its current price, given a worst case scenario stock price of Z?"
   ]
  },
  {
   "cell_type": "code",
   "execution_count": 7,
   "id": "730aefe1",
   "metadata": {},
   "outputs": [],
   "source": [
    "# This assumes the currency used to purchase the asset is £GBP and the asset being purchased is in $USD\n",
    "def amount_of_stock(amount, ticker, worst_case_scenario):    \n",
    "    \n",
    "    # Reads data into a dataframe\n",
    "    df = web.DataReader(ticker, 'yahoo', sdate, edate)\n",
    "\n",
    "    # need some code to get live conversion rate \n",
    "    dollar_amount = 1.2 * amount\n",
    "   \n",
    "    # we define the price as the latest closing price\n",
    "    price = round(df['Close'][-1], 2)\n",
    "    \n",
    "    # Calculate the amount required to hold a single share\n",
    "    maintenance_per_share = price / 10\n",
    "    \n",
    "    # Calculate the maximum number of stock we can buy\n",
    "    amount_of_stock = math.floor((dollar_amount/(price - worst_case_scenario + maintenance_per_share)) * 10) / 10.0\n",
    "    \n",
    "    \n",
    "    required_margin = math.ceil((price / 5) * amount_of_stock) * 1.0\n",
    "    maintenance_margin = required_margin / 2\n",
    "\n",
    "    print(f\"Stock: {ticker}, Price: ${price}, Amount: {amount_of_stock}\")\n",
    "    print(f\"Equity: ${dollar_amount}\")\n",
    "    print(f\"Required Margin: ${required_margin}\")\n",
    "    print(f\"Maintenance Margin: ${maintenance_margin}\")"
   ]
  },
  {
   "cell_type": "code",
   "execution_count": 4,
   "id": "41e8754b",
   "metadata": {},
   "outputs": [
    {
     "name": "stdout",
     "output_type": "stream",
     "text": [
      "Stock: SPCE, Price: $7.32, Amount: 296.1\n",
      "Equity: $1200.0\n",
      "Required Margin: $434.0\n",
      "Maintenance Margin: $217.0\n"
     ]
    }
   ],
   "source": [
    "amount_of_stock(1000, 'SPCE', 4)"
   ]
  },
  {
   "cell_type": "code",
   "execution_count": 5,
   "id": "2533469c",
   "metadata": {},
   "outputs": [
    {
     "name": "stdout",
     "output_type": "stream",
     "text": [
      "Stock: TSLA, Price: $752.29, Amount: 0.3\n",
      "Equity: $120.0\n",
      "Required Margin: $46.0\n",
      "Maintenance Margin: $23.0\n"
     ]
    }
   ],
   "source": [
    "amount_of_stock(100, 'TSLA', 520)"
   ]
  },
  {
   "cell_type": "code",
   "execution_count": 6,
   "id": "9b74f089",
   "metadata": {},
   "outputs": [
    {
     "name": "stdout",
     "output_type": "stream",
     "text": [
      "Stock: ARKG, Price: $37.46, Amount: 84.8\n",
      "Equity: $1800.0\n",
      "Required Margin: $636.0\n",
      "Maintenance Margin: $318.0\n"
     ]
    }
   ],
   "source": [
    "amount_of_stock(1500, 'ARKG', 20)"
   ]
  }
 ],
 "metadata": {
  "kernelspec": {
   "display_name": "Python 3 (ipykernel)",
   "language": "python",
   "name": "python3"
  },
  "language_info": {
   "codemirror_mode": {
    "name": "ipython",
    "version": 3
   },
   "file_extension": ".py",
   "mimetype": "text/x-python",
   "name": "python",
   "nbconvert_exporter": "python",
   "pygments_lexer": "ipython3",
   "version": "3.8.3"
  }
 },
 "nbformat": 4,
 "nbformat_minor": 5
}
