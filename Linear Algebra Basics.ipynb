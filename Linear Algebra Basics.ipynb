{
 "cells": [
  {
   "cell_type": "code",
   "execution_count": 1,
   "id": "540b0924",
   "metadata": {},
   "outputs": [],
   "source": [
    "import numpy as np"
   ]
  },
  {
   "cell_type": "markdown",
   "id": "411857c2",
   "metadata": {},
   "source": [
    "# Using NumPy Arrays"
   ]
  },
  {
   "cell_type": "code",
   "execution_count": 7,
   "id": "c19dad21",
   "metadata": {},
   "outputs": [
    {
     "name": "stdout",
     "output_type": "stream",
     "text": [
      "(4, 3)\n"
     ]
    }
   ],
   "source": [
    "# Define some vectors\n",
    "vector_1 = np.array([-2,-6,2,3])\n",
    "vector_2 = np.array([4,1,-3,8])\n",
    "vector_3 = np.array([5,-7,9,0])\n",
    "# Turn our vectors into a matrix\n",
    "matrix = np.column_stack((vector_1, vector_2, vector_3))\n",
    "\n",
    "# Print the dimensions of the matrix\n",
    "print(matrix.shape)"
   ]
  },
  {
   "cell_type": "code",
   "execution_count": 9,
   "id": "1ef58a55",
   "metadata": {},
   "outputs": [
    {
     "name": "stdout",
     "output_type": "stream",
     "text": [
      "[[-2  4  5]\n",
      " [-6  1 -7]\n",
      " [ 2 -3  9]\n",
      " [ 3  8  0]]\n"
     ]
    }
   ],
   "source": [
    "# View the created matrix\n",
    "print(matrix)"
   ]
  },
  {
   "cell_type": "code",
   "execution_count": 11,
   "id": "3e2de2d2",
   "metadata": {},
   "outputs": [
    {
     "name": "stdout",
     "output_type": "stream",
     "text": [
      "[-2 -6  2  3]\n",
      "[ 5 -7  9  0]\n"
     ]
    }
   ],
   "source": [
    "# View the 1st column of the matrix\n",
    "print(matrix[:,0])\n",
    "# View the 3rd column of the matrix\n",
    "print(matrix[:,2])"
   ]
  },
  {
   "cell_type": "code",
   "execution_count": 12,
   "id": "b167439d",
   "metadata": {},
   "outputs": [
    {
     "name": "stdout",
     "output_type": "stream",
     "text": [
      "[-2  4  5]\n",
      "[ 2 -3  9]\n"
     ]
    }
   ],
   "source": [
    "# View the 1st row of the matrix\n",
    "print(matrix[0,:])\n",
    "# View the 3rd row of the matrix\n",
    "print(matrix[2,:])"
   ]
  },
  {
   "cell_type": "markdown",
   "id": "4f8acac3",
   "metadata": {},
   "source": [
    "# Using NumPy for Linear Algebra Operations"
   ]
  },
  {
   "cell_type": "code",
   "execution_count": 13,
   "id": "c1021ed5",
   "metadata": {},
   "outputs": [],
   "source": [
    "# 2 x 3 matrix\n",
    "A = np.array([[2,3,-4], [-2, 1, -3]])\n",
    "# 2 x 3 matrix\n",
    "B = np.array([[1,-1,4], [3,-3,3]])\n",
    "# 3 x 2 matrix\n",
    "C = np.array([[1, 2], [3, 4], [5, 6]])"
   ]
  },
  {
   "cell_type": "code",
   "execution_count": 17,
   "id": "e1ea41f1",
   "metadata": {},
   "outputs": [
    {
     "name": "stdout",
     "output_type": "stream",
     "text": [
      "[[ 2  3 -4]\n",
      " [-2  1 -3]]\n",
      "[[ 1 -1  4]\n",
      " [ 3 -3  3]]\n",
      "[[1 2]\n",
      " [3 4]\n",
      " [5 6]]\n"
     ]
    }
   ],
   "source": [
    "print(A)\n",
    "print(B)\n",
    "print(C)"
   ]
  },
  {
   "cell_type": "code",
   "execution_count": 18,
   "id": "7593553d",
   "metadata": {},
   "outputs": [],
   "source": [
    "# Calculate D = 4A - 2B\n",
    "D = 4*A - 2*B\n",
    "\n",
    "# Calculate E = AC\n",
    "E = A @ C\n",
    "#E = np.matmul(A,C)\n",
    "\n",
    "# Calculate F = CA\n",
    "#F = C @ A\n",
    "F = np.matmul(C,A)"
   ]
  },
  {
   "cell_type": "markdown",
   "id": "0c64ce7d",
   "metadata": {},
   "source": [
    "# Special Matrices"
   ]
  },
  {
   "cell_type": "code",
   "execution_count": 38,
   "id": "d20875ce",
   "metadata": {},
   "outputs": [
    {
     "name": "stdout",
     "output_type": "stream",
     "text": [
      "[[ 1 -1  1]\n",
      " [ 0  1  0]\n",
      " [-1  2  1]]\n",
      "[[ 0.5  1.5 -0.5]\n",
      " [ 0.   1.   0. ]\n",
      " [ 0.5 -0.5  0.5]]\n"
     ]
    }
   ],
   "source": [
    "A = np.array([[1,-1,1], [0,1,0], [-1,2,1]])\n",
    "B = np.array([[0.5,1.5,-0.5], [0,1,0], [0.5,-0.5,0.5]])\n",
    "print(A)\n",
    "print(B)"
   ]
  },
  {
   "cell_type": "code",
   "execution_count": 36,
   "id": "9ec5bf41",
   "metadata": {},
   "outputs": [
    {
     "name": "stdout",
     "output_type": "stream",
     "text": [
      "[[1. 0. 0.]\n",
      " [0. 1. 0.]\n",
      " [0. 0. 1.]]\n",
      "[[1. 0. 0.]\n",
      " [0. 1. 0.]\n",
      " [0. 0. 1.]]\n"
     ]
    }
   ],
   "source": [
    "# Multiply matrix A and matrix B \n",
    "# Multiply matrix B and matrix A\n",
    "AB = A@B\n",
    "BA = B@A\n",
    "\n",
    "# If AB = BA then the 2 matrices are inverse\n",
    "print(AB)\n",
    "print(BA)"
   ]
  },
  {
   "cell_type": "code",
   "execution_count": 39,
   "id": "97dfeae0",
   "metadata": {},
   "outputs": [
    {
     "name": "stdout",
     "output_type": "stream",
     "text": [
      "[[ 0.5  1.5 -0.5]\n",
      " [ 0.   1.   0. ]\n",
      " [ 0.5 -0.5  0.5]]\n"
     ]
    }
   ],
   "source": [
    "# If a matrix has an inverse we can get the inverse matrix using np.linalg.inv()\n",
    "A_inverse = np.linalg.inv(A)\n",
    "print(A_inverse)\n",
    "# We see that this is equal to B "
   ]
  },
  {
   "cell_type": "code",
   "execution_count": 22,
   "id": "d264c75f",
   "metadata": {},
   "outputs": [
    {
     "name": "stdout",
     "output_type": "stream",
     "text": [
      "[[ 1  0 -1]\n",
      " [-1  1  2]\n",
      " [ 1  0  1]]\n",
      "[[ 0.5  0.   0.5]\n",
      " [ 1.5  1.  -0.5]\n",
      " [-0.5  0.   0.5]]\n"
     ]
    }
   ],
   "source": [
    "# Get the transposed matrices of A and B\n",
    "A_transposed = A.T\n",
    "B_transposed = B.T\n",
    "\n",
    "print(A_transposed)\n",
    "print(B_transposed)"
   ]
  },
  {
   "cell_type": "markdown",
   "id": "4eb51dd0",
   "metadata": {},
   "source": [
    "# Additional Linear Algebra Operations"
   ]
  },
  {
   "cell_type": "code",
   "execution_count": 25,
   "id": "e6f4488e",
   "metadata": {},
   "outputs": [],
   "source": [
    "# Given\n",
    "\n",
    "#  4x + z = 2\n",
    "#  -y + 2z - 3x = 0\n",
    "#  .5y - x - 1.5z = -4\n",
    "\n",
    "# Solve Ax = b"
   ]
  },
  {
   "cell_type": "code",
   "execution_count": 29,
   "id": "f849e408",
   "metadata": {},
   "outputs": [
    {
     "name": "stdout",
     "output_type": "stream",
     "text": [
      "[[ 4.   0.   1. ]\n",
      " [-3.  -1.   2. ]\n",
      " [-1.   0.5 -1.5]]\n",
      "[ 2  0 -4]\n"
     ]
    }
   ],
   "source": [
    "# Represent the system in NumPy matrix/vector form. i.e Ax = b\n",
    "A = np.array([[4,0,1], [-3, -1, 2], [-1, 0.5, - 1.5]])\n",
    "b = np.array([2, 0, -4])\n",
    "print(A)\n",
    "print(b)"
   ]
  },
  {
   "cell_type": "code",
   "execution_count": 31,
   "id": "42973289",
   "metadata": {},
   "outputs": [
    {
     "name": "stdout",
     "output_type": "stream",
     "text": [
      "6.0 -62.0 -22.0\n"
     ]
    }
   ],
   "source": [
    "# Solving for x, y, and z\n",
    "x, y, z = np.linalg.solve(A, b)\n",
    "print(x, y, z)"
   ]
  },
  {
   "cell_type": "code",
   "execution_count": 34,
   "id": "c6a9cd88",
   "metadata": {},
   "outputs": [
    {
     "name": "stdout",
     "output_type": "stream",
     "text": [
      "4.47213595499958\n"
     ]
    }
   ],
   "source": [
    "# Get the “norm” (or length/magnitude) of a vector\n",
    "b_norm = np.linalg.norm(b)\n",
    "print(b_norm)"
   ]
  },
  {
   "cell_type": "markdown",
   "id": "8c1cea74",
   "metadata": {},
   "source": [
    "# Example"
   ]
  },
  {
   "cell_type": "code",
   "execution_count": 40,
   "id": "026d3ba1",
   "metadata": {},
   "outputs": [],
   "source": [
    "# Given\n",
    "\n",
    "#  2a + 3d - 2c = 4\n",
    "#  -c + 4b - a = 1\n",
    "#  2d - 2c + 3a - b = 2\n",
    "#  -2a + 3c - b = -2\n",
    "\n",
    "# Solve for a, b, c and d"
   ]
  },
  {
   "cell_type": "code",
   "execution_count": 42,
   "id": "583546a8",
   "metadata": {},
   "outputs": [
    {
     "name": "stdout",
     "output_type": "stream",
     "text": [
      "[[ 2  0 -2  3]\n",
      " [-1  4 -1  0]\n",
      " [ 3 -1 -2  2]\n",
      " [-2 -1  3  0]]\n",
      "[ 4  1  2 -2]\n"
     ]
    }
   ],
   "source": [
    "# We define A and b\n",
    "A = np.array([[2, 0,-2, 3], [-1, 4, -1, 0], [3, -1, -2, 2], [-2, -1, 3, 0]])\n",
    "b = np.array([4, 1, 2, -2])\n",
    "print(A)\n",
    "print(b)"
   ]
  },
  {
   "cell_type": "code",
   "execution_count": 43,
   "id": "17c796b4",
   "metadata": {},
   "outputs": [
    {
     "name": "stdout",
     "output_type": "stream",
     "text": [
      "-1.4999999999999998 -0.5909090909090906 -1.8636363636363633 1.0909090909090908\n"
     ]
    }
   ],
   "source": [
    "# Solve for a, b, c and d\n",
    "a, b, c, d = np.linalg.solve(A, b)\n",
    "print(a, b, c, d)"
   ]
  },
  {
   "cell_type": "code",
   "execution_count": null,
   "id": "0b691da2",
   "metadata": {},
   "outputs": [],
   "source": []
  }
 ],
 "metadata": {
  "kernelspec": {
   "display_name": "Python 3 (ipykernel)",
   "language": "python",
   "name": "python3"
  },
  "language_info": {
   "codemirror_mode": {
    "name": "ipython",
    "version": 3
   },
   "file_extension": ".py",
   "mimetype": "text/x-python",
   "name": "python",
   "nbconvert_exporter": "python",
   "pygments_lexer": "ipython3",
   "version": "3.8.3"
  }
 },
 "nbformat": 4,
 "nbformat_minor": 5
}
