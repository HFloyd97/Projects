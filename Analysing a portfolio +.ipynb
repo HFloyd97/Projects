{
 "cells": [
  {
   "cell_type": "markdown",
   "id": "64f938a3",
   "metadata": {},
   "source": [
    "# Asset symbols"
   ]
  },
  {
   "cell_type": "raw",
   "id": "74149d12",
   "metadata": {},
   "source": [
    "Gold = 'GC=F'\n",
    "Volatility Index = '^VIX'\n",
    "Bitcoin = 'BTC-USD'\n",
    "Ethereum = 'ETH-USD'\n",
    "Cardano = 'ADA-USD'\n",
    "\n",
    "# Get nasdaq symbols\n",
    "nasdaq = web.get_nasdaq_symbols()"
   ]
  },
  {
   "cell_type": "markdown",
   "id": "3e902a80",
   "metadata": {},
   "source": [
    "# Available Functions "
   ]
  },
  {
   "cell_type": "raw",
   "id": "78fa3f37",
   "metadata": {},
   "source": [
    "- get_data_from_yahoo(ticker, save_csv = False, mas = [10,50,100], plot_price = True, plot_mas = False, plot_histogram = True)\n",
    "\n",
    "- analyse_portfolio(tickers, amounts, save_csv = False, show_all_graphs = False)\n",
    "\n",
    "- amount_of_stocks(tickers, amount) \n",
    "\n",
    "- get_df_from_csv(ticker)\n",
    "\n",
    "- plot_pct_change(df, ticker)\n",
    "\n",
    "- correlation(tickers, show_all_graphs = False)\n",
    "\n",
    "- total_return(tickers)\n",
    "\n",
    "- beta(tickers, save_csv = False)\n",
    "\n",
    "- candlestick_plot(ticker, mas = [10, 50, 100], show_mas = False)"
   ]
  },
  {
   "cell_type": "markdown",
   "id": "d1f97e3d",
   "metadata": {},
   "source": [
    "# Imports"
   ]
  },
  {
   "cell_type": "code",
   "execution_count": 146,
   "id": "6687bf6b",
   "metadata": {},
   "outputs": [],
   "source": [
    "from pandas_datareader import data as web\n",
    "import pandas as pd\n",
    "import matplotlib.pyplot as plt\n",
    "import datetime as dt\n",
    "import statistics\n",
    "from statistics import mean\n",
    "from datetime import date\n",
    "from matplotlib.dates import DateFormatter\n",
    "import numpy as np\n",
    "\n",
    "import plotly.graph_objects as go\n",
    "import plotly.figure_factory as ff"
   ]
  },
  {
   "cell_type": "markdown",
   "id": "e89d322e",
   "metadata": {},
   "source": [
    "# Define Start and End date"
   ]
  },
  {
   "cell_type": "code",
   "execution_count": 331,
   "id": "96fdbdb1",
   "metadata": {},
   "outputs": [],
   "source": [
    "# Dates should be in the format 'yyyy/mm/dd'\n",
    "sdate = '2021/05/15'\n",
    "edate = '2022/05/15'\n",
    "\n",
    "# Get todays date\n",
    "#today = date.today()\n",
    "#print(today)"
   ]
  },
  {
   "cell_type": "markdown",
   "id": "dd5503c6",
   "metadata": {},
   "source": [
    "# Function that gets stock data and allows to save to a csv "
   ]
  },
  {
   "cell_type": "raw",
   "id": "e25c28d0",
   "metadata": {},
   "source": [
    "Gets a dataframe by providing a single ticker. We can also set the function to save the csv, to plot price, to plot a histogram of daily returns, to plot the moving averages and we can also define the moving averages. "
   ]
  },
  {
   "cell_type": "code",
   "execution_count": 332,
   "id": "0c525c06",
   "metadata": {},
   "outputs": [],
   "source": [
    "# Function that gets a dataframe by providing a ticker\n",
    "def get_data_from_yahoo(ticker, save_csv = False, mas = [10,50,100], plot_price = True, plot_mas = False, plot_histogram = True):\n",
    "    \n",
    "    # Sets the time periods to be used\n",
    "    start = dt.datetime(int(sdate.split(\"/\")[0]), int(sdate.split(\"/\")[1]), int(sdate.split(\"/\")[2]))\n",
    "    end = dt.datetime(int(edate.split(\"/\")[0]), int(edate.split(\"/\")[1]), int(edate.split(\"/\")[2]))\n",
    "    \n",
    "    # Reads data into a dataframe\n",
    "    df = web.DataReader(ticker, 'yahoo', start, end)\n",
    "    \n",
    "    \n",
    "    #df.drop(columns = 'Adj Close')\n",
    "    \n",
    "    # Add daily return column\n",
    "    df['Daily Return Pct'] = 100*(df['Adj Close'] / df['Adj Close'].shift(1) - 1)   \n",
    "    \n",
    "    # Create the simple moving averages\n",
    "    for ma in mas:\n",
    "        df['{} Moving Average'.format(ma)] = df['Adj Close'].rolling(window=ma).mean()\n",
    "    \n",
    "    # Round values to 2dp\n",
    "    for column in df.columns:\n",
    "        if column != 'Volume':\n",
    "            df[column] = round(df[column], 2)\n",
    "    \n",
    "    # Saves dataframe into a csv if save_csv is True\n",
    "    if save_csv:\n",
    "        df.to_csv(\"/Users/harryfloyd/Desktop/\" + ticker + '.csv')\n",
    "        \n",
    "    # Simple plotly plot of stock open and close\n",
    "    if plot_price:\n",
    "        \n",
    "        graph = {\n",
    "        'x': df.index,\n",
    "        'open': df.Open,\n",
    "        'close': df.Close,\n",
    "        'high': df.High,\n",
    "        'low': df.Low,\n",
    "        'type': 'candlestick',\n",
    "        'name': '{}'.format(ticker),\n",
    "        'showlegend': True\n",
    "        }\n",
    "\n",
    "        layout = go.Figure(data = [graph], layout_title = \"{}: Stock Price\".format(ticker))\n",
    "\n",
    "        # Change the background colour to black\n",
    "        layout.update_layout(template = \"plotly_dark\")\n",
    "        \n",
    "        # Remove the slider on the bottom of the graph\n",
    "        layout.update_layout(xaxis_rangeslider_visible=False)\n",
    "        \n",
    "        #layout.show()\n",
    "\n",
    "    # Simple plot of stock moving averages \n",
    "    if plot_mas:\n",
    "        for ma in mas:\n",
    "            layout.add_trace(go.Scatter(x = df.index, y = df['{} Moving Average'.format(ma)], name = \"{} MA\".format(ma)))\n",
    "            \n",
    "    layout.show()    \n",
    "    # Simple Plotly Histogram of stock daily_returns     \n",
    "    if plot_histogram:\n",
    "        \n",
    "        fig = go.Figure(data=[go.Histogram(x=df['Daily Return Pct'])])\n",
    "        \n",
    "        fig.update_layout(\n",
    "        title_text='Daily Return % Frequency Histogram', # title of plot\n",
    "        xaxis_title_text='Daily Return %', # xaxis label\n",
    "        yaxis_title_text='Count', # yaxis label\n",
    "        bargap=0.1, # gap between bars of adjacent location coordinates\n",
    "        )\n",
    "        \n",
    "        fig.show()\n",
    "    #return df\n",
    "    del df['Adj Close']\n",
    "    df['Date'] = df.index\n",
    "    \n",
    "    fig = go.Figure(data=[go.Table(\n",
    "        \n",
    "        header=dict(values=list(df.columns),\n",
    "                fill_color='paleturquoise',\n",
    "                align='left'),\n",
    "        cells=dict(values=[df.Open, df.Close, df.Low, df.High, df.Volume, df['Daily Return Pct'], df['10 Moving Average'], df['50 Moving Average'], df['100 Moving Average'], df.Date,],\n",
    "               fill_color='lavender',\n",
    "               align='left'))\n",
    "    ])\n",
    "    \n",
    "    fig.update_traces(header_font=dict(size = 10))\n",
    "    fig.update_traces(cells_font=dict(size = 10))\n",
    "\n",
    "    fig.show()"
   ]
  },
  {
   "cell_type": "markdown",
   "id": "3d9279ed",
   "metadata": {},
   "source": [
    "# Calculate how much of a stock can be bought with a given amount\n",
    "### Calculate how much of a stock can be purchased at the start date given some amount."
   ]
  },
  {
   "cell_type": "code",
   "execution_count": 333,
   "id": "cb6af637",
   "metadata": {},
   "outputs": [],
   "source": [
    "def amount_of_stocks(tickers, amount):\n",
    "    # Sets the time periods to be used\n",
    "    start = dt.datetime(int(sdate.split(\"/\")[0]), int(sdate.split(\"/\")[1]), int(sdate.split(\"/\")[2]))\n",
    "    end = dt.datetime(int(edate.split(\"/\")[0]), int(edate.split(\"/\")[1]), int(edate.split(\"/\")[2]))\n",
    "    \n",
    "    amounts = []\n",
    "    \n",
    "    # Reads data into a dataframe\n",
    "    for ticker in tickers:\n",
    "        df = web.DataReader(ticker, 'yahoo', start, end)\n",
    "        amount_of_stock = round(amount / df['Open'][0], 1)\n",
    "        print(f\"{ticker}: {amount_of_stock}\")\n",
    "        amounts.append(amount_of_stock)\n",
    "    return amounts"
   ]
  },
  {
   "cell_type": "markdown",
   "id": "3b1605df",
   "metadata": {},
   "source": [
    "# Analyse a portfolio\n",
    "### This function produces a chart of a given portfolio and also returns information about returns and standard deviation.  We also have the option to save the data of our portfolio as a csv and show the charts of the individual stocks that make up the portfolio."
   ]
  },
  {
   "cell_type": "code",
   "execution_count": 334,
   "id": "0de6915a",
   "metadata": {},
   "outputs": [],
   "source": [
    "# Function that gets a dataframe by providing a ticker, starting date and end date\n",
    "def analyse_portfolio(tickers, amounts, save_csv = False, show_all_graphs = False):\n",
    "    \n",
    "    # Sets the time periods to be used\n",
    "    start = dt.datetime(int(sdate.split(\"/\")[0]), int(sdate.split(\"/\")[1]), int(sdate.split(\"/\")[2]))\n",
    "    end = dt.datetime(int(edate.split(\"/\")[0]), int(edate.split(\"/\")[1]), int(edate.split(\"/\")[2]))\n",
    "    \n",
    "    portfolio = pd.DataFrame()    \n",
    "    \n",
    "    # Reads data into a dataframe to create an empty dataframe\n",
    "    portfolio['open_value'] = 0*web.DataReader('TSLA', 'yahoo', start, end).Open\n",
    "    portfolio['close_value'] = 0*web.DataReader('TSLA', 'yahoo', start, end).Close\n",
    "    portfolio['high_value'] = 0*web.DataReader('TSLA', 'yahoo', start, end).High\n",
    "    portfolio['low_value'] = 0*web.DataReader('TSLA', 'yahoo', start, end).Low\n",
    "    \n",
    "    \n",
    "    # Create portfolio values by adding columns from each stock\n",
    "    index = 0\n",
    "    for ticker in tickers:\n",
    "         df = web.DataReader(ticker, 'yahoo', start, end)\n",
    "            \n",
    "         # Simple plot of stock open and close\n",
    "         if show_all_graphs:\n",
    "             \n",
    "             graph = {\n",
    "             'x': df.index,\n",
    "             'open': df.Open,\n",
    "             'close': df.Close,\n",
    "             'high': df.High,\n",
    "             'low': df.Low,\n",
    "             'type': 'candlestick',\n",
    "             'name': '{}'.format(ticker),\n",
    "             'showlegend': True\n",
    "             }   \n",
    "             \n",
    "             layout = go.Figure(data = [graph], layout_title = \"{}: Stock Price\".format(ticker))\n",
    "\n",
    "             # Change the background colour to black\n",
    "             layout.update_layout(template = \"plotly_dark\")\n",
    "             layout.update_layout(xaxis_rangeslider_visible=False)\n",
    "             layout.show()\n",
    "        \n",
    "         portfolio.open_value += df.Open * amounts[index]\n",
    "         portfolio.close_value += df.Close * amounts[index]\n",
    "         portfolio.high_value += df.High * amounts[index]\n",
    "         portfolio.low_value += df.Low * amounts[index]\n",
    "         index += 1\n",
    "        \n",
    "    # Add daily return column\n",
    "    portfolio['daily_return_pct'] = 100*(portfolio.close_value / portfolio.close_value.shift(1) - 1) \n",
    "    \n",
    "    # Round values to 2dp\n",
    "    for column in portfolio.columns:\n",
    "        portfolio[column] = round(portfolio[column], 2)\n",
    "    \n",
    "    # Saves dataframe into a csv if save_csv is True\n",
    "    if save_csv:\n",
    "        portfolio.to_csv(\"/Users/harryfloyd/Desktop/\" + tickers + '.csv')\n",
    "        \n",
    "    # Simple plotly plot of portfolio open and close\n",
    "    \n",
    "    graph = {\n",
    "    'x': portfolio.index,\n",
    "    'open': portfolio.open_value,\n",
    "    'close': portfolio.close_value,\n",
    "    'high': portfolio.high_value,\n",
    "    'low': portfolio.low_value,\n",
    "    'type': 'candlestick',\n",
    "    'name': 'Portfolio',\n",
    "    'showlegend': True\n",
    "    }\n",
    "    \n",
    "    layout = go.Figure(data = [graph], layout_title = \"Portfolio Value\")\n",
    "    \n",
    "    # Change the background colour to black\n",
    "    layout.update_layout(template = \"plotly_dark\")\n",
    "    layout.update_layout(xaxis_rangeslider_visible=False)\n",
    "    layout.show()\n",
    "    \n",
    "    # Max daily increase and decrease\n",
    "    max_percent_increase = portfolio.daily_return_pct.max()\n",
    "    max_percent_decrease = portfolio.daily_return_pct.min()\n",
    "    \n",
    "    print(f\"Max daily percent increase: {max_percent_increase}%, Max daily percent decrease: {max_percent_decrease}%\")\n",
    "    \n",
    "    # Total return over timeframe\n",
    "    return_over_time = round(100*(portfolio.close_value[-1] / portfolio.open_value[0] - 1), 2)\n",
    "    \n",
    "    print(f\"Total return over timeframe: {return_over_time}%\")\n",
    "    \n",
    "    # This is a hack to the get the mean daily return\n",
    "    # The first value is 'Nan' and so gives the value 'Nan'\n",
    "    # This replaces 'Nan with the first daily_return_pct'\n",
    "    portfolio.daily_return_pct[0] = portfolio.daily_return_pct[1]\n",
    "    # Mean daily return\n",
    "    mean_daily_return = round(mean(portfolio.daily_return_pct), 2)\n",
    "    \n",
    "    print(f\"Mean daily return: {mean_daily_return}%\")\n",
    "    \n",
    "    stddev_of_returns = round(statistics.stdev(portfolio.daily_return_pct), 2)\n",
    "    print(f\"Standard Deviation of returns: {stddev_of_returns}%\")\n",
    "    \n",
    "    # Max percent increase and decrease from start value\n",
    "    highest_value = portfolio.close_value.max()\n",
    "    portfolio_high = round(100*(highest_value / portfolio.close_value[0]  - 1), 2)\n",
    "    print(f\"Largest increase from start value: {portfolio_high}%\")\n",
    "    \n",
    "    lowest_value = portfolio.close_value.min()\n",
    "    portfolio_low = round(100*(lowest_value / portfolio.close_value[0]  - 1), 2)\n",
    "    print(f\"Largest decrease from start value: {portfolio_low}%\")\n",
    "        \n",
    "    #print (portfolio)\n",
    "    #return layout"
   ]
  },
  {
   "cell_type": "markdown",
   "id": "a3dcd768",
   "metadata": {},
   "source": [
    "# Function that returns a Dataframe from a csv\n",
    "### Open a saved csv file as a dataframe"
   ]
  },
  {
   "cell_type": "code",
   "execution_count": 335,
   "id": "106ef93f",
   "metadata": {},
   "outputs": [],
   "source": [
    "# Reads a dataframe from the CSV file, changes index to date and returns it\n",
    "def get_df_from_csv(ticker):\n",
    "    \n",
    "    # Try to get the file and if it doesn't exist issue a warning\n",
    "    try:\n",
    "        df = pd.read_csv(\"/Users/harryfloyd/Desktop/\" + ticker + '.csv')\n",
    "    except FileNotFoundError:\n",
    "        print(\"File Doesn't Exist\")\n",
    "    else:\n",
    "        return df"
   ]
  },
  {
   "cell_type": "markdown",
   "id": "77a022bb",
   "metadata": {},
   "source": [
    "# Function to plot stock daily returns\n",
    "### A simple plot of stock daily returns. To be used with get_data_from_yahoo to obtain df."
   ]
  },
  {
   "cell_type": "code",
   "execution_count": 336,
   "id": "53157b74",
   "metadata": {},
   "outputs": [],
   "source": [
    "def plot_pct_change(df, ticker):\n",
    "    df.daily_return_pct.plot(label='{} Pct Change'.format(ticker))\n",
    "    plt.hlines(0, sdate, edate,  color='red')\n",
    "    plt.legend()\n",
    "    plt.title('{} Pct Change'.format(ticker))\n",
    "    plt.ylabel('Pct Change')\n",
    "    plt.show()"
   ]
  },
  {
   "cell_type": "markdown",
   "id": "bbf49d5d",
   "metadata": {},
   "source": [
    "# Get the correlation between stocks"
   ]
  },
  {
   "cell_type": "raw",
   "id": "cb3bbb76",
   "metadata": {},
   "source": [
    "A value of 1 means the asstes are perfectly correlated\n",
    "A value of 0 means the asstes are uncorrelated\n",
    "A value of -1 means the stocks are perfectly uncorrelated"
   ]
  },
  {
   "cell_type": "code",
   "execution_count": 337,
   "id": "dc809cab",
   "metadata": {},
   "outputs": [],
   "source": [
    "def correlation(tickers, show_all_graphs = False):\n",
    "    # Sets the time periods to be used\n",
    "    start = dt.datetime(int(sdate.split(\"/\")[0]), int(sdate.split(\"/\")[1]), int(sdate.split(\"/\")[2]))\n",
    "    end = dt.datetime(int(edate.split(\"/\")[0]), int(edate.split(\"/\")[1]), int(edate.split(\"/\")[2]))\n",
    "    \n",
    "    # Reads data into a dataframe\n",
    "    dfcomp = web.DataReader(tickers,'yahoo', start, end)['Adj Close']\n",
    "    # Get percent changes of adjusted close to find the returns\n",
    "    retscomp = dfcomp.pct_change()\n",
    "    # Get the correlation of the returns\n",
    "    corr = retscomp.corr()\n",
    "    \n",
    "    index = 0\n",
    "    if show_all_graphs:\n",
    "        for ticker in tickers:\n",
    "             ticker = web.DataReader(ticker, 'yahoo', start, end) \n",
    "                \n",
    "             graph = {\n",
    "             'x': ticker.index,\n",
    "             'open': ticker.Open,\n",
    "             'close': ticker.Close,\n",
    "             'high': ticker.High,\n",
    "             'low': ticker.Low,\n",
    "             'type': 'candlestick',\n",
    "             'name': '{}'.format(tickers[index]),\n",
    "             'showlegend': True\n",
    "             }\n",
    "\n",
    "             layout = go.Figure(data = [graph], layout_title = \"{}: Stock Price\".format(tickers[index]))\n",
    "\n",
    "             # Change the background colour to black\n",
    "             layout.update_layout(template = \"plotly_dark\")\n",
    "                \n",
    "             layout.update_layout(xaxis_rangeslider_visible=False)\n",
    "\n",
    "             layout.show()\n",
    "             index += 1\n",
    "    \n",
    "    # Plotly Correlation heat map\n",
    "    x = list(corr.columns)\n",
    "    y = list(corr.index)\n",
    "    z = np.array(corr)\n",
    "    \n",
    "    fig = ff.create_annotated_heatmap(\n",
    "    z,\n",
    "    x = x,\n",
    "    y = y,\n",
    "    annotation_text = np.around(np.array(corr), decimals=2),\n",
    "    hoverinfo='z',\n",
    "    colorscale='Sunset'\n",
    "    )\n",
    "    \n",
    "    fig.show()"
   ]
  },
  {
   "cell_type": "markdown",
   "id": "d78ad649",
   "metadata": {},
   "source": [
    "# Find the total return of a list of stocks over the defined period"
   ]
  },
  {
   "cell_type": "code",
   "execution_count": 338,
   "id": "62db055b",
   "metadata": {},
   "outputs": [],
   "source": [
    "def total_return(tickers):\n",
    "    start = dt.datetime(int(sdate.split(\"/\")[0]), int(sdate.split(\"/\")[1]), int(sdate.split(\"/\")[2]))\n",
    "    end = dt.datetime(int(edate.split(\"/\")[0]), int(edate.split(\"/\")[1]), int(edate.split(\"/\")[2]))\n",
    "    \n",
    "    # Reads data into a dataframe\n",
    "    dfcomp = web.DataReader(tickers,'yahoo', start, end)['Adj Close']\n",
    "    \n",
    "    for i in (tickers):\n",
    "        return_over_time = round(100*(dfcomp[i][-1] / dfcomp[i][0] - 1), 2)\n",
    "        print(f\"{i} return over timeframe: {return_over_time}%\")"
   ]
  },
  {
   "cell_type": "markdown",
   "id": "fa633f3b",
   "metadata": {},
   "source": [
    "# Find the Beta of a stock"
   ]
  },
  {
   "cell_type": "code",
   "execution_count": 339,
   "id": "176b430a",
   "metadata": {},
   "outputs": [],
   "source": [
    "def beta(tickers, save_csv = False):\n",
    "    # Sets the time periods to be used\n",
    "    start = dt.datetime(int(sdate.split(\"/\")[0]), int(sdate.split(\"/\")[1]), int(sdate.split(\"/\")[2]))\n",
    "    end = dt.datetime(int(edate.split(\"/\")[0]), int(edate.split(\"/\")[1]), int(edate.split(\"/\")[2]))\n",
    "    \n",
    "    # Reads data into a dataframe\n",
    "    dfcomp = web.DataReader(tickers,'yahoo', start, end)['Adj Close']\n",
    "    \n",
    "    \n",
    "    index = 0\n",
    "    for ticker in tickers:\n",
    "         ticker = web.DataReader(ticker, 'yahoo', start, end)\n",
    "            \n",
    "         # Simple plot of stock open and close\n",
    "         ticker.Open.plot(label='Daily Open')\n",
    "         ticker.Close.plot(label='Daily Close')\n",
    "         plt.legend()\n",
    "         plt.title(f\"{tickers[index]}: Stock Price\")\n",
    "         plt.ylabel('Stock Price')\n",
    "         plt.show() \n",
    "         index += 1           \n",
    "            \n",
    "    # Get percent changes of adjusted close to find the returns\n",
    "    retscomp = dfcomp.pct_change()\n",
    "    \n",
    "    # remove row 1 as it contains Nan values\n",
    "    retscomp = retscomp.dropna(axis=0)\n",
    "    print(retscomp)\n",
    "    \n",
    "    # Get the correlation matix of returns\n",
    "    # A value of 1 means the asstes are perfectly correlated\n",
    "    # A value of 0 means the asstes are uncorrelated\n",
    "    # A value of -1 means the stocks are perfectly uncorrelated\n",
    "    corr = retscomp.corr()\n",
    "    print(corr)\n",
    "    \n",
    "    # Use np.cov(a,b) to get the covariance between column 1 which is the stock returns\n",
    "    # and column 2 which is the index returns\n",
    "    # np.cov() calculates the sample covarince by default\n",
    "    # To calculate the population variance, use bias = True\n",
    "    covariance = np.cov(retscomp.iloc[:,0], retscomp.iloc[:,1], bias = True)\n",
    "    \n",
    "    # Calculate the variance and the sd of the index and the stock\n",
    "    # np.var() calculates the population variance\n",
    "    variance_of_index = np.var(retscomp.iloc[:,1])\n",
    "    sd_of_index = variance_of_index**0.5\n",
    "    \n",
    "    variance_of_stock = np.var(retscomp.iloc[:,0])\n",
    "    sd_of_stock = variance_of_stock**0.5\n",
    "    \n",
    "    beta = covariance[0][1] / variance_of_index\n",
    "    # we can also use the correlation and standard deviations to calculate beta\n",
    "    # beta = corr[tickers[0]][tickers[1]] * (sd_of_stock/sd_of_index)\n",
    "\n",
    "    \n",
    "    # Save as a csv\n",
    "    if save_csv:\n",
    "        retscomp.to_csv(\"/Users/harryfloyd/Desktop/\" + tickers[0] + '&' + tickers[1] + '.csv')\n",
    "    \n",
    "    print(f\"Beta of {tickers[0]}: {beta}\") "
   ]
  },
  {
   "cell_type": "markdown",
   "id": "d1443e76",
   "metadata": {},
   "source": [
    "# Create a candlestick stock chart"
   ]
  },
  {
   "cell_type": "markdown",
   "id": "44562151",
   "metadata": {},
   "source": [
    "### This is a demo function that requires some editing. The package being used (plotly) seems to be incredibly useful"
   ]
  },
  {
   "cell_type": "code",
   "execution_count": 340,
   "id": "5c21664b",
   "metadata": {},
   "outputs": [],
   "source": [
    "def candlestick_plot(ticker, mas = [10, 50, 100], show_mas = False):\n",
    "    # Sets the time periods to be used\n",
    "    start = dt.datetime(int(sdate.split(\"/\")[0]), int(sdate.split(\"/\")[1]), int(sdate.split(\"/\")[2]))\n",
    "    end = dt.datetime(int(edate.split(\"/\")[0]), int(edate.split(\"/\")[1]), int(edate.split(\"/\")[2]))\n",
    "    \n",
    "    # Reads data into a dataframe\n",
    "    df = web.DataReader(ticker,'yahoo', start, end)\n",
    "    \n",
    "    # Create the simple moving averages\n",
    "    for ma in mas:\n",
    "        df['{} Moving Average'.format(ma)] = df['Close'].rolling(window=ma).mean()\n",
    "    \n",
    "    graph = {\n",
    "    'x': df.index,\n",
    "    'open': df.Open,\n",
    "    'close': df.Close,\n",
    "    'high': df.High,\n",
    "    'low': df.Low,\n",
    "    'type': 'candlestick',\n",
    "    'name': '{}'.format(ticker),\n",
    "    'showlegend': True\n",
    "    }\n",
    "    \n",
    "    layout = go.Figure(data = [graph], layout_title = \"{} Stock\".format(ticker))\n",
    "    \n",
    "    if show_mas:\n",
    "        for ma in mas:\n",
    "            layout.add_trace(go.Scatter(x = df.index, y = df['{} Moving Average'.format(ma)], name = \"{} MA\".format(ma)))\n",
    "            \n",
    "    \n",
    "    # Change the background colour to black\n",
    "    layout.update_layout(template = \"plotly_dark\")\n",
    "    \n",
    "    return layout\n",
    "    "
   ]
  },
  {
   "cell_type": "raw",
   "id": "7b73eb61",
   "metadata": {},
   "source": [
    "Below code needs editing"
   ]
  },
  {
   "cell_type": "raw",
   "id": "cf113bb5",
   "metadata": {},
   "source": [
    "\n",
    "    \n",
    "def merge_df_by_column_name(col_name, *tickers):\n",
    "    # Sets the time periods to be used\n",
    "    start = dt.datetime(int(sdate.split(\"/\")[0]), int(sdate.split(\"/\")[1]), int(sdate.split(\"/\")[2]))\n",
    "    end = dt.datetime(int(edate.split(\"/\")[0]), int(edate.split(\"/\")[1]), int(edate.split(\"/\")[2]))\n",
    "    # Will hold data for all dataframes with the same column name\n",
    "    mult_df = pd.DataFrame()\n",
    "    \n",
    "    for x in tickers:\n",
    "        mult_df[x] = web.DataReader(x, 'yahoo', start, end)[col_name]\n",
    "        \n",
    "    return mult_df\n",
    "\n",
    "# Not 100% sure how this is doing what it does. Annotate when you find out\n",
    "def plot_return_mult_stocks(investment, df):\n",
    "    # Sets the time periods to be used\n",
    "    start = dt.datetime(int(sdate.split(\"/\")[0]), int(sdate.split(\"/\")[1]), int(sdate.split(\"/\")[2]))\n",
    "    end = dt.datetime(int(edate.split(\"/\")[0]), int(edate.split(\"/\")[1]), int(edate.split(\"/\")[2]))\n",
    "    print(df / df.iloc[0] * investment)\n",
    "    #(df / df.iloc[0] * investment).plot()#(figsize = (15,6))\n",
    "    \n",
    "    graph = {\n",
    "    'x': df.index,\n",
    "    'name': 'Test',\n",
    "    'showlegend': True\n",
    "    }\n",
    "    \n",
    "    layout = go.Figure(data = [graph], layout_title = \"Test Title\")\n",
    "    layout.show()\n",
    "    layout.add_trace(go.Scatter(x = df.index, y = df['TSLA'], name = 'TSLA')\n",
    "    #layout.add_trace(go.Scatter(x = df.index, y = df['TSLA'], name = 'TWTR')\n",
    "    #layout.add_trace(go.Scatter(x = df.index, y = df['NFLX'], name = 'NFLX')\n",
    "    #layout.add_trace(go.Scatter(x = df.index, y = df['{} Moving Average'.format(ma)], name = \"{} MA\".format(ma)))                            "
   ]
  },
  {
   "cell_type": "code",
   "execution_count": null,
   "id": "7582c1e4",
   "metadata": {},
   "outputs": [],
   "source": []
  },
  {
   "cell_type": "code",
   "execution_count": null,
   "id": "5b825687",
   "metadata": {},
   "outputs": [],
   "source": []
  },
  {
   "cell_type": "code",
   "execution_count": null,
   "id": "4bbc37ce",
   "metadata": {},
   "outputs": [],
   "source": []
  },
  {
   "cell_type": "markdown",
   "id": "a45d5c59",
   "metadata": {},
   "source": [
    "# Testing Functions"
   ]
  },
  {
   "cell_type": "code",
   "execution_count": 342,
   "id": "a1ef069b",
   "metadata": {},
   "outputs": [
    {
     "data": {
      "application/vnd.plotly.v1+json": {
       "config": {
        "plotlyServerURL": "https://plot.ly"
       },
       "data": [
        {
         "close": [
          16.639999389648438,
          17.25,
          17.270000457763672,
          19.809999465942383,
          21.06999969482422,
          26.889999389648438,
          25.59000015258789,
          27,
          31.09000015258789,
          31.229999542236328,
          28.8799991607666,
          31.1299991607666,
          31.010000228881836,
          31.3799991607666,
          34.689998626708984,
          37.4900016784668,
          35.15999984741211,
          35.40999984741211,
          35.099998474121094,
          36.4900016784668,
          34.869998931884766,
          35.369998931884766,
          37.31999969482422,
          36.79999923706055,
          36.02000045776367,
          39.41999816894531,
          40.81999969482422,
          40.2599983215332,
          55.90999984741211,
          54.84000015258789,
          47.02000045776367,
          46,
          43.189998626708984,
          44.939998626708984,
          46.310001373291016,
          44.91999816894531,
          52.689998626708984,
          49.20000076293945,
          40.689998626708984,
          37.7599983215332,
          33.06999969482422,
          31.739999771118164,
          30.200000762939453,
          32.400001525878906,
          32.029998779296875,
          33.369998931884766,
          30.81999969482422,
          29.579999923706055,
          30.6200008392334,
          30.25,
          31.190000534057617,
          30.780000686645508,
          29.989999771118164,
          31.8700008392334,
          31.399999618530273,
          30.780000686645508,
          31.530000686645508,
          33.369998931884766,
          35.209999084472656,
          31.329999923706055,
          27.360000610351562,
          25.940000534057617,
          25.3700008392334,
          25.329999923706055,
          25.239999771118164,
          25.25,
          24.25,
          24.530000686645508,
          25.440000534057617,
          26.479999542236328,
          26.260000228881836,
          25.450000762939453,
          26.049999237060547,
          24.8799991607666,
          27.110000610351562,
          26.790000915527344,
          25.989999771118164,
          24.280000686645508,
          24.610000610351562,
          25.450000762939453,
          25.68000030517578,
          25.15999984741211,
          24.260000228881836,
          24,
          23.90999984741211,
          24.489999771118164,
          26.420000076293945,
          24.75,
          25.190000534057617,
          25.530000686645508,
          25.850000381469727,
          25.040000915527344,
          25,
          23.389999389648438,
          22.559999465942383,
          25.299999237060547,
          23.829999923706055,
          22.729999542236328,
          22.530000686645508,
          22.979999542236328,
          23.209999084472656,
          23.1200008392334,
          23.219999313354492,
          23.510000228881836,
          23.940000534057617,
          24.059999465942383,
          20.010000228881836,
          19.719999313354492,
          19.84000015258789,
          20.149999618530273,
          20.149999618530273,
          19.65999984741211,
          20.040000915527344,
          19.610000610351562,
          18.239999771118164,
          18.559999465942383,
          18.75,
          19.549999237060547,
          19.600000381469727,
          19.940000534057617,
          19.6200008392334,
          19.530000686645508,
          19.889999389648438,
          20.899999618530273,
          20.260000228881836,
          19.270000457763672,
          19.219999313354492,
          19,
          18.31999969482422,
          17.90999984741211,
          17.3799991607666,
          17.25,
          17.079999923706055,
          16.829999923706055,
          17.030000686645508,
          16.729999542236328,
          16.25,
          16,
          14.859999656677246,
          15.079999923706055,
          14.369999885559082,
          14.640000343322754,
          15.619999885559082,
          16.239999771118164,
          15.640000343322754,
          15.210000038146973,
          14.8100004196167,
          14.649999618530273,
          14.770000457763672,
          14.300000190734863,
          14.460000038146973,
          13.930000305175781,
          14.630000114440918,
          14.600000381469727,
          14.529999732971191,
          14.069999694824219,
          13.8100004196167,
          13.039999961853027,
          13.829999923706055,
          13.380000114440918,
          13.539999961853027,
          13.210000038146973,
          12.050000190734863,
          11.779999732971191,
          12.449999809265137,
          11.970000267028809,
          12.390000343322754,
          12.369999885559082,
          10.029999732971191,
          10.140000343322754,
          9.369999885559082,
          9.09000015258789,
          9.100000381469727,
          8.470000267028809,
          8.600000381469727,
          8.479999542236328,
          8.4399995803833,
          7.960000038146973,
          8.140000343322754,
          9.199999809265137,
          9.720000267028809,
          9.369999885559082,
          8.460000038146973,
          8.989999771118164,
          8.569999694824219,
          8.729999542236328,
          9.15999984741211,
          8.850000381469727,
          8.4399995803833,
          8.140000343322754,
          10.739999771118164,
          10.029999732971191,
          9.010000228881836,
          8.399999618530273,
          7.820000171661377,
          8.09000015258789,
          9,
          9.180000305175781,
          9.680000305175781,
          9.350000381469727,
          9.420000076293945,
          8.25,
          7.840000152587891,
          7.360000133514404,
          7.420000076293945,
          7.820000171661377,
          7.570000171661377,
          7.28000020980835,
          6.789999961853027,
          7.360000133514404,
          7.989999771118164,
          8.989999771118164,
          9.430000305175781,
          9.350000381469727,
          9.649999618530273,
          9.569999694824219,
          9.729999542236328,
          9.430000305175781,
          9.760000228881836,
          11.010000228881836,
          10.6899995803833,
          9.880000114440918,
          9.989999771118164,
          10.539999961853027,
          9.609999656677246,
          9.109999656677246,
          8.989999771118164,
          8.6899995803833,
          8.720000267028809,
          8.819999694824219,
          9.119999885559082,
          8.989999771118164,
          8.5600004196167,
          9.1899995803833,
          8.420000076293945,
          7.989999771118164,
          7.989999771118164,
          8.329999923706055,
          7.789999961853027,
          7.710000038146973,
          7.900000095367432,
          7.489999771118164,
          7.889999866485596,
          7.929999828338623,
          8.260000228881836,
          7.5,
          6.800000190734863,
          6.070000171661377,
          5.849999904632568,
          5.369999885559082,
          5.840000152587891,
          6.539999961853027
         ],
         "high": [
          16.93000030517578,
          17.90999984741211,
          17.270000457763672,
          21.6299991607666,
          21.75,
          27.716999053955078,
          26.34000015258789,
          27.75,
          32.06999969482422,
          35.040000915527344,
          30.610000610351562,
          32.09000015258789,
          33.70000076293945,
          32.15999984741211,
          34.790000915527344,
          38.220001220703125,
          38.650001525878906,
          37.880001068115234,
          36.09000015258789,
          37.689998626708984,
          36.779998779296875,
          36.154998779296875,
          37.52000045776367,
          37.540000915527344,
          36.70000076293945,
          39.79999923706055,
          41.650001525878906,
          41.58000183105469,
          57.290000915527344,
          57.5099983215332,
          53.599998474121094,
          47.98099899291992,
          46.43000030517578,
          54.400001525878906,
          49.38999938964844,
          46.7599983215332,
          52.7599983215332,
          52.630001068115234,
          50.75,
          41.560001373291016,
          37.970001220703125,
          34.439998626708984,
          33.29999923706055,
          32.970001220703125,
          32.369998931884766,
          33.900001525878906,
          33.689998626708984,
          31.170000076293945,
          31.149999618530273,
          30.979999542236328,
          31.74799919128418,
          32.0099983215332,
          31.239999771118164,
          32.79999923706055,
          31.75,
          32.619998931884766,
          32.15999984741211,
          35.61800003051758,
          35.540000915527344,
          34.79999923706055,
          30,
          27.424999237060547,
          26.295000076293945,
          26.579999923706055,
          25.670000076293945,
          25.979999542236328,
          25.67799949645996,
          24.770000457763672,
          25.81999969482422,
          26.649999618530273,
          27.040000915527344,
          26.70800018310547,
          26.3799991607666,
          26.190000534057617,
          27.860000610351562,
          27.329999923706055,
          28.770000457763672,
          25.540000915527344,
          24.950000762939453,
          26.0049991607666,
          25.780000686645508,
          26.829999923706055,
          24.8700008392334,
          25.145000457763672,
          24.219999313354492,
          24.799999237060547,
          26.440000534057617,
          26.030000686645508,
          25.56999969482422,
          25.834999084472656,
          25.969999313354492,
          25.89299964904785,
          25.59000015258789,
          24.940000534057617,
          23.729999542236328,
          26.5,
          25.520000457763672,
          23.719999313354492,
          22.8799991607666,
          23.309999465942383,
          23.65999984741211,
          23.738000869750977,
          23.780000686645508,
          23.950000762939453,
          24.1299991607666,
          24.31999969482422,
          21.31999969482422,
          19.920000076293945,
          20.079999923706055,
          20.540000915527344,
          20.760000228881836,
          20.010000228881836,
          20.530000686645508,
          20.260000228881836,
          18.90999984741211,
          18.725000381469727,
          19.079999923706055,
          19.68000030517578,
          19.600000381469727,
          20.040000915527344,
          20.200000762939453,
          19.90999984741211,
          20.020000457763672,
          21.68000030517578,
          21.489999771118164,
          19.540000915527344,
          19.530000686645508,
          19.5049991607666,
          18.805999755859375,
          18.549999237060547,
          18,
          17.709999084472656,
          17.649999618530273,
          17.34000015258789,
          17.21500015258789,
          17.149999618530273,
          16.850000381469727,
          16.440000534057617,
          16.420000076293945,
          15.449999809265137,
          15.079999923706055,
          14.899999618530273,
          15.880000114440918,
          16.540000915527344,
          16.559999465942383,
          16.049999237060547,
          15.550000190734863,
          15.079999923706055,
          14.9399995803833,
          15.199999809265137,
          14.744999885559082,
          14.25,
          14.670000076293945,
          14.75,
          14.649999618530273,
          14.569999694824219,
          14.388999938964844,
          13.770000457763672,
          14.220000267028809,
          14.199999809265137,
          13.734999656677246,
          13.649999618530273,
          13.329999923706055,
          12.345999717712402,
          12.805000305175781,
          12.460000038146973,
          12.550000190734863,
          12.699999809265137,
          10.989999771118164,
          10.15999984741211,
          10.0600004196167,
          9.720000267028809,
          9.8100004196167,
          9.1850004196167,
          8.609999656677246,
          8.699999809265137,
          9.145000457763672,
          8.758999824523926,
          8.149999618530273,
          9.229999542236328,
          9.84000015258789,
          9.800000190734863,
          9.135000228881836,
          9.100000381469727,
          9.039999961853027,
          8.795000076293945,
          9.239999771118164,
          9.454999923706055,
          9.149999618530273,
          8.595000267028809,
          10.970000267028809,
          10.49899959564209,
          9.899999618530273,
          8.90999984741211,
          8.279999732971191,
          9.100000381469727,
          9.029000282287598,
          9.199999809265137,
          9.819999694824219,
          10.029999732971191,
          9.579999923706055,
          9.35099983215332,
          8.324999809265137,
          8.170000076293945,
          7.828999996185303,
          7.960000038146973,
          7.715000152587891,
          7.735000133514404,
          7.300000190734863,
          7.369999885559082,
          8,
          8.989999771118164,
          9.545000076293945,
          9.600000381469727,
          9.78499984741211,
          9.869999885559082,
          9.800000190734863,
          9.739999771118164,
          9.914999961853027,
          11.25,
          11.140000343322754,
          10.649999618530273,
          10.399999618530273,
          10.6850004196167,
          10.6899995803833,
          9.399999618530273,
          9.319999694824219,
          8.989999771118164,
          9.100000381469727,
          9.241000175476074,
          9.1899995803833,
          9.168999671936035,
          8.949999809265137,
          9.220000267028809,
          9.17199993133545,
          8.734999656677246,
          8.319999694824219,
          8.40999984741211,
          8.34000015258789,
          8.039999961853027,
          8,
          8.175000190734863,
          7.889999866485596,
          8.109999656677246,
          8.319999694824219,
          8.140000343322754,
          7.090000152587891,
          6.599999904632568,
          6.420000076293945,
          6.070000171661377,
          6.199999809265137,
          6.690000057220459
         ],
         "low": [
          15.789999961853027,
          16.33099937438965,
          15.859999656677246,
          18.700000762939453,
          19.68000030517578,
          23.520000457763672,
          24.700000762939453,
          25.600000381469727,
          26.600000381469727,
          30.729999542236328,
          28.1200008392334,
          28.40999984741211,
          30.700000762939453,
          29.93000030517578,
          30.959999084472656,
          35.04999923706055,
          34.869998931884766,
          34.91999816894531,
          33.849998474121094,
          34.70000076293945,
          34.63999938964844,
          34.209999084472656,
          35.099998474121094,
          35.95000076293945,
          34.83000183105469,
          35.619998931884766,
          38.750999450683594,
          39.2599983215332,
          45.869998931884766,
          52.47999954223633,
          45.970001220703125,
          43.08100128173828,
          43.189998626708984,
          44.040000915527344,
          44.21099853515625,
          43.02000045776367,
          43.04999923706055,
          48.459999084472656,
          39.810001373291016,
          37.5099983215332,
          32.810001373291016,
          31.31999969482422,
          30.06999969482422,
          28.6299991607666,
          29.540000915527344,
          31.1299991607666,
          30.6299991607666,
          28.860000610351562,
          29.190000534057617,
          28.489999771118164,
          30.149999618530273,
          30.469999313354492,
          29.579999923706055,
          29.450000762939453,
          29.84000015258789,
          30.510000228881836,
          30.600000381469727,
          31.43000030517578,
          32.84000015258789,
          31,
          26.5,
          25.510000228881836,
          25.049999237060547,
          25.219999313354492,
          24.549999237060547,
          24.6200008392334,
          24.110000610351562,
          23.989999771118164,
          24.530000686645508,
          25.43000030517578,
          25.75200080871582,
          25.200000762939453,
          25.21500015258789,
          24.6200008392334,
          25.75,
          26.649999618530273,
          24.850000381469727,
          23.81999969482422,
          23.81999969482422,
          24.549999237060547,
          24.649999618530273,
          24.93000030517578,
          23.579999923706055,
          23.81999969482422,
          23.062999725341797,
          24,
          24.579999923706055,
          24.274999618530273,
          24.700000762939453,
          25.100000381469727,
          25.31999969482422,
          24.809999465942383,
          24.430999755859375,
          22.8700008392334,
          22.530000686645508,
          23.913000106811523,
          23.489999771118164,
          22.540000915527344,
          21.959999084472656,
          22.309999465942383,
          22.84000015258789,
          22.8799991607666,
          23.020000457763672,
          23.094999313354492,
          23.530000686645508,
          23.584999084472656,
          19.8700008392334,
          19,
          19.204999923706055,
          19.65999984741211,
          19.860000610351562,
          19.229999542236328,
          19.6299991607666,
          19.489999771118164,
          17.979999542236328,
          18.295000076293945,
          18.584999084472656,
          18.690000534057617,
          18.940000534057617,
          19.450000762939453,
          19.450000762939453,
          19.104999542236328,
          19.290000915527344,
          19.329999923706055,
          19.950000762939453,
          19.079999923706055,
          19.149999618530273,
          18.969999313354492,
          18.17799949645996,
          17.729999542236328,
          17.170000076293945,
          17.059999465942383,
          16.829999923706055,
          16.364999771118164,
          16.229999542236328,
          16.34000015258789,
          15.979999542236328,
          15.329999923706055,
          14.800000190734863,
          14.440999984741211,
          14.020000457763672,
          13.6850004196167,
          14.960000038146973,
          15.29699993133545,
          15.5600004196167,
          15.039999961853027,
          14.470000267028809,
          14.359999656677246,
          13.765000343322754,
          14.079999923706055,
          13.520000457763672,
          13.60099983215332,
          13.859999656677246,
          14.25,
          14.145000457763672,
          13.90999984741211,
          13.779999732971191,
          12.859999656677246,
          12.949999809265137,
          13.354000091552734,
          12.890000343322754,
          12.895000457763672,
          11.979999542236328,
          11.300000190734863,
          11.920000076293945,
          11.694999694824219,
          11.8100004196167,
          12.0600004196167,
          10.015000343322754,
          9.75,
          9.329999923706055,
          9.020000457763672,
          9.09000015258789,
          8.460000038146973,
          7.579999923706055,
          8.170000076293945,
          8.369999885559082,
          7.849999904632568,
          7.610000133514404,
          8.239999771118164,
          9.149999618530273,
          9.16100025177002,
          8.430000305175781,
          8.552000045776367,
          8.399999618530273,
          8.300000190734863,
          8.680000305175781,
          8.789999961853027,
          8.28499984741211,
          8.050000190734863,
          8.75,
          9.6899995803833,
          8.84000015258789,
          8.239999771118164,
          7.690000057220459,
          7.974999904632568,
          7.400000095367432,
          8.520000457763672,
          9.069999694824219,
          9.234999656677246,
          9.069999694824219,
          8.199999809265137,
          7.78000020980835,
          7.360000133514404,
          7.050000190734863,
          7.579999923706055,
          7.380000114440918,
          7.264999866485596,
          6.710000038146973,
          6.699999809265137,
          7.46999979019165,
          7.889999866485596,
          8.760000228881836,
          9,
          9.25,
          9.319999694824219,
          9.289999961853027,
          9.279999732971191,
          9.258999824523926,
          9.899999618530273,
          10.460000038146973,
          9.869999885559082,
          9.741000175476074,
          10.069999694824219,
          9.579999923706055,
          8.805000305175781,
          8.5600004196167,
          8.569999694824219,
          8.289999961853027,
          8.625,
          8.704999923706055,
          8.800000190734863,
          8.335000038146973,
          8.479999542236328,
          8.399999618530273,
          7.860000133514404,
          7.800000190734863,
          7.940000057220459,
          7.789999961853027,
          7.610000133514404,
          7.28000020980835,
          7.480000019073486,
          7.380000114440918,
          7.695000171661377,
          7.510000228881836,
          7.400000095367432,
          6.35099983215332,
          6.059999942779541,
          5.599999904632568,
          5.369999885559082,
          5.139999866485596,
          6.130000114440918
         ],
         "name": "SPCE",
         "open": [
          16.110000610351562,
          16.729999542236328,
          16.440000534057617,
          20.6200008392334,
          20.3700008392334,
          25.309999465942383,
          25.3700008392334,
          25.850000381469727,
          27.399999618530273,
          31.270000457763672,
          30.049999237060547,
          28.59000015258789,
          32.209999084472656,
          30.899999618530273,
          31.450000762939453,
          35.279998779296875,
          38.189998626708984,
          35.7400016784668,
          35.08000183105469,
          35.27000045776367,
          36.45000076293945,
          34.599998474121094,
          35.119998931884766,
          37.310001373291016,
          36.27000045776367,
          35.81999969482422,
          38.959999084472656,
          41.099998474121094,
          47.810001373291016,
          57.150001525878906,
          52.29999923706055,
          44.41999816894531,
          46,
          53.22999954223633,
          45.150001525878906,
          46.43000030517578,
          43.83000183105469,
          50.939998626708984,
          49.54999923706055,
          40.34000015258789,
          37.27000045776367,
          33.029998779296875,
          32.540000915527344,
          29.450000762939453,
          31.09000015258789,
          31.260000228881836,
          33.130001068115234,
          30.5,
          29.579999923706055,
          30.3700008392334,
          30.469999313354492,
          31.15999984741211,
          30.81999969482422,
          29.81999969482422,
          31.440000534057617,
          31.31999969482422,
          31,
          31.790000915527344,
          33,
          34.75,
          29.850000381469727,
          26.790000915527344,
          25.229999542236328,
          25.59000015258789,
          25.020000457763672,
          25.190000534057617,
          25.260000228881836,
          24.1200008392334,
          24.600000381469727,
          25.579999923706055,
          26.700000762939453,
          26.100000381469727,
          25.540000915527344,
          25.969999313354492,
          25.950000762939453,
          27.059999465942383,
          26.079999923706055,
          25.290000915527344,
          24.209999084472656,
          24.649999618530273,
          25.3799991607666,
          25.709999084472656,
          24.450000762939453,
          23.989999771118164,
          24.219999313354492,
          24.280000686645508,
          24.579999923706055,
          25.43000030517578,
          25,
          25.290000915527344,
          25.75,
          25.850000381469727,
          25.110000610351562,
          24.90999984741211,
          23.540000915527344,
          24.1299991607666,
          25.06999969482422,
          23.6200008392334,
          22.790000915527344,
          22.530000686645508,
          23.030000686645508,
          23.190000534057617,
          23.06999969482422,
          23.399999618530273,
          23.649999618530273,
          24.25,
          20.469999313354492,
          19.040000915527344,
          19.5,
          19.760000228881836,
          20.209999084472656,
          20,
          19.739999771118164,
          20.040000915527344,
          18.799999237060547,
          18.360000610351562,
          18.649999618530273,
          18.860000610351562,
          19.399999618530273,
          19.510000228881836,
          20.030000686645508,
          19.65999984741211,
          19.31999969482422,
          19.889999389648438,
          20.56999969482422,
          19.309999465942383,
          19.299999237060547,
          19.200000762939453,
          18.75,
          18.31999969482422,
          17.969999313354492,
          17.399999618530273,
          17.454999923706055,
          17.040000915527344,
          16.709999084472656,
          16.420000076293945,
          16.780000686645508,
          16.09000015258789,
          16.225000381469727,
          14.930000305175781,
          15.079999923706055,
          14.1899995803833,
          15,
          15.699999809265137,
          16.040000915527344,
          15.699999809265137,
          15.170000076293945,
          14.479999542236328,
          14.569999694824219,
          14.890000343322754,
          14.229999542236328,
          13.989999771118164,
          13.930000305175781,
          14.5600004196167,
          14.600000381469727,
          14.430000305175781,
          14.010000228881836,
          13.710000038146973,
          12.960000038146973,
          13.729999542236328,
          13.479999542236328,
          13.640000343322754,
          13.020000457763672,
          12.170000076293945,
          12,
          12.430000305175781,
          12.039999961853027,
          12.470000267028809,
          10.920000076293945,
          9.890000343322754,
          10.029999732971191,
          9.550000190734863,
          9.21500015258789,
          9.050000190734863,
          8.109999656677246,
          8.449999809265137,
          8.710000038146973,
          8.489999771118164,
          7.980000019073486,
          8.25,
          9.5,
          9.649999618530273,
          9.039999961853027,
          8.630000114440918,
          8.899999618530273,
          8.5,
          8.779999732971191,
          8.899999618530273,
          8.819999694824219,
          8.380000114440918,
          8.930000305175781,
          10.300000190734863,
          9.765000343322754,
          8.890000343322754,
          8.130000114440918,
          8.050000190734863,
          7.5,
          8.609999656677246,
          9.069999694824219,
          9.619999885559082,
          9.350000381469727,
          9.289999961853027,
          8.260000228881836,
          7.889999866485596,
          7.400000095367432,
          7.599999904632568,
          7.710000038146973,
          7.679999828338623,
          7.170000076293945,
          6.809999942779541,
          7.489999771118164,
          7.909999847412109,
          8.8100004196167,
          9.270000457763672,
          9.329999923706055,
          9.539999961853027,
          9.600000381469727,
          9.729999542236328,
          9.460000038146973,
          9.899999618530273,
          10.800000190734863,
          10.5600004196167,
          9.979999542236328,
          10.140000343322754,
          10.579999923706055,
          9.390000343322754,
          9.069999694824219,
          8.90999984741211,
          8.5600004196167,
          8.880000114440918,
          8.84000015258789,
          9.079999923706055,
          8.930000305175781,
          8.520000457763672,
          9.130000114440918,
          8.579999923706055,
          8.140000343322754,
          7.989999771118164,
          8.260000228881836,
          7.760000228881836,
          7.760000228881836,
          7.900000095367432,
          7.449999809265137,
          7.809999942779541,
          7.900000095367432,
          8.140000343322754,
          7.079999923706055,
          6.590000152587891,
          6.360000133514404,
          5.769999980926514,
          5.25,
          6.170000076293945
         ],
         "showlegend": true,
         "type": "candlestick",
         "x": [
          "2021-05-17T00:00:00",
          "2021-05-18T00:00:00",
          "2021-05-19T00:00:00",
          "2021-05-20T00:00:00",
          "2021-05-21T00:00:00",
          "2021-05-24T00:00:00",
          "2021-05-25T00:00:00",
          "2021-05-26T00:00:00",
          "2021-05-27T00:00:00",
          "2021-05-28T00:00:00",
          "2021-06-01T00:00:00",
          "2021-06-02T00:00:00",
          "2021-06-03T00:00:00",
          "2021-06-04T00:00:00",
          "2021-06-07T00:00:00",
          "2021-06-08T00:00:00",
          "2021-06-09T00:00:00",
          "2021-06-10T00:00:00",
          "2021-06-11T00:00:00",
          "2021-06-14T00:00:00",
          "2021-06-15T00:00:00",
          "2021-06-16T00:00:00",
          "2021-06-17T00:00:00",
          "2021-06-18T00:00:00",
          "2021-06-21T00:00:00",
          "2021-06-22T00:00:00",
          "2021-06-23T00:00:00",
          "2021-06-24T00:00:00",
          "2021-06-25T00:00:00",
          "2021-06-28T00:00:00",
          "2021-06-29T00:00:00",
          "2021-06-30T00:00:00",
          "2021-07-01T00:00:00",
          "2021-07-02T00:00:00",
          "2021-07-06T00:00:00",
          "2021-07-07T00:00:00",
          "2021-07-08T00:00:00",
          "2021-07-09T00:00:00",
          "2021-07-12T00:00:00",
          "2021-07-13T00:00:00",
          "2021-07-14T00:00:00",
          "2021-07-15T00:00:00",
          "2021-07-16T00:00:00",
          "2021-07-19T00:00:00",
          "2021-07-20T00:00:00",
          "2021-07-21T00:00:00",
          "2021-07-22T00:00:00",
          "2021-07-23T00:00:00",
          "2021-07-26T00:00:00",
          "2021-07-27T00:00:00",
          "2021-07-28T00:00:00",
          "2021-07-29T00:00:00",
          "2021-07-30T00:00:00",
          "2021-08-02T00:00:00",
          "2021-08-03T00:00:00",
          "2021-08-04T00:00:00",
          "2021-08-05T00:00:00",
          "2021-08-06T00:00:00",
          "2021-08-09T00:00:00",
          "2021-08-10T00:00:00",
          "2021-08-11T00:00:00",
          "2021-08-12T00:00:00",
          "2021-08-13T00:00:00",
          "2021-08-16T00:00:00",
          "2021-08-17T00:00:00",
          "2021-08-18T00:00:00",
          "2021-08-19T00:00:00",
          "2021-08-20T00:00:00",
          "2021-08-23T00:00:00",
          "2021-08-24T00:00:00",
          "2021-08-25T00:00:00",
          "2021-08-26T00:00:00",
          "2021-08-27T00:00:00",
          "2021-08-30T00:00:00",
          "2021-08-31T00:00:00",
          "2021-09-01T00:00:00",
          "2021-09-02T00:00:00",
          "2021-09-03T00:00:00",
          "2021-09-07T00:00:00",
          "2021-09-08T00:00:00",
          "2021-09-09T00:00:00",
          "2021-09-10T00:00:00",
          "2021-09-13T00:00:00",
          "2021-09-14T00:00:00",
          "2021-09-15T00:00:00",
          "2021-09-16T00:00:00",
          "2021-09-17T00:00:00",
          "2021-09-20T00:00:00",
          "2021-09-21T00:00:00",
          "2021-09-22T00:00:00",
          "2021-09-23T00:00:00",
          "2021-09-24T00:00:00",
          "2021-09-27T00:00:00",
          "2021-09-28T00:00:00",
          "2021-09-29T00:00:00",
          "2021-09-30T00:00:00",
          "2021-10-01T00:00:00",
          "2021-10-04T00:00:00",
          "2021-10-05T00:00:00",
          "2021-10-06T00:00:00",
          "2021-10-07T00:00:00",
          "2021-10-08T00:00:00",
          "2021-10-11T00:00:00",
          "2021-10-12T00:00:00",
          "2021-10-13T00:00:00",
          "2021-10-14T00:00:00",
          "2021-10-15T00:00:00",
          "2021-10-18T00:00:00",
          "2021-10-19T00:00:00",
          "2021-10-20T00:00:00",
          "2021-10-21T00:00:00",
          "2021-10-22T00:00:00",
          "2021-10-25T00:00:00",
          "2021-10-26T00:00:00",
          "2021-10-27T00:00:00",
          "2021-10-28T00:00:00",
          "2021-10-29T00:00:00",
          "2021-11-01T00:00:00",
          "2021-11-02T00:00:00",
          "2021-11-03T00:00:00",
          "2021-11-04T00:00:00",
          "2021-11-05T00:00:00",
          "2021-11-08T00:00:00",
          "2021-11-09T00:00:00",
          "2021-11-10T00:00:00",
          "2021-11-11T00:00:00",
          "2021-11-12T00:00:00",
          "2021-11-15T00:00:00",
          "2021-11-16T00:00:00",
          "2021-11-17T00:00:00",
          "2021-11-18T00:00:00",
          "2021-11-19T00:00:00",
          "2021-11-22T00:00:00",
          "2021-11-23T00:00:00",
          "2021-11-24T00:00:00",
          "2021-11-26T00:00:00",
          "2021-11-29T00:00:00",
          "2021-11-30T00:00:00",
          "2021-12-01T00:00:00",
          "2021-12-02T00:00:00",
          "2021-12-03T00:00:00",
          "2021-12-06T00:00:00",
          "2021-12-07T00:00:00",
          "2021-12-08T00:00:00",
          "2021-12-09T00:00:00",
          "2021-12-10T00:00:00",
          "2021-12-13T00:00:00",
          "2021-12-14T00:00:00",
          "2021-12-15T00:00:00",
          "2021-12-16T00:00:00",
          "2021-12-17T00:00:00",
          "2021-12-20T00:00:00",
          "2021-12-21T00:00:00",
          "2021-12-22T00:00:00",
          "2021-12-23T00:00:00",
          "2021-12-27T00:00:00",
          "2021-12-28T00:00:00",
          "2021-12-29T00:00:00",
          "2021-12-30T00:00:00",
          "2021-12-31T00:00:00",
          "2022-01-03T00:00:00",
          "2022-01-04T00:00:00",
          "2022-01-05T00:00:00",
          "2022-01-06T00:00:00",
          "2022-01-07T00:00:00",
          "2022-01-10T00:00:00",
          "2022-01-11T00:00:00",
          "2022-01-12T00:00:00",
          "2022-01-13T00:00:00",
          "2022-01-14T00:00:00",
          "2022-01-18T00:00:00",
          "2022-01-19T00:00:00",
          "2022-01-20T00:00:00",
          "2022-01-21T00:00:00",
          "2022-01-24T00:00:00",
          "2022-01-25T00:00:00",
          "2022-01-26T00:00:00",
          "2022-01-27T00:00:00",
          "2022-01-28T00:00:00",
          "2022-01-31T00:00:00",
          "2022-02-01T00:00:00",
          "2022-02-02T00:00:00",
          "2022-02-03T00:00:00",
          "2022-02-04T00:00:00",
          "2022-02-07T00:00:00",
          "2022-02-08T00:00:00",
          "2022-02-09T00:00:00",
          "2022-02-10T00:00:00",
          "2022-02-11T00:00:00",
          "2022-02-14T00:00:00",
          "2022-02-15T00:00:00",
          "2022-02-16T00:00:00",
          "2022-02-17T00:00:00",
          "2022-02-18T00:00:00",
          "2022-02-22T00:00:00",
          "2022-02-23T00:00:00",
          "2022-02-24T00:00:00",
          "2022-02-25T00:00:00",
          "2022-02-28T00:00:00",
          "2022-03-01T00:00:00",
          "2022-03-02T00:00:00",
          "2022-03-03T00:00:00",
          "2022-03-04T00:00:00",
          "2022-03-07T00:00:00",
          "2022-03-08T00:00:00",
          "2022-03-09T00:00:00",
          "2022-03-10T00:00:00",
          "2022-03-11T00:00:00",
          "2022-03-14T00:00:00",
          "2022-03-15T00:00:00",
          "2022-03-16T00:00:00",
          "2022-03-17T00:00:00",
          "2022-03-18T00:00:00",
          "2022-03-21T00:00:00",
          "2022-03-22T00:00:00",
          "2022-03-23T00:00:00",
          "2022-03-24T00:00:00",
          "2022-03-25T00:00:00",
          "2022-03-28T00:00:00",
          "2022-03-29T00:00:00",
          "2022-03-30T00:00:00",
          "2022-03-31T00:00:00",
          "2022-04-01T00:00:00",
          "2022-04-04T00:00:00",
          "2022-04-05T00:00:00",
          "2022-04-06T00:00:00",
          "2022-04-07T00:00:00",
          "2022-04-08T00:00:00",
          "2022-04-11T00:00:00",
          "2022-04-12T00:00:00",
          "2022-04-13T00:00:00",
          "2022-04-14T00:00:00",
          "2022-04-18T00:00:00",
          "2022-04-19T00:00:00",
          "2022-04-20T00:00:00",
          "2022-04-21T00:00:00",
          "2022-04-22T00:00:00",
          "2022-04-25T00:00:00",
          "2022-04-26T00:00:00",
          "2022-04-27T00:00:00",
          "2022-04-28T00:00:00",
          "2022-04-29T00:00:00",
          "2022-05-02T00:00:00",
          "2022-05-03T00:00:00",
          "2022-05-04T00:00:00",
          "2022-05-05T00:00:00",
          "2022-05-06T00:00:00",
          "2022-05-09T00:00:00",
          "2022-05-10T00:00:00",
          "2022-05-11T00:00:00",
          "2022-05-12T00:00:00",
          "2022-05-13T00:00:00"
         ]
        },
        {
         "name": "10 MA",
         "type": "scatter",
         "x": [
          "2021-05-17T00:00:00",
          "2021-05-18T00:00:00",
          "2021-05-19T00:00:00",
          "2021-05-20T00:00:00",
          "2021-05-21T00:00:00",
          "2021-05-24T00:00:00",
          "2021-05-25T00:00:00",
          "2021-05-26T00:00:00",
          "2021-05-27T00:00:00",
          "2021-05-28T00:00:00",
          "2021-06-01T00:00:00",
          "2021-06-02T00:00:00",
          "2021-06-03T00:00:00",
          "2021-06-04T00:00:00",
          "2021-06-07T00:00:00",
          "2021-06-08T00:00:00",
          "2021-06-09T00:00:00",
          "2021-06-10T00:00:00",
          "2021-06-11T00:00:00",
          "2021-06-14T00:00:00",
          "2021-06-15T00:00:00",
          "2021-06-16T00:00:00",
          "2021-06-17T00:00:00",
          "2021-06-18T00:00:00",
          "2021-06-21T00:00:00",
          "2021-06-22T00:00:00",
          "2021-06-23T00:00:00",
          "2021-06-24T00:00:00",
          "2021-06-25T00:00:00",
          "2021-06-28T00:00:00",
          "2021-06-29T00:00:00",
          "2021-06-30T00:00:00",
          "2021-07-01T00:00:00",
          "2021-07-02T00:00:00",
          "2021-07-06T00:00:00",
          "2021-07-07T00:00:00",
          "2021-07-08T00:00:00",
          "2021-07-09T00:00:00",
          "2021-07-12T00:00:00",
          "2021-07-13T00:00:00",
          "2021-07-14T00:00:00",
          "2021-07-15T00:00:00",
          "2021-07-16T00:00:00",
          "2021-07-19T00:00:00",
          "2021-07-20T00:00:00",
          "2021-07-21T00:00:00",
          "2021-07-22T00:00:00",
          "2021-07-23T00:00:00",
          "2021-07-26T00:00:00",
          "2021-07-27T00:00:00",
          "2021-07-28T00:00:00",
          "2021-07-29T00:00:00",
          "2021-07-30T00:00:00",
          "2021-08-02T00:00:00",
          "2021-08-03T00:00:00",
          "2021-08-04T00:00:00",
          "2021-08-05T00:00:00",
          "2021-08-06T00:00:00",
          "2021-08-09T00:00:00",
          "2021-08-10T00:00:00",
          "2021-08-11T00:00:00",
          "2021-08-12T00:00:00",
          "2021-08-13T00:00:00",
          "2021-08-16T00:00:00",
          "2021-08-17T00:00:00",
          "2021-08-18T00:00:00",
          "2021-08-19T00:00:00",
          "2021-08-20T00:00:00",
          "2021-08-23T00:00:00",
          "2021-08-24T00:00:00",
          "2021-08-25T00:00:00",
          "2021-08-26T00:00:00",
          "2021-08-27T00:00:00",
          "2021-08-30T00:00:00",
          "2021-08-31T00:00:00",
          "2021-09-01T00:00:00",
          "2021-09-02T00:00:00",
          "2021-09-03T00:00:00",
          "2021-09-07T00:00:00",
          "2021-09-08T00:00:00",
          "2021-09-09T00:00:00",
          "2021-09-10T00:00:00",
          "2021-09-13T00:00:00",
          "2021-09-14T00:00:00",
          "2021-09-15T00:00:00",
          "2021-09-16T00:00:00",
          "2021-09-17T00:00:00",
          "2021-09-20T00:00:00",
          "2021-09-21T00:00:00",
          "2021-09-22T00:00:00",
          "2021-09-23T00:00:00",
          "2021-09-24T00:00:00",
          "2021-09-27T00:00:00",
          "2021-09-28T00:00:00",
          "2021-09-29T00:00:00",
          "2021-09-30T00:00:00",
          "2021-10-01T00:00:00",
          "2021-10-04T00:00:00",
          "2021-10-05T00:00:00",
          "2021-10-06T00:00:00",
          "2021-10-07T00:00:00",
          "2021-10-08T00:00:00",
          "2021-10-11T00:00:00",
          "2021-10-12T00:00:00",
          "2021-10-13T00:00:00",
          "2021-10-14T00:00:00",
          "2021-10-15T00:00:00",
          "2021-10-18T00:00:00",
          "2021-10-19T00:00:00",
          "2021-10-20T00:00:00",
          "2021-10-21T00:00:00",
          "2021-10-22T00:00:00",
          "2021-10-25T00:00:00",
          "2021-10-26T00:00:00",
          "2021-10-27T00:00:00",
          "2021-10-28T00:00:00",
          "2021-10-29T00:00:00",
          "2021-11-01T00:00:00",
          "2021-11-02T00:00:00",
          "2021-11-03T00:00:00",
          "2021-11-04T00:00:00",
          "2021-11-05T00:00:00",
          "2021-11-08T00:00:00",
          "2021-11-09T00:00:00",
          "2021-11-10T00:00:00",
          "2021-11-11T00:00:00",
          "2021-11-12T00:00:00",
          "2021-11-15T00:00:00",
          "2021-11-16T00:00:00",
          "2021-11-17T00:00:00",
          "2021-11-18T00:00:00",
          "2021-11-19T00:00:00",
          "2021-11-22T00:00:00",
          "2021-11-23T00:00:00",
          "2021-11-24T00:00:00",
          "2021-11-26T00:00:00",
          "2021-11-29T00:00:00",
          "2021-11-30T00:00:00",
          "2021-12-01T00:00:00",
          "2021-12-02T00:00:00",
          "2021-12-03T00:00:00",
          "2021-12-06T00:00:00",
          "2021-12-07T00:00:00",
          "2021-12-08T00:00:00",
          "2021-12-09T00:00:00",
          "2021-12-10T00:00:00",
          "2021-12-13T00:00:00",
          "2021-12-14T00:00:00",
          "2021-12-15T00:00:00",
          "2021-12-16T00:00:00",
          "2021-12-17T00:00:00",
          "2021-12-20T00:00:00",
          "2021-12-21T00:00:00",
          "2021-12-22T00:00:00",
          "2021-12-23T00:00:00",
          "2021-12-27T00:00:00",
          "2021-12-28T00:00:00",
          "2021-12-29T00:00:00",
          "2021-12-30T00:00:00",
          "2021-12-31T00:00:00",
          "2022-01-03T00:00:00",
          "2022-01-04T00:00:00",
          "2022-01-05T00:00:00",
          "2022-01-06T00:00:00",
          "2022-01-07T00:00:00",
          "2022-01-10T00:00:00",
          "2022-01-11T00:00:00",
          "2022-01-12T00:00:00",
          "2022-01-13T00:00:00",
          "2022-01-14T00:00:00",
          "2022-01-18T00:00:00",
          "2022-01-19T00:00:00",
          "2022-01-20T00:00:00",
          "2022-01-21T00:00:00",
          "2022-01-24T00:00:00",
          "2022-01-25T00:00:00",
          "2022-01-26T00:00:00",
          "2022-01-27T00:00:00",
          "2022-01-28T00:00:00",
          "2022-01-31T00:00:00",
          "2022-02-01T00:00:00",
          "2022-02-02T00:00:00",
          "2022-02-03T00:00:00",
          "2022-02-04T00:00:00",
          "2022-02-07T00:00:00",
          "2022-02-08T00:00:00",
          "2022-02-09T00:00:00",
          "2022-02-10T00:00:00",
          "2022-02-11T00:00:00",
          "2022-02-14T00:00:00",
          "2022-02-15T00:00:00",
          "2022-02-16T00:00:00",
          "2022-02-17T00:00:00",
          "2022-02-18T00:00:00",
          "2022-02-22T00:00:00",
          "2022-02-23T00:00:00",
          "2022-02-24T00:00:00",
          "2022-02-25T00:00:00",
          "2022-02-28T00:00:00",
          "2022-03-01T00:00:00",
          "2022-03-02T00:00:00",
          "2022-03-03T00:00:00",
          "2022-03-04T00:00:00",
          "2022-03-07T00:00:00",
          "2022-03-08T00:00:00",
          "2022-03-09T00:00:00",
          "2022-03-10T00:00:00",
          "2022-03-11T00:00:00",
          "2022-03-14T00:00:00",
          "2022-03-15T00:00:00",
          "2022-03-16T00:00:00",
          "2022-03-17T00:00:00",
          "2022-03-18T00:00:00",
          "2022-03-21T00:00:00",
          "2022-03-22T00:00:00",
          "2022-03-23T00:00:00",
          "2022-03-24T00:00:00",
          "2022-03-25T00:00:00",
          "2022-03-28T00:00:00",
          "2022-03-29T00:00:00",
          "2022-03-30T00:00:00",
          "2022-03-31T00:00:00",
          "2022-04-01T00:00:00",
          "2022-04-04T00:00:00",
          "2022-04-05T00:00:00",
          "2022-04-06T00:00:00",
          "2022-04-07T00:00:00",
          "2022-04-08T00:00:00",
          "2022-04-11T00:00:00",
          "2022-04-12T00:00:00",
          "2022-04-13T00:00:00",
          "2022-04-14T00:00:00",
          "2022-04-18T00:00:00",
          "2022-04-19T00:00:00",
          "2022-04-20T00:00:00",
          "2022-04-21T00:00:00",
          "2022-04-22T00:00:00",
          "2022-04-25T00:00:00",
          "2022-04-26T00:00:00",
          "2022-04-27T00:00:00",
          "2022-04-28T00:00:00",
          "2022-04-29T00:00:00",
          "2022-05-02T00:00:00",
          "2022-05-03T00:00:00",
          "2022-05-04T00:00:00",
          "2022-05-05T00:00:00",
          "2022-05-06T00:00:00",
          "2022-05-09T00:00:00",
          "2022-05-10T00:00:00",
          "2022-05-11T00:00:00",
          "2022-05-12T00:00:00",
          "2022-05-13T00:00:00"
         ],
         "y": [
          null,
          null,
          null,
          null,
          null,
          null,
          null,
          null,
          null,
          23.383999824523926,
          24.607999801635742,
          25.9959997177124,
          27.36999969482422,
          28.52699966430664,
          29.88899955749512,
          30.94899978637695,
          31.905999755859376,
          32.746999740600586,
          33.1479995727539,
          33.67399978637695,
          34.27299976348877,
          34.69699974060059,
          35.327999687194826,
          35.869999694824216,
          36.00299987792969,
          36.19599952697754,
          36.76199951171875,
          37.24699935913086,
          39.32799949645996,
          41.16299934387207,
          42.377999496459964,
          43.440999603271486,
          44.02799949645996,
          44.8419994354248,
          45.87099952697754,
          46.42099952697754,
          47.60799942016602,
          48.50199966430664,
          46.97999954223633,
          45.27199935913086,
          43.87699928283691,
          42.45099925994873,
          41.15199947357178,
          39.89799976348877,
          38.46999950408936,
          37.3149995803833,
          35.12799968719482,
          33.16599960327149,
          32.158999824523924,
          31.407999992370605,
          31.220000076293946,
          31.12400016784668,
          31.10300006866455,
          31.05,
          30.98700008392334,
          30.728000259399415,
          30.799000358581544,
          31.178000259399415,
          31.63700008392334,
          31.745000076293945,
          31.36200008392334,
          30.87800006866455,
          30.416000175476075,
          29.76200008392334,
          29.146000099182128,
          28.59300003051758,
          27.864999961853027,
          26.9810001373291,
          26.0040002822876,
          25.519000244140624,
          25.409000205993653,
          25.360000228881837,
          25.428000068664552,
          25.382999992370607,
          25.570000076293944,
          25.72400016784668,
          25.898000144958495,
          25.873000144958496,
          25.79000015258789,
          25.687000274658203,
          25.6290002822876,
          25.600000190734864,
          25.421000289916993,
          25.33300037384033,
          25.013000297546387,
          24.783000183105468,
          24.826000213623047,
          24.873000144958496,
          24.9310001373291,
          24.939000129699707,
          24.956000137329102,
          24.944000244140625,
          25.018000221252443,
          24.957000160217284,
          24.822000122070314,
          24.90300006866455,
          24.64400005340576,
          24.442000007629396,
          24.176000022888182,
          23.920999908447264,
          23.656999778747558,
          23.464999771118165,
          23.286999702453613,
          23.298999786376953,
          23.436999893188478,
          23.31299991607666,
          22.930999946594238,
          22.629999923706055,
          22.360999870300294,
          22.077999877929688,
          21.77199993133545,
          21.42599983215332,
          21.107999992370605,
          20.71800003051758,
          20.147999954223632,
          19.59799995422363,
          19.47199993133545,
          19.454999923706055,
          19.430999946594238,
          19.410000038146972,
          19.357000160217286,
          19.344000244140624,
          19.329000091552736,
          19.457999992370606,
          19.660000038146972,
          19.7310001373291,
          19.77800006866455,
          19.723000144958498,
          19.595000076293946,
          19.392000007629395,
          19.167999839782716,
          18.939999771118163,
          18.658999824523924,
          18.251999855041504,
          17.92899990081787,
          17.674999809265138,
          17.37799987792969,
          17.077999877929688,
          16.73199987411499,
          16.448999881744385,
          16.147999954223632,
          15.886999988555909,
          15.740999984741212,
          15.681999969482423,
          15.542999935150146,
          15.39099998474121,
          15.247000026702882,
          15.111999988555908,
          15.103000068664551,
          15.025000095367432,
          15.03400011062622,
          14.963000106811524,
          14.864000129699708,
          14.700000190734864,
          14.589000129699707,
          14.475000095367431,
          14.375000095367431,
          14.214000129699707,
          14.120000076293945,
          14.02800006866455,
          13.936000061035156,
          13.864000034332275,
          13.60600004196167,
          13.323999977111816,
          13.115999984741212,
          12.90600004196167,
          12.764000034332275,
          12.69700002670288,
          12.317000007629394,
          11.993000030517578,
          11.576000022888184,
          11.164000034332275,
          10.869000053405761,
          10.538000106811523,
          10.153000164031983,
          9.804000091552734,
          9.409000015258789,
          8.968000030517578,
          8.779000091552735,
          8.685000038146972,
          8.720000076293946,
          8.748000049591065,
          8.684000015258789,
          8.735999965667725,
          8.732999897003173,
          8.757999897003174,
          8.829999923706055,
          8.91899995803833,
          8.948999881744385,
          8.842999935150146,
          8.944999885559081,
          9.010999870300292,
          9.06599988937378,
          9.00699987411499,
          8.931999921798706,
          8.867999982833862,
          8.851999998092651,
          8.884999990463257,
          9.009000062942505,
          9.130000066757201,
          8.99800009727478,
          8.82000012397766,
          8.703000116348267,
          8.599000167846679,
          8.559000158309937,
          8.532000160217285,
          8.389000177383423,
          8.19900016784668,
          7.910000133514404,
          7.711000108718872,
          7.568000078201294,
          7.64200005531311,
          7.8010000705719,
          8.000000095367431,
          8.223000049591064,
          8.398000001907349,
          8.613999938964843,
          8.828999948501586,
          9.125999975204468,
          9.490999984741212,
          9.760999965667725,
          9.85,
          9.905999946594239,
          10.024999904632569,
          10.020999908447266,
          9.974999904632568,
          9.900999927520752,
          9.826999855041503,
          9.722999858856202,
          9.503999805450439,
          9.346999835968017,
          9.257999801635743,
          9.114999866485595,
          8.979999828338624,
          8.860999870300294,
          8.748999881744385,
          8.648999881744384,
          8.61299991607666,
          8.519999885559082,
          8.408999919891357,
          8.286999940872192,
          8.136999940872192,
          8.069999885559081,
          7.943999910354615,
          7.9279999256134035,
          7.878999948501587,
          7.759999990463257,
          7.534000015258789,
          7.340000009536743,
          7.105999994277954,
          6.9,
          6.8050000190734865
         ]
        },
        {
         "name": "50 MA",
         "type": "scatter",
         "x": [
          "2021-05-17T00:00:00",
          "2021-05-18T00:00:00",
          "2021-05-19T00:00:00",
          "2021-05-20T00:00:00",
          "2021-05-21T00:00:00",
          "2021-05-24T00:00:00",
          "2021-05-25T00:00:00",
          "2021-05-26T00:00:00",
          "2021-05-27T00:00:00",
          "2021-05-28T00:00:00",
          "2021-06-01T00:00:00",
          "2021-06-02T00:00:00",
          "2021-06-03T00:00:00",
          "2021-06-04T00:00:00",
          "2021-06-07T00:00:00",
          "2021-06-08T00:00:00",
          "2021-06-09T00:00:00",
          "2021-06-10T00:00:00",
          "2021-06-11T00:00:00",
          "2021-06-14T00:00:00",
          "2021-06-15T00:00:00",
          "2021-06-16T00:00:00",
          "2021-06-17T00:00:00",
          "2021-06-18T00:00:00",
          "2021-06-21T00:00:00",
          "2021-06-22T00:00:00",
          "2021-06-23T00:00:00",
          "2021-06-24T00:00:00",
          "2021-06-25T00:00:00",
          "2021-06-28T00:00:00",
          "2021-06-29T00:00:00",
          "2021-06-30T00:00:00",
          "2021-07-01T00:00:00",
          "2021-07-02T00:00:00",
          "2021-07-06T00:00:00",
          "2021-07-07T00:00:00",
          "2021-07-08T00:00:00",
          "2021-07-09T00:00:00",
          "2021-07-12T00:00:00",
          "2021-07-13T00:00:00",
          "2021-07-14T00:00:00",
          "2021-07-15T00:00:00",
          "2021-07-16T00:00:00",
          "2021-07-19T00:00:00",
          "2021-07-20T00:00:00",
          "2021-07-21T00:00:00",
          "2021-07-22T00:00:00",
          "2021-07-23T00:00:00",
          "2021-07-26T00:00:00",
          "2021-07-27T00:00:00",
          "2021-07-28T00:00:00",
          "2021-07-29T00:00:00",
          "2021-07-30T00:00:00",
          "2021-08-02T00:00:00",
          "2021-08-03T00:00:00",
          "2021-08-04T00:00:00",
          "2021-08-05T00:00:00",
          "2021-08-06T00:00:00",
          "2021-08-09T00:00:00",
          "2021-08-10T00:00:00",
          "2021-08-11T00:00:00",
          "2021-08-12T00:00:00",
          "2021-08-13T00:00:00",
          "2021-08-16T00:00:00",
          "2021-08-17T00:00:00",
          "2021-08-18T00:00:00",
          "2021-08-19T00:00:00",
          "2021-08-20T00:00:00",
          "2021-08-23T00:00:00",
          "2021-08-24T00:00:00",
          "2021-08-25T00:00:00",
          "2021-08-26T00:00:00",
          "2021-08-27T00:00:00",
          "2021-08-30T00:00:00",
          "2021-08-31T00:00:00",
          "2021-09-01T00:00:00",
          "2021-09-02T00:00:00",
          "2021-09-03T00:00:00",
          "2021-09-07T00:00:00",
          "2021-09-08T00:00:00",
          "2021-09-09T00:00:00",
          "2021-09-10T00:00:00",
          "2021-09-13T00:00:00",
          "2021-09-14T00:00:00",
          "2021-09-15T00:00:00",
          "2021-09-16T00:00:00",
          "2021-09-17T00:00:00",
          "2021-09-20T00:00:00",
          "2021-09-21T00:00:00",
          "2021-09-22T00:00:00",
          "2021-09-23T00:00:00",
          "2021-09-24T00:00:00",
          "2021-09-27T00:00:00",
          "2021-09-28T00:00:00",
          "2021-09-29T00:00:00",
          "2021-09-30T00:00:00",
          "2021-10-01T00:00:00",
          "2021-10-04T00:00:00",
          "2021-10-05T00:00:00",
          "2021-10-06T00:00:00",
          "2021-10-07T00:00:00",
          "2021-10-08T00:00:00",
          "2021-10-11T00:00:00",
          "2021-10-12T00:00:00",
          "2021-10-13T00:00:00",
          "2021-10-14T00:00:00",
          "2021-10-15T00:00:00",
          "2021-10-18T00:00:00",
          "2021-10-19T00:00:00",
          "2021-10-20T00:00:00",
          "2021-10-21T00:00:00",
          "2021-10-22T00:00:00",
          "2021-10-25T00:00:00",
          "2021-10-26T00:00:00",
          "2021-10-27T00:00:00",
          "2021-10-28T00:00:00",
          "2021-10-29T00:00:00",
          "2021-11-01T00:00:00",
          "2021-11-02T00:00:00",
          "2021-11-03T00:00:00",
          "2021-11-04T00:00:00",
          "2021-11-05T00:00:00",
          "2021-11-08T00:00:00",
          "2021-11-09T00:00:00",
          "2021-11-10T00:00:00",
          "2021-11-11T00:00:00",
          "2021-11-12T00:00:00",
          "2021-11-15T00:00:00",
          "2021-11-16T00:00:00",
          "2021-11-17T00:00:00",
          "2021-11-18T00:00:00",
          "2021-11-19T00:00:00",
          "2021-11-22T00:00:00",
          "2021-11-23T00:00:00",
          "2021-11-24T00:00:00",
          "2021-11-26T00:00:00",
          "2021-11-29T00:00:00",
          "2021-11-30T00:00:00",
          "2021-12-01T00:00:00",
          "2021-12-02T00:00:00",
          "2021-12-03T00:00:00",
          "2021-12-06T00:00:00",
          "2021-12-07T00:00:00",
          "2021-12-08T00:00:00",
          "2021-12-09T00:00:00",
          "2021-12-10T00:00:00",
          "2021-12-13T00:00:00",
          "2021-12-14T00:00:00",
          "2021-12-15T00:00:00",
          "2021-12-16T00:00:00",
          "2021-12-17T00:00:00",
          "2021-12-20T00:00:00",
          "2021-12-21T00:00:00",
          "2021-12-22T00:00:00",
          "2021-12-23T00:00:00",
          "2021-12-27T00:00:00",
          "2021-12-28T00:00:00",
          "2021-12-29T00:00:00",
          "2021-12-30T00:00:00",
          "2021-12-31T00:00:00",
          "2022-01-03T00:00:00",
          "2022-01-04T00:00:00",
          "2022-01-05T00:00:00",
          "2022-01-06T00:00:00",
          "2022-01-07T00:00:00",
          "2022-01-10T00:00:00",
          "2022-01-11T00:00:00",
          "2022-01-12T00:00:00",
          "2022-01-13T00:00:00",
          "2022-01-14T00:00:00",
          "2022-01-18T00:00:00",
          "2022-01-19T00:00:00",
          "2022-01-20T00:00:00",
          "2022-01-21T00:00:00",
          "2022-01-24T00:00:00",
          "2022-01-25T00:00:00",
          "2022-01-26T00:00:00",
          "2022-01-27T00:00:00",
          "2022-01-28T00:00:00",
          "2022-01-31T00:00:00",
          "2022-02-01T00:00:00",
          "2022-02-02T00:00:00",
          "2022-02-03T00:00:00",
          "2022-02-04T00:00:00",
          "2022-02-07T00:00:00",
          "2022-02-08T00:00:00",
          "2022-02-09T00:00:00",
          "2022-02-10T00:00:00",
          "2022-02-11T00:00:00",
          "2022-02-14T00:00:00",
          "2022-02-15T00:00:00",
          "2022-02-16T00:00:00",
          "2022-02-17T00:00:00",
          "2022-02-18T00:00:00",
          "2022-02-22T00:00:00",
          "2022-02-23T00:00:00",
          "2022-02-24T00:00:00",
          "2022-02-25T00:00:00",
          "2022-02-28T00:00:00",
          "2022-03-01T00:00:00",
          "2022-03-02T00:00:00",
          "2022-03-03T00:00:00",
          "2022-03-04T00:00:00",
          "2022-03-07T00:00:00",
          "2022-03-08T00:00:00",
          "2022-03-09T00:00:00",
          "2022-03-10T00:00:00",
          "2022-03-11T00:00:00",
          "2022-03-14T00:00:00",
          "2022-03-15T00:00:00",
          "2022-03-16T00:00:00",
          "2022-03-17T00:00:00",
          "2022-03-18T00:00:00",
          "2022-03-21T00:00:00",
          "2022-03-22T00:00:00",
          "2022-03-23T00:00:00",
          "2022-03-24T00:00:00",
          "2022-03-25T00:00:00",
          "2022-03-28T00:00:00",
          "2022-03-29T00:00:00",
          "2022-03-30T00:00:00",
          "2022-03-31T00:00:00",
          "2022-04-01T00:00:00",
          "2022-04-04T00:00:00",
          "2022-04-05T00:00:00",
          "2022-04-06T00:00:00",
          "2022-04-07T00:00:00",
          "2022-04-08T00:00:00",
          "2022-04-11T00:00:00",
          "2022-04-12T00:00:00",
          "2022-04-13T00:00:00",
          "2022-04-14T00:00:00",
          "2022-04-18T00:00:00",
          "2022-04-19T00:00:00",
          "2022-04-20T00:00:00",
          "2022-04-21T00:00:00",
          "2022-04-22T00:00:00",
          "2022-04-25T00:00:00",
          "2022-04-26T00:00:00",
          "2022-04-27T00:00:00",
          "2022-04-28T00:00:00",
          "2022-04-29T00:00:00",
          "2022-05-02T00:00:00",
          "2022-05-03T00:00:00",
          "2022-05-04T00:00:00",
          "2022-05-05T00:00:00",
          "2022-05-06T00:00:00",
          "2022-05-09T00:00:00",
          "2022-05-10T00:00:00",
          "2022-05-11T00:00:00",
          "2022-05-12T00:00:00",
          "2022-05-13T00:00:00"
         ],
         "y": [
          null,
          null,
          null,
          null,
          null,
          null,
          null,
          null,
          null,
          null,
          null,
          null,
          null,
          null,
          null,
          null,
          null,
          null,
          null,
          null,
          null,
          null,
          null,
          null,
          null,
          null,
          null,
          null,
          null,
          null,
          null,
          null,
          null,
          null,
          null,
          null,
          null,
          null,
          null,
          null,
          null,
          null,
          null,
          null,
          null,
          null,
          null,
          null,
          null,
          34.980199661254886,
          35.27119968414306,
          35.54179969787597,
          35.79619968414307,
          36.037399711608884,
          36.24399971008301,
          36.321799736022946,
          36.4405997467041,
          36.5679997253418,
          36.650399703979495,
          36.652399711608886,
          36.621999740600586,
          36.51819976806641,
          36.405399780273434,
          36.284399795532224,
          36.09539981842041,
          35.85059978485108,
          35.632399787902834,
          35.4147998046875,
          35.22159984588623,
          35.02139980316162,
          34.849199829101565,
          34.650799865722654,
          34.42539985656738,
          34.186999855041506,
          34.00879985809326,
          33.7561999130249,
          33.45959991455078,
          33.13999996185303,
          32.513999977111816,
          31.926199989318846,
          31.49939998626709,
          31.08259998321533,
          30.70400001525879,
          30.28520004272461,
          29.83720001220703,
          29.428600044250487,
          28.90320007324219,
          28.414200057983397,
          28.10420009613037,
          27.859600143432615,
          27.715200157165526,
          27.58120018005371,
          27.477200164794922,
          27.297000122070312,
          27.107600135803224,
          26.94620014190674,
          26.806400146484375,
          26.669400138854982,
          26.507600135803223,
          26.36220012664795,
          26.20260009765625,
          26.04940010070801,
          25.914000091552733,
          25.746800079345704,
          25.59760009765625,
          25.463200073242188,
          25.232800064086913,
          24.95980007171631,
          24.65240009307861,
          24.428800086975098,
          24.284600067138673,
          24.159000053405762,
          24.052400054931642,
          23.93800006866455,
          23.79800006866455,
          23.664200057983397,
          23.554200057983397,
          23.4546000289917,
          23.33780002593994,
          23.20700004577637,
          23.074200057983397,
          22.95580005645752,
          22.83260005950928,
          22.75300006866455,
          22.616000061035155,
          22.465600051879882,
          22.33020004272461,
          22.2246000289917,
          22.098800010681153,
          21.947999992370605,
          21.78199996948242,
          21.62379997253418,
          21.480199966430664,
          21.336799964904785,
          21.199199981689453,
          21.043999977111817,
          20.84059997558594,
          20.665599975585938,
          20.45899995803833,
          20.249999942779542,
          20.020399932861327,
          19.812399921417235,
          19.624799919128417,
          19.481799926757812,
          19.34339994430542,
          19.14159996032715,
          18.96119997024536,
          18.79959997177124,
          18.644399967193603,
          18.470799980163573,
          18.29579999923706,
          18.111999988555908,
          17.940200004577637,
          17.762000007629396,
          17.573799991607665,
          17.373999996185304,
          17.25,
          17.116400012969972,
          16.996200008392336,
          16.860800018310545,
          16.728600025177002,
          16.5996000289917,
          16.439800014495848,
          16.28319999694824,
          16.167399997711183,
          16.03560001373291,
          15.908400020599366,
          15.764800033569337,
          15.573400020599365,
          15.377400016784668,
          15.172399997711182,
          14.96359998703003,
          14.747800006866456,
          14.499200019836426,
          14.266000022888184,
          14.050200004577636,
          13.834600009918212,
          13.613800010681153,
          13.410200023651123,
          13.236000022888184,
          13.082800045013428,
          12.92520004272461,
          12.752800045013428,
          12.59600004196167,
          12.426800022125244,
          12.266800022125244,
          12.125000019073486,
          11.982000026702881,
          11.853600025177002,
          11.714800033569336,
          11.642200031280517,
          11.550000019073487,
          11.417800025939941,
          11.261000022888183,
          11.104600019454956,
          10.962200021743774,
          10.846000013351441,
          10.73660002708435,
          10.634800024032593,
          10.53580002784729,
          10.43500002861023,
          10.321400022506714,
          10.185600023269654,
          10.040800018310547,
          9.898600025177002,
          9.773600034713745,
          9.64880002975464,
          9.533600034713745,
          9.392800035476684,
          9.272400035858155,
          9.161400032043456,
          9.077000026702882,
          9.0246000289917,
          8.97600004196167,
          8.920000038146974,
          8.872000026702882,
          8.818800010681151,
          8.760000019073486,
          8.7546000289917,
          8.77200002670288,
          8.798400020599365,
          8.814200019836425,
          8.832000007629395,
          8.873400001525878,
          8.89359998703003,
          8.906199989318848,
          8.917199993133545,
          8.931799983978271,
          8.943399982452393,
          8.935799980163575,
          8.92379997253418,
          8.916199970245362,
          8.918199977874757,
          8.922199974060058,
          8.919199981689452,
          8.904399986267089,
          8.88099998474121,
          8.870599975585938,
          8.857599983215332,
          8.848999977111816,
          8.792199983596802,
          8.741399984359742,
          8.718999977111816,
          8.709599981307983,
          8.718399982452393,
          8.706599979400634,
          8.662599983215332,
          8.600399980545044,
          8.52379997253418,
          8.444199962615967,
          8.372599964141846,
          8.338399963378906
         ]
        },
        {
         "name": "100 MA",
         "type": "scatter",
         "x": [
          "2021-05-17T00:00:00",
          "2021-05-18T00:00:00",
          "2021-05-19T00:00:00",
          "2021-05-20T00:00:00",
          "2021-05-21T00:00:00",
          "2021-05-24T00:00:00",
          "2021-05-25T00:00:00",
          "2021-05-26T00:00:00",
          "2021-05-27T00:00:00",
          "2021-05-28T00:00:00",
          "2021-06-01T00:00:00",
          "2021-06-02T00:00:00",
          "2021-06-03T00:00:00",
          "2021-06-04T00:00:00",
          "2021-06-07T00:00:00",
          "2021-06-08T00:00:00",
          "2021-06-09T00:00:00",
          "2021-06-10T00:00:00",
          "2021-06-11T00:00:00",
          "2021-06-14T00:00:00",
          "2021-06-15T00:00:00",
          "2021-06-16T00:00:00",
          "2021-06-17T00:00:00",
          "2021-06-18T00:00:00",
          "2021-06-21T00:00:00",
          "2021-06-22T00:00:00",
          "2021-06-23T00:00:00",
          "2021-06-24T00:00:00",
          "2021-06-25T00:00:00",
          "2021-06-28T00:00:00",
          "2021-06-29T00:00:00",
          "2021-06-30T00:00:00",
          "2021-07-01T00:00:00",
          "2021-07-02T00:00:00",
          "2021-07-06T00:00:00",
          "2021-07-07T00:00:00",
          "2021-07-08T00:00:00",
          "2021-07-09T00:00:00",
          "2021-07-12T00:00:00",
          "2021-07-13T00:00:00",
          "2021-07-14T00:00:00",
          "2021-07-15T00:00:00",
          "2021-07-16T00:00:00",
          "2021-07-19T00:00:00",
          "2021-07-20T00:00:00",
          "2021-07-21T00:00:00",
          "2021-07-22T00:00:00",
          "2021-07-23T00:00:00",
          "2021-07-26T00:00:00",
          "2021-07-27T00:00:00",
          "2021-07-28T00:00:00",
          "2021-07-29T00:00:00",
          "2021-07-30T00:00:00",
          "2021-08-02T00:00:00",
          "2021-08-03T00:00:00",
          "2021-08-04T00:00:00",
          "2021-08-05T00:00:00",
          "2021-08-06T00:00:00",
          "2021-08-09T00:00:00",
          "2021-08-10T00:00:00",
          "2021-08-11T00:00:00",
          "2021-08-12T00:00:00",
          "2021-08-13T00:00:00",
          "2021-08-16T00:00:00",
          "2021-08-17T00:00:00",
          "2021-08-18T00:00:00",
          "2021-08-19T00:00:00",
          "2021-08-20T00:00:00",
          "2021-08-23T00:00:00",
          "2021-08-24T00:00:00",
          "2021-08-25T00:00:00",
          "2021-08-26T00:00:00",
          "2021-08-27T00:00:00",
          "2021-08-30T00:00:00",
          "2021-08-31T00:00:00",
          "2021-09-01T00:00:00",
          "2021-09-02T00:00:00",
          "2021-09-03T00:00:00",
          "2021-09-07T00:00:00",
          "2021-09-08T00:00:00",
          "2021-09-09T00:00:00",
          "2021-09-10T00:00:00",
          "2021-09-13T00:00:00",
          "2021-09-14T00:00:00",
          "2021-09-15T00:00:00",
          "2021-09-16T00:00:00",
          "2021-09-17T00:00:00",
          "2021-09-20T00:00:00",
          "2021-09-21T00:00:00",
          "2021-09-22T00:00:00",
          "2021-09-23T00:00:00",
          "2021-09-24T00:00:00",
          "2021-09-27T00:00:00",
          "2021-09-28T00:00:00",
          "2021-09-29T00:00:00",
          "2021-09-30T00:00:00",
          "2021-10-01T00:00:00",
          "2021-10-04T00:00:00",
          "2021-10-05T00:00:00",
          "2021-10-06T00:00:00",
          "2021-10-07T00:00:00",
          "2021-10-08T00:00:00",
          "2021-10-11T00:00:00",
          "2021-10-12T00:00:00",
          "2021-10-13T00:00:00",
          "2021-10-14T00:00:00",
          "2021-10-15T00:00:00",
          "2021-10-18T00:00:00",
          "2021-10-19T00:00:00",
          "2021-10-20T00:00:00",
          "2021-10-21T00:00:00",
          "2021-10-22T00:00:00",
          "2021-10-25T00:00:00",
          "2021-10-26T00:00:00",
          "2021-10-27T00:00:00",
          "2021-10-28T00:00:00",
          "2021-10-29T00:00:00",
          "2021-11-01T00:00:00",
          "2021-11-02T00:00:00",
          "2021-11-03T00:00:00",
          "2021-11-04T00:00:00",
          "2021-11-05T00:00:00",
          "2021-11-08T00:00:00",
          "2021-11-09T00:00:00",
          "2021-11-10T00:00:00",
          "2021-11-11T00:00:00",
          "2021-11-12T00:00:00",
          "2021-11-15T00:00:00",
          "2021-11-16T00:00:00",
          "2021-11-17T00:00:00",
          "2021-11-18T00:00:00",
          "2021-11-19T00:00:00",
          "2021-11-22T00:00:00",
          "2021-11-23T00:00:00",
          "2021-11-24T00:00:00",
          "2021-11-26T00:00:00",
          "2021-11-29T00:00:00",
          "2021-11-30T00:00:00",
          "2021-12-01T00:00:00",
          "2021-12-02T00:00:00",
          "2021-12-03T00:00:00",
          "2021-12-06T00:00:00",
          "2021-12-07T00:00:00",
          "2021-12-08T00:00:00",
          "2021-12-09T00:00:00",
          "2021-12-10T00:00:00",
          "2021-12-13T00:00:00",
          "2021-12-14T00:00:00",
          "2021-12-15T00:00:00",
          "2021-12-16T00:00:00",
          "2021-12-17T00:00:00",
          "2021-12-20T00:00:00",
          "2021-12-21T00:00:00",
          "2021-12-22T00:00:00",
          "2021-12-23T00:00:00",
          "2021-12-27T00:00:00",
          "2021-12-28T00:00:00",
          "2021-12-29T00:00:00",
          "2021-12-30T00:00:00",
          "2021-12-31T00:00:00",
          "2022-01-03T00:00:00",
          "2022-01-04T00:00:00",
          "2022-01-05T00:00:00",
          "2022-01-06T00:00:00",
          "2022-01-07T00:00:00",
          "2022-01-10T00:00:00",
          "2022-01-11T00:00:00",
          "2022-01-12T00:00:00",
          "2022-01-13T00:00:00",
          "2022-01-14T00:00:00",
          "2022-01-18T00:00:00",
          "2022-01-19T00:00:00",
          "2022-01-20T00:00:00",
          "2022-01-21T00:00:00",
          "2022-01-24T00:00:00",
          "2022-01-25T00:00:00",
          "2022-01-26T00:00:00",
          "2022-01-27T00:00:00",
          "2022-01-28T00:00:00",
          "2022-01-31T00:00:00",
          "2022-02-01T00:00:00",
          "2022-02-02T00:00:00",
          "2022-02-03T00:00:00",
          "2022-02-04T00:00:00",
          "2022-02-07T00:00:00",
          "2022-02-08T00:00:00",
          "2022-02-09T00:00:00",
          "2022-02-10T00:00:00",
          "2022-02-11T00:00:00",
          "2022-02-14T00:00:00",
          "2022-02-15T00:00:00",
          "2022-02-16T00:00:00",
          "2022-02-17T00:00:00",
          "2022-02-18T00:00:00",
          "2022-02-22T00:00:00",
          "2022-02-23T00:00:00",
          "2022-02-24T00:00:00",
          "2022-02-25T00:00:00",
          "2022-02-28T00:00:00",
          "2022-03-01T00:00:00",
          "2022-03-02T00:00:00",
          "2022-03-03T00:00:00",
          "2022-03-04T00:00:00",
          "2022-03-07T00:00:00",
          "2022-03-08T00:00:00",
          "2022-03-09T00:00:00",
          "2022-03-10T00:00:00",
          "2022-03-11T00:00:00",
          "2022-03-14T00:00:00",
          "2022-03-15T00:00:00",
          "2022-03-16T00:00:00",
          "2022-03-17T00:00:00",
          "2022-03-18T00:00:00",
          "2022-03-21T00:00:00",
          "2022-03-22T00:00:00",
          "2022-03-23T00:00:00",
          "2022-03-24T00:00:00",
          "2022-03-25T00:00:00",
          "2022-03-28T00:00:00",
          "2022-03-29T00:00:00",
          "2022-03-30T00:00:00",
          "2022-03-31T00:00:00",
          "2022-04-01T00:00:00",
          "2022-04-04T00:00:00",
          "2022-04-05T00:00:00",
          "2022-04-06T00:00:00",
          "2022-04-07T00:00:00",
          "2022-04-08T00:00:00",
          "2022-04-11T00:00:00",
          "2022-04-12T00:00:00",
          "2022-04-13T00:00:00",
          "2022-04-14T00:00:00",
          "2022-04-18T00:00:00",
          "2022-04-19T00:00:00",
          "2022-04-20T00:00:00",
          "2022-04-21T00:00:00",
          "2022-04-22T00:00:00",
          "2022-04-25T00:00:00",
          "2022-04-26T00:00:00",
          "2022-04-27T00:00:00",
          "2022-04-28T00:00:00",
          "2022-04-29T00:00:00",
          "2022-05-02T00:00:00",
          "2022-05-03T00:00:00",
          "2022-05-04T00:00:00",
          "2022-05-05T00:00:00",
          "2022-05-06T00:00:00",
          "2022-05-09T00:00:00",
          "2022-05-10T00:00:00",
          "2022-05-11T00:00:00",
          "2022-05-12T00:00:00",
          "2022-05-13T00:00:00"
         ],
         "y": [
          null,
          null,
          null,
          null,
          null,
          null,
          null,
          null,
          null,
          null,
          null,
          null,
          null,
          null,
          null,
          null,
          null,
          null,
          null,
          null,
          null,
          null,
          null,
          null,
          null,
          null,
          null,
          null,
          null,
          null,
          null,
          null,
          null,
          null,
          null,
          null,
          null,
          null,
          null,
          null,
          null,
          null,
          null,
          null,
          null,
          null,
          null,
          null,
          null,
          null,
          null,
          null,
          null,
          null,
          null,
          null,
          null,
          null,
          null,
          null,
          null,
          null,
          null,
          null,
          null,
          null,
          null,
          null,
          null,
          null,
          null,
          null,
          null,
          null,
          null,
          null,
          null,
          null,
          null,
          null,
          null,
          null,
          null,
          null,
          null,
          null,
          null,
          null,
          null,
          null,
          null,
          null,
          null,
          null,
          null,
          null,
          null,
          null,
          null,
          30.671199893951417,
          30.736899890899657,
          30.795599899291993,
          30.8550998878479,
          30.892099895477294,
          30.92079990386963,
          30.89249990463257,
          30.83669990539551,
          30.763899898529054,
          30.651399898529053,
          30.54059989929199,
          30.453299903869627,
          30.338599910736082,
          30.22889991760254,
          30.111199932098387,
          29.94669994354248,
          29.757399921417235,
          29.593299922943114,
          29.434699916839598,
          29.279699935913087,
          29.114199924468995,
          28.96169994354248,
          28.803299961090087,
          28.62899995803833,
          28.469999961853027,
          28.31239995956421,
          28.11089998245239,
          27.894899978637696,
          27.682299995422362,
          27.306399993896484,
          26.937099990844725,
          26.640699977874757,
          26.353199977874755,
          26.092099990844726,
          25.811000003814698,
          25.51819999694824,
          25.236300010681152,
          24.871900024414064,
          24.539900016784667,
          24.28160002708435,
          24.05480004310608,
          23.86780004501343,
          23.696800050735472,
          23.55100004196167,
          23.389400024414062,
          23.22550004005432,
          23.043900051116943,
          22.88380005836487,
          22.73450005531311,
          22.57600005149841,
          22.416500053405763,
          22.249200048446657,
          22.080700044631957,
          21.927100048065185,
          21.75440004348755,
          21.58570004463196,
          21.418600034713744,
          21.241400032043458,
          21.03810004234314,
          20.824300050735474,
          20.64480005264282,
          20.506600046157835,
          20.379300041198732,
          20.246100034713745,
          20.110600032806396,
          19.982700033187868,
          19.849900035858155,
          19.731300039291384,
          19.609700031280518,
          19.455600023269653,
          19.29220003128052,
          19.12330002784729,
          18.959700021743775,
          18.790200033187865,
          18.62610004425049,
          18.44100004196167,
          18.25790002822876,
          18.082400026321412,
          17.919200019836424,
          17.754500017166137,
          17.592000007629395,
          17.432400007247924,
          17.274500007629396,
          17.116500005722045,
          16.96640000343323,
          16.813000001907348,
          16.65539999961853,
          16.48279999732971,
          16.32380000114441,
          16.156299991607668,
          15.98239998817444,
          15.831299982070924,
          15.68119997024536,
          15.52129997253418,
          15.371399974822998,
          15.223999981880189,
          15.051899991035462,
          14.903599991798401,
          14.768099999427795,
          14.639599995613098,
          14.503300004005432,
          14.365400013923646,
          14.216700005531312,
          14.062900013923645,
          13.90140001296997,
          13.736200008392334,
          13.573800015449525,
          13.44940001487732,
          13.325000023841858,
          13.194500021934509,
          13.06660002708435,
          12.94500002861023,
          12.83830002784729,
          12.732200021743774,
          12.629600019454957,
          12.543700017929076,
          12.453800020217896,
          12.363600015640259,
          12.26240002632141,
          12.164000024795532,
          12.074700021743775,
          11.985400009155274,
          11.888900003433228,
          11.789900007247924,
          11.686300010681153,
          11.579800004959106,
          11.478199996948241,
          11.37590000152588,
          11.272799997329711,
          11.176800003051758,
          11.085900001525879,
          11.003300008773804,
          10.920700006484985,
          10.835500011444092,
          10.759100008010865,
          10.673000001907349,
          10.585600004196166,
          10.503000001907349,
          10.426300001144408,
          10.355600004196168,
          10.281900005340576,
          10.21720000743866,
          10.145700001716614,
          10.068400001525879,
          9.985300002098084,
          9.911500000953675,
          9.834400000572204,
          9.754299998283386,
          9.668500003814698,
          9.579299998283386,
          9.489999995231628,
          9.403799996376037,
          9.32989999294281
         ]
        }
       ],
       "layout": {
        "template": {
         "data": {
          "bar": [
           {
            "error_x": {
             "color": "#f2f5fa"
            },
            "error_y": {
             "color": "#f2f5fa"
            },
            "marker": {
             "line": {
              "color": "rgb(17,17,17)",
              "width": 0.5
             },
             "pattern": {
              "fillmode": "overlay",
              "size": 10,
              "solidity": 0.2
             }
            },
            "type": "bar"
           }
          ],
          "barpolar": [
           {
            "marker": {
             "line": {
              "color": "rgb(17,17,17)",
              "width": 0.5
             },
             "pattern": {
              "fillmode": "overlay",
              "size": 10,
              "solidity": 0.2
             }
            },
            "type": "barpolar"
           }
          ],
          "carpet": [
           {
            "aaxis": {
             "endlinecolor": "#A2B1C6",
             "gridcolor": "#506784",
             "linecolor": "#506784",
             "minorgridcolor": "#506784",
             "startlinecolor": "#A2B1C6"
            },
            "baxis": {
             "endlinecolor": "#A2B1C6",
             "gridcolor": "#506784",
             "linecolor": "#506784",
             "minorgridcolor": "#506784",
             "startlinecolor": "#A2B1C6"
            },
            "type": "carpet"
           }
          ],
          "choropleth": [
           {
            "colorbar": {
             "outlinewidth": 0,
             "ticks": ""
            },
            "type": "choropleth"
           }
          ],
          "contour": [
           {
            "colorbar": {
             "outlinewidth": 0,
             "ticks": ""
            },
            "colorscale": [
             [
              0,
              "#0d0887"
             ],
             [
              0.1111111111111111,
              "#46039f"
             ],
             [
              0.2222222222222222,
              "#7201a8"
             ],
             [
              0.3333333333333333,
              "#9c179e"
             ],
             [
              0.4444444444444444,
              "#bd3786"
             ],
             [
              0.5555555555555556,
              "#d8576b"
             ],
             [
              0.6666666666666666,
              "#ed7953"
             ],
             [
              0.7777777777777778,
              "#fb9f3a"
             ],
             [
              0.8888888888888888,
              "#fdca26"
             ],
             [
              1,
              "#f0f921"
             ]
            ],
            "type": "contour"
           }
          ],
          "contourcarpet": [
           {
            "colorbar": {
             "outlinewidth": 0,
             "ticks": ""
            },
            "type": "contourcarpet"
           }
          ],
          "heatmap": [
           {
            "colorbar": {
             "outlinewidth": 0,
             "ticks": ""
            },
            "colorscale": [
             [
              0,
              "#0d0887"
             ],
             [
              0.1111111111111111,
              "#46039f"
             ],
             [
              0.2222222222222222,
              "#7201a8"
             ],
             [
              0.3333333333333333,
              "#9c179e"
             ],
             [
              0.4444444444444444,
              "#bd3786"
             ],
             [
              0.5555555555555556,
              "#d8576b"
             ],
             [
              0.6666666666666666,
              "#ed7953"
             ],
             [
              0.7777777777777778,
              "#fb9f3a"
             ],
             [
              0.8888888888888888,
              "#fdca26"
             ],
             [
              1,
              "#f0f921"
             ]
            ],
            "type": "heatmap"
           }
          ],
          "heatmapgl": [
           {
            "colorbar": {
             "outlinewidth": 0,
             "ticks": ""
            },
            "colorscale": [
             [
              0,
              "#0d0887"
             ],
             [
              0.1111111111111111,
              "#46039f"
             ],
             [
              0.2222222222222222,
              "#7201a8"
             ],
             [
              0.3333333333333333,
              "#9c179e"
             ],
             [
              0.4444444444444444,
              "#bd3786"
             ],
             [
              0.5555555555555556,
              "#d8576b"
             ],
             [
              0.6666666666666666,
              "#ed7953"
             ],
             [
              0.7777777777777778,
              "#fb9f3a"
             ],
             [
              0.8888888888888888,
              "#fdca26"
             ],
             [
              1,
              "#f0f921"
             ]
            ],
            "type": "heatmapgl"
           }
          ],
          "histogram": [
           {
            "marker": {
             "pattern": {
              "fillmode": "overlay",
              "size": 10,
              "solidity": 0.2
             }
            },
            "type": "histogram"
           }
          ],
          "histogram2d": [
           {
            "colorbar": {
             "outlinewidth": 0,
             "ticks": ""
            },
            "colorscale": [
             [
              0,
              "#0d0887"
             ],
             [
              0.1111111111111111,
              "#46039f"
             ],
             [
              0.2222222222222222,
              "#7201a8"
             ],
             [
              0.3333333333333333,
              "#9c179e"
             ],
             [
              0.4444444444444444,
              "#bd3786"
             ],
             [
              0.5555555555555556,
              "#d8576b"
             ],
             [
              0.6666666666666666,
              "#ed7953"
             ],
             [
              0.7777777777777778,
              "#fb9f3a"
             ],
             [
              0.8888888888888888,
              "#fdca26"
             ],
             [
              1,
              "#f0f921"
             ]
            ],
            "type": "histogram2d"
           }
          ],
          "histogram2dcontour": [
           {
            "colorbar": {
             "outlinewidth": 0,
             "ticks": ""
            },
            "colorscale": [
             [
              0,
              "#0d0887"
             ],
             [
              0.1111111111111111,
              "#46039f"
             ],
             [
              0.2222222222222222,
              "#7201a8"
             ],
             [
              0.3333333333333333,
              "#9c179e"
             ],
             [
              0.4444444444444444,
              "#bd3786"
             ],
             [
              0.5555555555555556,
              "#d8576b"
             ],
             [
              0.6666666666666666,
              "#ed7953"
             ],
             [
              0.7777777777777778,
              "#fb9f3a"
             ],
             [
              0.8888888888888888,
              "#fdca26"
             ],
             [
              1,
              "#f0f921"
             ]
            ],
            "type": "histogram2dcontour"
           }
          ],
          "mesh3d": [
           {
            "colorbar": {
             "outlinewidth": 0,
             "ticks": ""
            },
            "type": "mesh3d"
           }
          ],
          "parcoords": [
           {
            "line": {
             "colorbar": {
              "outlinewidth": 0,
              "ticks": ""
             }
            },
            "type": "parcoords"
           }
          ],
          "pie": [
           {
            "automargin": true,
            "type": "pie"
           }
          ],
          "scatter": [
           {
            "marker": {
             "line": {
              "color": "#283442"
             }
            },
            "type": "scatter"
           }
          ],
          "scatter3d": [
           {
            "line": {
             "colorbar": {
              "outlinewidth": 0,
              "ticks": ""
             }
            },
            "marker": {
             "colorbar": {
              "outlinewidth": 0,
              "ticks": ""
             }
            },
            "type": "scatter3d"
           }
          ],
          "scattercarpet": [
           {
            "marker": {
             "colorbar": {
              "outlinewidth": 0,
              "ticks": ""
             }
            },
            "type": "scattercarpet"
           }
          ],
          "scattergeo": [
           {
            "marker": {
             "colorbar": {
              "outlinewidth": 0,
              "ticks": ""
             }
            },
            "type": "scattergeo"
           }
          ],
          "scattergl": [
           {
            "marker": {
             "line": {
              "color": "#283442"
             }
            },
            "type": "scattergl"
           }
          ],
          "scattermapbox": [
           {
            "marker": {
             "colorbar": {
              "outlinewidth": 0,
              "ticks": ""
             }
            },
            "type": "scattermapbox"
           }
          ],
          "scatterpolar": [
           {
            "marker": {
             "colorbar": {
              "outlinewidth": 0,
              "ticks": ""
             }
            },
            "type": "scatterpolar"
           }
          ],
          "scatterpolargl": [
           {
            "marker": {
             "colorbar": {
              "outlinewidth": 0,
              "ticks": ""
             }
            },
            "type": "scatterpolargl"
           }
          ],
          "scatterternary": [
           {
            "marker": {
             "colorbar": {
              "outlinewidth": 0,
              "ticks": ""
             }
            },
            "type": "scatterternary"
           }
          ],
          "surface": [
           {
            "colorbar": {
             "outlinewidth": 0,
             "ticks": ""
            },
            "colorscale": [
             [
              0,
              "#0d0887"
             ],
             [
              0.1111111111111111,
              "#46039f"
             ],
             [
              0.2222222222222222,
              "#7201a8"
             ],
             [
              0.3333333333333333,
              "#9c179e"
             ],
             [
              0.4444444444444444,
              "#bd3786"
             ],
             [
              0.5555555555555556,
              "#d8576b"
             ],
             [
              0.6666666666666666,
              "#ed7953"
             ],
             [
              0.7777777777777778,
              "#fb9f3a"
             ],
             [
              0.8888888888888888,
              "#fdca26"
             ],
             [
              1,
              "#f0f921"
             ]
            ],
            "type": "surface"
           }
          ],
          "table": [
           {
            "cells": {
             "fill": {
              "color": "#506784"
             },
             "line": {
              "color": "rgb(17,17,17)"
             }
            },
            "header": {
             "fill": {
              "color": "#2a3f5f"
             },
             "line": {
              "color": "rgb(17,17,17)"
             }
            },
            "type": "table"
           }
          ]
         },
         "layout": {
          "annotationdefaults": {
           "arrowcolor": "#f2f5fa",
           "arrowhead": 0,
           "arrowwidth": 1
          },
          "autotypenumbers": "strict",
          "coloraxis": {
           "colorbar": {
            "outlinewidth": 0,
            "ticks": ""
           }
          },
          "colorscale": {
           "diverging": [
            [
             0,
             "#8e0152"
            ],
            [
             0.1,
             "#c51b7d"
            ],
            [
             0.2,
             "#de77ae"
            ],
            [
             0.3,
             "#f1b6da"
            ],
            [
             0.4,
             "#fde0ef"
            ],
            [
             0.5,
             "#f7f7f7"
            ],
            [
             0.6,
             "#e6f5d0"
            ],
            [
             0.7,
             "#b8e186"
            ],
            [
             0.8,
             "#7fbc41"
            ],
            [
             0.9,
             "#4d9221"
            ],
            [
             1,
             "#276419"
            ]
           ],
           "sequential": [
            [
             0,
             "#0d0887"
            ],
            [
             0.1111111111111111,
             "#46039f"
            ],
            [
             0.2222222222222222,
             "#7201a8"
            ],
            [
             0.3333333333333333,
             "#9c179e"
            ],
            [
             0.4444444444444444,
             "#bd3786"
            ],
            [
             0.5555555555555556,
             "#d8576b"
            ],
            [
             0.6666666666666666,
             "#ed7953"
            ],
            [
             0.7777777777777778,
             "#fb9f3a"
            ],
            [
             0.8888888888888888,
             "#fdca26"
            ],
            [
             1,
             "#f0f921"
            ]
           ],
           "sequentialminus": [
            [
             0,
             "#0d0887"
            ],
            [
             0.1111111111111111,
             "#46039f"
            ],
            [
             0.2222222222222222,
             "#7201a8"
            ],
            [
             0.3333333333333333,
             "#9c179e"
            ],
            [
             0.4444444444444444,
             "#bd3786"
            ],
            [
             0.5555555555555556,
             "#d8576b"
            ],
            [
             0.6666666666666666,
             "#ed7953"
            ],
            [
             0.7777777777777778,
             "#fb9f3a"
            ],
            [
             0.8888888888888888,
             "#fdca26"
            ],
            [
             1,
             "#f0f921"
            ]
           ]
          },
          "colorway": [
           "#636efa",
           "#EF553B",
           "#00cc96",
           "#ab63fa",
           "#FFA15A",
           "#19d3f3",
           "#FF6692",
           "#B6E880",
           "#FF97FF",
           "#FECB52"
          ],
          "font": {
           "color": "#f2f5fa"
          },
          "geo": {
           "bgcolor": "rgb(17,17,17)",
           "lakecolor": "rgb(17,17,17)",
           "landcolor": "rgb(17,17,17)",
           "showlakes": true,
           "showland": true,
           "subunitcolor": "#506784"
          },
          "hoverlabel": {
           "align": "left"
          },
          "hovermode": "closest",
          "mapbox": {
           "style": "dark"
          },
          "paper_bgcolor": "rgb(17,17,17)",
          "plot_bgcolor": "rgb(17,17,17)",
          "polar": {
           "angularaxis": {
            "gridcolor": "#506784",
            "linecolor": "#506784",
            "ticks": ""
           },
           "bgcolor": "rgb(17,17,17)",
           "radialaxis": {
            "gridcolor": "#506784",
            "linecolor": "#506784",
            "ticks": ""
           }
          },
          "scene": {
           "xaxis": {
            "backgroundcolor": "rgb(17,17,17)",
            "gridcolor": "#506784",
            "gridwidth": 2,
            "linecolor": "#506784",
            "showbackground": true,
            "ticks": "",
            "zerolinecolor": "#C8D4E3"
           },
           "yaxis": {
            "backgroundcolor": "rgb(17,17,17)",
            "gridcolor": "#506784",
            "gridwidth": 2,
            "linecolor": "#506784",
            "showbackground": true,
            "ticks": "",
            "zerolinecolor": "#C8D4E3"
           },
           "zaxis": {
            "backgroundcolor": "rgb(17,17,17)",
            "gridcolor": "#506784",
            "gridwidth": 2,
            "linecolor": "#506784",
            "showbackground": true,
            "ticks": "",
            "zerolinecolor": "#C8D4E3"
           }
          },
          "shapedefaults": {
           "line": {
            "color": "#f2f5fa"
           }
          },
          "sliderdefaults": {
           "bgcolor": "#C8D4E3",
           "bordercolor": "rgb(17,17,17)",
           "borderwidth": 1,
           "tickwidth": 0
          },
          "ternary": {
           "aaxis": {
            "gridcolor": "#506784",
            "linecolor": "#506784",
            "ticks": ""
           },
           "baxis": {
            "gridcolor": "#506784",
            "linecolor": "#506784",
            "ticks": ""
           },
           "bgcolor": "rgb(17,17,17)",
           "caxis": {
            "gridcolor": "#506784",
            "linecolor": "#506784",
            "ticks": ""
           }
          },
          "title": {
           "x": 0.05
          },
          "updatemenudefaults": {
           "bgcolor": "#506784",
           "borderwidth": 0
          },
          "xaxis": {
           "automargin": true,
           "gridcolor": "#283442",
           "linecolor": "#506784",
           "ticks": "",
           "title": {
            "standoff": 15
           },
           "zerolinecolor": "#283442",
           "zerolinewidth": 2
          },
          "yaxis": {
           "automargin": true,
           "gridcolor": "#283442",
           "linecolor": "#506784",
           "ticks": "",
           "title": {
            "standoff": 15
           },
           "zerolinecolor": "#283442",
           "zerolinewidth": 2
          }
         }
        },
        "title": {
         "text": "SPCE Stock"
        }
       }
      },
      "text/html": [
       "<div>                            <div id=\"d812ad47-e862-4e72-bbc0-7a8d5ab70c77\" class=\"plotly-graph-div\" style=\"height:525px; width:100%;\"></div>            <script type=\"text/javascript\">                require([\"plotly\"], function(Plotly) {                    window.PLOTLYENV=window.PLOTLYENV || {};                                    if (document.getElementById(\"d812ad47-e862-4e72-bbc0-7a8d5ab70c77\")) {                    Plotly.newPlot(                        \"d812ad47-e862-4e72-bbc0-7a8d5ab70c77\",                        [{\"close\":[16.639999389648438,17.25,17.270000457763672,19.809999465942383,21.06999969482422,26.889999389648438,25.59000015258789,27.0,31.09000015258789,31.229999542236328,28.8799991607666,31.1299991607666,31.010000228881836,31.3799991607666,34.689998626708984,37.4900016784668,35.15999984741211,35.40999984741211,35.099998474121094,36.4900016784668,34.869998931884766,35.369998931884766,37.31999969482422,36.79999923706055,36.02000045776367,39.41999816894531,40.81999969482422,40.2599983215332,55.90999984741211,54.84000015258789,47.02000045776367,46.0,43.189998626708984,44.939998626708984,46.310001373291016,44.91999816894531,52.689998626708984,49.20000076293945,40.689998626708984,37.7599983215332,33.06999969482422,31.739999771118164,30.200000762939453,32.400001525878906,32.029998779296875,33.369998931884766,30.81999969482422,29.579999923706055,30.6200008392334,30.25,31.190000534057617,30.780000686645508,29.989999771118164,31.8700008392334,31.399999618530273,30.780000686645508,31.530000686645508,33.369998931884766,35.209999084472656,31.329999923706055,27.360000610351562,25.940000534057617,25.3700008392334,25.329999923706055,25.239999771118164,25.25,24.25,24.530000686645508,25.440000534057617,26.479999542236328,26.260000228881836,25.450000762939453,26.049999237060547,24.8799991607666,27.110000610351562,26.790000915527344,25.989999771118164,24.280000686645508,24.610000610351562,25.450000762939453,25.68000030517578,25.15999984741211,24.260000228881836,24.0,23.90999984741211,24.489999771118164,26.420000076293945,24.75,25.190000534057617,25.530000686645508,25.850000381469727,25.040000915527344,25.0,23.389999389648438,22.559999465942383,25.299999237060547,23.829999923706055,22.729999542236328,22.530000686645508,22.979999542236328,23.209999084472656,23.1200008392334,23.219999313354492,23.510000228881836,23.940000534057617,24.059999465942383,20.010000228881836,19.719999313354492,19.84000015258789,20.149999618530273,20.149999618530273,19.65999984741211,20.040000915527344,19.610000610351562,18.239999771118164,18.559999465942383,18.75,19.549999237060547,19.600000381469727,19.940000534057617,19.6200008392334,19.530000686645508,19.889999389648438,20.899999618530273,20.260000228881836,19.270000457763672,19.219999313354492,19.0,18.31999969482422,17.90999984741211,17.3799991607666,17.25,17.079999923706055,16.829999923706055,17.030000686645508,16.729999542236328,16.25,16.0,14.859999656677246,15.079999923706055,14.369999885559082,14.640000343322754,15.619999885559082,16.239999771118164,15.640000343322754,15.210000038146973,14.8100004196167,14.649999618530273,14.770000457763672,14.300000190734863,14.460000038146973,13.930000305175781,14.630000114440918,14.600000381469727,14.529999732971191,14.069999694824219,13.8100004196167,13.039999961853027,13.829999923706055,13.380000114440918,13.539999961853027,13.210000038146973,12.050000190734863,11.779999732971191,12.449999809265137,11.970000267028809,12.390000343322754,12.369999885559082,10.029999732971191,10.140000343322754,9.369999885559082,9.09000015258789,9.100000381469727,8.470000267028809,8.600000381469727,8.479999542236328,8.4399995803833,7.960000038146973,8.140000343322754,9.199999809265137,9.720000267028809,9.369999885559082,8.460000038146973,8.989999771118164,8.569999694824219,8.729999542236328,9.15999984741211,8.850000381469727,8.4399995803833,8.140000343322754,10.739999771118164,10.029999732971191,9.010000228881836,8.399999618530273,7.820000171661377,8.09000015258789,9.0,9.180000305175781,9.680000305175781,9.350000381469727,9.420000076293945,8.25,7.840000152587891,7.360000133514404,7.420000076293945,7.820000171661377,7.570000171661377,7.28000020980835,6.789999961853027,7.360000133514404,7.989999771118164,8.989999771118164,9.430000305175781,9.350000381469727,9.649999618530273,9.569999694824219,9.729999542236328,9.430000305175781,9.760000228881836,11.010000228881836,10.6899995803833,9.880000114440918,9.989999771118164,10.539999961853027,9.609999656677246,9.109999656677246,8.989999771118164,8.6899995803833,8.720000267028809,8.819999694824219,9.119999885559082,8.989999771118164,8.5600004196167,9.1899995803833,8.420000076293945,7.989999771118164,7.989999771118164,8.329999923706055,7.789999961853027,7.710000038146973,7.900000095367432,7.489999771118164,7.889999866485596,7.929999828338623,8.260000228881836,7.5,6.800000190734863,6.070000171661377,5.849999904632568,5.369999885559082,5.840000152587891,6.539999961853027],\"high\":[16.93000030517578,17.90999984741211,17.270000457763672,21.6299991607666,21.75,27.716999053955078,26.34000015258789,27.75,32.06999969482422,35.040000915527344,30.610000610351562,32.09000015258789,33.70000076293945,32.15999984741211,34.790000915527344,38.220001220703125,38.650001525878906,37.880001068115234,36.09000015258789,37.689998626708984,36.779998779296875,36.154998779296875,37.52000045776367,37.540000915527344,36.70000076293945,39.79999923706055,41.650001525878906,41.58000183105469,57.290000915527344,57.5099983215332,53.599998474121094,47.98099899291992,46.43000030517578,54.400001525878906,49.38999938964844,46.7599983215332,52.7599983215332,52.630001068115234,50.75,41.560001373291016,37.970001220703125,34.439998626708984,33.29999923706055,32.970001220703125,32.369998931884766,33.900001525878906,33.689998626708984,31.170000076293945,31.149999618530273,30.979999542236328,31.74799919128418,32.0099983215332,31.239999771118164,32.79999923706055,31.75,32.619998931884766,32.15999984741211,35.61800003051758,35.540000915527344,34.79999923706055,30.0,27.424999237060547,26.295000076293945,26.579999923706055,25.670000076293945,25.979999542236328,25.67799949645996,24.770000457763672,25.81999969482422,26.649999618530273,27.040000915527344,26.70800018310547,26.3799991607666,26.190000534057617,27.860000610351562,27.329999923706055,28.770000457763672,25.540000915527344,24.950000762939453,26.0049991607666,25.780000686645508,26.829999923706055,24.8700008392334,25.145000457763672,24.219999313354492,24.799999237060547,26.440000534057617,26.030000686645508,25.56999969482422,25.834999084472656,25.969999313354492,25.89299964904785,25.59000015258789,24.940000534057617,23.729999542236328,26.5,25.520000457763672,23.719999313354492,22.8799991607666,23.309999465942383,23.65999984741211,23.738000869750977,23.780000686645508,23.950000762939453,24.1299991607666,24.31999969482422,21.31999969482422,19.920000076293945,20.079999923706055,20.540000915527344,20.760000228881836,20.010000228881836,20.530000686645508,20.260000228881836,18.90999984741211,18.725000381469727,19.079999923706055,19.68000030517578,19.600000381469727,20.040000915527344,20.200000762939453,19.90999984741211,20.020000457763672,21.68000030517578,21.489999771118164,19.540000915527344,19.530000686645508,19.5049991607666,18.805999755859375,18.549999237060547,18.0,17.709999084472656,17.649999618530273,17.34000015258789,17.21500015258789,17.149999618530273,16.850000381469727,16.440000534057617,16.420000076293945,15.449999809265137,15.079999923706055,14.899999618530273,15.880000114440918,16.540000915527344,16.559999465942383,16.049999237060547,15.550000190734863,15.079999923706055,14.9399995803833,15.199999809265137,14.744999885559082,14.25,14.670000076293945,14.75,14.649999618530273,14.569999694824219,14.388999938964844,13.770000457763672,14.220000267028809,14.199999809265137,13.734999656677246,13.649999618530273,13.329999923706055,12.345999717712402,12.805000305175781,12.460000038146973,12.550000190734863,12.699999809265137,10.989999771118164,10.15999984741211,10.0600004196167,9.720000267028809,9.8100004196167,9.1850004196167,8.609999656677246,8.699999809265137,9.145000457763672,8.758999824523926,8.149999618530273,9.229999542236328,9.84000015258789,9.800000190734863,9.135000228881836,9.100000381469727,9.039999961853027,8.795000076293945,9.239999771118164,9.454999923706055,9.149999618530273,8.595000267028809,10.970000267028809,10.49899959564209,9.899999618530273,8.90999984741211,8.279999732971191,9.100000381469727,9.029000282287598,9.199999809265137,9.819999694824219,10.029999732971191,9.579999923706055,9.35099983215332,8.324999809265137,8.170000076293945,7.828999996185303,7.960000038146973,7.715000152587891,7.735000133514404,7.300000190734863,7.369999885559082,8.0,8.989999771118164,9.545000076293945,9.600000381469727,9.78499984741211,9.869999885559082,9.800000190734863,9.739999771118164,9.914999961853027,11.25,11.140000343322754,10.649999618530273,10.399999618530273,10.6850004196167,10.6899995803833,9.399999618530273,9.319999694824219,8.989999771118164,9.100000381469727,9.241000175476074,9.1899995803833,9.168999671936035,8.949999809265137,9.220000267028809,9.17199993133545,8.734999656677246,8.319999694824219,8.40999984741211,8.34000015258789,8.039999961853027,8.0,8.175000190734863,7.889999866485596,8.109999656677246,8.319999694824219,8.140000343322754,7.090000152587891,6.599999904632568,6.420000076293945,6.070000171661377,6.199999809265137,6.690000057220459],\"low\":[15.789999961853027,16.33099937438965,15.859999656677246,18.700000762939453,19.68000030517578,23.520000457763672,24.700000762939453,25.600000381469727,26.600000381469727,30.729999542236328,28.1200008392334,28.40999984741211,30.700000762939453,29.93000030517578,30.959999084472656,35.04999923706055,34.869998931884766,34.91999816894531,33.849998474121094,34.70000076293945,34.63999938964844,34.209999084472656,35.099998474121094,35.95000076293945,34.83000183105469,35.619998931884766,38.750999450683594,39.2599983215332,45.869998931884766,52.47999954223633,45.970001220703125,43.08100128173828,43.189998626708984,44.040000915527344,44.21099853515625,43.02000045776367,43.04999923706055,48.459999084472656,39.810001373291016,37.5099983215332,32.810001373291016,31.31999969482422,30.06999969482422,28.6299991607666,29.540000915527344,31.1299991607666,30.6299991607666,28.860000610351562,29.190000534057617,28.489999771118164,30.149999618530273,30.469999313354492,29.579999923706055,29.450000762939453,29.84000015258789,30.510000228881836,30.600000381469727,31.43000030517578,32.84000015258789,31.0,26.5,25.510000228881836,25.049999237060547,25.219999313354492,24.549999237060547,24.6200008392334,24.110000610351562,23.989999771118164,24.530000686645508,25.43000030517578,25.75200080871582,25.200000762939453,25.21500015258789,24.6200008392334,25.75,26.649999618530273,24.850000381469727,23.81999969482422,23.81999969482422,24.549999237060547,24.649999618530273,24.93000030517578,23.579999923706055,23.81999969482422,23.062999725341797,24.0,24.579999923706055,24.274999618530273,24.700000762939453,25.100000381469727,25.31999969482422,24.809999465942383,24.430999755859375,22.8700008392334,22.530000686645508,23.913000106811523,23.489999771118164,22.540000915527344,21.959999084472656,22.309999465942383,22.84000015258789,22.8799991607666,23.020000457763672,23.094999313354492,23.530000686645508,23.584999084472656,19.8700008392334,19.0,19.204999923706055,19.65999984741211,19.860000610351562,19.229999542236328,19.6299991607666,19.489999771118164,17.979999542236328,18.295000076293945,18.584999084472656,18.690000534057617,18.940000534057617,19.450000762939453,19.450000762939453,19.104999542236328,19.290000915527344,19.329999923706055,19.950000762939453,19.079999923706055,19.149999618530273,18.969999313354492,18.17799949645996,17.729999542236328,17.170000076293945,17.059999465942383,16.829999923706055,16.364999771118164,16.229999542236328,16.34000015258789,15.979999542236328,15.329999923706055,14.800000190734863,14.440999984741211,14.020000457763672,13.6850004196167,14.960000038146973,15.29699993133545,15.5600004196167,15.039999961853027,14.470000267028809,14.359999656677246,13.765000343322754,14.079999923706055,13.520000457763672,13.60099983215332,13.859999656677246,14.25,14.145000457763672,13.90999984741211,13.779999732971191,12.859999656677246,12.949999809265137,13.354000091552734,12.890000343322754,12.895000457763672,11.979999542236328,11.300000190734863,11.920000076293945,11.694999694824219,11.8100004196167,12.0600004196167,10.015000343322754,9.75,9.329999923706055,9.020000457763672,9.09000015258789,8.460000038146973,7.579999923706055,8.170000076293945,8.369999885559082,7.849999904632568,7.610000133514404,8.239999771118164,9.149999618530273,9.16100025177002,8.430000305175781,8.552000045776367,8.399999618530273,8.300000190734863,8.680000305175781,8.789999961853027,8.28499984741211,8.050000190734863,8.75,9.6899995803833,8.84000015258789,8.239999771118164,7.690000057220459,7.974999904632568,7.400000095367432,8.520000457763672,9.069999694824219,9.234999656677246,9.069999694824219,8.199999809265137,7.78000020980835,7.360000133514404,7.050000190734863,7.579999923706055,7.380000114440918,7.264999866485596,6.710000038146973,6.699999809265137,7.46999979019165,7.889999866485596,8.760000228881836,9.0,9.25,9.319999694824219,9.289999961853027,9.279999732971191,9.258999824523926,9.899999618530273,10.460000038146973,9.869999885559082,9.741000175476074,10.069999694824219,9.579999923706055,8.805000305175781,8.5600004196167,8.569999694824219,8.289999961853027,8.625,8.704999923706055,8.800000190734863,8.335000038146973,8.479999542236328,8.399999618530273,7.860000133514404,7.800000190734863,7.940000057220459,7.789999961853027,7.610000133514404,7.28000020980835,7.480000019073486,7.380000114440918,7.695000171661377,7.510000228881836,7.400000095367432,6.35099983215332,6.059999942779541,5.599999904632568,5.369999885559082,5.139999866485596,6.130000114440918],\"name\":\"SPCE\",\"open\":[16.110000610351562,16.729999542236328,16.440000534057617,20.6200008392334,20.3700008392334,25.309999465942383,25.3700008392334,25.850000381469727,27.399999618530273,31.270000457763672,30.049999237060547,28.59000015258789,32.209999084472656,30.899999618530273,31.450000762939453,35.279998779296875,38.189998626708984,35.7400016784668,35.08000183105469,35.27000045776367,36.45000076293945,34.599998474121094,35.119998931884766,37.310001373291016,36.27000045776367,35.81999969482422,38.959999084472656,41.099998474121094,47.810001373291016,57.150001525878906,52.29999923706055,44.41999816894531,46.0,53.22999954223633,45.150001525878906,46.43000030517578,43.83000183105469,50.939998626708984,49.54999923706055,40.34000015258789,37.27000045776367,33.029998779296875,32.540000915527344,29.450000762939453,31.09000015258789,31.260000228881836,33.130001068115234,30.5,29.579999923706055,30.3700008392334,30.469999313354492,31.15999984741211,30.81999969482422,29.81999969482422,31.440000534057617,31.31999969482422,31.0,31.790000915527344,33.0,34.75,29.850000381469727,26.790000915527344,25.229999542236328,25.59000015258789,25.020000457763672,25.190000534057617,25.260000228881836,24.1200008392334,24.600000381469727,25.579999923706055,26.700000762939453,26.100000381469727,25.540000915527344,25.969999313354492,25.950000762939453,27.059999465942383,26.079999923706055,25.290000915527344,24.209999084472656,24.649999618530273,25.3799991607666,25.709999084472656,24.450000762939453,23.989999771118164,24.219999313354492,24.280000686645508,24.579999923706055,25.43000030517578,25.0,25.290000915527344,25.75,25.850000381469727,25.110000610351562,24.90999984741211,23.540000915527344,24.1299991607666,25.06999969482422,23.6200008392334,22.790000915527344,22.530000686645508,23.030000686645508,23.190000534057617,23.06999969482422,23.399999618530273,23.649999618530273,24.25,20.469999313354492,19.040000915527344,19.5,19.760000228881836,20.209999084472656,20.0,19.739999771118164,20.040000915527344,18.799999237060547,18.360000610351562,18.649999618530273,18.860000610351562,19.399999618530273,19.510000228881836,20.030000686645508,19.65999984741211,19.31999969482422,19.889999389648438,20.56999969482422,19.309999465942383,19.299999237060547,19.200000762939453,18.75,18.31999969482422,17.969999313354492,17.399999618530273,17.454999923706055,17.040000915527344,16.709999084472656,16.420000076293945,16.780000686645508,16.09000015258789,16.225000381469727,14.930000305175781,15.079999923706055,14.1899995803833,15.0,15.699999809265137,16.040000915527344,15.699999809265137,15.170000076293945,14.479999542236328,14.569999694824219,14.890000343322754,14.229999542236328,13.989999771118164,13.930000305175781,14.5600004196167,14.600000381469727,14.430000305175781,14.010000228881836,13.710000038146973,12.960000038146973,13.729999542236328,13.479999542236328,13.640000343322754,13.020000457763672,12.170000076293945,12.0,12.430000305175781,12.039999961853027,12.470000267028809,10.920000076293945,9.890000343322754,10.029999732971191,9.550000190734863,9.21500015258789,9.050000190734863,8.109999656677246,8.449999809265137,8.710000038146973,8.489999771118164,7.980000019073486,8.25,9.5,9.649999618530273,9.039999961853027,8.630000114440918,8.899999618530273,8.5,8.779999732971191,8.899999618530273,8.819999694824219,8.380000114440918,8.930000305175781,10.300000190734863,9.765000343322754,8.890000343322754,8.130000114440918,8.050000190734863,7.5,8.609999656677246,9.069999694824219,9.619999885559082,9.350000381469727,9.289999961853027,8.260000228881836,7.889999866485596,7.400000095367432,7.599999904632568,7.710000038146973,7.679999828338623,7.170000076293945,6.809999942779541,7.489999771118164,7.909999847412109,8.8100004196167,9.270000457763672,9.329999923706055,9.539999961853027,9.600000381469727,9.729999542236328,9.460000038146973,9.899999618530273,10.800000190734863,10.5600004196167,9.979999542236328,10.140000343322754,10.579999923706055,9.390000343322754,9.069999694824219,8.90999984741211,8.5600004196167,8.880000114440918,8.84000015258789,9.079999923706055,8.930000305175781,8.520000457763672,9.130000114440918,8.579999923706055,8.140000343322754,7.989999771118164,8.260000228881836,7.760000228881836,7.760000228881836,7.900000095367432,7.449999809265137,7.809999942779541,7.900000095367432,8.140000343322754,7.079999923706055,6.590000152587891,6.360000133514404,5.769999980926514,5.25,6.170000076293945],\"showlegend\":true,\"x\":[\"2021-05-17T00:00:00\",\"2021-05-18T00:00:00\",\"2021-05-19T00:00:00\",\"2021-05-20T00:00:00\",\"2021-05-21T00:00:00\",\"2021-05-24T00:00:00\",\"2021-05-25T00:00:00\",\"2021-05-26T00:00:00\",\"2021-05-27T00:00:00\",\"2021-05-28T00:00:00\",\"2021-06-01T00:00:00\",\"2021-06-02T00:00:00\",\"2021-06-03T00:00:00\",\"2021-06-04T00:00:00\",\"2021-06-07T00:00:00\",\"2021-06-08T00:00:00\",\"2021-06-09T00:00:00\",\"2021-06-10T00:00:00\",\"2021-06-11T00:00:00\",\"2021-06-14T00:00:00\",\"2021-06-15T00:00:00\",\"2021-06-16T00:00:00\",\"2021-06-17T00:00:00\",\"2021-06-18T00:00:00\",\"2021-06-21T00:00:00\",\"2021-06-22T00:00:00\",\"2021-06-23T00:00:00\",\"2021-06-24T00:00:00\",\"2021-06-25T00:00:00\",\"2021-06-28T00:00:00\",\"2021-06-29T00:00:00\",\"2021-06-30T00:00:00\",\"2021-07-01T00:00:00\",\"2021-07-02T00:00:00\",\"2021-07-06T00:00:00\",\"2021-07-07T00:00:00\",\"2021-07-08T00:00:00\",\"2021-07-09T00:00:00\",\"2021-07-12T00:00:00\",\"2021-07-13T00:00:00\",\"2021-07-14T00:00:00\",\"2021-07-15T00:00:00\",\"2021-07-16T00:00:00\",\"2021-07-19T00:00:00\",\"2021-07-20T00:00:00\",\"2021-07-21T00:00:00\",\"2021-07-22T00:00:00\",\"2021-07-23T00:00:00\",\"2021-07-26T00:00:00\",\"2021-07-27T00:00:00\",\"2021-07-28T00:00:00\",\"2021-07-29T00:00:00\",\"2021-07-30T00:00:00\",\"2021-08-02T00:00:00\",\"2021-08-03T00:00:00\",\"2021-08-04T00:00:00\",\"2021-08-05T00:00:00\",\"2021-08-06T00:00:00\",\"2021-08-09T00:00:00\",\"2021-08-10T00:00:00\",\"2021-08-11T00:00:00\",\"2021-08-12T00:00:00\",\"2021-08-13T00:00:00\",\"2021-08-16T00:00:00\",\"2021-08-17T00:00:00\",\"2021-08-18T00:00:00\",\"2021-08-19T00:00:00\",\"2021-08-20T00:00:00\",\"2021-08-23T00:00:00\",\"2021-08-24T00:00:00\",\"2021-08-25T00:00:00\",\"2021-08-26T00:00:00\",\"2021-08-27T00:00:00\",\"2021-08-30T00:00:00\",\"2021-08-31T00:00:00\",\"2021-09-01T00:00:00\",\"2021-09-02T00:00:00\",\"2021-09-03T00:00:00\",\"2021-09-07T00:00:00\",\"2021-09-08T00:00:00\",\"2021-09-09T00:00:00\",\"2021-09-10T00:00:00\",\"2021-09-13T00:00:00\",\"2021-09-14T00:00:00\",\"2021-09-15T00:00:00\",\"2021-09-16T00:00:00\",\"2021-09-17T00:00:00\",\"2021-09-20T00:00:00\",\"2021-09-21T00:00:00\",\"2021-09-22T00:00:00\",\"2021-09-23T00:00:00\",\"2021-09-24T00:00:00\",\"2021-09-27T00:00:00\",\"2021-09-28T00:00:00\",\"2021-09-29T00:00:00\",\"2021-09-30T00:00:00\",\"2021-10-01T00:00:00\",\"2021-10-04T00:00:00\",\"2021-10-05T00:00:00\",\"2021-10-06T00:00:00\",\"2021-10-07T00:00:00\",\"2021-10-08T00:00:00\",\"2021-10-11T00:00:00\",\"2021-10-12T00:00:00\",\"2021-10-13T00:00:00\",\"2021-10-14T00:00:00\",\"2021-10-15T00:00:00\",\"2021-10-18T00:00:00\",\"2021-10-19T00:00:00\",\"2021-10-20T00:00:00\",\"2021-10-21T00:00:00\",\"2021-10-22T00:00:00\",\"2021-10-25T00:00:00\",\"2021-10-26T00:00:00\",\"2021-10-27T00:00:00\",\"2021-10-28T00:00:00\",\"2021-10-29T00:00:00\",\"2021-11-01T00:00:00\",\"2021-11-02T00:00:00\",\"2021-11-03T00:00:00\",\"2021-11-04T00:00:00\",\"2021-11-05T00:00:00\",\"2021-11-08T00:00:00\",\"2021-11-09T00:00:00\",\"2021-11-10T00:00:00\",\"2021-11-11T00:00:00\",\"2021-11-12T00:00:00\",\"2021-11-15T00:00:00\",\"2021-11-16T00:00:00\",\"2021-11-17T00:00:00\",\"2021-11-18T00:00:00\",\"2021-11-19T00:00:00\",\"2021-11-22T00:00:00\",\"2021-11-23T00:00:00\",\"2021-11-24T00:00:00\",\"2021-11-26T00:00:00\",\"2021-11-29T00:00:00\",\"2021-11-30T00:00:00\",\"2021-12-01T00:00:00\",\"2021-12-02T00:00:00\",\"2021-12-03T00:00:00\",\"2021-12-06T00:00:00\",\"2021-12-07T00:00:00\",\"2021-12-08T00:00:00\",\"2021-12-09T00:00:00\",\"2021-12-10T00:00:00\",\"2021-12-13T00:00:00\",\"2021-12-14T00:00:00\",\"2021-12-15T00:00:00\",\"2021-12-16T00:00:00\",\"2021-12-17T00:00:00\",\"2021-12-20T00:00:00\",\"2021-12-21T00:00:00\",\"2021-12-22T00:00:00\",\"2021-12-23T00:00:00\",\"2021-12-27T00:00:00\",\"2021-12-28T00:00:00\",\"2021-12-29T00:00:00\",\"2021-12-30T00:00:00\",\"2021-12-31T00:00:00\",\"2022-01-03T00:00:00\",\"2022-01-04T00:00:00\",\"2022-01-05T00:00:00\",\"2022-01-06T00:00:00\",\"2022-01-07T00:00:00\",\"2022-01-10T00:00:00\",\"2022-01-11T00:00:00\",\"2022-01-12T00:00:00\",\"2022-01-13T00:00:00\",\"2022-01-14T00:00:00\",\"2022-01-18T00:00:00\",\"2022-01-19T00:00:00\",\"2022-01-20T00:00:00\",\"2022-01-21T00:00:00\",\"2022-01-24T00:00:00\",\"2022-01-25T00:00:00\",\"2022-01-26T00:00:00\",\"2022-01-27T00:00:00\",\"2022-01-28T00:00:00\",\"2022-01-31T00:00:00\",\"2022-02-01T00:00:00\",\"2022-02-02T00:00:00\",\"2022-02-03T00:00:00\",\"2022-02-04T00:00:00\",\"2022-02-07T00:00:00\",\"2022-02-08T00:00:00\",\"2022-02-09T00:00:00\",\"2022-02-10T00:00:00\",\"2022-02-11T00:00:00\",\"2022-02-14T00:00:00\",\"2022-02-15T00:00:00\",\"2022-02-16T00:00:00\",\"2022-02-17T00:00:00\",\"2022-02-18T00:00:00\",\"2022-02-22T00:00:00\",\"2022-02-23T00:00:00\",\"2022-02-24T00:00:00\",\"2022-02-25T00:00:00\",\"2022-02-28T00:00:00\",\"2022-03-01T00:00:00\",\"2022-03-02T00:00:00\",\"2022-03-03T00:00:00\",\"2022-03-04T00:00:00\",\"2022-03-07T00:00:00\",\"2022-03-08T00:00:00\",\"2022-03-09T00:00:00\",\"2022-03-10T00:00:00\",\"2022-03-11T00:00:00\",\"2022-03-14T00:00:00\",\"2022-03-15T00:00:00\",\"2022-03-16T00:00:00\",\"2022-03-17T00:00:00\",\"2022-03-18T00:00:00\",\"2022-03-21T00:00:00\",\"2022-03-22T00:00:00\",\"2022-03-23T00:00:00\",\"2022-03-24T00:00:00\",\"2022-03-25T00:00:00\",\"2022-03-28T00:00:00\",\"2022-03-29T00:00:00\",\"2022-03-30T00:00:00\",\"2022-03-31T00:00:00\",\"2022-04-01T00:00:00\",\"2022-04-04T00:00:00\",\"2022-04-05T00:00:00\",\"2022-04-06T00:00:00\",\"2022-04-07T00:00:00\",\"2022-04-08T00:00:00\",\"2022-04-11T00:00:00\",\"2022-04-12T00:00:00\",\"2022-04-13T00:00:00\",\"2022-04-14T00:00:00\",\"2022-04-18T00:00:00\",\"2022-04-19T00:00:00\",\"2022-04-20T00:00:00\",\"2022-04-21T00:00:00\",\"2022-04-22T00:00:00\",\"2022-04-25T00:00:00\",\"2022-04-26T00:00:00\",\"2022-04-27T00:00:00\",\"2022-04-28T00:00:00\",\"2022-04-29T00:00:00\",\"2022-05-02T00:00:00\",\"2022-05-03T00:00:00\",\"2022-05-04T00:00:00\",\"2022-05-05T00:00:00\",\"2022-05-06T00:00:00\",\"2022-05-09T00:00:00\",\"2022-05-10T00:00:00\",\"2022-05-11T00:00:00\",\"2022-05-12T00:00:00\",\"2022-05-13T00:00:00\"],\"type\":\"candlestick\"},{\"name\":\"10 MA\",\"x\":[\"2021-05-17T00:00:00\",\"2021-05-18T00:00:00\",\"2021-05-19T00:00:00\",\"2021-05-20T00:00:00\",\"2021-05-21T00:00:00\",\"2021-05-24T00:00:00\",\"2021-05-25T00:00:00\",\"2021-05-26T00:00:00\",\"2021-05-27T00:00:00\",\"2021-05-28T00:00:00\",\"2021-06-01T00:00:00\",\"2021-06-02T00:00:00\",\"2021-06-03T00:00:00\",\"2021-06-04T00:00:00\",\"2021-06-07T00:00:00\",\"2021-06-08T00:00:00\",\"2021-06-09T00:00:00\",\"2021-06-10T00:00:00\",\"2021-06-11T00:00:00\",\"2021-06-14T00:00:00\",\"2021-06-15T00:00:00\",\"2021-06-16T00:00:00\",\"2021-06-17T00:00:00\",\"2021-06-18T00:00:00\",\"2021-06-21T00:00:00\",\"2021-06-22T00:00:00\",\"2021-06-23T00:00:00\",\"2021-06-24T00:00:00\",\"2021-06-25T00:00:00\",\"2021-06-28T00:00:00\",\"2021-06-29T00:00:00\",\"2021-06-30T00:00:00\",\"2021-07-01T00:00:00\",\"2021-07-02T00:00:00\",\"2021-07-06T00:00:00\",\"2021-07-07T00:00:00\",\"2021-07-08T00:00:00\",\"2021-07-09T00:00:00\",\"2021-07-12T00:00:00\",\"2021-07-13T00:00:00\",\"2021-07-14T00:00:00\",\"2021-07-15T00:00:00\",\"2021-07-16T00:00:00\",\"2021-07-19T00:00:00\",\"2021-07-20T00:00:00\",\"2021-07-21T00:00:00\",\"2021-07-22T00:00:00\",\"2021-07-23T00:00:00\",\"2021-07-26T00:00:00\",\"2021-07-27T00:00:00\",\"2021-07-28T00:00:00\",\"2021-07-29T00:00:00\",\"2021-07-30T00:00:00\",\"2021-08-02T00:00:00\",\"2021-08-03T00:00:00\",\"2021-08-04T00:00:00\",\"2021-08-05T00:00:00\",\"2021-08-06T00:00:00\",\"2021-08-09T00:00:00\",\"2021-08-10T00:00:00\",\"2021-08-11T00:00:00\",\"2021-08-12T00:00:00\",\"2021-08-13T00:00:00\",\"2021-08-16T00:00:00\",\"2021-08-17T00:00:00\",\"2021-08-18T00:00:00\",\"2021-08-19T00:00:00\",\"2021-08-20T00:00:00\",\"2021-08-23T00:00:00\",\"2021-08-24T00:00:00\",\"2021-08-25T00:00:00\",\"2021-08-26T00:00:00\",\"2021-08-27T00:00:00\",\"2021-08-30T00:00:00\",\"2021-08-31T00:00:00\",\"2021-09-01T00:00:00\",\"2021-09-02T00:00:00\",\"2021-09-03T00:00:00\",\"2021-09-07T00:00:00\",\"2021-09-08T00:00:00\",\"2021-09-09T00:00:00\",\"2021-09-10T00:00:00\",\"2021-09-13T00:00:00\",\"2021-09-14T00:00:00\",\"2021-09-15T00:00:00\",\"2021-09-16T00:00:00\",\"2021-09-17T00:00:00\",\"2021-09-20T00:00:00\",\"2021-09-21T00:00:00\",\"2021-09-22T00:00:00\",\"2021-09-23T00:00:00\",\"2021-09-24T00:00:00\",\"2021-09-27T00:00:00\",\"2021-09-28T00:00:00\",\"2021-09-29T00:00:00\",\"2021-09-30T00:00:00\",\"2021-10-01T00:00:00\",\"2021-10-04T00:00:00\",\"2021-10-05T00:00:00\",\"2021-10-06T00:00:00\",\"2021-10-07T00:00:00\",\"2021-10-08T00:00:00\",\"2021-10-11T00:00:00\",\"2021-10-12T00:00:00\",\"2021-10-13T00:00:00\",\"2021-10-14T00:00:00\",\"2021-10-15T00:00:00\",\"2021-10-18T00:00:00\",\"2021-10-19T00:00:00\",\"2021-10-20T00:00:00\",\"2021-10-21T00:00:00\",\"2021-10-22T00:00:00\",\"2021-10-25T00:00:00\",\"2021-10-26T00:00:00\",\"2021-10-27T00:00:00\",\"2021-10-28T00:00:00\",\"2021-10-29T00:00:00\",\"2021-11-01T00:00:00\",\"2021-11-02T00:00:00\",\"2021-11-03T00:00:00\",\"2021-11-04T00:00:00\",\"2021-11-05T00:00:00\",\"2021-11-08T00:00:00\",\"2021-11-09T00:00:00\",\"2021-11-10T00:00:00\",\"2021-11-11T00:00:00\",\"2021-11-12T00:00:00\",\"2021-11-15T00:00:00\",\"2021-11-16T00:00:00\",\"2021-11-17T00:00:00\",\"2021-11-18T00:00:00\",\"2021-11-19T00:00:00\",\"2021-11-22T00:00:00\",\"2021-11-23T00:00:00\",\"2021-11-24T00:00:00\",\"2021-11-26T00:00:00\",\"2021-11-29T00:00:00\",\"2021-11-30T00:00:00\",\"2021-12-01T00:00:00\",\"2021-12-02T00:00:00\",\"2021-12-03T00:00:00\",\"2021-12-06T00:00:00\",\"2021-12-07T00:00:00\",\"2021-12-08T00:00:00\",\"2021-12-09T00:00:00\",\"2021-12-10T00:00:00\",\"2021-12-13T00:00:00\",\"2021-12-14T00:00:00\",\"2021-12-15T00:00:00\",\"2021-12-16T00:00:00\",\"2021-12-17T00:00:00\",\"2021-12-20T00:00:00\",\"2021-12-21T00:00:00\",\"2021-12-22T00:00:00\",\"2021-12-23T00:00:00\",\"2021-12-27T00:00:00\",\"2021-12-28T00:00:00\",\"2021-12-29T00:00:00\",\"2021-12-30T00:00:00\",\"2021-12-31T00:00:00\",\"2022-01-03T00:00:00\",\"2022-01-04T00:00:00\",\"2022-01-05T00:00:00\",\"2022-01-06T00:00:00\",\"2022-01-07T00:00:00\",\"2022-01-10T00:00:00\",\"2022-01-11T00:00:00\",\"2022-01-12T00:00:00\",\"2022-01-13T00:00:00\",\"2022-01-14T00:00:00\",\"2022-01-18T00:00:00\",\"2022-01-19T00:00:00\",\"2022-01-20T00:00:00\",\"2022-01-21T00:00:00\",\"2022-01-24T00:00:00\",\"2022-01-25T00:00:00\",\"2022-01-26T00:00:00\",\"2022-01-27T00:00:00\",\"2022-01-28T00:00:00\",\"2022-01-31T00:00:00\",\"2022-02-01T00:00:00\",\"2022-02-02T00:00:00\",\"2022-02-03T00:00:00\",\"2022-02-04T00:00:00\",\"2022-02-07T00:00:00\",\"2022-02-08T00:00:00\",\"2022-02-09T00:00:00\",\"2022-02-10T00:00:00\",\"2022-02-11T00:00:00\",\"2022-02-14T00:00:00\",\"2022-02-15T00:00:00\",\"2022-02-16T00:00:00\",\"2022-02-17T00:00:00\",\"2022-02-18T00:00:00\",\"2022-02-22T00:00:00\",\"2022-02-23T00:00:00\",\"2022-02-24T00:00:00\",\"2022-02-25T00:00:00\",\"2022-02-28T00:00:00\",\"2022-03-01T00:00:00\",\"2022-03-02T00:00:00\",\"2022-03-03T00:00:00\",\"2022-03-04T00:00:00\",\"2022-03-07T00:00:00\",\"2022-03-08T00:00:00\",\"2022-03-09T00:00:00\",\"2022-03-10T00:00:00\",\"2022-03-11T00:00:00\",\"2022-03-14T00:00:00\",\"2022-03-15T00:00:00\",\"2022-03-16T00:00:00\",\"2022-03-17T00:00:00\",\"2022-03-18T00:00:00\",\"2022-03-21T00:00:00\",\"2022-03-22T00:00:00\",\"2022-03-23T00:00:00\",\"2022-03-24T00:00:00\",\"2022-03-25T00:00:00\",\"2022-03-28T00:00:00\",\"2022-03-29T00:00:00\",\"2022-03-30T00:00:00\",\"2022-03-31T00:00:00\",\"2022-04-01T00:00:00\",\"2022-04-04T00:00:00\",\"2022-04-05T00:00:00\",\"2022-04-06T00:00:00\",\"2022-04-07T00:00:00\",\"2022-04-08T00:00:00\",\"2022-04-11T00:00:00\",\"2022-04-12T00:00:00\",\"2022-04-13T00:00:00\",\"2022-04-14T00:00:00\",\"2022-04-18T00:00:00\",\"2022-04-19T00:00:00\",\"2022-04-20T00:00:00\",\"2022-04-21T00:00:00\",\"2022-04-22T00:00:00\",\"2022-04-25T00:00:00\",\"2022-04-26T00:00:00\",\"2022-04-27T00:00:00\",\"2022-04-28T00:00:00\",\"2022-04-29T00:00:00\",\"2022-05-02T00:00:00\",\"2022-05-03T00:00:00\",\"2022-05-04T00:00:00\",\"2022-05-05T00:00:00\",\"2022-05-06T00:00:00\",\"2022-05-09T00:00:00\",\"2022-05-10T00:00:00\",\"2022-05-11T00:00:00\",\"2022-05-12T00:00:00\",\"2022-05-13T00:00:00\"],\"y\":[null,null,null,null,null,null,null,null,null,23.383999824523926,24.607999801635742,25.9959997177124,27.36999969482422,28.52699966430664,29.88899955749512,30.94899978637695,31.905999755859376,32.746999740600586,33.1479995727539,33.67399978637695,34.27299976348877,34.69699974060059,35.327999687194826,35.869999694824216,36.00299987792969,36.19599952697754,36.76199951171875,37.24699935913086,39.32799949645996,41.16299934387207,42.377999496459964,43.440999603271486,44.02799949645996,44.8419994354248,45.87099952697754,46.42099952697754,47.60799942016602,48.50199966430664,46.97999954223633,45.27199935913086,43.87699928283691,42.45099925994873,41.15199947357178,39.89799976348877,38.46999950408936,37.3149995803833,35.12799968719482,33.16599960327149,32.158999824523924,31.407999992370605,31.220000076293946,31.12400016784668,31.10300006866455,31.05,30.98700008392334,30.728000259399415,30.799000358581544,31.178000259399415,31.63700008392334,31.745000076293945,31.36200008392334,30.87800006866455,30.416000175476075,29.76200008392334,29.146000099182128,28.59300003051758,27.864999961853027,26.9810001373291,26.0040002822876,25.519000244140624,25.409000205993653,25.360000228881837,25.428000068664552,25.382999992370607,25.570000076293944,25.72400016784668,25.898000144958495,25.873000144958496,25.79000015258789,25.687000274658203,25.6290002822876,25.600000190734864,25.421000289916993,25.33300037384033,25.013000297546387,24.783000183105468,24.826000213623047,24.873000144958496,24.9310001373291,24.939000129699707,24.956000137329102,24.944000244140625,25.018000221252443,24.957000160217284,24.822000122070314,24.90300006866455,24.64400005340576,24.442000007629396,24.176000022888182,23.920999908447264,23.656999778747558,23.464999771118165,23.286999702453613,23.298999786376953,23.436999893188478,23.31299991607666,22.930999946594238,22.629999923706055,22.360999870300294,22.077999877929688,21.77199993133545,21.42599983215332,21.107999992370605,20.71800003051758,20.147999954223632,19.59799995422363,19.47199993133545,19.454999923706055,19.430999946594238,19.410000038146972,19.357000160217286,19.344000244140624,19.329000091552736,19.457999992370606,19.660000038146972,19.7310001373291,19.77800006866455,19.723000144958498,19.595000076293946,19.392000007629395,19.167999839782716,18.939999771118163,18.658999824523924,18.251999855041504,17.92899990081787,17.674999809265138,17.37799987792969,17.077999877929688,16.73199987411499,16.448999881744385,16.147999954223632,15.886999988555909,15.740999984741212,15.681999969482423,15.542999935150146,15.39099998474121,15.247000026702882,15.111999988555908,15.103000068664551,15.025000095367432,15.03400011062622,14.963000106811524,14.864000129699708,14.700000190734864,14.589000129699707,14.475000095367431,14.375000095367431,14.214000129699707,14.120000076293945,14.02800006866455,13.936000061035156,13.864000034332275,13.60600004196167,13.323999977111816,13.115999984741212,12.90600004196167,12.764000034332275,12.69700002670288,12.317000007629394,11.993000030517578,11.576000022888184,11.164000034332275,10.869000053405761,10.538000106811523,10.153000164031983,9.804000091552734,9.409000015258789,8.968000030517578,8.779000091552735,8.685000038146972,8.720000076293946,8.748000049591065,8.684000015258789,8.735999965667725,8.732999897003173,8.757999897003174,8.829999923706055,8.91899995803833,8.948999881744385,8.842999935150146,8.944999885559081,9.010999870300292,9.06599988937378,9.00699987411499,8.931999921798706,8.867999982833862,8.851999998092651,8.884999990463257,9.009000062942505,9.130000066757201,8.99800009727478,8.82000012397766,8.703000116348267,8.599000167846679,8.559000158309937,8.532000160217285,8.389000177383423,8.19900016784668,7.910000133514404,7.711000108718872,7.568000078201294,7.64200005531311,7.8010000705719,8.000000095367431,8.223000049591064,8.398000001907349,8.613999938964843,8.828999948501586,9.125999975204468,9.490999984741212,9.760999965667725,9.85,9.905999946594239,10.024999904632569,10.020999908447266,9.974999904632568,9.900999927520752,9.826999855041503,9.722999858856202,9.503999805450439,9.346999835968017,9.257999801635743,9.114999866485595,8.979999828338624,8.860999870300294,8.748999881744385,8.648999881744384,8.61299991607666,8.519999885559082,8.408999919891357,8.286999940872192,8.136999940872192,8.069999885559081,7.943999910354615,7.9279999256134035,7.878999948501587,7.759999990463257,7.534000015258789,7.340000009536743,7.105999994277954,6.9,6.8050000190734865],\"type\":\"scatter\"},{\"name\":\"50 MA\",\"x\":[\"2021-05-17T00:00:00\",\"2021-05-18T00:00:00\",\"2021-05-19T00:00:00\",\"2021-05-20T00:00:00\",\"2021-05-21T00:00:00\",\"2021-05-24T00:00:00\",\"2021-05-25T00:00:00\",\"2021-05-26T00:00:00\",\"2021-05-27T00:00:00\",\"2021-05-28T00:00:00\",\"2021-06-01T00:00:00\",\"2021-06-02T00:00:00\",\"2021-06-03T00:00:00\",\"2021-06-04T00:00:00\",\"2021-06-07T00:00:00\",\"2021-06-08T00:00:00\",\"2021-06-09T00:00:00\",\"2021-06-10T00:00:00\",\"2021-06-11T00:00:00\",\"2021-06-14T00:00:00\",\"2021-06-15T00:00:00\",\"2021-06-16T00:00:00\",\"2021-06-17T00:00:00\",\"2021-06-18T00:00:00\",\"2021-06-21T00:00:00\",\"2021-06-22T00:00:00\",\"2021-06-23T00:00:00\",\"2021-06-24T00:00:00\",\"2021-06-25T00:00:00\",\"2021-06-28T00:00:00\",\"2021-06-29T00:00:00\",\"2021-06-30T00:00:00\",\"2021-07-01T00:00:00\",\"2021-07-02T00:00:00\",\"2021-07-06T00:00:00\",\"2021-07-07T00:00:00\",\"2021-07-08T00:00:00\",\"2021-07-09T00:00:00\",\"2021-07-12T00:00:00\",\"2021-07-13T00:00:00\",\"2021-07-14T00:00:00\",\"2021-07-15T00:00:00\",\"2021-07-16T00:00:00\",\"2021-07-19T00:00:00\",\"2021-07-20T00:00:00\",\"2021-07-21T00:00:00\",\"2021-07-22T00:00:00\",\"2021-07-23T00:00:00\",\"2021-07-26T00:00:00\",\"2021-07-27T00:00:00\",\"2021-07-28T00:00:00\",\"2021-07-29T00:00:00\",\"2021-07-30T00:00:00\",\"2021-08-02T00:00:00\",\"2021-08-03T00:00:00\",\"2021-08-04T00:00:00\",\"2021-08-05T00:00:00\",\"2021-08-06T00:00:00\",\"2021-08-09T00:00:00\",\"2021-08-10T00:00:00\",\"2021-08-11T00:00:00\",\"2021-08-12T00:00:00\",\"2021-08-13T00:00:00\",\"2021-08-16T00:00:00\",\"2021-08-17T00:00:00\",\"2021-08-18T00:00:00\",\"2021-08-19T00:00:00\",\"2021-08-20T00:00:00\",\"2021-08-23T00:00:00\",\"2021-08-24T00:00:00\",\"2021-08-25T00:00:00\",\"2021-08-26T00:00:00\",\"2021-08-27T00:00:00\",\"2021-08-30T00:00:00\",\"2021-08-31T00:00:00\",\"2021-09-01T00:00:00\",\"2021-09-02T00:00:00\",\"2021-09-03T00:00:00\",\"2021-09-07T00:00:00\",\"2021-09-08T00:00:00\",\"2021-09-09T00:00:00\",\"2021-09-10T00:00:00\",\"2021-09-13T00:00:00\",\"2021-09-14T00:00:00\",\"2021-09-15T00:00:00\",\"2021-09-16T00:00:00\",\"2021-09-17T00:00:00\",\"2021-09-20T00:00:00\",\"2021-09-21T00:00:00\",\"2021-09-22T00:00:00\",\"2021-09-23T00:00:00\",\"2021-09-24T00:00:00\",\"2021-09-27T00:00:00\",\"2021-09-28T00:00:00\",\"2021-09-29T00:00:00\",\"2021-09-30T00:00:00\",\"2021-10-01T00:00:00\",\"2021-10-04T00:00:00\",\"2021-10-05T00:00:00\",\"2021-10-06T00:00:00\",\"2021-10-07T00:00:00\",\"2021-10-08T00:00:00\",\"2021-10-11T00:00:00\",\"2021-10-12T00:00:00\",\"2021-10-13T00:00:00\",\"2021-10-14T00:00:00\",\"2021-10-15T00:00:00\",\"2021-10-18T00:00:00\",\"2021-10-19T00:00:00\",\"2021-10-20T00:00:00\",\"2021-10-21T00:00:00\",\"2021-10-22T00:00:00\",\"2021-10-25T00:00:00\",\"2021-10-26T00:00:00\",\"2021-10-27T00:00:00\",\"2021-10-28T00:00:00\",\"2021-10-29T00:00:00\",\"2021-11-01T00:00:00\",\"2021-11-02T00:00:00\",\"2021-11-03T00:00:00\",\"2021-11-04T00:00:00\",\"2021-11-05T00:00:00\",\"2021-11-08T00:00:00\",\"2021-11-09T00:00:00\",\"2021-11-10T00:00:00\",\"2021-11-11T00:00:00\",\"2021-11-12T00:00:00\",\"2021-11-15T00:00:00\",\"2021-11-16T00:00:00\",\"2021-11-17T00:00:00\",\"2021-11-18T00:00:00\",\"2021-11-19T00:00:00\",\"2021-11-22T00:00:00\",\"2021-11-23T00:00:00\",\"2021-11-24T00:00:00\",\"2021-11-26T00:00:00\",\"2021-11-29T00:00:00\",\"2021-11-30T00:00:00\",\"2021-12-01T00:00:00\",\"2021-12-02T00:00:00\",\"2021-12-03T00:00:00\",\"2021-12-06T00:00:00\",\"2021-12-07T00:00:00\",\"2021-12-08T00:00:00\",\"2021-12-09T00:00:00\",\"2021-12-10T00:00:00\",\"2021-12-13T00:00:00\",\"2021-12-14T00:00:00\",\"2021-12-15T00:00:00\",\"2021-12-16T00:00:00\",\"2021-12-17T00:00:00\",\"2021-12-20T00:00:00\",\"2021-12-21T00:00:00\",\"2021-12-22T00:00:00\",\"2021-12-23T00:00:00\",\"2021-12-27T00:00:00\",\"2021-12-28T00:00:00\",\"2021-12-29T00:00:00\",\"2021-12-30T00:00:00\",\"2021-12-31T00:00:00\",\"2022-01-03T00:00:00\",\"2022-01-04T00:00:00\",\"2022-01-05T00:00:00\",\"2022-01-06T00:00:00\",\"2022-01-07T00:00:00\",\"2022-01-10T00:00:00\",\"2022-01-11T00:00:00\",\"2022-01-12T00:00:00\",\"2022-01-13T00:00:00\",\"2022-01-14T00:00:00\",\"2022-01-18T00:00:00\",\"2022-01-19T00:00:00\",\"2022-01-20T00:00:00\",\"2022-01-21T00:00:00\",\"2022-01-24T00:00:00\",\"2022-01-25T00:00:00\",\"2022-01-26T00:00:00\",\"2022-01-27T00:00:00\",\"2022-01-28T00:00:00\",\"2022-01-31T00:00:00\",\"2022-02-01T00:00:00\",\"2022-02-02T00:00:00\",\"2022-02-03T00:00:00\",\"2022-02-04T00:00:00\",\"2022-02-07T00:00:00\",\"2022-02-08T00:00:00\",\"2022-02-09T00:00:00\",\"2022-02-10T00:00:00\",\"2022-02-11T00:00:00\",\"2022-02-14T00:00:00\",\"2022-02-15T00:00:00\",\"2022-02-16T00:00:00\",\"2022-02-17T00:00:00\",\"2022-02-18T00:00:00\",\"2022-02-22T00:00:00\",\"2022-02-23T00:00:00\",\"2022-02-24T00:00:00\",\"2022-02-25T00:00:00\",\"2022-02-28T00:00:00\",\"2022-03-01T00:00:00\",\"2022-03-02T00:00:00\",\"2022-03-03T00:00:00\",\"2022-03-04T00:00:00\",\"2022-03-07T00:00:00\",\"2022-03-08T00:00:00\",\"2022-03-09T00:00:00\",\"2022-03-10T00:00:00\",\"2022-03-11T00:00:00\",\"2022-03-14T00:00:00\",\"2022-03-15T00:00:00\",\"2022-03-16T00:00:00\",\"2022-03-17T00:00:00\",\"2022-03-18T00:00:00\",\"2022-03-21T00:00:00\",\"2022-03-22T00:00:00\",\"2022-03-23T00:00:00\",\"2022-03-24T00:00:00\",\"2022-03-25T00:00:00\",\"2022-03-28T00:00:00\",\"2022-03-29T00:00:00\",\"2022-03-30T00:00:00\",\"2022-03-31T00:00:00\",\"2022-04-01T00:00:00\",\"2022-04-04T00:00:00\",\"2022-04-05T00:00:00\",\"2022-04-06T00:00:00\",\"2022-04-07T00:00:00\",\"2022-04-08T00:00:00\",\"2022-04-11T00:00:00\",\"2022-04-12T00:00:00\",\"2022-04-13T00:00:00\",\"2022-04-14T00:00:00\",\"2022-04-18T00:00:00\",\"2022-04-19T00:00:00\",\"2022-04-20T00:00:00\",\"2022-04-21T00:00:00\",\"2022-04-22T00:00:00\",\"2022-04-25T00:00:00\",\"2022-04-26T00:00:00\",\"2022-04-27T00:00:00\",\"2022-04-28T00:00:00\",\"2022-04-29T00:00:00\",\"2022-05-02T00:00:00\",\"2022-05-03T00:00:00\",\"2022-05-04T00:00:00\",\"2022-05-05T00:00:00\",\"2022-05-06T00:00:00\",\"2022-05-09T00:00:00\",\"2022-05-10T00:00:00\",\"2022-05-11T00:00:00\",\"2022-05-12T00:00:00\",\"2022-05-13T00:00:00\"],\"y\":[null,null,null,null,null,null,null,null,null,null,null,null,null,null,null,null,null,null,null,null,null,null,null,null,null,null,null,null,null,null,null,null,null,null,null,null,null,null,null,null,null,null,null,null,null,null,null,null,null,34.980199661254886,35.27119968414306,35.54179969787597,35.79619968414307,36.037399711608884,36.24399971008301,36.321799736022946,36.4405997467041,36.5679997253418,36.650399703979495,36.652399711608886,36.621999740600586,36.51819976806641,36.405399780273434,36.284399795532224,36.09539981842041,35.85059978485108,35.632399787902834,35.4147998046875,35.22159984588623,35.02139980316162,34.849199829101565,34.650799865722654,34.42539985656738,34.186999855041506,34.00879985809326,33.7561999130249,33.45959991455078,33.13999996185303,32.513999977111816,31.926199989318846,31.49939998626709,31.08259998321533,30.70400001525879,30.28520004272461,29.83720001220703,29.428600044250487,28.90320007324219,28.414200057983397,28.10420009613037,27.859600143432615,27.715200157165526,27.58120018005371,27.477200164794922,27.297000122070312,27.107600135803224,26.94620014190674,26.806400146484375,26.669400138854982,26.507600135803223,26.36220012664795,26.20260009765625,26.04940010070801,25.914000091552733,25.746800079345704,25.59760009765625,25.463200073242188,25.232800064086913,24.95980007171631,24.65240009307861,24.428800086975098,24.284600067138673,24.159000053405762,24.052400054931642,23.93800006866455,23.79800006866455,23.664200057983397,23.554200057983397,23.4546000289917,23.33780002593994,23.20700004577637,23.074200057983397,22.95580005645752,22.83260005950928,22.75300006866455,22.616000061035155,22.465600051879882,22.33020004272461,22.2246000289917,22.098800010681153,21.947999992370605,21.78199996948242,21.62379997253418,21.480199966430664,21.336799964904785,21.199199981689453,21.043999977111817,20.84059997558594,20.665599975585938,20.45899995803833,20.249999942779542,20.020399932861327,19.812399921417235,19.624799919128417,19.481799926757812,19.34339994430542,19.14159996032715,18.96119997024536,18.79959997177124,18.644399967193603,18.470799980163573,18.29579999923706,18.111999988555908,17.940200004577637,17.762000007629396,17.573799991607665,17.373999996185304,17.25,17.116400012969972,16.996200008392336,16.860800018310545,16.728600025177002,16.5996000289917,16.439800014495848,16.28319999694824,16.167399997711183,16.03560001373291,15.908400020599366,15.764800033569337,15.573400020599365,15.377400016784668,15.172399997711182,14.96359998703003,14.747800006866456,14.499200019836426,14.266000022888184,14.050200004577636,13.834600009918212,13.613800010681153,13.410200023651123,13.236000022888184,13.082800045013428,12.92520004272461,12.752800045013428,12.59600004196167,12.426800022125244,12.266800022125244,12.125000019073486,11.982000026702881,11.853600025177002,11.714800033569336,11.642200031280517,11.550000019073487,11.417800025939941,11.261000022888183,11.104600019454956,10.962200021743774,10.846000013351441,10.73660002708435,10.634800024032593,10.53580002784729,10.43500002861023,10.321400022506714,10.185600023269654,10.040800018310547,9.898600025177002,9.773600034713745,9.64880002975464,9.533600034713745,9.392800035476684,9.272400035858155,9.161400032043456,9.077000026702882,9.0246000289917,8.97600004196167,8.920000038146974,8.872000026702882,8.818800010681151,8.760000019073486,8.7546000289917,8.77200002670288,8.798400020599365,8.814200019836425,8.832000007629395,8.873400001525878,8.89359998703003,8.906199989318848,8.917199993133545,8.931799983978271,8.943399982452393,8.935799980163575,8.92379997253418,8.916199970245362,8.918199977874757,8.922199974060058,8.919199981689452,8.904399986267089,8.88099998474121,8.870599975585938,8.857599983215332,8.848999977111816,8.792199983596802,8.741399984359742,8.718999977111816,8.709599981307983,8.718399982452393,8.706599979400634,8.662599983215332,8.600399980545044,8.52379997253418,8.444199962615967,8.372599964141846,8.338399963378906],\"type\":\"scatter\"},{\"name\":\"100 MA\",\"x\":[\"2021-05-17T00:00:00\",\"2021-05-18T00:00:00\",\"2021-05-19T00:00:00\",\"2021-05-20T00:00:00\",\"2021-05-21T00:00:00\",\"2021-05-24T00:00:00\",\"2021-05-25T00:00:00\",\"2021-05-26T00:00:00\",\"2021-05-27T00:00:00\",\"2021-05-28T00:00:00\",\"2021-06-01T00:00:00\",\"2021-06-02T00:00:00\",\"2021-06-03T00:00:00\",\"2021-06-04T00:00:00\",\"2021-06-07T00:00:00\",\"2021-06-08T00:00:00\",\"2021-06-09T00:00:00\",\"2021-06-10T00:00:00\",\"2021-06-11T00:00:00\",\"2021-06-14T00:00:00\",\"2021-06-15T00:00:00\",\"2021-06-16T00:00:00\",\"2021-06-17T00:00:00\",\"2021-06-18T00:00:00\",\"2021-06-21T00:00:00\",\"2021-06-22T00:00:00\",\"2021-06-23T00:00:00\",\"2021-06-24T00:00:00\",\"2021-06-25T00:00:00\",\"2021-06-28T00:00:00\",\"2021-06-29T00:00:00\",\"2021-06-30T00:00:00\",\"2021-07-01T00:00:00\",\"2021-07-02T00:00:00\",\"2021-07-06T00:00:00\",\"2021-07-07T00:00:00\",\"2021-07-08T00:00:00\",\"2021-07-09T00:00:00\",\"2021-07-12T00:00:00\",\"2021-07-13T00:00:00\",\"2021-07-14T00:00:00\",\"2021-07-15T00:00:00\",\"2021-07-16T00:00:00\",\"2021-07-19T00:00:00\",\"2021-07-20T00:00:00\",\"2021-07-21T00:00:00\",\"2021-07-22T00:00:00\",\"2021-07-23T00:00:00\",\"2021-07-26T00:00:00\",\"2021-07-27T00:00:00\",\"2021-07-28T00:00:00\",\"2021-07-29T00:00:00\",\"2021-07-30T00:00:00\",\"2021-08-02T00:00:00\",\"2021-08-03T00:00:00\",\"2021-08-04T00:00:00\",\"2021-08-05T00:00:00\",\"2021-08-06T00:00:00\",\"2021-08-09T00:00:00\",\"2021-08-10T00:00:00\",\"2021-08-11T00:00:00\",\"2021-08-12T00:00:00\",\"2021-08-13T00:00:00\",\"2021-08-16T00:00:00\",\"2021-08-17T00:00:00\",\"2021-08-18T00:00:00\",\"2021-08-19T00:00:00\",\"2021-08-20T00:00:00\",\"2021-08-23T00:00:00\",\"2021-08-24T00:00:00\",\"2021-08-25T00:00:00\",\"2021-08-26T00:00:00\",\"2021-08-27T00:00:00\",\"2021-08-30T00:00:00\",\"2021-08-31T00:00:00\",\"2021-09-01T00:00:00\",\"2021-09-02T00:00:00\",\"2021-09-03T00:00:00\",\"2021-09-07T00:00:00\",\"2021-09-08T00:00:00\",\"2021-09-09T00:00:00\",\"2021-09-10T00:00:00\",\"2021-09-13T00:00:00\",\"2021-09-14T00:00:00\",\"2021-09-15T00:00:00\",\"2021-09-16T00:00:00\",\"2021-09-17T00:00:00\",\"2021-09-20T00:00:00\",\"2021-09-21T00:00:00\",\"2021-09-22T00:00:00\",\"2021-09-23T00:00:00\",\"2021-09-24T00:00:00\",\"2021-09-27T00:00:00\",\"2021-09-28T00:00:00\",\"2021-09-29T00:00:00\",\"2021-09-30T00:00:00\",\"2021-10-01T00:00:00\",\"2021-10-04T00:00:00\",\"2021-10-05T00:00:00\",\"2021-10-06T00:00:00\",\"2021-10-07T00:00:00\",\"2021-10-08T00:00:00\",\"2021-10-11T00:00:00\",\"2021-10-12T00:00:00\",\"2021-10-13T00:00:00\",\"2021-10-14T00:00:00\",\"2021-10-15T00:00:00\",\"2021-10-18T00:00:00\",\"2021-10-19T00:00:00\",\"2021-10-20T00:00:00\",\"2021-10-21T00:00:00\",\"2021-10-22T00:00:00\",\"2021-10-25T00:00:00\",\"2021-10-26T00:00:00\",\"2021-10-27T00:00:00\",\"2021-10-28T00:00:00\",\"2021-10-29T00:00:00\",\"2021-11-01T00:00:00\",\"2021-11-02T00:00:00\",\"2021-11-03T00:00:00\",\"2021-11-04T00:00:00\",\"2021-11-05T00:00:00\",\"2021-11-08T00:00:00\",\"2021-11-09T00:00:00\",\"2021-11-10T00:00:00\",\"2021-11-11T00:00:00\",\"2021-11-12T00:00:00\",\"2021-11-15T00:00:00\",\"2021-11-16T00:00:00\",\"2021-11-17T00:00:00\",\"2021-11-18T00:00:00\",\"2021-11-19T00:00:00\",\"2021-11-22T00:00:00\",\"2021-11-23T00:00:00\",\"2021-11-24T00:00:00\",\"2021-11-26T00:00:00\",\"2021-11-29T00:00:00\",\"2021-11-30T00:00:00\",\"2021-12-01T00:00:00\",\"2021-12-02T00:00:00\",\"2021-12-03T00:00:00\",\"2021-12-06T00:00:00\",\"2021-12-07T00:00:00\",\"2021-12-08T00:00:00\",\"2021-12-09T00:00:00\",\"2021-12-10T00:00:00\",\"2021-12-13T00:00:00\",\"2021-12-14T00:00:00\",\"2021-12-15T00:00:00\",\"2021-12-16T00:00:00\",\"2021-12-17T00:00:00\",\"2021-12-20T00:00:00\",\"2021-12-21T00:00:00\",\"2021-12-22T00:00:00\",\"2021-12-23T00:00:00\",\"2021-12-27T00:00:00\",\"2021-12-28T00:00:00\",\"2021-12-29T00:00:00\",\"2021-12-30T00:00:00\",\"2021-12-31T00:00:00\",\"2022-01-03T00:00:00\",\"2022-01-04T00:00:00\",\"2022-01-05T00:00:00\",\"2022-01-06T00:00:00\",\"2022-01-07T00:00:00\",\"2022-01-10T00:00:00\",\"2022-01-11T00:00:00\",\"2022-01-12T00:00:00\",\"2022-01-13T00:00:00\",\"2022-01-14T00:00:00\",\"2022-01-18T00:00:00\",\"2022-01-19T00:00:00\",\"2022-01-20T00:00:00\",\"2022-01-21T00:00:00\",\"2022-01-24T00:00:00\",\"2022-01-25T00:00:00\",\"2022-01-26T00:00:00\",\"2022-01-27T00:00:00\",\"2022-01-28T00:00:00\",\"2022-01-31T00:00:00\",\"2022-02-01T00:00:00\",\"2022-02-02T00:00:00\",\"2022-02-03T00:00:00\",\"2022-02-04T00:00:00\",\"2022-02-07T00:00:00\",\"2022-02-08T00:00:00\",\"2022-02-09T00:00:00\",\"2022-02-10T00:00:00\",\"2022-02-11T00:00:00\",\"2022-02-14T00:00:00\",\"2022-02-15T00:00:00\",\"2022-02-16T00:00:00\",\"2022-02-17T00:00:00\",\"2022-02-18T00:00:00\",\"2022-02-22T00:00:00\",\"2022-02-23T00:00:00\",\"2022-02-24T00:00:00\",\"2022-02-25T00:00:00\",\"2022-02-28T00:00:00\",\"2022-03-01T00:00:00\",\"2022-03-02T00:00:00\",\"2022-03-03T00:00:00\",\"2022-03-04T00:00:00\",\"2022-03-07T00:00:00\",\"2022-03-08T00:00:00\",\"2022-03-09T00:00:00\",\"2022-03-10T00:00:00\",\"2022-03-11T00:00:00\",\"2022-03-14T00:00:00\",\"2022-03-15T00:00:00\",\"2022-03-16T00:00:00\",\"2022-03-17T00:00:00\",\"2022-03-18T00:00:00\",\"2022-03-21T00:00:00\",\"2022-03-22T00:00:00\",\"2022-03-23T00:00:00\",\"2022-03-24T00:00:00\",\"2022-03-25T00:00:00\",\"2022-03-28T00:00:00\",\"2022-03-29T00:00:00\",\"2022-03-30T00:00:00\",\"2022-03-31T00:00:00\",\"2022-04-01T00:00:00\",\"2022-04-04T00:00:00\",\"2022-04-05T00:00:00\",\"2022-04-06T00:00:00\",\"2022-04-07T00:00:00\",\"2022-04-08T00:00:00\",\"2022-04-11T00:00:00\",\"2022-04-12T00:00:00\",\"2022-04-13T00:00:00\",\"2022-04-14T00:00:00\",\"2022-04-18T00:00:00\",\"2022-04-19T00:00:00\",\"2022-04-20T00:00:00\",\"2022-04-21T00:00:00\",\"2022-04-22T00:00:00\",\"2022-04-25T00:00:00\",\"2022-04-26T00:00:00\",\"2022-04-27T00:00:00\",\"2022-04-28T00:00:00\",\"2022-04-29T00:00:00\",\"2022-05-02T00:00:00\",\"2022-05-03T00:00:00\",\"2022-05-04T00:00:00\",\"2022-05-05T00:00:00\",\"2022-05-06T00:00:00\",\"2022-05-09T00:00:00\",\"2022-05-10T00:00:00\",\"2022-05-11T00:00:00\",\"2022-05-12T00:00:00\",\"2022-05-13T00:00:00\"],\"y\":[null,null,null,null,null,null,null,null,null,null,null,null,null,null,null,null,null,null,null,null,null,null,null,null,null,null,null,null,null,null,null,null,null,null,null,null,null,null,null,null,null,null,null,null,null,null,null,null,null,null,null,null,null,null,null,null,null,null,null,null,null,null,null,null,null,null,null,null,null,null,null,null,null,null,null,null,null,null,null,null,null,null,null,null,null,null,null,null,null,null,null,null,null,null,null,null,null,null,null,30.671199893951417,30.736899890899657,30.795599899291993,30.8550998878479,30.892099895477294,30.92079990386963,30.89249990463257,30.83669990539551,30.763899898529054,30.651399898529053,30.54059989929199,30.453299903869627,30.338599910736082,30.22889991760254,30.111199932098387,29.94669994354248,29.757399921417235,29.593299922943114,29.434699916839598,29.279699935913087,29.114199924468995,28.96169994354248,28.803299961090087,28.62899995803833,28.469999961853027,28.31239995956421,28.11089998245239,27.894899978637696,27.682299995422362,27.306399993896484,26.937099990844725,26.640699977874757,26.353199977874755,26.092099990844726,25.811000003814698,25.51819999694824,25.236300010681152,24.871900024414064,24.539900016784667,24.28160002708435,24.05480004310608,23.86780004501343,23.696800050735472,23.55100004196167,23.389400024414062,23.22550004005432,23.043900051116943,22.88380005836487,22.73450005531311,22.57600005149841,22.416500053405763,22.249200048446657,22.080700044631957,21.927100048065185,21.75440004348755,21.58570004463196,21.418600034713744,21.241400032043458,21.03810004234314,20.824300050735474,20.64480005264282,20.506600046157835,20.379300041198732,20.246100034713745,20.110600032806396,19.982700033187868,19.849900035858155,19.731300039291384,19.609700031280518,19.455600023269653,19.29220003128052,19.12330002784729,18.959700021743775,18.790200033187865,18.62610004425049,18.44100004196167,18.25790002822876,18.082400026321412,17.919200019836424,17.754500017166137,17.592000007629395,17.432400007247924,17.274500007629396,17.116500005722045,16.96640000343323,16.813000001907348,16.65539999961853,16.48279999732971,16.32380000114441,16.156299991607668,15.98239998817444,15.831299982070924,15.68119997024536,15.52129997253418,15.371399974822998,15.223999981880189,15.051899991035462,14.903599991798401,14.768099999427795,14.639599995613098,14.503300004005432,14.365400013923646,14.216700005531312,14.062900013923645,13.90140001296997,13.736200008392334,13.573800015449525,13.44940001487732,13.325000023841858,13.194500021934509,13.06660002708435,12.94500002861023,12.83830002784729,12.732200021743774,12.629600019454957,12.543700017929076,12.453800020217896,12.363600015640259,12.26240002632141,12.164000024795532,12.074700021743775,11.985400009155274,11.888900003433228,11.789900007247924,11.686300010681153,11.579800004959106,11.478199996948241,11.37590000152588,11.272799997329711,11.176800003051758,11.085900001525879,11.003300008773804,10.920700006484985,10.835500011444092,10.759100008010865,10.673000001907349,10.585600004196166,10.503000001907349,10.426300001144408,10.355600004196168,10.281900005340576,10.21720000743866,10.145700001716614,10.068400001525879,9.985300002098084,9.911500000953675,9.834400000572204,9.754299998283386,9.668500003814698,9.579299998283386,9.489999995231628,9.403799996376037,9.32989999294281],\"type\":\"scatter\"}],                        {\"template\":{\"data\":{\"barpolar\":[{\"marker\":{\"line\":{\"color\":\"rgb(17,17,17)\",\"width\":0.5},\"pattern\":{\"fillmode\":\"overlay\",\"size\":10,\"solidity\":0.2}},\"type\":\"barpolar\"}],\"bar\":[{\"error_x\":{\"color\":\"#f2f5fa\"},\"error_y\":{\"color\":\"#f2f5fa\"},\"marker\":{\"line\":{\"color\":\"rgb(17,17,17)\",\"width\":0.5},\"pattern\":{\"fillmode\":\"overlay\",\"size\":10,\"solidity\":0.2}},\"type\":\"bar\"}],\"carpet\":[{\"aaxis\":{\"endlinecolor\":\"#A2B1C6\",\"gridcolor\":\"#506784\",\"linecolor\":\"#506784\",\"minorgridcolor\":\"#506784\",\"startlinecolor\":\"#A2B1C6\"},\"baxis\":{\"endlinecolor\":\"#A2B1C6\",\"gridcolor\":\"#506784\",\"linecolor\":\"#506784\",\"minorgridcolor\":\"#506784\",\"startlinecolor\":\"#A2B1C6\"},\"type\":\"carpet\"}],\"choropleth\":[{\"colorbar\":{\"outlinewidth\":0,\"ticks\":\"\"},\"type\":\"choropleth\"}],\"contourcarpet\":[{\"colorbar\":{\"outlinewidth\":0,\"ticks\":\"\"},\"type\":\"contourcarpet\"}],\"contour\":[{\"colorbar\":{\"outlinewidth\":0,\"ticks\":\"\"},\"colorscale\":[[0.0,\"#0d0887\"],[0.1111111111111111,\"#46039f\"],[0.2222222222222222,\"#7201a8\"],[0.3333333333333333,\"#9c179e\"],[0.4444444444444444,\"#bd3786\"],[0.5555555555555556,\"#d8576b\"],[0.6666666666666666,\"#ed7953\"],[0.7777777777777778,\"#fb9f3a\"],[0.8888888888888888,\"#fdca26\"],[1.0,\"#f0f921\"]],\"type\":\"contour\"}],\"heatmapgl\":[{\"colorbar\":{\"outlinewidth\":0,\"ticks\":\"\"},\"colorscale\":[[0.0,\"#0d0887\"],[0.1111111111111111,\"#46039f\"],[0.2222222222222222,\"#7201a8\"],[0.3333333333333333,\"#9c179e\"],[0.4444444444444444,\"#bd3786\"],[0.5555555555555556,\"#d8576b\"],[0.6666666666666666,\"#ed7953\"],[0.7777777777777778,\"#fb9f3a\"],[0.8888888888888888,\"#fdca26\"],[1.0,\"#f0f921\"]],\"type\":\"heatmapgl\"}],\"heatmap\":[{\"colorbar\":{\"outlinewidth\":0,\"ticks\":\"\"},\"colorscale\":[[0.0,\"#0d0887\"],[0.1111111111111111,\"#46039f\"],[0.2222222222222222,\"#7201a8\"],[0.3333333333333333,\"#9c179e\"],[0.4444444444444444,\"#bd3786\"],[0.5555555555555556,\"#d8576b\"],[0.6666666666666666,\"#ed7953\"],[0.7777777777777778,\"#fb9f3a\"],[0.8888888888888888,\"#fdca26\"],[1.0,\"#f0f921\"]],\"type\":\"heatmap\"}],\"histogram2dcontour\":[{\"colorbar\":{\"outlinewidth\":0,\"ticks\":\"\"},\"colorscale\":[[0.0,\"#0d0887\"],[0.1111111111111111,\"#46039f\"],[0.2222222222222222,\"#7201a8\"],[0.3333333333333333,\"#9c179e\"],[0.4444444444444444,\"#bd3786\"],[0.5555555555555556,\"#d8576b\"],[0.6666666666666666,\"#ed7953\"],[0.7777777777777778,\"#fb9f3a\"],[0.8888888888888888,\"#fdca26\"],[1.0,\"#f0f921\"]],\"type\":\"histogram2dcontour\"}],\"histogram2d\":[{\"colorbar\":{\"outlinewidth\":0,\"ticks\":\"\"},\"colorscale\":[[0.0,\"#0d0887\"],[0.1111111111111111,\"#46039f\"],[0.2222222222222222,\"#7201a8\"],[0.3333333333333333,\"#9c179e\"],[0.4444444444444444,\"#bd3786\"],[0.5555555555555556,\"#d8576b\"],[0.6666666666666666,\"#ed7953\"],[0.7777777777777778,\"#fb9f3a\"],[0.8888888888888888,\"#fdca26\"],[1.0,\"#f0f921\"]],\"type\":\"histogram2d\"}],\"histogram\":[{\"marker\":{\"pattern\":{\"fillmode\":\"overlay\",\"size\":10,\"solidity\":0.2}},\"type\":\"histogram\"}],\"mesh3d\":[{\"colorbar\":{\"outlinewidth\":0,\"ticks\":\"\"},\"type\":\"mesh3d\"}],\"parcoords\":[{\"line\":{\"colorbar\":{\"outlinewidth\":0,\"ticks\":\"\"}},\"type\":\"parcoords\"}],\"pie\":[{\"automargin\":true,\"type\":\"pie\"}],\"scatter3d\":[{\"line\":{\"colorbar\":{\"outlinewidth\":0,\"ticks\":\"\"}},\"marker\":{\"colorbar\":{\"outlinewidth\":0,\"ticks\":\"\"}},\"type\":\"scatter3d\"}],\"scattercarpet\":[{\"marker\":{\"colorbar\":{\"outlinewidth\":0,\"ticks\":\"\"}},\"type\":\"scattercarpet\"}],\"scattergeo\":[{\"marker\":{\"colorbar\":{\"outlinewidth\":0,\"ticks\":\"\"}},\"type\":\"scattergeo\"}],\"scattergl\":[{\"marker\":{\"line\":{\"color\":\"#283442\"}},\"type\":\"scattergl\"}],\"scattermapbox\":[{\"marker\":{\"colorbar\":{\"outlinewidth\":0,\"ticks\":\"\"}},\"type\":\"scattermapbox\"}],\"scatterpolargl\":[{\"marker\":{\"colorbar\":{\"outlinewidth\":0,\"ticks\":\"\"}},\"type\":\"scatterpolargl\"}],\"scatterpolar\":[{\"marker\":{\"colorbar\":{\"outlinewidth\":0,\"ticks\":\"\"}},\"type\":\"scatterpolar\"}],\"scatter\":[{\"marker\":{\"line\":{\"color\":\"#283442\"}},\"type\":\"scatter\"}],\"scatterternary\":[{\"marker\":{\"colorbar\":{\"outlinewidth\":0,\"ticks\":\"\"}},\"type\":\"scatterternary\"}],\"surface\":[{\"colorbar\":{\"outlinewidth\":0,\"ticks\":\"\"},\"colorscale\":[[0.0,\"#0d0887\"],[0.1111111111111111,\"#46039f\"],[0.2222222222222222,\"#7201a8\"],[0.3333333333333333,\"#9c179e\"],[0.4444444444444444,\"#bd3786\"],[0.5555555555555556,\"#d8576b\"],[0.6666666666666666,\"#ed7953\"],[0.7777777777777778,\"#fb9f3a\"],[0.8888888888888888,\"#fdca26\"],[1.0,\"#f0f921\"]],\"type\":\"surface\"}],\"table\":[{\"cells\":{\"fill\":{\"color\":\"#506784\"},\"line\":{\"color\":\"rgb(17,17,17)\"}},\"header\":{\"fill\":{\"color\":\"#2a3f5f\"},\"line\":{\"color\":\"rgb(17,17,17)\"}},\"type\":\"table\"}]},\"layout\":{\"annotationdefaults\":{\"arrowcolor\":\"#f2f5fa\",\"arrowhead\":0,\"arrowwidth\":1},\"autotypenumbers\":\"strict\",\"coloraxis\":{\"colorbar\":{\"outlinewidth\":0,\"ticks\":\"\"}},\"colorscale\":{\"diverging\":[[0,\"#8e0152\"],[0.1,\"#c51b7d\"],[0.2,\"#de77ae\"],[0.3,\"#f1b6da\"],[0.4,\"#fde0ef\"],[0.5,\"#f7f7f7\"],[0.6,\"#e6f5d0\"],[0.7,\"#b8e186\"],[0.8,\"#7fbc41\"],[0.9,\"#4d9221\"],[1,\"#276419\"]],\"sequential\":[[0.0,\"#0d0887\"],[0.1111111111111111,\"#46039f\"],[0.2222222222222222,\"#7201a8\"],[0.3333333333333333,\"#9c179e\"],[0.4444444444444444,\"#bd3786\"],[0.5555555555555556,\"#d8576b\"],[0.6666666666666666,\"#ed7953\"],[0.7777777777777778,\"#fb9f3a\"],[0.8888888888888888,\"#fdca26\"],[1.0,\"#f0f921\"]],\"sequentialminus\":[[0.0,\"#0d0887\"],[0.1111111111111111,\"#46039f\"],[0.2222222222222222,\"#7201a8\"],[0.3333333333333333,\"#9c179e\"],[0.4444444444444444,\"#bd3786\"],[0.5555555555555556,\"#d8576b\"],[0.6666666666666666,\"#ed7953\"],[0.7777777777777778,\"#fb9f3a\"],[0.8888888888888888,\"#fdca26\"],[1.0,\"#f0f921\"]]},\"colorway\":[\"#636efa\",\"#EF553B\",\"#00cc96\",\"#ab63fa\",\"#FFA15A\",\"#19d3f3\",\"#FF6692\",\"#B6E880\",\"#FF97FF\",\"#FECB52\"],\"font\":{\"color\":\"#f2f5fa\"},\"geo\":{\"bgcolor\":\"rgb(17,17,17)\",\"lakecolor\":\"rgb(17,17,17)\",\"landcolor\":\"rgb(17,17,17)\",\"showlakes\":true,\"showland\":true,\"subunitcolor\":\"#506784\"},\"hoverlabel\":{\"align\":\"left\"},\"hovermode\":\"closest\",\"mapbox\":{\"style\":\"dark\"},\"paper_bgcolor\":\"rgb(17,17,17)\",\"plot_bgcolor\":\"rgb(17,17,17)\",\"polar\":{\"angularaxis\":{\"gridcolor\":\"#506784\",\"linecolor\":\"#506784\",\"ticks\":\"\"},\"bgcolor\":\"rgb(17,17,17)\",\"radialaxis\":{\"gridcolor\":\"#506784\",\"linecolor\":\"#506784\",\"ticks\":\"\"}},\"scene\":{\"xaxis\":{\"backgroundcolor\":\"rgb(17,17,17)\",\"gridcolor\":\"#506784\",\"gridwidth\":2,\"linecolor\":\"#506784\",\"showbackground\":true,\"ticks\":\"\",\"zerolinecolor\":\"#C8D4E3\"},\"yaxis\":{\"backgroundcolor\":\"rgb(17,17,17)\",\"gridcolor\":\"#506784\",\"gridwidth\":2,\"linecolor\":\"#506784\",\"showbackground\":true,\"ticks\":\"\",\"zerolinecolor\":\"#C8D4E3\"},\"zaxis\":{\"backgroundcolor\":\"rgb(17,17,17)\",\"gridcolor\":\"#506784\",\"gridwidth\":2,\"linecolor\":\"#506784\",\"showbackground\":true,\"ticks\":\"\",\"zerolinecolor\":\"#C8D4E3\"}},\"shapedefaults\":{\"line\":{\"color\":\"#f2f5fa\"}},\"sliderdefaults\":{\"bgcolor\":\"#C8D4E3\",\"bordercolor\":\"rgb(17,17,17)\",\"borderwidth\":1,\"tickwidth\":0},\"ternary\":{\"aaxis\":{\"gridcolor\":\"#506784\",\"linecolor\":\"#506784\",\"ticks\":\"\"},\"baxis\":{\"gridcolor\":\"#506784\",\"linecolor\":\"#506784\",\"ticks\":\"\"},\"bgcolor\":\"rgb(17,17,17)\",\"caxis\":{\"gridcolor\":\"#506784\",\"linecolor\":\"#506784\",\"ticks\":\"\"}},\"title\":{\"x\":0.05},\"updatemenudefaults\":{\"bgcolor\":\"#506784\",\"borderwidth\":0},\"xaxis\":{\"automargin\":true,\"gridcolor\":\"#283442\",\"linecolor\":\"#506784\",\"ticks\":\"\",\"title\":{\"standoff\":15},\"zerolinecolor\":\"#283442\",\"zerolinewidth\":2},\"yaxis\":{\"automargin\":true,\"gridcolor\":\"#283442\",\"linecolor\":\"#506784\",\"ticks\":\"\",\"title\":{\"standoff\":15},\"zerolinecolor\":\"#283442\",\"zerolinewidth\":2}}},\"title\":{\"text\":\"SPCE Stock\"}},                        {\"responsive\": true}                    ).then(function(){\n",
       "                            \n",
       "var gd = document.getElementById('d812ad47-e862-4e72-bbc0-7a8d5ab70c77');\n",
       "var x = new MutationObserver(function (mutations, observer) {{\n",
       "        var display = window.getComputedStyle(gd).display;\n",
       "        if (!display || display === 'none') {{\n",
       "            console.log([gd, 'removed!']);\n",
       "            Plotly.purge(gd);\n",
       "            observer.disconnect();\n",
       "        }}\n",
       "}});\n",
       "\n",
       "// Listen for the removal of the full notebook cells\n",
       "var notebookContainer = gd.closest('#notebook-container');\n",
       "if (notebookContainer) {{\n",
       "    x.observe(notebookContainer, {childList: true});\n",
       "}}\n",
       "\n",
       "// Listen for the clearing of the current output cell\n",
       "var outputEl = gd.closest('.output');\n",
       "if (outputEl) {{\n",
       "    x.observe(outputEl, {childList: true});\n",
       "}}\n",
       "\n",
       "                        })                };                });            </script>        </div>"
      ]
     },
     "metadata": {},
     "output_type": "display_data"
    }
   ],
   "source": [
    "candlestick_plot('SPCE', show_mas = True)"
   ]
  },
  {
   "cell_type": "code",
   "execution_count": 343,
   "id": "17862dc0",
   "metadata": {},
   "outputs": [
    {
     "data": {
      "application/vnd.plotly.v1+json": {
       "config": {
        "plotlyServerURL": "https://plot.ly"
       },
       "data": [
        {
         "close": [
          16.64,
          17.25,
          17.27,
          19.81,
          21.07,
          26.89,
          25.59,
          27,
          31.09,
          31.23,
          28.88,
          31.13,
          31.01,
          31.38,
          34.69,
          37.49,
          35.16,
          35.41,
          35.1,
          36.49,
          34.87,
          35.37,
          37.32,
          36.8,
          36.02,
          39.42,
          40.82,
          40.26,
          55.91,
          54.84,
          47.02,
          46,
          43.19,
          44.94,
          46.31,
          44.92,
          52.69,
          49.2,
          40.69,
          37.76,
          33.07,
          31.74,
          30.2,
          32.4,
          32.03,
          33.37,
          30.82,
          29.58,
          30.62,
          30.25,
          31.19,
          30.78,
          29.99,
          31.87,
          31.4,
          30.78,
          31.53,
          33.37,
          35.21,
          31.33,
          27.36,
          25.94,
          25.37,
          25.33,
          25.24,
          25.25,
          24.25,
          24.53,
          25.44,
          26.48,
          26.26,
          25.45,
          26.05,
          24.88,
          27.11,
          26.79,
          25.99,
          24.28,
          24.61,
          25.45,
          25.68,
          25.16,
          24.26,
          24,
          23.91,
          24.49,
          26.42,
          24.75,
          25.19,
          25.53,
          25.85,
          25.04,
          25,
          23.39,
          22.56,
          25.3,
          23.83,
          22.73,
          22.53,
          22.98,
          23.21,
          23.12,
          23.22,
          23.51,
          23.94,
          24.06,
          20.01,
          19.72,
          19.84,
          20.15,
          20.15,
          19.66,
          20.04,
          19.61,
          18.24,
          18.56,
          18.75,
          19.55,
          19.6,
          19.94,
          19.62,
          19.53,
          19.89,
          20.9,
          20.26,
          19.27,
          19.22,
          19,
          18.32,
          17.91,
          17.38,
          17.25,
          17.08,
          16.83,
          17.03,
          16.73,
          16.25,
          16,
          14.86,
          15.08,
          14.37,
          14.64,
          15.62,
          16.24,
          15.64,
          15.21,
          14.81,
          14.65,
          14.77,
          14.3,
          14.46,
          13.93,
          14.63,
          14.6,
          14.53,
          14.07,
          13.81,
          13.04,
          13.83,
          13.38,
          13.54,
          13.21,
          12.05,
          11.78,
          12.45,
          11.97,
          12.39,
          12.37,
          10.03,
          10.14,
          9.37,
          9.09,
          9.1,
          8.47,
          8.6,
          8.48,
          8.44,
          7.96,
          8.14,
          9.2,
          9.72,
          9.37,
          8.46,
          8.99,
          8.57,
          8.73,
          9.16,
          8.85,
          8.44,
          8.14,
          10.74,
          10.03,
          9.01,
          8.4,
          7.82,
          8.09,
          9,
          9.18,
          9.68,
          9.35,
          9.42,
          8.25,
          7.84,
          7.36,
          7.42,
          7.82,
          7.57,
          7.28,
          6.79,
          7.36,
          7.99,
          8.99,
          9.43,
          9.35,
          9.65,
          9.57,
          9.73,
          9.43,
          9.76,
          11.01,
          10.69,
          9.88,
          9.99,
          10.54,
          9.61,
          9.11,
          8.99,
          8.69,
          8.72,
          8.82,
          9.12,
          8.99,
          8.56,
          9.19,
          8.42,
          7.99,
          7.99,
          8.33,
          7.79,
          7.71,
          7.9,
          7.49,
          7.89,
          7.93,
          8.26,
          7.5,
          6.8,
          6.07,
          5.85,
          5.37,
          5.84,
          6.54
         ],
         "high": [
          16.93,
          17.91,
          17.27,
          21.63,
          21.75,
          27.72,
          26.34,
          27.75,
          32.07,
          35.04,
          30.61,
          32.09,
          33.7,
          32.16,
          34.79,
          38.22,
          38.65,
          37.88,
          36.09,
          37.69,
          36.78,
          36.15,
          37.52,
          37.54,
          36.7,
          39.8,
          41.65,
          41.58,
          57.29,
          57.51,
          53.6,
          47.98,
          46.43,
          54.4,
          49.39,
          46.76,
          52.76,
          52.63,
          50.75,
          41.56,
          37.97,
          34.44,
          33.3,
          32.97,
          32.37,
          33.9,
          33.69,
          31.17,
          31.15,
          30.98,
          31.75,
          32.01,
          31.24,
          32.8,
          31.75,
          32.62,
          32.16,
          35.62,
          35.54,
          34.8,
          30,
          27.42,
          26.3,
          26.58,
          25.67,
          25.98,
          25.68,
          24.77,
          25.82,
          26.65,
          27.04,
          26.71,
          26.38,
          26.19,
          27.86,
          27.33,
          28.77,
          25.54,
          24.95,
          26,
          25.78,
          26.83,
          24.87,
          25.15,
          24.22,
          24.8,
          26.44,
          26.03,
          25.57,
          25.83,
          25.97,
          25.89,
          25.59,
          24.94,
          23.73,
          26.5,
          25.52,
          23.72,
          22.88,
          23.31,
          23.66,
          23.74,
          23.78,
          23.95,
          24.13,
          24.32,
          21.32,
          19.92,
          20.08,
          20.54,
          20.76,
          20.01,
          20.53,
          20.26,
          18.91,
          18.73,
          19.08,
          19.68,
          19.6,
          20.04,
          20.2,
          19.91,
          20.02,
          21.68,
          21.49,
          19.54,
          19.53,
          19.5,
          18.81,
          18.55,
          18,
          17.71,
          17.65,
          17.34,
          17.22,
          17.15,
          16.85,
          16.44,
          16.42,
          15.45,
          15.08,
          14.9,
          15.88,
          16.54,
          16.56,
          16.05,
          15.55,
          15.08,
          14.94,
          15.2,
          14.74,
          14.25,
          14.67,
          14.75,
          14.65,
          14.57,
          14.39,
          13.77,
          14.22,
          14.2,
          13.73,
          13.65,
          13.33,
          12.35,
          12.81,
          12.46,
          12.55,
          12.7,
          10.99,
          10.16,
          10.06,
          9.72,
          9.81,
          9.19,
          8.61,
          8.7,
          9.15,
          8.76,
          8.15,
          9.23,
          9.84,
          9.8,
          9.14,
          9.1,
          9.04,
          8.8,
          9.24,
          9.45,
          9.15,
          8.6,
          10.97,
          10.5,
          9.9,
          8.91,
          8.28,
          9.1,
          9.03,
          9.2,
          9.82,
          10.03,
          9.58,
          9.35,
          8.32,
          8.17,
          7.83,
          7.96,
          7.72,
          7.74,
          7.3,
          7.37,
          8,
          8.99,
          9.55,
          9.6,
          9.78,
          9.87,
          9.8,
          9.74,
          9.91,
          11.25,
          11.14,
          10.65,
          10.4,
          10.69,
          10.69,
          9.4,
          9.32,
          8.99,
          9.1,
          9.24,
          9.19,
          9.17,
          8.95,
          9.22,
          9.17,
          8.73,
          8.32,
          8.41,
          8.34,
          8.04,
          8,
          8.18,
          7.89,
          8.11,
          8.32,
          8.14,
          7.09,
          6.6,
          6.42,
          6.07,
          6.2,
          6.69
         ],
         "low": [
          15.79,
          16.33,
          15.86,
          18.7,
          19.68,
          23.52,
          24.7,
          25.6,
          26.6,
          30.73,
          28.12,
          28.41,
          30.7,
          29.93,
          30.96,
          35.05,
          34.87,
          34.92,
          33.85,
          34.7,
          34.64,
          34.21,
          35.1,
          35.95,
          34.83,
          35.62,
          38.75,
          39.26,
          45.87,
          52.48,
          45.97,
          43.08,
          43.19,
          44.04,
          44.21,
          43.02,
          43.05,
          48.46,
          39.81,
          37.51,
          32.81,
          31.32,
          30.07,
          28.63,
          29.54,
          31.13,
          30.63,
          28.86,
          29.19,
          28.49,
          30.15,
          30.47,
          29.58,
          29.45,
          29.84,
          30.51,
          30.6,
          31.43,
          32.84,
          31,
          26.5,
          25.51,
          25.05,
          25.22,
          24.55,
          24.62,
          24.11,
          23.99,
          24.53,
          25.43,
          25.75,
          25.2,
          25.22,
          24.62,
          25.75,
          26.65,
          24.85,
          23.82,
          23.82,
          24.55,
          24.65,
          24.93,
          23.58,
          23.82,
          23.06,
          24,
          24.58,
          24.27,
          24.7,
          25.1,
          25.32,
          24.81,
          24.43,
          22.87,
          22.53,
          23.91,
          23.49,
          22.54,
          21.96,
          22.31,
          22.84,
          22.88,
          23.02,
          23.09,
          23.53,
          23.58,
          19.87,
          19,
          19.2,
          19.66,
          19.86,
          19.23,
          19.63,
          19.49,
          17.98,
          18.3,
          18.58,
          18.69,
          18.94,
          19.45,
          19.45,
          19.1,
          19.29,
          19.33,
          19.95,
          19.08,
          19.15,
          18.97,
          18.18,
          17.73,
          17.17,
          17.06,
          16.83,
          16.36,
          16.23,
          16.34,
          15.98,
          15.33,
          14.8,
          14.44,
          14.02,
          13.69,
          14.96,
          15.3,
          15.56,
          15.04,
          14.47,
          14.36,
          13.77,
          14.08,
          13.52,
          13.6,
          13.86,
          14.25,
          14.15,
          13.91,
          13.78,
          12.86,
          12.95,
          13.35,
          12.89,
          12.9,
          11.98,
          11.3,
          11.92,
          11.69,
          11.81,
          12.06,
          10.02,
          9.75,
          9.33,
          9.02,
          9.09,
          8.46,
          7.58,
          8.17,
          8.37,
          7.85,
          7.61,
          8.24,
          9.15,
          9.16,
          8.43,
          8.55,
          8.4,
          8.3,
          8.68,
          8.79,
          8.28,
          8.05,
          8.75,
          9.69,
          8.84,
          8.24,
          7.69,
          7.97,
          7.4,
          8.52,
          9.07,
          9.23,
          9.07,
          8.2,
          7.78,
          7.36,
          7.05,
          7.58,
          7.38,
          7.26,
          6.71,
          6.7,
          7.47,
          7.89,
          8.76,
          9,
          9.25,
          9.32,
          9.29,
          9.28,
          9.26,
          9.9,
          10.46,
          9.87,
          9.74,
          10.07,
          9.58,
          8.81,
          8.56,
          8.57,
          8.29,
          8.62,
          8.7,
          8.8,
          8.34,
          8.48,
          8.4,
          7.86,
          7.8,
          7.94,
          7.79,
          7.61,
          7.28,
          7.48,
          7.38,
          7.7,
          7.51,
          7.4,
          6.35,
          6.06,
          5.6,
          5.37,
          5.14,
          6.13
         ],
         "name": "SPCE",
         "open": [
          16.11,
          16.73,
          16.44,
          20.62,
          20.37,
          25.31,
          25.37,
          25.85,
          27.4,
          31.27,
          30.05,
          28.59,
          32.21,
          30.9,
          31.45,
          35.28,
          38.19,
          35.74,
          35.08,
          35.27,
          36.45,
          34.6,
          35.12,
          37.31,
          36.27,
          35.82,
          38.96,
          41.1,
          47.81,
          57.15,
          52.3,
          44.42,
          46,
          53.23,
          45.15,
          46.43,
          43.83,
          50.94,
          49.55,
          40.34,
          37.27,
          33.03,
          32.54,
          29.45,
          31.09,
          31.26,
          33.13,
          30.5,
          29.58,
          30.37,
          30.47,
          31.16,
          30.82,
          29.82,
          31.44,
          31.32,
          31,
          31.79,
          33,
          34.75,
          29.85,
          26.79,
          25.23,
          25.59,
          25.02,
          25.19,
          25.26,
          24.12,
          24.6,
          25.58,
          26.7,
          26.1,
          25.54,
          25.97,
          25.95,
          27.06,
          26.08,
          25.29,
          24.21,
          24.65,
          25.38,
          25.71,
          24.45,
          23.99,
          24.22,
          24.28,
          24.58,
          25.43,
          25,
          25.29,
          25.75,
          25.85,
          25.11,
          24.91,
          23.54,
          24.13,
          25.07,
          23.62,
          22.79,
          22.53,
          23.03,
          23.19,
          23.07,
          23.4,
          23.65,
          24.25,
          20.47,
          19.04,
          19.5,
          19.76,
          20.21,
          20,
          19.74,
          20.04,
          18.8,
          18.36,
          18.65,
          18.86,
          19.4,
          19.51,
          20.03,
          19.66,
          19.32,
          19.89,
          20.57,
          19.31,
          19.3,
          19.2,
          18.75,
          18.32,
          17.97,
          17.4,
          17.45,
          17.04,
          16.71,
          16.42,
          16.78,
          16.09,
          16.23,
          14.93,
          15.08,
          14.19,
          15,
          15.7,
          16.04,
          15.7,
          15.17,
          14.48,
          14.57,
          14.89,
          14.23,
          13.99,
          13.93,
          14.56,
          14.6,
          14.43,
          14.01,
          13.71,
          12.96,
          13.73,
          13.48,
          13.64,
          13.02,
          12.17,
          12,
          12.43,
          12.04,
          12.47,
          10.92,
          9.89,
          10.03,
          9.55,
          9.22,
          9.05,
          8.11,
          8.45,
          8.71,
          8.49,
          7.98,
          8.25,
          9.5,
          9.65,
          9.04,
          8.63,
          8.9,
          8.5,
          8.78,
          8.9,
          8.82,
          8.38,
          8.93,
          10.3,
          9.77,
          8.89,
          8.13,
          8.05,
          7.5,
          8.61,
          9.07,
          9.62,
          9.35,
          9.29,
          8.26,
          7.89,
          7.4,
          7.6,
          7.71,
          7.68,
          7.17,
          6.81,
          7.49,
          7.91,
          8.81,
          9.27,
          9.33,
          9.54,
          9.6,
          9.73,
          9.46,
          9.9,
          10.8,
          10.56,
          9.98,
          10.14,
          10.58,
          9.39,
          9.07,
          8.91,
          8.56,
          8.88,
          8.84,
          9.08,
          8.93,
          8.52,
          9.13,
          8.58,
          8.14,
          7.99,
          8.26,
          7.76,
          7.76,
          7.9,
          7.45,
          7.81,
          7.9,
          8.14,
          7.08,
          6.59,
          6.36,
          5.77,
          5.25,
          6.17
         ],
         "showlegend": true,
         "type": "candlestick",
         "x": [
          "2021-05-17T00:00:00",
          "2021-05-18T00:00:00",
          "2021-05-19T00:00:00",
          "2021-05-20T00:00:00",
          "2021-05-21T00:00:00",
          "2021-05-24T00:00:00",
          "2021-05-25T00:00:00",
          "2021-05-26T00:00:00",
          "2021-05-27T00:00:00",
          "2021-05-28T00:00:00",
          "2021-06-01T00:00:00",
          "2021-06-02T00:00:00",
          "2021-06-03T00:00:00",
          "2021-06-04T00:00:00",
          "2021-06-07T00:00:00",
          "2021-06-08T00:00:00",
          "2021-06-09T00:00:00",
          "2021-06-10T00:00:00",
          "2021-06-11T00:00:00",
          "2021-06-14T00:00:00",
          "2021-06-15T00:00:00",
          "2021-06-16T00:00:00",
          "2021-06-17T00:00:00",
          "2021-06-18T00:00:00",
          "2021-06-21T00:00:00",
          "2021-06-22T00:00:00",
          "2021-06-23T00:00:00",
          "2021-06-24T00:00:00",
          "2021-06-25T00:00:00",
          "2021-06-28T00:00:00",
          "2021-06-29T00:00:00",
          "2021-06-30T00:00:00",
          "2021-07-01T00:00:00",
          "2021-07-02T00:00:00",
          "2021-07-06T00:00:00",
          "2021-07-07T00:00:00",
          "2021-07-08T00:00:00",
          "2021-07-09T00:00:00",
          "2021-07-12T00:00:00",
          "2021-07-13T00:00:00",
          "2021-07-14T00:00:00",
          "2021-07-15T00:00:00",
          "2021-07-16T00:00:00",
          "2021-07-19T00:00:00",
          "2021-07-20T00:00:00",
          "2021-07-21T00:00:00",
          "2021-07-22T00:00:00",
          "2021-07-23T00:00:00",
          "2021-07-26T00:00:00",
          "2021-07-27T00:00:00",
          "2021-07-28T00:00:00",
          "2021-07-29T00:00:00",
          "2021-07-30T00:00:00",
          "2021-08-02T00:00:00",
          "2021-08-03T00:00:00",
          "2021-08-04T00:00:00",
          "2021-08-05T00:00:00",
          "2021-08-06T00:00:00",
          "2021-08-09T00:00:00",
          "2021-08-10T00:00:00",
          "2021-08-11T00:00:00",
          "2021-08-12T00:00:00",
          "2021-08-13T00:00:00",
          "2021-08-16T00:00:00",
          "2021-08-17T00:00:00",
          "2021-08-18T00:00:00",
          "2021-08-19T00:00:00",
          "2021-08-20T00:00:00",
          "2021-08-23T00:00:00",
          "2021-08-24T00:00:00",
          "2021-08-25T00:00:00",
          "2021-08-26T00:00:00",
          "2021-08-27T00:00:00",
          "2021-08-30T00:00:00",
          "2021-08-31T00:00:00",
          "2021-09-01T00:00:00",
          "2021-09-02T00:00:00",
          "2021-09-03T00:00:00",
          "2021-09-07T00:00:00",
          "2021-09-08T00:00:00",
          "2021-09-09T00:00:00",
          "2021-09-10T00:00:00",
          "2021-09-13T00:00:00",
          "2021-09-14T00:00:00",
          "2021-09-15T00:00:00",
          "2021-09-16T00:00:00",
          "2021-09-17T00:00:00",
          "2021-09-20T00:00:00",
          "2021-09-21T00:00:00",
          "2021-09-22T00:00:00",
          "2021-09-23T00:00:00",
          "2021-09-24T00:00:00",
          "2021-09-27T00:00:00",
          "2021-09-28T00:00:00",
          "2021-09-29T00:00:00",
          "2021-09-30T00:00:00",
          "2021-10-01T00:00:00",
          "2021-10-04T00:00:00",
          "2021-10-05T00:00:00",
          "2021-10-06T00:00:00",
          "2021-10-07T00:00:00",
          "2021-10-08T00:00:00",
          "2021-10-11T00:00:00",
          "2021-10-12T00:00:00",
          "2021-10-13T00:00:00",
          "2021-10-14T00:00:00",
          "2021-10-15T00:00:00",
          "2021-10-18T00:00:00",
          "2021-10-19T00:00:00",
          "2021-10-20T00:00:00",
          "2021-10-21T00:00:00",
          "2021-10-22T00:00:00",
          "2021-10-25T00:00:00",
          "2021-10-26T00:00:00",
          "2021-10-27T00:00:00",
          "2021-10-28T00:00:00",
          "2021-10-29T00:00:00",
          "2021-11-01T00:00:00",
          "2021-11-02T00:00:00",
          "2021-11-03T00:00:00",
          "2021-11-04T00:00:00",
          "2021-11-05T00:00:00",
          "2021-11-08T00:00:00",
          "2021-11-09T00:00:00",
          "2021-11-10T00:00:00",
          "2021-11-11T00:00:00",
          "2021-11-12T00:00:00",
          "2021-11-15T00:00:00",
          "2021-11-16T00:00:00",
          "2021-11-17T00:00:00",
          "2021-11-18T00:00:00",
          "2021-11-19T00:00:00",
          "2021-11-22T00:00:00",
          "2021-11-23T00:00:00",
          "2021-11-24T00:00:00",
          "2021-11-26T00:00:00",
          "2021-11-29T00:00:00",
          "2021-11-30T00:00:00",
          "2021-12-01T00:00:00",
          "2021-12-02T00:00:00",
          "2021-12-03T00:00:00",
          "2021-12-06T00:00:00",
          "2021-12-07T00:00:00",
          "2021-12-08T00:00:00",
          "2021-12-09T00:00:00",
          "2021-12-10T00:00:00",
          "2021-12-13T00:00:00",
          "2021-12-14T00:00:00",
          "2021-12-15T00:00:00",
          "2021-12-16T00:00:00",
          "2021-12-17T00:00:00",
          "2021-12-20T00:00:00",
          "2021-12-21T00:00:00",
          "2021-12-22T00:00:00",
          "2021-12-23T00:00:00",
          "2021-12-27T00:00:00",
          "2021-12-28T00:00:00",
          "2021-12-29T00:00:00",
          "2021-12-30T00:00:00",
          "2021-12-31T00:00:00",
          "2022-01-03T00:00:00",
          "2022-01-04T00:00:00",
          "2022-01-05T00:00:00",
          "2022-01-06T00:00:00",
          "2022-01-07T00:00:00",
          "2022-01-10T00:00:00",
          "2022-01-11T00:00:00",
          "2022-01-12T00:00:00",
          "2022-01-13T00:00:00",
          "2022-01-14T00:00:00",
          "2022-01-18T00:00:00",
          "2022-01-19T00:00:00",
          "2022-01-20T00:00:00",
          "2022-01-21T00:00:00",
          "2022-01-24T00:00:00",
          "2022-01-25T00:00:00",
          "2022-01-26T00:00:00",
          "2022-01-27T00:00:00",
          "2022-01-28T00:00:00",
          "2022-01-31T00:00:00",
          "2022-02-01T00:00:00",
          "2022-02-02T00:00:00",
          "2022-02-03T00:00:00",
          "2022-02-04T00:00:00",
          "2022-02-07T00:00:00",
          "2022-02-08T00:00:00",
          "2022-02-09T00:00:00",
          "2022-02-10T00:00:00",
          "2022-02-11T00:00:00",
          "2022-02-14T00:00:00",
          "2022-02-15T00:00:00",
          "2022-02-16T00:00:00",
          "2022-02-17T00:00:00",
          "2022-02-18T00:00:00",
          "2022-02-22T00:00:00",
          "2022-02-23T00:00:00",
          "2022-02-24T00:00:00",
          "2022-02-25T00:00:00",
          "2022-02-28T00:00:00",
          "2022-03-01T00:00:00",
          "2022-03-02T00:00:00",
          "2022-03-03T00:00:00",
          "2022-03-04T00:00:00",
          "2022-03-07T00:00:00",
          "2022-03-08T00:00:00",
          "2022-03-09T00:00:00",
          "2022-03-10T00:00:00",
          "2022-03-11T00:00:00",
          "2022-03-14T00:00:00",
          "2022-03-15T00:00:00",
          "2022-03-16T00:00:00",
          "2022-03-17T00:00:00",
          "2022-03-18T00:00:00",
          "2022-03-21T00:00:00",
          "2022-03-22T00:00:00",
          "2022-03-23T00:00:00",
          "2022-03-24T00:00:00",
          "2022-03-25T00:00:00",
          "2022-03-28T00:00:00",
          "2022-03-29T00:00:00",
          "2022-03-30T00:00:00",
          "2022-03-31T00:00:00",
          "2022-04-01T00:00:00",
          "2022-04-04T00:00:00",
          "2022-04-05T00:00:00",
          "2022-04-06T00:00:00",
          "2022-04-07T00:00:00",
          "2022-04-08T00:00:00",
          "2022-04-11T00:00:00",
          "2022-04-12T00:00:00",
          "2022-04-13T00:00:00",
          "2022-04-14T00:00:00",
          "2022-04-18T00:00:00",
          "2022-04-19T00:00:00",
          "2022-04-20T00:00:00",
          "2022-04-21T00:00:00",
          "2022-04-22T00:00:00",
          "2022-04-25T00:00:00",
          "2022-04-26T00:00:00",
          "2022-04-27T00:00:00",
          "2022-04-28T00:00:00",
          "2022-04-29T00:00:00",
          "2022-05-02T00:00:00",
          "2022-05-03T00:00:00",
          "2022-05-04T00:00:00",
          "2022-05-05T00:00:00",
          "2022-05-06T00:00:00",
          "2022-05-09T00:00:00",
          "2022-05-10T00:00:00",
          "2022-05-11T00:00:00",
          "2022-05-12T00:00:00",
          "2022-05-13T00:00:00"
         ]
        }
       ],
       "layout": {
        "template": {
         "data": {
          "bar": [
           {
            "error_x": {
             "color": "#f2f5fa"
            },
            "error_y": {
             "color": "#f2f5fa"
            },
            "marker": {
             "line": {
              "color": "rgb(17,17,17)",
              "width": 0.5
             },
             "pattern": {
              "fillmode": "overlay",
              "size": 10,
              "solidity": 0.2
             }
            },
            "type": "bar"
           }
          ],
          "barpolar": [
           {
            "marker": {
             "line": {
              "color": "rgb(17,17,17)",
              "width": 0.5
             },
             "pattern": {
              "fillmode": "overlay",
              "size": 10,
              "solidity": 0.2
             }
            },
            "type": "barpolar"
           }
          ],
          "carpet": [
           {
            "aaxis": {
             "endlinecolor": "#A2B1C6",
             "gridcolor": "#506784",
             "linecolor": "#506784",
             "minorgridcolor": "#506784",
             "startlinecolor": "#A2B1C6"
            },
            "baxis": {
             "endlinecolor": "#A2B1C6",
             "gridcolor": "#506784",
             "linecolor": "#506784",
             "minorgridcolor": "#506784",
             "startlinecolor": "#A2B1C6"
            },
            "type": "carpet"
           }
          ],
          "choropleth": [
           {
            "colorbar": {
             "outlinewidth": 0,
             "ticks": ""
            },
            "type": "choropleth"
           }
          ],
          "contour": [
           {
            "colorbar": {
             "outlinewidth": 0,
             "ticks": ""
            },
            "colorscale": [
             [
              0,
              "#0d0887"
             ],
             [
              0.1111111111111111,
              "#46039f"
             ],
             [
              0.2222222222222222,
              "#7201a8"
             ],
             [
              0.3333333333333333,
              "#9c179e"
             ],
             [
              0.4444444444444444,
              "#bd3786"
             ],
             [
              0.5555555555555556,
              "#d8576b"
             ],
             [
              0.6666666666666666,
              "#ed7953"
             ],
             [
              0.7777777777777778,
              "#fb9f3a"
             ],
             [
              0.8888888888888888,
              "#fdca26"
             ],
             [
              1,
              "#f0f921"
             ]
            ],
            "type": "contour"
           }
          ],
          "contourcarpet": [
           {
            "colorbar": {
             "outlinewidth": 0,
             "ticks": ""
            },
            "type": "contourcarpet"
           }
          ],
          "heatmap": [
           {
            "colorbar": {
             "outlinewidth": 0,
             "ticks": ""
            },
            "colorscale": [
             [
              0,
              "#0d0887"
             ],
             [
              0.1111111111111111,
              "#46039f"
             ],
             [
              0.2222222222222222,
              "#7201a8"
             ],
             [
              0.3333333333333333,
              "#9c179e"
             ],
             [
              0.4444444444444444,
              "#bd3786"
             ],
             [
              0.5555555555555556,
              "#d8576b"
             ],
             [
              0.6666666666666666,
              "#ed7953"
             ],
             [
              0.7777777777777778,
              "#fb9f3a"
             ],
             [
              0.8888888888888888,
              "#fdca26"
             ],
             [
              1,
              "#f0f921"
             ]
            ],
            "type": "heatmap"
           }
          ],
          "heatmapgl": [
           {
            "colorbar": {
             "outlinewidth": 0,
             "ticks": ""
            },
            "colorscale": [
             [
              0,
              "#0d0887"
             ],
             [
              0.1111111111111111,
              "#46039f"
             ],
             [
              0.2222222222222222,
              "#7201a8"
             ],
             [
              0.3333333333333333,
              "#9c179e"
             ],
             [
              0.4444444444444444,
              "#bd3786"
             ],
             [
              0.5555555555555556,
              "#d8576b"
             ],
             [
              0.6666666666666666,
              "#ed7953"
             ],
             [
              0.7777777777777778,
              "#fb9f3a"
             ],
             [
              0.8888888888888888,
              "#fdca26"
             ],
             [
              1,
              "#f0f921"
             ]
            ],
            "type": "heatmapgl"
           }
          ],
          "histogram": [
           {
            "marker": {
             "pattern": {
              "fillmode": "overlay",
              "size": 10,
              "solidity": 0.2
             }
            },
            "type": "histogram"
           }
          ],
          "histogram2d": [
           {
            "colorbar": {
             "outlinewidth": 0,
             "ticks": ""
            },
            "colorscale": [
             [
              0,
              "#0d0887"
             ],
             [
              0.1111111111111111,
              "#46039f"
             ],
             [
              0.2222222222222222,
              "#7201a8"
             ],
             [
              0.3333333333333333,
              "#9c179e"
             ],
             [
              0.4444444444444444,
              "#bd3786"
             ],
             [
              0.5555555555555556,
              "#d8576b"
             ],
             [
              0.6666666666666666,
              "#ed7953"
             ],
             [
              0.7777777777777778,
              "#fb9f3a"
             ],
             [
              0.8888888888888888,
              "#fdca26"
             ],
             [
              1,
              "#f0f921"
             ]
            ],
            "type": "histogram2d"
           }
          ],
          "histogram2dcontour": [
           {
            "colorbar": {
             "outlinewidth": 0,
             "ticks": ""
            },
            "colorscale": [
             [
              0,
              "#0d0887"
             ],
             [
              0.1111111111111111,
              "#46039f"
             ],
             [
              0.2222222222222222,
              "#7201a8"
             ],
             [
              0.3333333333333333,
              "#9c179e"
             ],
             [
              0.4444444444444444,
              "#bd3786"
             ],
             [
              0.5555555555555556,
              "#d8576b"
             ],
             [
              0.6666666666666666,
              "#ed7953"
             ],
             [
              0.7777777777777778,
              "#fb9f3a"
             ],
             [
              0.8888888888888888,
              "#fdca26"
             ],
             [
              1,
              "#f0f921"
             ]
            ],
            "type": "histogram2dcontour"
           }
          ],
          "mesh3d": [
           {
            "colorbar": {
             "outlinewidth": 0,
             "ticks": ""
            },
            "type": "mesh3d"
           }
          ],
          "parcoords": [
           {
            "line": {
             "colorbar": {
              "outlinewidth": 0,
              "ticks": ""
             }
            },
            "type": "parcoords"
           }
          ],
          "pie": [
           {
            "automargin": true,
            "type": "pie"
           }
          ],
          "scatter": [
           {
            "marker": {
             "line": {
              "color": "#283442"
             }
            },
            "type": "scatter"
           }
          ],
          "scatter3d": [
           {
            "line": {
             "colorbar": {
              "outlinewidth": 0,
              "ticks": ""
             }
            },
            "marker": {
             "colorbar": {
              "outlinewidth": 0,
              "ticks": ""
             }
            },
            "type": "scatter3d"
           }
          ],
          "scattercarpet": [
           {
            "marker": {
             "colorbar": {
              "outlinewidth": 0,
              "ticks": ""
             }
            },
            "type": "scattercarpet"
           }
          ],
          "scattergeo": [
           {
            "marker": {
             "colorbar": {
              "outlinewidth": 0,
              "ticks": ""
             }
            },
            "type": "scattergeo"
           }
          ],
          "scattergl": [
           {
            "marker": {
             "line": {
              "color": "#283442"
             }
            },
            "type": "scattergl"
           }
          ],
          "scattermapbox": [
           {
            "marker": {
             "colorbar": {
              "outlinewidth": 0,
              "ticks": ""
             }
            },
            "type": "scattermapbox"
           }
          ],
          "scatterpolar": [
           {
            "marker": {
             "colorbar": {
              "outlinewidth": 0,
              "ticks": ""
             }
            },
            "type": "scatterpolar"
           }
          ],
          "scatterpolargl": [
           {
            "marker": {
             "colorbar": {
              "outlinewidth": 0,
              "ticks": ""
             }
            },
            "type": "scatterpolargl"
           }
          ],
          "scatterternary": [
           {
            "marker": {
             "colorbar": {
              "outlinewidth": 0,
              "ticks": ""
             }
            },
            "type": "scatterternary"
           }
          ],
          "surface": [
           {
            "colorbar": {
             "outlinewidth": 0,
             "ticks": ""
            },
            "colorscale": [
             [
              0,
              "#0d0887"
             ],
             [
              0.1111111111111111,
              "#46039f"
             ],
             [
              0.2222222222222222,
              "#7201a8"
             ],
             [
              0.3333333333333333,
              "#9c179e"
             ],
             [
              0.4444444444444444,
              "#bd3786"
             ],
             [
              0.5555555555555556,
              "#d8576b"
             ],
             [
              0.6666666666666666,
              "#ed7953"
             ],
             [
              0.7777777777777778,
              "#fb9f3a"
             ],
             [
              0.8888888888888888,
              "#fdca26"
             ],
             [
              1,
              "#f0f921"
             ]
            ],
            "type": "surface"
           }
          ],
          "table": [
           {
            "cells": {
             "fill": {
              "color": "#506784"
             },
             "line": {
              "color": "rgb(17,17,17)"
             }
            },
            "header": {
             "fill": {
              "color": "#2a3f5f"
             },
             "line": {
              "color": "rgb(17,17,17)"
             }
            },
            "type": "table"
           }
          ]
         },
         "layout": {
          "annotationdefaults": {
           "arrowcolor": "#f2f5fa",
           "arrowhead": 0,
           "arrowwidth": 1
          },
          "autotypenumbers": "strict",
          "coloraxis": {
           "colorbar": {
            "outlinewidth": 0,
            "ticks": ""
           }
          },
          "colorscale": {
           "diverging": [
            [
             0,
             "#8e0152"
            ],
            [
             0.1,
             "#c51b7d"
            ],
            [
             0.2,
             "#de77ae"
            ],
            [
             0.3,
             "#f1b6da"
            ],
            [
             0.4,
             "#fde0ef"
            ],
            [
             0.5,
             "#f7f7f7"
            ],
            [
             0.6,
             "#e6f5d0"
            ],
            [
             0.7,
             "#b8e186"
            ],
            [
             0.8,
             "#7fbc41"
            ],
            [
             0.9,
             "#4d9221"
            ],
            [
             1,
             "#276419"
            ]
           ],
           "sequential": [
            [
             0,
             "#0d0887"
            ],
            [
             0.1111111111111111,
             "#46039f"
            ],
            [
             0.2222222222222222,
             "#7201a8"
            ],
            [
             0.3333333333333333,
             "#9c179e"
            ],
            [
             0.4444444444444444,
             "#bd3786"
            ],
            [
             0.5555555555555556,
             "#d8576b"
            ],
            [
             0.6666666666666666,
             "#ed7953"
            ],
            [
             0.7777777777777778,
             "#fb9f3a"
            ],
            [
             0.8888888888888888,
             "#fdca26"
            ],
            [
             1,
             "#f0f921"
            ]
           ],
           "sequentialminus": [
            [
             0,
             "#0d0887"
            ],
            [
             0.1111111111111111,
             "#46039f"
            ],
            [
             0.2222222222222222,
             "#7201a8"
            ],
            [
             0.3333333333333333,
             "#9c179e"
            ],
            [
             0.4444444444444444,
             "#bd3786"
            ],
            [
             0.5555555555555556,
             "#d8576b"
            ],
            [
             0.6666666666666666,
             "#ed7953"
            ],
            [
             0.7777777777777778,
             "#fb9f3a"
            ],
            [
             0.8888888888888888,
             "#fdca26"
            ],
            [
             1,
             "#f0f921"
            ]
           ]
          },
          "colorway": [
           "#636efa",
           "#EF553B",
           "#00cc96",
           "#ab63fa",
           "#FFA15A",
           "#19d3f3",
           "#FF6692",
           "#B6E880",
           "#FF97FF",
           "#FECB52"
          ],
          "font": {
           "color": "#f2f5fa"
          },
          "geo": {
           "bgcolor": "rgb(17,17,17)",
           "lakecolor": "rgb(17,17,17)",
           "landcolor": "rgb(17,17,17)",
           "showlakes": true,
           "showland": true,
           "subunitcolor": "#506784"
          },
          "hoverlabel": {
           "align": "left"
          },
          "hovermode": "closest",
          "mapbox": {
           "style": "dark"
          },
          "paper_bgcolor": "rgb(17,17,17)",
          "plot_bgcolor": "rgb(17,17,17)",
          "polar": {
           "angularaxis": {
            "gridcolor": "#506784",
            "linecolor": "#506784",
            "ticks": ""
           },
           "bgcolor": "rgb(17,17,17)",
           "radialaxis": {
            "gridcolor": "#506784",
            "linecolor": "#506784",
            "ticks": ""
           }
          },
          "scene": {
           "xaxis": {
            "backgroundcolor": "rgb(17,17,17)",
            "gridcolor": "#506784",
            "gridwidth": 2,
            "linecolor": "#506784",
            "showbackground": true,
            "ticks": "",
            "zerolinecolor": "#C8D4E3"
           },
           "yaxis": {
            "backgroundcolor": "rgb(17,17,17)",
            "gridcolor": "#506784",
            "gridwidth": 2,
            "linecolor": "#506784",
            "showbackground": true,
            "ticks": "",
            "zerolinecolor": "#C8D4E3"
           },
           "zaxis": {
            "backgroundcolor": "rgb(17,17,17)",
            "gridcolor": "#506784",
            "gridwidth": 2,
            "linecolor": "#506784",
            "showbackground": true,
            "ticks": "",
            "zerolinecolor": "#C8D4E3"
           }
          },
          "shapedefaults": {
           "line": {
            "color": "#f2f5fa"
           }
          },
          "sliderdefaults": {
           "bgcolor": "#C8D4E3",
           "bordercolor": "rgb(17,17,17)",
           "borderwidth": 1,
           "tickwidth": 0
          },
          "ternary": {
           "aaxis": {
            "gridcolor": "#506784",
            "linecolor": "#506784",
            "ticks": ""
           },
           "baxis": {
            "gridcolor": "#506784",
            "linecolor": "#506784",
            "ticks": ""
           },
           "bgcolor": "rgb(17,17,17)",
           "caxis": {
            "gridcolor": "#506784",
            "linecolor": "#506784",
            "ticks": ""
           }
          },
          "title": {
           "x": 0.05
          },
          "updatemenudefaults": {
           "bgcolor": "#506784",
           "borderwidth": 0
          },
          "xaxis": {
           "automargin": true,
           "gridcolor": "#283442",
           "linecolor": "#506784",
           "ticks": "",
           "title": {
            "standoff": 15
           },
           "zerolinecolor": "#283442",
           "zerolinewidth": 2
          },
          "yaxis": {
           "automargin": true,
           "gridcolor": "#283442",
           "linecolor": "#506784",
           "ticks": "",
           "title": {
            "standoff": 15
           },
           "zerolinecolor": "#283442",
           "zerolinewidth": 2
          }
         }
        },
        "title": {
         "text": "SPCE: Stock Price"
        },
        "xaxis": {
         "rangeslider": {
          "visible": false
         }
        }
       }
      },
      "text/html": [
       "<div>                            <div id=\"7d0d27c1-0a78-4b7d-8cec-2bb6a23e95d1\" class=\"plotly-graph-div\" style=\"height:525px; width:100%;\"></div>            <script type=\"text/javascript\">                require([\"plotly\"], function(Plotly) {                    window.PLOTLYENV=window.PLOTLYENV || {};                                    if (document.getElementById(\"7d0d27c1-0a78-4b7d-8cec-2bb6a23e95d1\")) {                    Plotly.newPlot(                        \"7d0d27c1-0a78-4b7d-8cec-2bb6a23e95d1\",                        [{\"close\":[16.64,17.25,17.27,19.81,21.07,26.89,25.59,27.0,31.09,31.23,28.88,31.13,31.01,31.38,34.69,37.49,35.16,35.41,35.1,36.49,34.87,35.37,37.32,36.8,36.02,39.42,40.82,40.26,55.91,54.84,47.02,46.0,43.19,44.94,46.31,44.92,52.69,49.2,40.69,37.76,33.07,31.74,30.2,32.4,32.03,33.37,30.82,29.58,30.62,30.25,31.19,30.78,29.99,31.87,31.4,30.78,31.53,33.37,35.21,31.33,27.36,25.94,25.37,25.33,25.24,25.25,24.25,24.53,25.44,26.48,26.26,25.45,26.05,24.88,27.11,26.79,25.99,24.28,24.61,25.45,25.68,25.16,24.26,24.0,23.91,24.49,26.42,24.75,25.19,25.53,25.85,25.04,25.0,23.39,22.56,25.3,23.83,22.73,22.53,22.98,23.21,23.12,23.22,23.51,23.94,24.06,20.01,19.72,19.84,20.15,20.15,19.66,20.04,19.61,18.24,18.56,18.75,19.55,19.6,19.94,19.62,19.53,19.89,20.9,20.26,19.27,19.22,19.0,18.32,17.91,17.38,17.25,17.08,16.83,17.03,16.73,16.25,16.0,14.86,15.08,14.37,14.64,15.62,16.24,15.64,15.21,14.81,14.65,14.77,14.3,14.46,13.93,14.63,14.6,14.53,14.07,13.81,13.04,13.83,13.38,13.54,13.21,12.05,11.78,12.45,11.97,12.39,12.37,10.03,10.14,9.37,9.09,9.1,8.47,8.6,8.48,8.44,7.96,8.14,9.2,9.72,9.37,8.46,8.99,8.57,8.73,9.16,8.85,8.44,8.14,10.74,10.03,9.01,8.4,7.82,8.09,9.0,9.18,9.68,9.35,9.42,8.25,7.84,7.36,7.42,7.82,7.57,7.28,6.79,7.36,7.99,8.99,9.43,9.35,9.65,9.57,9.73,9.43,9.76,11.01,10.69,9.88,9.99,10.54,9.61,9.11,8.99,8.69,8.72,8.82,9.12,8.99,8.56,9.19,8.42,7.99,7.99,8.33,7.79,7.71,7.9,7.49,7.89,7.93,8.26,7.5,6.8,6.07,5.85,5.37,5.84,6.54],\"high\":[16.93,17.91,17.27,21.63,21.75,27.72,26.34,27.75,32.07,35.04,30.61,32.09,33.7,32.16,34.79,38.22,38.65,37.88,36.09,37.69,36.78,36.15,37.52,37.54,36.7,39.8,41.65,41.58,57.29,57.51,53.6,47.98,46.43,54.4,49.39,46.76,52.76,52.63,50.75,41.56,37.97,34.44,33.3,32.97,32.37,33.9,33.69,31.17,31.15,30.98,31.75,32.01,31.24,32.8,31.75,32.62,32.16,35.62,35.54,34.8,30.0,27.42,26.3,26.58,25.67,25.98,25.68,24.77,25.82,26.65,27.04,26.71,26.38,26.19,27.86,27.33,28.77,25.54,24.95,26.0,25.78,26.83,24.87,25.15,24.22,24.8,26.44,26.03,25.57,25.83,25.97,25.89,25.59,24.94,23.73,26.5,25.52,23.72,22.88,23.31,23.66,23.74,23.78,23.95,24.13,24.32,21.32,19.92,20.08,20.54,20.76,20.01,20.53,20.26,18.91,18.73,19.08,19.68,19.6,20.04,20.2,19.91,20.02,21.68,21.49,19.54,19.53,19.5,18.81,18.55,18.0,17.71,17.65,17.34,17.22,17.15,16.85,16.44,16.42,15.45,15.08,14.9,15.88,16.54,16.56,16.05,15.55,15.08,14.94,15.2,14.74,14.25,14.67,14.75,14.65,14.57,14.39,13.77,14.22,14.2,13.73,13.65,13.33,12.35,12.81,12.46,12.55,12.7,10.99,10.16,10.06,9.72,9.81,9.19,8.61,8.7,9.15,8.76,8.15,9.23,9.84,9.8,9.14,9.1,9.04,8.8,9.24,9.45,9.15,8.6,10.97,10.5,9.9,8.91,8.28,9.1,9.03,9.2,9.82,10.03,9.58,9.35,8.32,8.17,7.83,7.96,7.72,7.74,7.3,7.37,8.0,8.99,9.55,9.6,9.78,9.87,9.8,9.74,9.91,11.25,11.14,10.65,10.4,10.69,10.69,9.4,9.32,8.99,9.1,9.24,9.19,9.17,8.95,9.22,9.17,8.73,8.32,8.41,8.34,8.04,8.0,8.18,7.89,8.11,8.32,8.14,7.09,6.6,6.42,6.07,6.2,6.69],\"low\":[15.79,16.33,15.86,18.7,19.68,23.52,24.7,25.6,26.6,30.73,28.12,28.41,30.7,29.93,30.96,35.05,34.87,34.92,33.85,34.7,34.64,34.21,35.1,35.95,34.83,35.62,38.75,39.26,45.87,52.48,45.97,43.08,43.19,44.04,44.21,43.02,43.05,48.46,39.81,37.51,32.81,31.32,30.07,28.63,29.54,31.13,30.63,28.86,29.19,28.49,30.15,30.47,29.58,29.45,29.84,30.51,30.6,31.43,32.84,31.0,26.5,25.51,25.05,25.22,24.55,24.62,24.11,23.99,24.53,25.43,25.75,25.2,25.22,24.62,25.75,26.65,24.85,23.82,23.82,24.55,24.65,24.93,23.58,23.82,23.06,24.0,24.58,24.27,24.7,25.1,25.32,24.81,24.43,22.87,22.53,23.91,23.49,22.54,21.96,22.31,22.84,22.88,23.02,23.09,23.53,23.58,19.87,19.0,19.2,19.66,19.86,19.23,19.63,19.49,17.98,18.3,18.58,18.69,18.94,19.45,19.45,19.1,19.29,19.33,19.95,19.08,19.15,18.97,18.18,17.73,17.17,17.06,16.83,16.36,16.23,16.34,15.98,15.33,14.8,14.44,14.02,13.69,14.96,15.3,15.56,15.04,14.47,14.36,13.77,14.08,13.52,13.6,13.86,14.25,14.15,13.91,13.78,12.86,12.95,13.35,12.89,12.9,11.98,11.3,11.92,11.69,11.81,12.06,10.02,9.75,9.33,9.02,9.09,8.46,7.58,8.17,8.37,7.85,7.61,8.24,9.15,9.16,8.43,8.55,8.4,8.3,8.68,8.79,8.28,8.05,8.75,9.69,8.84,8.24,7.69,7.97,7.4,8.52,9.07,9.23,9.07,8.2,7.78,7.36,7.05,7.58,7.38,7.26,6.71,6.7,7.47,7.89,8.76,9.0,9.25,9.32,9.29,9.28,9.26,9.9,10.46,9.87,9.74,10.07,9.58,8.81,8.56,8.57,8.29,8.62,8.7,8.8,8.34,8.48,8.4,7.86,7.8,7.94,7.79,7.61,7.28,7.48,7.38,7.7,7.51,7.4,6.35,6.06,5.6,5.37,5.14,6.13],\"name\":\"SPCE\",\"open\":[16.11,16.73,16.44,20.62,20.37,25.31,25.37,25.85,27.4,31.27,30.05,28.59,32.21,30.9,31.45,35.28,38.19,35.74,35.08,35.27,36.45,34.6,35.12,37.31,36.27,35.82,38.96,41.1,47.81,57.15,52.3,44.42,46.0,53.23,45.15,46.43,43.83,50.94,49.55,40.34,37.27,33.03,32.54,29.45,31.09,31.26,33.13,30.5,29.58,30.37,30.47,31.16,30.82,29.82,31.44,31.32,31.0,31.79,33.0,34.75,29.85,26.79,25.23,25.59,25.02,25.19,25.26,24.12,24.6,25.58,26.7,26.1,25.54,25.97,25.95,27.06,26.08,25.29,24.21,24.65,25.38,25.71,24.45,23.99,24.22,24.28,24.58,25.43,25.0,25.29,25.75,25.85,25.11,24.91,23.54,24.13,25.07,23.62,22.79,22.53,23.03,23.19,23.07,23.4,23.65,24.25,20.47,19.04,19.5,19.76,20.21,20.0,19.74,20.04,18.8,18.36,18.65,18.86,19.4,19.51,20.03,19.66,19.32,19.89,20.57,19.31,19.3,19.2,18.75,18.32,17.97,17.4,17.45,17.04,16.71,16.42,16.78,16.09,16.23,14.93,15.08,14.19,15.0,15.7,16.04,15.7,15.17,14.48,14.57,14.89,14.23,13.99,13.93,14.56,14.6,14.43,14.01,13.71,12.96,13.73,13.48,13.64,13.02,12.17,12.0,12.43,12.04,12.47,10.92,9.89,10.03,9.55,9.22,9.05,8.11,8.45,8.71,8.49,7.98,8.25,9.5,9.65,9.04,8.63,8.9,8.5,8.78,8.9,8.82,8.38,8.93,10.3,9.77,8.89,8.13,8.05,7.5,8.61,9.07,9.62,9.35,9.29,8.26,7.89,7.4,7.6,7.71,7.68,7.17,6.81,7.49,7.91,8.81,9.27,9.33,9.54,9.6,9.73,9.46,9.9,10.8,10.56,9.98,10.14,10.58,9.39,9.07,8.91,8.56,8.88,8.84,9.08,8.93,8.52,9.13,8.58,8.14,7.99,8.26,7.76,7.76,7.9,7.45,7.81,7.9,8.14,7.08,6.59,6.36,5.77,5.25,6.17],\"showlegend\":true,\"x\":[\"2021-05-17T00:00:00\",\"2021-05-18T00:00:00\",\"2021-05-19T00:00:00\",\"2021-05-20T00:00:00\",\"2021-05-21T00:00:00\",\"2021-05-24T00:00:00\",\"2021-05-25T00:00:00\",\"2021-05-26T00:00:00\",\"2021-05-27T00:00:00\",\"2021-05-28T00:00:00\",\"2021-06-01T00:00:00\",\"2021-06-02T00:00:00\",\"2021-06-03T00:00:00\",\"2021-06-04T00:00:00\",\"2021-06-07T00:00:00\",\"2021-06-08T00:00:00\",\"2021-06-09T00:00:00\",\"2021-06-10T00:00:00\",\"2021-06-11T00:00:00\",\"2021-06-14T00:00:00\",\"2021-06-15T00:00:00\",\"2021-06-16T00:00:00\",\"2021-06-17T00:00:00\",\"2021-06-18T00:00:00\",\"2021-06-21T00:00:00\",\"2021-06-22T00:00:00\",\"2021-06-23T00:00:00\",\"2021-06-24T00:00:00\",\"2021-06-25T00:00:00\",\"2021-06-28T00:00:00\",\"2021-06-29T00:00:00\",\"2021-06-30T00:00:00\",\"2021-07-01T00:00:00\",\"2021-07-02T00:00:00\",\"2021-07-06T00:00:00\",\"2021-07-07T00:00:00\",\"2021-07-08T00:00:00\",\"2021-07-09T00:00:00\",\"2021-07-12T00:00:00\",\"2021-07-13T00:00:00\",\"2021-07-14T00:00:00\",\"2021-07-15T00:00:00\",\"2021-07-16T00:00:00\",\"2021-07-19T00:00:00\",\"2021-07-20T00:00:00\",\"2021-07-21T00:00:00\",\"2021-07-22T00:00:00\",\"2021-07-23T00:00:00\",\"2021-07-26T00:00:00\",\"2021-07-27T00:00:00\",\"2021-07-28T00:00:00\",\"2021-07-29T00:00:00\",\"2021-07-30T00:00:00\",\"2021-08-02T00:00:00\",\"2021-08-03T00:00:00\",\"2021-08-04T00:00:00\",\"2021-08-05T00:00:00\",\"2021-08-06T00:00:00\",\"2021-08-09T00:00:00\",\"2021-08-10T00:00:00\",\"2021-08-11T00:00:00\",\"2021-08-12T00:00:00\",\"2021-08-13T00:00:00\",\"2021-08-16T00:00:00\",\"2021-08-17T00:00:00\",\"2021-08-18T00:00:00\",\"2021-08-19T00:00:00\",\"2021-08-20T00:00:00\",\"2021-08-23T00:00:00\",\"2021-08-24T00:00:00\",\"2021-08-25T00:00:00\",\"2021-08-26T00:00:00\",\"2021-08-27T00:00:00\",\"2021-08-30T00:00:00\",\"2021-08-31T00:00:00\",\"2021-09-01T00:00:00\",\"2021-09-02T00:00:00\",\"2021-09-03T00:00:00\",\"2021-09-07T00:00:00\",\"2021-09-08T00:00:00\",\"2021-09-09T00:00:00\",\"2021-09-10T00:00:00\",\"2021-09-13T00:00:00\",\"2021-09-14T00:00:00\",\"2021-09-15T00:00:00\",\"2021-09-16T00:00:00\",\"2021-09-17T00:00:00\",\"2021-09-20T00:00:00\",\"2021-09-21T00:00:00\",\"2021-09-22T00:00:00\",\"2021-09-23T00:00:00\",\"2021-09-24T00:00:00\",\"2021-09-27T00:00:00\",\"2021-09-28T00:00:00\",\"2021-09-29T00:00:00\",\"2021-09-30T00:00:00\",\"2021-10-01T00:00:00\",\"2021-10-04T00:00:00\",\"2021-10-05T00:00:00\",\"2021-10-06T00:00:00\",\"2021-10-07T00:00:00\",\"2021-10-08T00:00:00\",\"2021-10-11T00:00:00\",\"2021-10-12T00:00:00\",\"2021-10-13T00:00:00\",\"2021-10-14T00:00:00\",\"2021-10-15T00:00:00\",\"2021-10-18T00:00:00\",\"2021-10-19T00:00:00\",\"2021-10-20T00:00:00\",\"2021-10-21T00:00:00\",\"2021-10-22T00:00:00\",\"2021-10-25T00:00:00\",\"2021-10-26T00:00:00\",\"2021-10-27T00:00:00\",\"2021-10-28T00:00:00\",\"2021-10-29T00:00:00\",\"2021-11-01T00:00:00\",\"2021-11-02T00:00:00\",\"2021-11-03T00:00:00\",\"2021-11-04T00:00:00\",\"2021-11-05T00:00:00\",\"2021-11-08T00:00:00\",\"2021-11-09T00:00:00\",\"2021-11-10T00:00:00\",\"2021-11-11T00:00:00\",\"2021-11-12T00:00:00\",\"2021-11-15T00:00:00\",\"2021-11-16T00:00:00\",\"2021-11-17T00:00:00\",\"2021-11-18T00:00:00\",\"2021-11-19T00:00:00\",\"2021-11-22T00:00:00\",\"2021-11-23T00:00:00\",\"2021-11-24T00:00:00\",\"2021-11-26T00:00:00\",\"2021-11-29T00:00:00\",\"2021-11-30T00:00:00\",\"2021-12-01T00:00:00\",\"2021-12-02T00:00:00\",\"2021-12-03T00:00:00\",\"2021-12-06T00:00:00\",\"2021-12-07T00:00:00\",\"2021-12-08T00:00:00\",\"2021-12-09T00:00:00\",\"2021-12-10T00:00:00\",\"2021-12-13T00:00:00\",\"2021-12-14T00:00:00\",\"2021-12-15T00:00:00\",\"2021-12-16T00:00:00\",\"2021-12-17T00:00:00\",\"2021-12-20T00:00:00\",\"2021-12-21T00:00:00\",\"2021-12-22T00:00:00\",\"2021-12-23T00:00:00\",\"2021-12-27T00:00:00\",\"2021-12-28T00:00:00\",\"2021-12-29T00:00:00\",\"2021-12-30T00:00:00\",\"2021-12-31T00:00:00\",\"2022-01-03T00:00:00\",\"2022-01-04T00:00:00\",\"2022-01-05T00:00:00\",\"2022-01-06T00:00:00\",\"2022-01-07T00:00:00\",\"2022-01-10T00:00:00\",\"2022-01-11T00:00:00\",\"2022-01-12T00:00:00\",\"2022-01-13T00:00:00\",\"2022-01-14T00:00:00\",\"2022-01-18T00:00:00\",\"2022-01-19T00:00:00\",\"2022-01-20T00:00:00\",\"2022-01-21T00:00:00\",\"2022-01-24T00:00:00\",\"2022-01-25T00:00:00\",\"2022-01-26T00:00:00\",\"2022-01-27T00:00:00\",\"2022-01-28T00:00:00\",\"2022-01-31T00:00:00\",\"2022-02-01T00:00:00\",\"2022-02-02T00:00:00\",\"2022-02-03T00:00:00\",\"2022-02-04T00:00:00\",\"2022-02-07T00:00:00\",\"2022-02-08T00:00:00\",\"2022-02-09T00:00:00\",\"2022-02-10T00:00:00\",\"2022-02-11T00:00:00\",\"2022-02-14T00:00:00\",\"2022-02-15T00:00:00\",\"2022-02-16T00:00:00\",\"2022-02-17T00:00:00\",\"2022-02-18T00:00:00\",\"2022-02-22T00:00:00\",\"2022-02-23T00:00:00\",\"2022-02-24T00:00:00\",\"2022-02-25T00:00:00\",\"2022-02-28T00:00:00\",\"2022-03-01T00:00:00\",\"2022-03-02T00:00:00\",\"2022-03-03T00:00:00\",\"2022-03-04T00:00:00\",\"2022-03-07T00:00:00\",\"2022-03-08T00:00:00\",\"2022-03-09T00:00:00\",\"2022-03-10T00:00:00\",\"2022-03-11T00:00:00\",\"2022-03-14T00:00:00\",\"2022-03-15T00:00:00\",\"2022-03-16T00:00:00\",\"2022-03-17T00:00:00\",\"2022-03-18T00:00:00\",\"2022-03-21T00:00:00\",\"2022-03-22T00:00:00\",\"2022-03-23T00:00:00\",\"2022-03-24T00:00:00\",\"2022-03-25T00:00:00\",\"2022-03-28T00:00:00\",\"2022-03-29T00:00:00\",\"2022-03-30T00:00:00\",\"2022-03-31T00:00:00\",\"2022-04-01T00:00:00\",\"2022-04-04T00:00:00\",\"2022-04-05T00:00:00\",\"2022-04-06T00:00:00\",\"2022-04-07T00:00:00\",\"2022-04-08T00:00:00\",\"2022-04-11T00:00:00\",\"2022-04-12T00:00:00\",\"2022-04-13T00:00:00\",\"2022-04-14T00:00:00\",\"2022-04-18T00:00:00\",\"2022-04-19T00:00:00\",\"2022-04-20T00:00:00\",\"2022-04-21T00:00:00\",\"2022-04-22T00:00:00\",\"2022-04-25T00:00:00\",\"2022-04-26T00:00:00\",\"2022-04-27T00:00:00\",\"2022-04-28T00:00:00\",\"2022-04-29T00:00:00\",\"2022-05-02T00:00:00\",\"2022-05-03T00:00:00\",\"2022-05-04T00:00:00\",\"2022-05-05T00:00:00\",\"2022-05-06T00:00:00\",\"2022-05-09T00:00:00\",\"2022-05-10T00:00:00\",\"2022-05-11T00:00:00\",\"2022-05-12T00:00:00\",\"2022-05-13T00:00:00\"],\"type\":\"candlestick\"}],                        {\"template\":{\"data\":{\"barpolar\":[{\"marker\":{\"line\":{\"color\":\"rgb(17,17,17)\",\"width\":0.5},\"pattern\":{\"fillmode\":\"overlay\",\"size\":10,\"solidity\":0.2}},\"type\":\"barpolar\"}],\"bar\":[{\"error_x\":{\"color\":\"#f2f5fa\"},\"error_y\":{\"color\":\"#f2f5fa\"},\"marker\":{\"line\":{\"color\":\"rgb(17,17,17)\",\"width\":0.5},\"pattern\":{\"fillmode\":\"overlay\",\"size\":10,\"solidity\":0.2}},\"type\":\"bar\"}],\"carpet\":[{\"aaxis\":{\"endlinecolor\":\"#A2B1C6\",\"gridcolor\":\"#506784\",\"linecolor\":\"#506784\",\"minorgridcolor\":\"#506784\",\"startlinecolor\":\"#A2B1C6\"},\"baxis\":{\"endlinecolor\":\"#A2B1C6\",\"gridcolor\":\"#506784\",\"linecolor\":\"#506784\",\"minorgridcolor\":\"#506784\",\"startlinecolor\":\"#A2B1C6\"},\"type\":\"carpet\"}],\"choropleth\":[{\"colorbar\":{\"outlinewidth\":0,\"ticks\":\"\"},\"type\":\"choropleth\"}],\"contourcarpet\":[{\"colorbar\":{\"outlinewidth\":0,\"ticks\":\"\"},\"type\":\"contourcarpet\"}],\"contour\":[{\"colorbar\":{\"outlinewidth\":0,\"ticks\":\"\"},\"colorscale\":[[0.0,\"#0d0887\"],[0.1111111111111111,\"#46039f\"],[0.2222222222222222,\"#7201a8\"],[0.3333333333333333,\"#9c179e\"],[0.4444444444444444,\"#bd3786\"],[0.5555555555555556,\"#d8576b\"],[0.6666666666666666,\"#ed7953\"],[0.7777777777777778,\"#fb9f3a\"],[0.8888888888888888,\"#fdca26\"],[1.0,\"#f0f921\"]],\"type\":\"contour\"}],\"heatmapgl\":[{\"colorbar\":{\"outlinewidth\":0,\"ticks\":\"\"},\"colorscale\":[[0.0,\"#0d0887\"],[0.1111111111111111,\"#46039f\"],[0.2222222222222222,\"#7201a8\"],[0.3333333333333333,\"#9c179e\"],[0.4444444444444444,\"#bd3786\"],[0.5555555555555556,\"#d8576b\"],[0.6666666666666666,\"#ed7953\"],[0.7777777777777778,\"#fb9f3a\"],[0.8888888888888888,\"#fdca26\"],[1.0,\"#f0f921\"]],\"type\":\"heatmapgl\"}],\"heatmap\":[{\"colorbar\":{\"outlinewidth\":0,\"ticks\":\"\"},\"colorscale\":[[0.0,\"#0d0887\"],[0.1111111111111111,\"#46039f\"],[0.2222222222222222,\"#7201a8\"],[0.3333333333333333,\"#9c179e\"],[0.4444444444444444,\"#bd3786\"],[0.5555555555555556,\"#d8576b\"],[0.6666666666666666,\"#ed7953\"],[0.7777777777777778,\"#fb9f3a\"],[0.8888888888888888,\"#fdca26\"],[1.0,\"#f0f921\"]],\"type\":\"heatmap\"}],\"histogram2dcontour\":[{\"colorbar\":{\"outlinewidth\":0,\"ticks\":\"\"},\"colorscale\":[[0.0,\"#0d0887\"],[0.1111111111111111,\"#46039f\"],[0.2222222222222222,\"#7201a8\"],[0.3333333333333333,\"#9c179e\"],[0.4444444444444444,\"#bd3786\"],[0.5555555555555556,\"#d8576b\"],[0.6666666666666666,\"#ed7953\"],[0.7777777777777778,\"#fb9f3a\"],[0.8888888888888888,\"#fdca26\"],[1.0,\"#f0f921\"]],\"type\":\"histogram2dcontour\"}],\"histogram2d\":[{\"colorbar\":{\"outlinewidth\":0,\"ticks\":\"\"},\"colorscale\":[[0.0,\"#0d0887\"],[0.1111111111111111,\"#46039f\"],[0.2222222222222222,\"#7201a8\"],[0.3333333333333333,\"#9c179e\"],[0.4444444444444444,\"#bd3786\"],[0.5555555555555556,\"#d8576b\"],[0.6666666666666666,\"#ed7953\"],[0.7777777777777778,\"#fb9f3a\"],[0.8888888888888888,\"#fdca26\"],[1.0,\"#f0f921\"]],\"type\":\"histogram2d\"}],\"histogram\":[{\"marker\":{\"pattern\":{\"fillmode\":\"overlay\",\"size\":10,\"solidity\":0.2}},\"type\":\"histogram\"}],\"mesh3d\":[{\"colorbar\":{\"outlinewidth\":0,\"ticks\":\"\"},\"type\":\"mesh3d\"}],\"parcoords\":[{\"line\":{\"colorbar\":{\"outlinewidth\":0,\"ticks\":\"\"}},\"type\":\"parcoords\"}],\"pie\":[{\"automargin\":true,\"type\":\"pie\"}],\"scatter3d\":[{\"line\":{\"colorbar\":{\"outlinewidth\":0,\"ticks\":\"\"}},\"marker\":{\"colorbar\":{\"outlinewidth\":0,\"ticks\":\"\"}},\"type\":\"scatter3d\"}],\"scattercarpet\":[{\"marker\":{\"colorbar\":{\"outlinewidth\":0,\"ticks\":\"\"}},\"type\":\"scattercarpet\"}],\"scattergeo\":[{\"marker\":{\"colorbar\":{\"outlinewidth\":0,\"ticks\":\"\"}},\"type\":\"scattergeo\"}],\"scattergl\":[{\"marker\":{\"line\":{\"color\":\"#283442\"}},\"type\":\"scattergl\"}],\"scattermapbox\":[{\"marker\":{\"colorbar\":{\"outlinewidth\":0,\"ticks\":\"\"}},\"type\":\"scattermapbox\"}],\"scatterpolargl\":[{\"marker\":{\"colorbar\":{\"outlinewidth\":0,\"ticks\":\"\"}},\"type\":\"scatterpolargl\"}],\"scatterpolar\":[{\"marker\":{\"colorbar\":{\"outlinewidth\":0,\"ticks\":\"\"}},\"type\":\"scatterpolar\"}],\"scatter\":[{\"marker\":{\"line\":{\"color\":\"#283442\"}},\"type\":\"scatter\"}],\"scatterternary\":[{\"marker\":{\"colorbar\":{\"outlinewidth\":0,\"ticks\":\"\"}},\"type\":\"scatterternary\"}],\"surface\":[{\"colorbar\":{\"outlinewidth\":0,\"ticks\":\"\"},\"colorscale\":[[0.0,\"#0d0887\"],[0.1111111111111111,\"#46039f\"],[0.2222222222222222,\"#7201a8\"],[0.3333333333333333,\"#9c179e\"],[0.4444444444444444,\"#bd3786\"],[0.5555555555555556,\"#d8576b\"],[0.6666666666666666,\"#ed7953\"],[0.7777777777777778,\"#fb9f3a\"],[0.8888888888888888,\"#fdca26\"],[1.0,\"#f0f921\"]],\"type\":\"surface\"}],\"table\":[{\"cells\":{\"fill\":{\"color\":\"#506784\"},\"line\":{\"color\":\"rgb(17,17,17)\"}},\"header\":{\"fill\":{\"color\":\"#2a3f5f\"},\"line\":{\"color\":\"rgb(17,17,17)\"}},\"type\":\"table\"}]},\"layout\":{\"annotationdefaults\":{\"arrowcolor\":\"#f2f5fa\",\"arrowhead\":0,\"arrowwidth\":1},\"autotypenumbers\":\"strict\",\"coloraxis\":{\"colorbar\":{\"outlinewidth\":0,\"ticks\":\"\"}},\"colorscale\":{\"diverging\":[[0,\"#8e0152\"],[0.1,\"#c51b7d\"],[0.2,\"#de77ae\"],[0.3,\"#f1b6da\"],[0.4,\"#fde0ef\"],[0.5,\"#f7f7f7\"],[0.6,\"#e6f5d0\"],[0.7,\"#b8e186\"],[0.8,\"#7fbc41\"],[0.9,\"#4d9221\"],[1,\"#276419\"]],\"sequential\":[[0.0,\"#0d0887\"],[0.1111111111111111,\"#46039f\"],[0.2222222222222222,\"#7201a8\"],[0.3333333333333333,\"#9c179e\"],[0.4444444444444444,\"#bd3786\"],[0.5555555555555556,\"#d8576b\"],[0.6666666666666666,\"#ed7953\"],[0.7777777777777778,\"#fb9f3a\"],[0.8888888888888888,\"#fdca26\"],[1.0,\"#f0f921\"]],\"sequentialminus\":[[0.0,\"#0d0887\"],[0.1111111111111111,\"#46039f\"],[0.2222222222222222,\"#7201a8\"],[0.3333333333333333,\"#9c179e\"],[0.4444444444444444,\"#bd3786\"],[0.5555555555555556,\"#d8576b\"],[0.6666666666666666,\"#ed7953\"],[0.7777777777777778,\"#fb9f3a\"],[0.8888888888888888,\"#fdca26\"],[1.0,\"#f0f921\"]]},\"colorway\":[\"#636efa\",\"#EF553B\",\"#00cc96\",\"#ab63fa\",\"#FFA15A\",\"#19d3f3\",\"#FF6692\",\"#B6E880\",\"#FF97FF\",\"#FECB52\"],\"font\":{\"color\":\"#f2f5fa\"},\"geo\":{\"bgcolor\":\"rgb(17,17,17)\",\"lakecolor\":\"rgb(17,17,17)\",\"landcolor\":\"rgb(17,17,17)\",\"showlakes\":true,\"showland\":true,\"subunitcolor\":\"#506784\"},\"hoverlabel\":{\"align\":\"left\"},\"hovermode\":\"closest\",\"mapbox\":{\"style\":\"dark\"},\"paper_bgcolor\":\"rgb(17,17,17)\",\"plot_bgcolor\":\"rgb(17,17,17)\",\"polar\":{\"angularaxis\":{\"gridcolor\":\"#506784\",\"linecolor\":\"#506784\",\"ticks\":\"\"},\"bgcolor\":\"rgb(17,17,17)\",\"radialaxis\":{\"gridcolor\":\"#506784\",\"linecolor\":\"#506784\",\"ticks\":\"\"}},\"scene\":{\"xaxis\":{\"backgroundcolor\":\"rgb(17,17,17)\",\"gridcolor\":\"#506784\",\"gridwidth\":2,\"linecolor\":\"#506784\",\"showbackground\":true,\"ticks\":\"\",\"zerolinecolor\":\"#C8D4E3\"},\"yaxis\":{\"backgroundcolor\":\"rgb(17,17,17)\",\"gridcolor\":\"#506784\",\"gridwidth\":2,\"linecolor\":\"#506784\",\"showbackground\":true,\"ticks\":\"\",\"zerolinecolor\":\"#C8D4E3\"},\"zaxis\":{\"backgroundcolor\":\"rgb(17,17,17)\",\"gridcolor\":\"#506784\",\"gridwidth\":2,\"linecolor\":\"#506784\",\"showbackground\":true,\"ticks\":\"\",\"zerolinecolor\":\"#C8D4E3\"}},\"shapedefaults\":{\"line\":{\"color\":\"#f2f5fa\"}},\"sliderdefaults\":{\"bgcolor\":\"#C8D4E3\",\"bordercolor\":\"rgb(17,17,17)\",\"borderwidth\":1,\"tickwidth\":0},\"ternary\":{\"aaxis\":{\"gridcolor\":\"#506784\",\"linecolor\":\"#506784\",\"ticks\":\"\"},\"baxis\":{\"gridcolor\":\"#506784\",\"linecolor\":\"#506784\",\"ticks\":\"\"},\"bgcolor\":\"rgb(17,17,17)\",\"caxis\":{\"gridcolor\":\"#506784\",\"linecolor\":\"#506784\",\"ticks\":\"\"}},\"title\":{\"x\":0.05},\"updatemenudefaults\":{\"bgcolor\":\"#506784\",\"borderwidth\":0},\"xaxis\":{\"automargin\":true,\"gridcolor\":\"#283442\",\"linecolor\":\"#506784\",\"ticks\":\"\",\"title\":{\"standoff\":15},\"zerolinecolor\":\"#283442\",\"zerolinewidth\":2},\"yaxis\":{\"automargin\":true,\"gridcolor\":\"#283442\",\"linecolor\":\"#506784\",\"ticks\":\"\",\"title\":{\"standoff\":15},\"zerolinecolor\":\"#283442\",\"zerolinewidth\":2}}},\"title\":{\"text\":\"SPCE: Stock Price\"},\"xaxis\":{\"rangeslider\":{\"visible\":false}}},                        {\"responsive\": true}                    ).then(function(){\n",
       "                            \n",
       "var gd = document.getElementById('7d0d27c1-0a78-4b7d-8cec-2bb6a23e95d1');\n",
       "var x = new MutationObserver(function (mutations, observer) {{\n",
       "        var display = window.getComputedStyle(gd).display;\n",
       "        if (!display || display === 'none') {{\n",
       "            console.log([gd, 'removed!']);\n",
       "            Plotly.purge(gd);\n",
       "            observer.disconnect();\n",
       "        }}\n",
       "}});\n",
       "\n",
       "// Listen for the removal of the full notebook cells\n",
       "var notebookContainer = gd.closest('#notebook-container');\n",
       "if (notebookContainer) {{\n",
       "    x.observe(notebookContainer, {childList: true});\n",
       "}}\n",
       "\n",
       "// Listen for the clearing of the current output cell\n",
       "var outputEl = gd.closest('.output');\n",
       "if (outputEl) {{\n",
       "    x.observe(outputEl, {childList: true});\n",
       "}}\n",
       "\n",
       "                        })                };                });            </script>        </div>"
      ]
     },
     "metadata": {},
     "output_type": "display_data"
    },
    {
     "data": {
      "application/vnd.plotly.v1+json": {
       "config": {
        "plotlyServerURL": "https://plot.ly"
       },
       "data": [
        {
         "type": "histogram",
         "x": [
          null,
          3.67,
          0.12,
          14.71,
          6.36,
          27.62,
          -4.83,
          5.51,
          15.15,
          0.45,
          -7.52,
          7.79,
          -0.39,
          1.19,
          10.55,
          8.07,
          -6.21,
          0.71,
          -0.88,
          3.96,
          -4.44,
          1.43,
          5.51,
          -1.39,
          -2.12,
          9.44,
          3.55,
          -1.37,
          38.87,
          -1.91,
          -14.26,
          -2.17,
          -6.11,
          4.05,
          3.05,
          -3,
          17.3,
          -6.62,
          -17.3,
          -7.2,
          -12.42,
          -4.02,
          -4.85,
          7.28,
          -1.14,
          4.18,
          -7.64,
          -4.02,
          3.52,
          -1.21,
          3.11,
          -1.31,
          -2.57,
          6.27,
          -1.47,
          -1.97,
          2.44,
          5.84,
          5.51,
          -11.02,
          -12.67,
          -5.19,
          -2.2,
          -0.16,
          -0.36,
          0.04,
          -3.96,
          1.15,
          3.71,
          4.09,
          -0.83,
          -3.08,
          2.36,
          -4.49,
          8.96,
          -1.18,
          -2.99,
          -6.58,
          1.36,
          3.41,
          0.9,
          -2.02,
          -3.58,
          -1.07,
          -0.38,
          2.43,
          7.88,
          -6.32,
          1.78,
          1.35,
          1.25,
          -3.13,
          -0.16,
          -6.44,
          -3.55,
          12.15,
          -5.81,
          -4.62,
          -0.88,
          2,
          1,
          -0.39,
          0.43,
          1.25,
          1.83,
          0.5,
          -16.83,
          -1.45,
          0.61,
          1.56,
          0,
          -2.43,
          1.93,
          -2.15,
          -6.99,
          1.75,
          1.02,
          4.27,
          0.26,
          1.73,
          -1.6,
          -0.46,
          1.84,
          5.08,
          -3.06,
          -4.89,
          -0.26,
          -1.14,
          -3.58,
          -2.24,
          -2.96,
          -0.75,
          -0.99,
          -1.46,
          1.19,
          -1.76,
          -2.87,
          -1.54,
          -7.13,
          1.48,
          -4.71,
          1.88,
          6.69,
          3.97,
          -3.69,
          -2.75,
          -2.63,
          -1.08,
          0.82,
          -3.18,
          1.12,
          -3.67,
          5.03,
          -0.21,
          -0.48,
          -3.17,
          -1.85,
          -5.58,
          6.06,
          -3.25,
          1.2,
          -2.44,
          -8.78,
          -2.24,
          5.69,
          -3.86,
          3.51,
          -0.16,
          -18.92,
          1.1,
          -7.59,
          -2.99,
          0.11,
          -6.92,
          1.53,
          -1.4,
          -0.47,
          -5.69,
          2.26,
          13.02,
          5.65,
          -3.6,
          -9.71,
          6.26,
          -4.67,
          1.87,
          4.93,
          -3.38,
          -4.63,
          -3.55,
          31.94,
          -6.61,
          -10.17,
          -6.77,
          -6.9,
          3.45,
          11.25,
          2,
          5.45,
          -3.41,
          0.75,
          -12.42,
          -4.97,
          -6.12,
          0.82,
          5.39,
          -3.2,
          -3.83,
          -6.73,
          8.39,
          8.56,
          12.52,
          4.89,
          -0.85,
          3.21,
          -0.83,
          1.67,
          -3.08,
          3.5,
          12.81,
          -2.91,
          -7.58,
          1.11,
          5.51,
          -8.82,
          -5.2,
          -1.32,
          -3.34,
          0.35,
          1.15,
          3.4,
          -1.43,
          -4.78,
          7.36,
          -8.38,
          -5.11,
          0,
          4.26,
          -6.48,
          -1.03,
          2.46,
          -5.19,
          5.34,
          0.51,
          4.16,
          -9.2,
          -9.33,
          -10.74,
          -3.62,
          -8.21,
          8.75,
          11.99
         ]
        }
       ],
       "layout": {
        "bargap": 0.1,
        "template": {
         "data": {
          "bar": [
           {
            "error_x": {
             "color": "#2a3f5f"
            },
            "error_y": {
             "color": "#2a3f5f"
            },
            "marker": {
             "line": {
              "color": "#E5ECF6",
              "width": 0.5
             },
             "pattern": {
              "fillmode": "overlay",
              "size": 10,
              "solidity": 0.2
             }
            },
            "type": "bar"
           }
          ],
          "barpolar": [
           {
            "marker": {
             "line": {
              "color": "#E5ECF6",
              "width": 0.5
             },
             "pattern": {
              "fillmode": "overlay",
              "size": 10,
              "solidity": 0.2
             }
            },
            "type": "barpolar"
           }
          ],
          "carpet": [
           {
            "aaxis": {
             "endlinecolor": "#2a3f5f",
             "gridcolor": "white",
             "linecolor": "white",
             "minorgridcolor": "white",
             "startlinecolor": "#2a3f5f"
            },
            "baxis": {
             "endlinecolor": "#2a3f5f",
             "gridcolor": "white",
             "linecolor": "white",
             "minorgridcolor": "white",
             "startlinecolor": "#2a3f5f"
            },
            "type": "carpet"
           }
          ],
          "choropleth": [
           {
            "colorbar": {
             "outlinewidth": 0,
             "ticks": ""
            },
            "type": "choropleth"
           }
          ],
          "contour": [
           {
            "colorbar": {
             "outlinewidth": 0,
             "ticks": ""
            },
            "colorscale": [
             [
              0,
              "#0d0887"
             ],
             [
              0.1111111111111111,
              "#46039f"
             ],
             [
              0.2222222222222222,
              "#7201a8"
             ],
             [
              0.3333333333333333,
              "#9c179e"
             ],
             [
              0.4444444444444444,
              "#bd3786"
             ],
             [
              0.5555555555555556,
              "#d8576b"
             ],
             [
              0.6666666666666666,
              "#ed7953"
             ],
             [
              0.7777777777777778,
              "#fb9f3a"
             ],
             [
              0.8888888888888888,
              "#fdca26"
             ],
             [
              1,
              "#f0f921"
             ]
            ],
            "type": "contour"
           }
          ],
          "contourcarpet": [
           {
            "colorbar": {
             "outlinewidth": 0,
             "ticks": ""
            },
            "type": "contourcarpet"
           }
          ],
          "heatmap": [
           {
            "colorbar": {
             "outlinewidth": 0,
             "ticks": ""
            },
            "colorscale": [
             [
              0,
              "#0d0887"
             ],
             [
              0.1111111111111111,
              "#46039f"
             ],
             [
              0.2222222222222222,
              "#7201a8"
             ],
             [
              0.3333333333333333,
              "#9c179e"
             ],
             [
              0.4444444444444444,
              "#bd3786"
             ],
             [
              0.5555555555555556,
              "#d8576b"
             ],
             [
              0.6666666666666666,
              "#ed7953"
             ],
             [
              0.7777777777777778,
              "#fb9f3a"
             ],
             [
              0.8888888888888888,
              "#fdca26"
             ],
             [
              1,
              "#f0f921"
             ]
            ],
            "type": "heatmap"
           }
          ],
          "heatmapgl": [
           {
            "colorbar": {
             "outlinewidth": 0,
             "ticks": ""
            },
            "colorscale": [
             [
              0,
              "#0d0887"
             ],
             [
              0.1111111111111111,
              "#46039f"
             ],
             [
              0.2222222222222222,
              "#7201a8"
             ],
             [
              0.3333333333333333,
              "#9c179e"
             ],
             [
              0.4444444444444444,
              "#bd3786"
             ],
             [
              0.5555555555555556,
              "#d8576b"
             ],
             [
              0.6666666666666666,
              "#ed7953"
             ],
             [
              0.7777777777777778,
              "#fb9f3a"
             ],
             [
              0.8888888888888888,
              "#fdca26"
             ],
             [
              1,
              "#f0f921"
             ]
            ],
            "type": "heatmapgl"
           }
          ],
          "histogram": [
           {
            "marker": {
             "pattern": {
              "fillmode": "overlay",
              "size": 10,
              "solidity": 0.2
             }
            },
            "type": "histogram"
           }
          ],
          "histogram2d": [
           {
            "colorbar": {
             "outlinewidth": 0,
             "ticks": ""
            },
            "colorscale": [
             [
              0,
              "#0d0887"
             ],
             [
              0.1111111111111111,
              "#46039f"
             ],
             [
              0.2222222222222222,
              "#7201a8"
             ],
             [
              0.3333333333333333,
              "#9c179e"
             ],
             [
              0.4444444444444444,
              "#bd3786"
             ],
             [
              0.5555555555555556,
              "#d8576b"
             ],
             [
              0.6666666666666666,
              "#ed7953"
             ],
             [
              0.7777777777777778,
              "#fb9f3a"
             ],
             [
              0.8888888888888888,
              "#fdca26"
             ],
             [
              1,
              "#f0f921"
             ]
            ],
            "type": "histogram2d"
           }
          ],
          "histogram2dcontour": [
           {
            "colorbar": {
             "outlinewidth": 0,
             "ticks": ""
            },
            "colorscale": [
             [
              0,
              "#0d0887"
             ],
             [
              0.1111111111111111,
              "#46039f"
             ],
             [
              0.2222222222222222,
              "#7201a8"
             ],
             [
              0.3333333333333333,
              "#9c179e"
             ],
             [
              0.4444444444444444,
              "#bd3786"
             ],
             [
              0.5555555555555556,
              "#d8576b"
             ],
             [
              0.6666666666666666,
              "#ed7953"
             ],
             [
              0.7777777777777778,
              "#fb9f3a"
             ],
             [
              0.8888888888888888,
              "#fdca26"
             ],
             [
              1,
              "#f0f921"
             ]
            ],
            "type": "histogram2dcontour"
           }
          ],
          "mesh3d": [
           {
            "colorbar": {
             "outlinewidth": 0,
             "ticks": ""
            },
            "type": "mesh3d"
           }
          ],
          "parcoords": [
           {
            "line": {
             "colorbar": {
              "outlinewidth": 0,
              "ticks": ""
             }
            },
            "type": "parcoords"
           }
          ],
          "pie": [
           {
            "automargin": true,
            "type": "pie"
           }
          ],
          "scatter": [
           {
            "fillpattern": {
             "fillmode": "overlay",
             "size": 10,
             "solidity": 0.2
            },
            "type": "scatter"
           }
          ],
          "scatter3d": [
           {
            "line": {
             "colorbar": {
              "outlinewidth": 0,
              "ticks": ""
             }
            },
            "marker": {
             "colorbar": {
              "outlinewidth": 0,
              "ticks": ""
             }
            },
            "type": "scatter3d"
           }
          ],
          "scattercarpet": [
           {
            "marker": {
             "colorbar": {
              "outlinewidth": 0,
              "ticks": ""
             }
            },
            "type": "scattercarpet"
           }
          ],
          "scattergeo": [
           {
            "marker": {
             "colorbar": {
              "outlinewidth": 0,
              "ticks": ""
             }
            },
            "type": "scattergeo"
           }
          ],
          "scattergl": [
           {
            "marker": {
             "colorbar": {
              "outlinewidth": 0,
              "ticks": ""
             }
            },
            "type": "scattergl"
           }
          ],
          "scattermapbox": [
           {
            "marker": {
             "colorbar": {
              "outlinewidth": 0,
              "ticks": ""
             }
            },
            "type": "scattermapbox"
           }
          ],
          "scatterpolar": [
           {
            "marker": {
             "colorbar": {
              "outlinewidth": 0,
              "ticks": ""
             }
            },
            "type": "scatterpolar"
           }
          ],
          "scatterpolargl": [
           {
            "marker": {
             "colorbar": {
              "outlinewidth": 0,
              "ticks": ""
             }
            },
            "type": "scatterpolargl"
           }
          ],
          "scatterternary": [
           {
            "marker": {
             "colorbar": {
              "outlinewidth": 0,
              "ticks": ""
             }
            },
            "type": "scatterternary"
           }
          ],
          "surface": [
           {
            "colorbar": {
             "outlinewidth": 0,
             "ticks": ""
            },
            "colorscale": [
             [
              0,
              "#0d0887"
             ],
             [
              0.1111111111111111,
              "#46039f"
             ],
             [
              0.2222222222222222,
              "#7201a8"
             ],
             [
              0.3333333333333333,
              "#9c179e"
             ],
             [
              0.4444444444444444,
              "#bd3786"
             ],
             [
              0.5555555555555556,
              "#d8576b"
             ],
             [
              0.6666666666666666,
              "#ed7953"
             ],
             [
              0.7777777777777778,
              "#fb9f3a"
             ],
             [
              0.8888888888888888,
              "#fdca26"
             ],
             [
              1,
              "#f0f921"
             ]
            ],
            "type": "surface"
           }
          ],
          "table": [
           {
            "cells": {
             "fill": {
              "color": "#EBF0F8"
             },
             "line": {
              "color": "white"
             }
            },
            "header": {
             "fill": {
              "color": "#C8D4E3"
             },
             "line": {
              "color": "white"
             }
            },
            "type": "table"
           }
          ]
         },
         "layout": {
          "annotationdefaults": {
           "arrowcolor": "#2a3f5f",
           "arrowhead": 0,
           "arrowwidth": 1
          },
          "autotypenumbers": "strict",
          "coloraxis": {
           "colorbar": {
            "outlinewidth": 0,
            "ticks": ""
           }
          },
          "colorscale": {
           "diverging": [
            [
             0,
             "#8e0152"
            ],
            [
             0.1,
             "#c51b7d"
            ],
            [
             0.2,
             "#de77ae"
            ],
            [
             0.3,
             "#f1b6da"
            ],
            [
             0.4,
             "#fde0ef"
            ],
            [
             0.5,
             "#f7f7f7"
            ],
            [
             0.6,
             "#e6f5d0"
            ],
            [
             0.7,
             "#b8e186"
            ],
            [
             0.8,
             "#7fbc41"
            ],
            [
             0.9,
             "#4d9221"
            ],
            [
             1,
             "#276419"
            ]
           ],
           "sequential": [
            [
             0,
             "#0d0887"
            ],
            [
             0.1111111111111111,
             "#46039f"
            ],
            [
             0.2222222222222222,
             "#7201a8"
            ],
            [
             0.3333333333333333,
             "#9c179e"
            ],
            [
             0.4444444444444444,
             "#bd3786"
            ],
            [
             0.5555555555555556,
             "#d8576b"
            ],
            [
             0.6666666666666666,
             "#ed7953"
            ],
            [
             0.7777777777777778,
             "#fb9f3a"
            ],
            [
             0.8888888888888888,
             "#fdca26"
            ],
            [
             1,
             "#f0f921"
            ]
           ],
           "sequentialminus": [
            [
             0,
             "#0d0887"
            ],
            [
             0.1111111111111111,
             "#46039f"
            ],
            [
             0.2222222222222222,
             "#7201a8"
            ],
            [
             0.3333333333333333,
             "#9c179e"
            ],
            [
             0.4444444444444444,
             "#bd3786"
            ],
            [
             0.5555555555555556,
             "#d8576b"
            ],
            [
             0.6666666666666666,
             "#ed7953"
            ],
            [
             0.7777777777777778,
             "#fb9f3a"
            ],
            [
             0.8888888888888888,
             "#fdca26"
            ],
            [
             1,
             "#f0f921"
            ]
           ]
          },
          "colorway": [
           "#636efa",
           "#EF553B",
           "#00cc96",
           "#ab63fa",
           "#FFA15A",
           "#19d3f3",
           "#FF6692",
           "#B6E880",
           "#FF97FF",
           "#FECB52"
          ],
          "font": {
           "color": "#2a3f5f"
          },
          "geo": {
           "bgcolor": "white",
           "lakecolor": "white",
           "landcolor": "#E5ECF6",
           "showlakes": true,
           "showland": true,
           "subunitcolor": "white"
          },
          "hoverlabel": {
           "align": "left"
          },
          "hovermode": "closest",
          "mapbox": {
           "style": "light"
          },
          "paper_bgcolor": "white",
          "plot_bgcolor": "#E5ECF6",
          "polar": {
           "angularaxis": {
            "gridcolor": "white",
            "linecolor": "white",
            "ticks": ""
           },
           "bgcolor": "#E5ECF6",
           "radialaxis": {
            "gridcolor": "white",
            "linecolor": "white",
            "ticks": ""
           }
          },
          "scene": {
           "xaxis": {
            "backgroundcolor": "#E5ECF6",
            "gridcolor": "white",
            "gridwidth": 2,
            "linecolor": "white",
            "showbackground": true,
            "ticks": "",
            "zerolinecolor": "white"
           },
           "yaxis": {
            "backgroundcolor": "#E5ECF6",
            "gridcolor": "white",
            "gridwidth": 2,
            "linecolor": "white",
            "showbackground": true,
            "ticks": "",
            "zerolinecolor": "white"
           },
           "zaxis": {
            "backgroundcolor": "#E5ECF6",
            "gridcolor": "white",
            "gridwidth": 2,
            "linecolor": "white",
            "showbackground": true,
            "ticks": "",
            "zerolinecolor": "white"
           }
          },
          "shapedefaults": {
           "line": {
            "color": "#2a3f5f"
           }
          },
          "ternary": {
           "aaxis": {
            "gridcolor": "white",
            "linecolor": "white",
            "ticks": ""
           },
           "baxis": {
            "gridcolor": "white",
            "linecolor": "white",
            "ticks": ""
           },
           "bgcolor": "#E5ECF6",
           "caxis": {
            "gridcolor": "white",
            "linecolor": "white",
            "ticks": ""
           }
          },
          "title": {
           "x": 0.05
          },
          "xaxis": {
           "automargin": true,
           "gridcolor": "white",
           "linecolor": "white",
           "ticks": "",
           "title": {
            "standoff": 15
           },
           "zerolinecolor": "white",
           "zerolinewidth": 2
          },
          "yaxis": {
           "automargin": true,
           "gridcolor": "white",
           "linecolor": "white",
           "ticks": "",
           "title": {
            "standoff": 15
           },
           "zerolinecolor": "white",
           "zerolinewidth": 2
          }
         }
        },
        "title": {
         "text": "Daily Return % Frequency Histogram"
        },
        "xaxis": {
         "title": {
          "text": "Daily Return %"
         }
        },
        "yaxis": {
         "title": {
          "text": "Count"
         }
        }
       }
      },
      "text/html": [
       "<div>                            <div id=\"49ea86df-308c-401e-bf1b-1f53905c6e22\" class=\"plotly-graph-div\" style=\"height:525px; width:100%;\"></div>            <script type=\"text/javascript\">                require([\"plotly\"], function(Plotly) {                    window.PLOTLYENV=window.PLOTLYENV || {};                                    if (document.getElementById(\"49ea86df-308c-401e-bf1b-1f53905c6e22\")) {                    Plotly.newPlot(                        \"49ea86df-308c-401e-bf1b-1f53905c6e22\",                        [{\"x\":[null,3.67,0.12,14.71,6.36,27.62,-4.83,5.51,15.15,0.45,-7.52,7.79,-0.39,1.19,10.55,8.07,-6.21,0.71,-0.88,3.96,-4.44,1.43,5.51,-1.39,-2.12,9.44,3.55,-1.37,38.87,-1.91,-14.26,-2.17,-6.11,4.05,3.05,-3.0,17.3,-6.62,-17.3,-7.2,-12.42,-4.02,-4.85,7.28,-1.14,4.18,-7.64,-4.02,3.52,-1.21,3.11,-1.31,-2.57,6.27,-1.47,-1.97,2.44,5.84,5.51,-11.02,-12.67,-5.19,-2.2,-0.16,-0.36,0.04,-3.96,1.15,3.71,4.09,-0.83,-3.08,2.36,-4.49,8.96,-1.18,-2.99,-6.58,1.36,3.41,0.9,-2.02,-3.58,-1.07,-0.38,2.43,7.88,-6.32,1.78,1.35,1.25,-3.13,-0.16,-6.44,-3.55,12.15,-5.81,-4.62,-0.88,2.0,1.0,-0.39,0.43,1.25,1.83,0.5,-16.83,-1.45,0.61,1.56,0.0,-2.43,1.93,-2.15,-6.99,1.75,1.02,4.27,0.26,1.73,-1.6,-0.46,1.84,5.08,-3.06,-4.89,-0.26,-1.14,-3.58,-2.24,-2.96,-0.75,-0.99,-1.46,1.19,-1.76,-2.87,-1.54,-7.13,1.48,-4.71,1.88,6.69,3.97,-3.69,-2.75,-2.63,-1.08,0.82,-3.18,1.12,-3.67,5.03,-0.21,-0.48,-3.17,-1.85,-5.58,6.06,-3.25,1.2,-2.44,-8.78,-2.24,5.69,-3.86,3.51,-0.16,-18.92,1.1,-7.59,-2.99,0.11,-6.92,1.53,-1.4,-0.47,-5.69,2.26,13.02,5.65,-3.6,-9.71,6.26,-4.67,1.87,4.93,-3.38,-4.63,-3.55,31.94,-6.61,-10.17,-6.77,-6.9,3.45,11.25,2.0,5.45,-3.41,0.75,-12.42,-4.97,-6.12,0.82,5.39,-3.2,-3.83,-6.73,8.39,8.56,12.52,4.89,-0.85,3.21,-0.83,1.67,-3.08,3.5,12.81,-2.91,-7.58,1.11,5.51,-8.82,-5.2,-1.32,-3.34,0.35,1.15,3.4,-1.43,-4.78,7.36,-8.38,-5.11,0.0,4.26,-6.48,-1.03,2.46,-5.19,5.34,0.51,4.16,-9.2,-9.33,-10.74,-3.62,-8.21,8.75,11.99],\"type\":\"histogram\"}],                        {\"template\":{\"data\":{\"histogram2dcontour\":[{\"type\":\"histogram2dcontour\",\"colorbar\":{\"outlinewidth\":0,\"ticks\":\"\"},\"colorscale\":[[0.0,\"#0d0887\"],[0.1111111111111111,\"#46039f\"],[0.2222222222222222,\"#7201a8\"],[0.3333333333333333,\"#9c179e\"],[0.4444444444444444,\"#bd3786\"],[0.5555555555555556,\"#d8576b\"],[0.6666666666666666,\"#ed7953\"],[0.7777777777777778,\"#fb9f3a\"],[0.8888888888888888,\"#fdca26\"],[1.0,\"#f0f921\"]]}],\"choropleth\":[{\"type\":\"choropleth\",\"colorbar\":{\"outlinewidth\":0,\"ticks\":\"\"}}],\"histogram2d\":[{\"type\":\"histogram2d\",\"colorbar\":{\"outlinewidth\":0,\"ticks\":\"\"},\"colorscale\":[[0.0,\"#0d0887\"],[0.1111111111111111,\"#46039f\"],[0.2222222222222222,\"#7201a8\"],[0.3333333333333333,\"#9c179e\"],[0.4444444444444444,\"#bd3786\"],[0.5555555555555556,\"#d8576b\"],[0.6666666666666666,\"#ed7953\"],[0.7777777777777778,\"#fb9f3a\"],[0.8888888888888888,\"#fdca26\"],[1.0,\"#f0f921\"]]}],\"heatmap\":[{\"type\":\"heatmap\",\"colorbar\":{\"outlinewidth\":0,\"ticks\":\"\"},\"colorscale\":[[0.0,\"#0d0887\"],[0.1111111111111111,\"#46039f\"],[0.2222222222222222,\"#7201a8\"],[0.3333333333333333,\"#9c179e\"],[0.4444444444444444,\"#bd3786\"],[0.5555555555555556,\"#d8576b\"],[0.6666666666666666,\"#ed7953\"],[0.7777777777777778,\"#fb9f3a\"],[0.8888888888888888,\"#fdca26\"],[1.0,\"#f0f921\"]]}],\"heatmapgl\":[{\"type\":\"heatmapgl\",\"colorbar\":{\"outlinewidth\":0,\"ticks\":\"\"},\"colorscale\":[[0.0,\"#0d0887\"],[0.1111111111111111,\"#46039f\"],[0.2222222222222222,\"#7201a8\"],[0.3333333333333333,\"#9c179e\"],[0.4444444444444444,\"#bd3786\"],[0.5555555555555556,\"#d8576b\"],[0.6666666666666666,\"#ed7953\"],[0.7777777777777778,\"#fb9f3a\"],[0.8888888888888888,\"#fdca26\"],[1.0,\"#f0f921\"]]}],\"contourcarpet\":[{\"type\":\"contourcarpet\",\"colorbar\":{\"outlinewidth\":0,\"ticks\":\"\"}}],\"contour\":[{\"type\":\"contour\",\"colorbar\":{\"outlinewidth\":0,\"ticks\":\"\"},\"colorscale\":[[0.0,\"#0d0887\"],[0.1111111111111111,\"#46039f\"],[0.2222222222222222,\"#7201a8\"],[0.3333333333333333,\"#9c179e\"],[0.4444444444444444,\"#bd3786\"],[0.5555555555555556,\"#d8576b\"],[0.6666666666666666,\"#ed7953\"],[0.7777777777777778,\"#fb9f3a\"],[0.8888888888888888,\"#fdca26\"],[1.0,\"#f0f921\"]]}],\"surface\":[{\"type\":\"surface\",\"colorbar\":{\"outlinewidth\":0,\"ticks\":\"\"},\"colorscale\":[[0.0,\"#0d0887\"],[0.1111111111111111,\"#46039f\"],[0.2222222222222222,\"#7201a8\"],[0.3333333333333333,\"#9c179e\"],[0.4444444444444444,\"#bd3786\"],[0.5555555555555556,\"#d8576b\"],[0.6666666666666666,\"#ed7953\"],[0.7777777777777778,\"#fb9f3a\"],[0.8888888888888888,\"#fdca26\"],[1.0,\"#f0f921\"]]}],\"mesh3d\":[{\"type\":\"mesh3d\",\"colorbar\":{\"outlinewidth\":0,\"ticks\":\"\"}}],\"scatter\":[{\"fillpattern\":{\"fillmode\":\"overlay\",\"size\":10,\"solidity\":0.2},\"type\":\"scatter\"}],\"parcoords\":[{\"type\":\"parcoords\",\"line\":{\"colorbar\":{\"outlinewidth\":0,\"ticks\":\"\"}}}],\"scatterpolargl\":[{\"type\":\"scatterpolargl\",\"marker\":{\"colorbar\":{\"outlinewidth\":0,\"ticks\":\"\"}}}],\"bar\":[{\"error_x\":{\"color\":\"#2a3f5f\"},\"error_y\":{\"color\":\"#2a3f5f\"},\"marker\":{\"line\":{\"color\":\"#E5ECF6\",\"width\":0.5},\"pattern\":{\"fillmode\":\"overlay\",\"size\":10,\"solidity\":0.2}},\"type\":\"bar\"}],\"scattergeo\":[{\"type\":\"scattergeo\",\"marker\":{\"colorbar\":{\"outlinewidth\":0,\"ticks\":\"\"}}}],\"scatterpolar\":[{\"type\":\"scatterpolar\",\"marker\":{\"colorbar\":{\"outlinewidth\":0,\"ticks\":\"\"}}}],\"histogram\":[{\"marker\":{\"pattern\":{\"fillmode\":\"overlay\",\"size\":10,\"solidity\":0.2}},\"type\":\"histogram\"}],\"scattergl\":[{\"type\":\"scattergl\",\"marker\":{\"colorbar\":{\"outlinewidth\":0,\"ticks\":\"\"}}}],\"scatter3d\":[{\"type\":\"scatter3d\",\"line\":{\"colorbar\":{\"outlinewidth\":0,\"ticks\":\"\"}},\"marker\":{\"colorbar\":{\"outlinewidth\":0,\"ticks\":\"\"}}}],\"scattermapbox\":[{\"type\":\"scattermapbox\",\"marker\":{\"colorbar\":{\"outlinewidth\":0,\"ticks\":\"\"}}}],\"scatterternary\":[{\"type\":\"scatterternary\",\"marker\":{\"colorbar\":{\"outlinewidth\":0,\"ticks\":\"\"}}}],\"scattercarpet\":[{\"type\":\"scattercarpet\",\"marker\":{\"colorbar\":{\"outlinewidth\":0,\"ticks\":\"\"}}}],\"carpet\":[{\"aaxis\":{\"endlinecolor\":\"#2a3f5f\",\"gridcolor\":\"white\",\"linecolor\":\"white\",\"minorgridcolor\":\"white\",\"startlinecolor\":\"#2a3f5f\"},\"baxis\":{\"endlinecolor\":\"#2a3f5f\",\"gridcolor\":\"white\",\"linecolor\":\"white\",\"minorgridcolor\":\"white\",\"startlinecolor\":\"#2a3f5f\"},\"type\":\"carpet\"}],\"table\":[{\"cells\":{\"fill\":{\"color\":\"#EBF0F8\"},\"line\":{\"color\":\"white\"}},\"header\":{\"fill\":{\"color\":\"#C8D4E3\"},\"line\":{\"color\":\"white\"}},\"type\":\"table\"}],\"barpolar\":[{\"marker\":{\"line\":{\"color\":\"#E5ECF6\",\"width\":0.5},\"pattern\":{\"fillmode\":\"overlay\",\"size\":10,\"solidity\":0.2}},\"type\":\"barpolar\"}],\"pie\":[{\"automargin\":true,\"type\":\"pie\"}]},\"layout\":{\"autotypenumbers\":\"strict\",\"colorway\":[\"#636efa\",\"#EF553B\",\"#00cc96\",\"#ab63fa\",\"#FFA15A\",\"#19d3f3\",\"#FF6692\",\"#B6E880\",\"#FF97FF\",\"#FECB52\"],\"font\":{\"color\":\"#2a3f5f\"},\"hovermode\":\"closest\",\"hoverlabel\":{\"align\":\"left\"},\"paper_bgcolor\":\"white\",\"plot_bgcolor\":\"#E5ECF6\",\"polar\":{\"bgcolor\":\"#E5ECF6\",\"angularaxis\":{\"gridcolor\":\"white\",\"linecolor\":\"white\",\"ticks\":\"\"},\"radialaxis\":{\"gridcolor\":\"white\",\"linecolor\":\"white\",\"ticks\":\"\"}},\"ternary\":{\"bgcolor\":\"#E5ECF6\",\"aaxis\":{\"gridcolor\":\"white\",\"linecolor\":\"white\",\"ticks\":\"\"},\"baxis\":{\"gridcolor\":\"white\",\"linecolor\":\"white\",\"ticks\":\"\"},\"caxis\":{\"gridcolor\":\"white\",\"linecolor\":\"white\",\"ticks\":\"\"}},\"coloraxis\":{\"colorbar\":{\"outlinewidth\":0,\"ticks\":\"\"}},\"colorscale\":{\"sequential\":[[0.0,\"#0d0887\"],[0.1111111111111111,\"#46039f\"],[0.2222222222222222,\"#7201a8\"],[0.3333333333333333,\"#9c179e\"],[0.4444444444444444,\"#bd3786\"],[0.5555555555555556,\"#d8576b\"],[0.6666666666666666,\"#ed7953\"],[0.7777777777777778,\"#fb9f3a\"],[0.8888888888888888,\"#fdca26\"],[1.0,\"#f0f921\"]],\"sequentialminus\":[[0.0,\"#0d0887\"],[0.1111111111111111,\"#46039f\"],[0.2222222222222222,\"#7201a8\"],[0.3333333333333333,\"#9c179e\"],[0.4444444444444444,\"#bd3786\"],[0.5555555555555556,\"#d8576b\"],[0.6666666666666666,\"#ed7953\"],[0.7777777777777778,\"#fb9f3a\"],[0.8888888888888888,\"#fdca26\"],[1.0,\"#f0f921\"]],\"diverging\":[[0,\"#8e0152\"],[0.1,\"#c51b7d\"],[0.2,\"#de77ae\"],[0.3,\"#f1b6da\"],[0.4,\"#fde0ef\"],[0.5,\"#f7f7f7\"],[0.6,\"#e6f5d0\"],[0.7,\"#b8e186\"],[0.8,\"#7fbc41\"],[0.9,\"#4d9221\"],[1,\"#276419\"]]},\"xaxis\":{\"gridcolor\":\"white\",\"linecolor\":\"white\",\"ticks\":\"\",\"title\":{\"standoff\":15},\"zerolinecolor\":\"white\",\"automargin\":true,\"zerolinewidth\":2},\"yaxis\":{\"gridcolor\":\"white\",\"linecolor\":\"white\",\"ticks\":\"\",\"title\":{\"standoff\":15},\"zerolinecolor\":\"white\",\"automargin\":true,\"zerolinewidth\":2},\"scene\":{\"xaxis\":{\"backgroundcolor\":\"#E5ECF6\",\"gridcolor\":\"white\",\"linecolor\":\"white\",\"showbackground\":true,\"ticks\":\"\",\"zerolinecolor\":\"white\",\"gridwidth\":2},\"yaxis\":{\"backgroundcolor\":\"#E5ECF6\",\"gridcolor\":\"white\",\"linecolor\":\"white\",\"showbackground\":true,\"ticks\":\"\",\"zerolinecolor\":\"white\",\"gridwidth\":2},\"zaxis\":{\"backgroundcolor\":\"#E5ECF6\",\"gridcolor\":\"white\",\"linecolor\":\"white\",\"showbackground\":true,\"ticks\":\"\",\"zerolinecolor\":\"white\",\"gridwidth\":2}},\"shapedefaults\":{\"line\":{\"color\":\"#2a3f5f\"}},\"annotationdefaults\":{\"arrowcolor\":\"#2a3f5f\",\"arrowhead\":0,\"arrowwidth\":1},\"geo\":{\"bgcolor\":\"white\",\"landcolor\":\"#E5ECF6\",\"subunitcolor\":\"white\",\"showland\":true,\"showlakes\":true,\"lakecolor\":\"white\"},\"title\":{\"x\":0.05},\"mapbox\":{\"style\":\"light\"}}},\"title\":{\"text\":\"Daily Return % Frequency Histogram\"},\"xaxis\":{\"title\":{\"text\":\"Daily Return %\"}},\"yaxis\":{\"title\":{\"text\":\"Count\"}},\"bargap\":0.1},                        {\"responsive\": true}                    ).then(function(){\n",
       "                            \n",
       "var gd = document.getElementById('49ea86df-308c-401e-bf1b-1f53905c6e22');\n",
       "var x = new MutationObserver(function (mutations, observer) {{\n",
       "        var display = window.getComputedStyle(gd).display;\n",
       "        if (!display || display === 'none') {{\n",
       "            console.log([gd, 'removed!']);\n",
       "            Plotly.purge(gd);\n",
       "            observer.disconnect();\n",
       "        }}\n",
       "}});\n",
       "\n",
       "// Listen for the removal of the full notebook cells\n",
       "var notebookContainer = gd.closest('#notebook-container');\n",
       "if (notebookContainer) {{\n",
       "    x.observe(notebookContainer, {childList: true});\n",
       "}}\n",
       "\n",
       "// Listen for the clearing of the current output cell\n",
       "var outputEl = gd.closest('.output');\n",
       "if (outputEl) {{\n",
       "    x.observe(outputEl, {childList: true});\n",
       "}}\n",
       "\n",
       "                        })                };                });            </script>        </div>"
      ]
     },
     "metadata": {},
     "output_type": "display_data"
    },
    {
     "data": {
      "application/vnd.plotly.v1+json": {
       "config": {
        "plotlyServerURL": "https://plot.ly"
       },
       "data": [
        {
         "cells": {
          "align": "left",
          "fill": {
           "color": "lavender"
          },
          "font": {
           "size": 10
          },
          "values": [
           [
            16.11,
            16.73,
            16.44,
            20.62,
            20.37,
            25.31,
            25.37,
            25.85,
            27.4,
            31.27,
            30.05,
            28.59,
            32.21,
            30.9,
            31.45,
            35.28,
            38.19,
            35.74,
            35.08,
            35.27,
            36.45,
            34.6,
            35.12,
            37.31,
            36.27,
            35.82,
            38.96,
            41.1,
            47.81,
            57.15,
            52.3,
            44.42,
            46,
            53.23,
            45.15,
            46.43,
            43.83,
            50.94,
            49.55,
            40.34,
            37.27,
            33.03,
            32.54,
            29.45,
            31.09,
            31.26,
            33.13,
            30.5,
            29.58,
            30.37,
            30.47,
            31.16,
            30.82,
            29.82,
            31.44,
            31.32,
            31,
            31.79,
            33,
            34.75,
            29.85,
            26.79,
            25.23,
            25.59,
            25.02,
            25.19,
            25.26,
            24.12,
            24.6,
            25.58,
            26.7,
            26.1,
            25.54,
            25.97,
            25.95,
            27.06,
            26.08,
            25.29,
            24.21,
            24.65,
            25.38,
            25.71,
            24.45,
            23.99,
            24.22,
            24.28,
            24.58,
            25.43,
            25,
            25.29,
            25.75,
            25.85,
            25.11,
            24.91,
            23.54,
            24.13,
            25.07,
            23.62,
            22.79,
            22.53,
            23.03,
            23.19,
            23.07,
            23.4,
            23.65,
            24.25,
            20.47,
            19.04,
            19.5,
            19.76,
            20.21,
            20,
            19.74,
            20.04,
            18.8,
            18.36,
            18.65,
            18.86,
            19.4,
            19.51,
            20.03,
            19.66,
            19.32,
            19.89,
            20.57,
            19.31,
            19.3,
            19.2,
            18.75,
            18.32,
            17.97,
            17.4,
            17.45,
            17.04,
            16.71,
            16.42,
            16.78,
            16.09,
            16.23,
            14.93,
            15.08,
            14.19,
            15,
            15.7,
            16.04,
            15.7,
            15.17,
            14.48,
            14.57,
            14.89,
            14.23,
            13.99,
            13.93,
            14.56,
            14.6,
            14.43,
            14.01,
            13.71,
            12.96,
            13.73,
            13.48,
            13.64,
            13.02,
            12.17,
            12,
            12.43,
            12.04,
            12.47,
            10.92,
            9.89,
            10.03,
            9.55,
            9.22,
            9.05,
            8.11,
            8.45,
            8.71,
            8.49,
            7.98,
            8.25,
            9.5,
            9.65,
            9.04,
            8.63,
            8.9,
            8.5,
            8.78,
            8.9,
            8.82,
            8.38,
            8.93,
            10.3,
            9.77,
            8.89,
            8.13,
            8.05,
            7.5,
            8.61,
            9.07,
            9.62,
            9.35,
            9.29,
            8.26,
            7.89,
            7.4,
            7.6,
            7.71,
            7.68,
            7.17,
            6.81,
            7.49,
            7.91,
            8.81,
            9.27,
            9.33,
            9.54,
            9.6,
            9.73,
            9.46,
            9.9,
            10.8,
            10.56,
            9.98,
            10.14,
            10.58,
            9.39,
            9.07,
            8.91,
            8.56,
            8.88,
            8.84,
            9.08,
            8.93,
            8.52,
            9.13,
            8.58,
            8.14,
            7.99,
            8.26,
            7.76,
            7.76,
            7.9,
            7.45,
            7.81,
            7.9,
            8.14,
            7.08,
            6.59,
            6.36,
            5.77,
            5.25,
            6.17
           ],
           [
            16.64,
            17.25,
            17.27,
            19.81,
            21.07,
            26.89,
            25.59,
            27,
            31.09,
            31.23,
            28.88,
            31.13,
            31.01,
            31.38,
            34.69,
            37.49,
            35.16,
            35.41,
            35.1,
            36.49,
            34.87,
            35.37,
            37.32,
            36.8,
            36.02,
            39.42,
            40.82,
            40.26,
            55.91,
            54.84,
            47.02,
            46,
            43.19,
            44.94,
            46.31,
            44.92,
            52.69,
            49.2,
            40.69,
            37.76,
            33.07,
            31.74,
            30.2,
            32.4,
            32.03,
            33.37,
            30.82,
            29.58,
            30.62,
            30.25,
            31.19,
            30.78,
            29.99,
            31.87,
            31.4,
            30.78,
            31.53,
            33.37,
            35.21,
            31.33,
            27.36,
            25.94,
            25.37,
            25.33,
            25.24,
            25.25,
            24.25,
            24.53,
            25.44,
            26.48,
            26.26,
            25.45,
            26.05,
            24.88,
            27.11,
            26.79,
            25.99,
            24.28,
            24.61,
            25.45,
            25.68,
            25.16,
            24.26,
            24,
            23.91,
            24.49,
            26.42,
            24.75,
            25.19,
            25.53,
            25.85,
            25.04,
            25,
            23.39,
            22.56,
            25.3,
            23.83,
            22.73,
            22.53,
            22.98,
            23.21,
            23.12,
            23.22,
            23.51,
            23.94,
            24.06,
            20.01,
            19.72,
            19.84,
            20.15,
            20.15,
            19.66,
            20.04,
            19.61,
            18.24,
            18.56,
            18.75,
            19.55,
            19.6,
            19.94,
            19.62,
            19.53,
            19.89,
            20.9,
            20.26,
            19.27,
            19.22,
            19,
            18.32,
            17.91,
            17.38,
            17.25,
            17.08,
            16.83,
            17.03,
            16.73,
            16.25,
            16,
            14.86,
            15.08,
            14.37,
            14.64,
            15.62,
            16.24,
            15.64,
            15.21,
            14.81,
            14.65,
            14.77,
            14.3,
            14.46,
            13.93,
            14.63,
            14.6,
            14.53,
            14.07,
            13.81,
            13.04,
            13.83,
            13.38,
            13.54,
            13.21,
            12.05,
            11.78,
            12.45,
            11.97,
            12.39,
            12.37,
            10.03,
            10.14,
            9.37,
            9.09,
            9.1,
            8.47,
            8.6,
            8.48,
            8.44,
            7.96,
            8.14,
            9.2,
            9.72,
            9.37,
            8.46,
            8.99,
            8.57,
            8.73,
            9.16,
            8.85,
            8.44,
            8.14,
            10.74,
            10.03,
            9.01,
            8.4,
            7.82,
            8.09,
            9,
            9.18,
            9.68,
            9.35,
            9.42,
            8.25,
            7.84,
            7.36,
            7.42,
            7.82,
            7.57,
            7.28,
            6.79,
            7.36,
            7.99,
            8.99,
            9.43,
            9.35,
            9.65,
            9.57,
            9.73,
            9.43,
            9.76,
            11.01,
            10.69,
            9.88,
            9.99,
            10.54,
            9.61,
            9.11,
            8.99,
            8.69,
            8.72,
            8.82,
            9.12,
            8.99,
            8.56,
            9.19,
            8.42,
            7.99,
            7.99,
            8.33,
            7.79,
            7.71,
            7.9,
            7.49,
            7.89,
            7.93,
            8.26,
            7.5,
            6.8,
            6.07,
            5.85,
            5.37,
            5.84,
            6.54
           ],
           [
            15.79,
            16.33,
            15.86,
            18.7,
            19.68,
            23.52,
            24.7,
            25.6,
            26.6,
            30.73,
            28.12,
            28.41,
            30.7,
            29.93,
            30.96,
            35.05,
            34.87,
            34.92,
            33.85,
            34.7,
            34.64,
            34.21,
            35.1,
            35.95,
            34.83,
            35.62,
            38.75,
            39.26,
            45.87,
            52.48,
            45.97,
            43.08,
            43.19,
            44.04,
            44.21,
            43.02,
            43.05,
            48.46,
            39.81,
            37.51,
            32.81,
            31.32,
            30.07,
            28.63,
            29.54,
            31.13,
            30.63,
            28.86,
            29.19,
            28.49,
            30.15,
            30.47,
            29.58,
            29.45,
            29.84,
            30.51,
            30.6,
            31.43,
            32.84,
            31,
            26.5,
            25.51,
            25.05,
            25.22,
            24.55,
            24.62,
            24.11,
            23.99,
            24.53,
            25.43,
            25.75,
            25.2,
            25.22,
            24.62,
            25.75,
            26.65,
            24.85,
            23.82,
            23.82,
            24.55,
            24.65,
            24.93,
            23.58,
            23.82,
            23.06,
            24,
            24.58,
            24.27,
            24.7,
            25.1,
            25.32,
            24.81,
            24.43,
            22.87,
            22.53,
            23.91,
            23.49,
            22.54,
            21.96,
            22.31,
            22.84,
            22.88,
            23.02,
            23.09,
            23.53,
            23.58,
            19.87,
            19,
            19.2,
            19.66,
            19.86,
            19.23,
            19.63,
            19.49,
            17.98,
            18.3,
            18.58,
            18.69,
            18.94,
            19.45,
            19.45,
            19.1,
            19.29,
            19.33,
            19.95,
            19.08,
            19.15,
            18.97,
            18.18,
            17.73,
            17.17,
            17.06,
            16.83,
            16.36,
            16.23,
            16.34,
            15.98,
            15.33,
            14.8,
            14.44,
            14.02,
            13.69,
            14.96,
            15.3,
            15.56,
            15.04,
            14.47,
            14.36,
            13.77,
            14.08,
            13.52,
            13.6,
            13.86,
            14.25,
            14.15,
            13.91,
            13.78,
            12.86,
            12.95,
            13.35,
            12.89,
            12.9,
            11.98,
            11.3,
            11.92,
            11.69,
            11.81,
            12.06,
            10.02,
            9.75,
            9.33,
            9.02,
            9.09,
            8.46,
            7.58,
            8.17,
            8.37,
            7.85,
            7.61,
            8.24,
            9.15,
            9.16,
            8.43,
            8.55,
            8.4,
            8.3,
            8.68,
            8.79,
            8.28,
            8.05,
            8.75,
            9.69,
            8.84,
            8.24,
            7.69,
            7.97,
            7.4,
            8.52,
            9.07,
            9.23,
            9.07,
            8.2,
            7.78,
            7.36,
            7.05,
            7.58,
            7.38,
            7.26,
            6.71,
            6.7,
            7.47,
            7.89,
            8.76,
            9,
            9.25,
            9.32,
            9.29,
            9.28,
            9.26,
            9.9,
            10.46,
            9.87,
            9.74,
            10.07,
            9.58,
            8.81,
            8.56,
            8.57,
            8.29,
            8.62,
            8.7,
            8.8,
            8.34,
            8.48,
            8.4,
            7.86,
            7.8,
            7.94,
            7.79,
            7.61,
            7.28,
            7.48,
            7.38,
            7.7,
            7.51,
            7.4,
            6.35,
            6.06,
            5.6,
            5.37,
            5.14,
            6.13
           ],
           [
            16.93,
            17.91,
            17.27,
            21.63,
            21.75,
            27.72,
            26.34,
            27.75,
            32.07,
            35.04,
            30.61,
            32.09,
            33.7,
            32.16,
            34.79,
            38.22,
            38.65,
            37.88,
            36.09,
            37.69,
            36.78,
            36.15,
            37.52,
            37.54,
            36.7,
            39.8,
            41.65,
            41.58,
            57.29,
            57.51,
            53.6,
            47.98,
            46.43,
            54.4,
            49.39,
            46.76,
            52.76,
            52.63,
            50.75,
            41.56,
            37.97,
            34.44,
            33.3,
            32.97,
            32.37,
            33.9,
            33.69,
            31.17,
            31.15,
            30.98,
            31.75,
            32.01,
            31.24,
            32.8,
            31.75,
            32.62,
            32.16,
            35.62,
            35.54,
            34.8,
            30,
            27.42,
            26.3,
            26.58,
            25.67,
            25.98,
            25.68,
            24.77,
            25.82,
            26.65,
            27.04,
            26.71,
            26.38,
            26.19,
            27.86,
            27.33,
            28.77,
            25.54,
            24.95,
            26,
            25.78,
            26.83,
            24.87,
            25.15,
            24.22,
            24.8,
            26.44,
            26.03,
            25.57,
            25.83,
            25.97,
            25.89,
            25.59,
            24.94,
            23.73,
            26.5,
            25.52,
            23.72,
            22.88,
            23.31,
            23.66,
            23.74,
            23.78,
            23.95,
            24.13,
            24.32,
            21.32,
            19.92,
            20.08,
            20.54,
            20.76,
            20.01,
            20.53,
            20.26,
            18.91,
            18.73,
            19.08,
            19.68,
            19.6,
            20.04,
            20.2,
            19.91,
            20.02,
            21.68,
            21.49,
            19.54,
            19.53,
            19.5,
            18.81,
            18.55,
            18,
            17.71,
            17.65,
            17.34,
            17.22,
            17.15,
            16.85,
            16.44,
            16.42,
            15.45,
            15.08,
            14.9,
            15.88,
            16.54,
            16.56,
            16.05,
            15.55,
            15.08,
            14.94,
            15.2,
            14.74,
            14.25,
            14.67,
            14.75,
            14.65,
            14.57,
            14.39,
            13.77,
            14.22,
            14.2,
            13.73,
            13.65,
            13.33,
            12.35,
            12.81,
            12.46,
            12.55,
            12.7,
            10.99,
            10.16,
            10.06,
            9.72,
            9.81,
            9.19,
            8.61,
            8.7,
            9.15,
            8.76,
            8.15,
            9.23,
            9.84,
            9.8,
            9.14,
            9.1,
            9.04,
            8.8,
            9.24,
            9.45,
            9.15,
            8.6,
            10.97,
            10.5,
            9.9,
            8.91,
            8.28,
            9.1,
            9.03,
            9.2,
            9.82,
            10.03,
            9.58,
            9.35,
            8.32,
            8.17,
            7.83,
            7.96,
            7.72,
            7.74,
            7.3,
            7.37,
            8,
            8.99,
            9.55,
            9.6,
            9.78,
            9.87,
            9.8,
            9.74,
            9.91,
            11.25,
            11.14,
            10.65,
            10.4,
            10.69,
            10.69,
            9.4,
            9.32,
            8.99,
            9.1,
            9.24,
            9.19,
            9.17,
            8.95,
            9.22,
            9.17,
            8.73,
            8.32,
            8.41,
            8.34,
            8.04,
            8,
            8.18,
            7.89,
            8.11,
            8.32,
            8.14,
            7.09,
            6.6,
            6.42,
            6.07,
            6.2,
            6.69
           ],
           [
            12113300,
            12524200,
            11444500,
            93183000,
            51030700,
            131070700,
            42375700,
            38697300,
            48704200,
            53988500,
            33144200,
            29735200,
            30748500,
            17823800,
            29047000,
            34194900,
            22543200,
            22565600,
            13931800,
            16543200,
            11827000,
            12796900,
            16351700,
            10637000,
            10825100,
            28072700,
            20805800,
            13388200,
            261349700,
            109574500,
            74308500,
            64211600,
            27076800,
            135451200,
            67327700,
            32690100,
            87460500,
            62594500,
            136485500,
            81501200,
            85253300,
            63432200,
            48790700,
            69866800,
            43650200,
            29571700,
            22501900,
            19844900,
            15401000,
            13380800,
            12894100,
            10094700,
            9283000,
            15638500,
            11706300,
            11296900,
            13663700,
            38723400,
            18125900,
            27157400,
            38907100,
            22871400,
            21417900,
            17764000,
            11583000,
            11752400,
            11139500,
            9059300,
            10897700,
            12710100,
            10425200,
            10124400,
            8578300,
            12912100,
            28429500,
            11593100,
            39715400,
            31122900,
            13754900,
            16479500,
            10330400,
            9949800,
            12597400,
            10886000,
            12381100,
            11827500,
            22997300,
            13197100,
            8181500,
            6048000,
            6594100,
            7887100,
            7678800,
            16464700,
            11285200,
            46612700,
            16868100,
            10849500,
            9055200,
            9677800,
            6855700,
            5154600,
            4948500,
            5406000,
            6339500,
            12932300,
            59068600,
            25100300,
            15227800,
            11115100,
            9978400,
            8635500,
            11296100,
            10847000,
            21577500,
            10401300,
            8307900,
            9701900,
            7911700,
            9040100,
            8253000,
            7411200,
            11882600,
            26605300,
            12948700,
            15965700,
            7009000,
            11356100,
            15359000,
            11587300,
            9551100,
            8673800,
            9344300,
            10241600,
            6988300,
            5409600,
            10278200,
            11979000,
            12880000,
            12985500,
            12958800,
            13114800,
            11251000,
            9800200,
            7069700,
            6349300,
            7375200,
            7526000,
            12518500,
            10235000,
            15631500,
            10324300,
            9863000,
            5879200,
            5963900,
            9247900,
            8452900,
            15971400,
            14674000,
            10225300,
            12474900,
            12804800,
            16690700,
            16056700,
            15906300,
            16469200,
            9942500,
            9501100,
            70536000,
            39518700,
            24038400,
            21176700,
            17954100,
            23620400,
            26558100,
            16177000,
            17476700,
            14614900,
            14041700,
            15748200,
            14935600,
            12013100,
            18265400,
            10685300,
            13941000,
            8332700,
            11271100,
            11338500,
            16097800,
            16313200,
            182253200,
            58462000,
            33539200,
            26169400,
            26465000,
            60946500,
            36472700,
            20855700,
            22777800,
            14932400,
            14676200,
            20311500,
            14888000,
            15869800,
            17984700,
            11470500,
            9681000,
            8636100,
            13663000,
            15127000,
            16488300,
            20029900,
            23798700,
            11265300,
            10640300,
            9911300,
            8210300,
            7030500,
            9594800,
            30799600,
            13839900,
            13557000,
            9931400,
            9703000,
            12182900,
            14943300,
            9180200,
            7928900,
            8796500,
            10404800,
            6330400,
            5878800,
            8090200,
            12183900,
            9154100,
            10465200,
            8624900,
            10567800,
            6674400,
            8451500,
            10304200,
            7909100,
            8698000,
            8000500,
            10324000,
            12625900,
            18926800,
            12586300,
            15537100,
            12635600,
            16577000,
            14122000
           ],
           [
            null,
            3.67,
            0.12,
            14.71,
            6.36,
            27.62,
            -4.83,
            5.51,
            15.15,
            0.45,
            -7.52,
            7.79,
            -0.39,
            1.19,
            10.55,
            8.07,
            -6.21,
            0.71,
            -0.88,
            3.96,
            -4.44,
            1.43,
            5.51,
            -1.39,
            -2.12,
            9.44,
            3.55,
            -1.37,
            38.87,
            -1.91,
            -14.26,
            -2.17,
            -6.11,
            4.05,
            3.05,
            -3,
            17.3,
            -6.62,
            -17.3,
            -7.2,
            -12.42,
            -4.02,
            -4.85,
            7.28,
            -1.14,
            4.18,
            -7.64,
            -4.02,
            3.52,
            -1.21,
            3.11,
            -1.31,
            -2.57,
            6.27,
            -1.47,
            -1.97,
            2.44,
            5.84,
            5.51,
            -11.02,
            -12.67,
            -5.19,
            -2.2,
            -0.16,
            -0.36,
            0.04,
            -3.96,
            1.15,
            3.71,
            4.09,
            -0.83,
            -3.08,
            2.36,
            -4.49,
            8.96,
            -1.18,
            -2.99,
            -6.58,
            1.36,
            3.41,
            0.9,
            -2.02,
            -3.58,
            -1.07,
            -0.38,
            2.43,
            7.88,
            -6.32,
            1.78,
            1.35,
            1.25,
            -3.13,
            -0.16,
            -6.44,
            -3.55,
            12.15,
            -5.81,
            -4.62,
            -0.88,
            2,
            1,
            -0.39,
            0.43,
            1.25,
            1.83,
            0.5,
            -16.83,
            -1.45,
            0.61,
            1.56,
            0,
            -2.43,
            1.93,
            -2.15,
            -6.99,
            1.75,
            1.02,
            4.27,
            0.26,
            1.73,
            -1.6,
            -0.46,
            1.84,
            5.08,
            -3.06,
            -4.89,
            -0.26,
            -1.14,
            -3.58,
            -2.24,
            -2.96,
            -0.75,
            -0.99,
            -1.46,
            1.19,
            -1.76,
            -2.87,
            -1.54,
            -7.13,
            1.48,
            -4.71,
            1.88,
            6.69,
            3.97,
            -3.69,
            -2.75,
            -2.63,
            -1.08,
            0.82,
            -3.18,
            1.12,
            -3.67,
            5.03,
            -0.21,
            -0.48,
            -3.17,
            -1.85,
            -5.58,
            6.06,
            -3.25,
            1.2,
            -2.44,
            -8.78,
            -2.24,
            5.69,
            -3.86,
            3.51,
            -0.16,
            -18.92,
            1.1,
            -7.59,
            -2.99,
            0.11,
            -6.92,
            1.53,
            -1.4,
            -0.47,
            -5.69,
            2.26,
            13.02,
            5.65,
            -3.6,
            -9.71,
            6.26,
            -4.67,
            1.87,
            4.93,
            -3.38,
            -4.63,
            -3.55,
            31.94,
            -6.61,
            -10.17,
            -6.77,
            -6.9,
            3.45,
            11.25,
            2,
            5.45,
            -3.41,
            0.75,
            -12.42,
            -4.97,
            -6.12,
            0.82,
            5.39,
            -3.2,
            -3.83,
            -6.73,
            8.39,
            8.56,
            12.52,
            4.89,
            -0.85,
            3.21,
            -0.83,
            1.67,
            -3.08,
            3.5,
            12.81,
            -2.91,
            -7.58,
            1.11,
            5.51,
            -8.82,
            -5.2,
            -1.32,
            -3.34,
            0.35,
            1.15,
            3.4,
            -1.43,
            -4.78,
            7.36,
            -8.38,
            -5.11,
            0,
            4.26,
            -6.48,
            -1.03,
            2.46,
            -5.19,
            5.34,
            0.51,
            4.16,
            -9.2,
            -9.33,
            -10.74,
            -3.62,
            -8.21,
            8.75,
            11.99
           ],
           [
            null,
            null,
            null,
            null,
            null,
            null,
            null,
            null,
            null,
            23.38,
            24.61,
            26,
            27.37,
            28.53,
            29.89,
            30.95,
            31.91,
            32.75,
            33.15,
            33.67,
            34.27,
            34.7,
            35.33,
            35.87,
            36,
            36.2,
            36.76,
            37.25,
            39.33,
            41.16,
            42.38,
            43.44,
            44.03,
            44.84,
            45.87,
            46.42,
            47.61,
            48.5,
            46.98,
            45.27,
            43.88,
            42.45,
            41.15,
            39.9,
            38.47,
            37.31,
            35.13,
            33.17,
            32.16,
            31.41,
            31.22,
            31.12,
            31.1,
            31.05,
            30.99,
            30.73,
            30.8,
            31.18,
            31.64,
            31.75,
            31.36,
            30.88,
            30.42,
            29.76,
            29.15,
            28.59,
            27.86,
            26.98,
            26,
            25.52,
            25.41,
            25.36,
            25.43,
            25.38,
            25.57,
            25.72,
            25.9,
            25.87,
            25.79,
            25.69,
            25.63,
            25.6,
            25.42,
            25.33,
            25.01,
            24.78,
            24.83,
            24.87,
            24.93,
            24.94,
            24.96,
            24.94,
            25.02,
            24.96,
            24.82,
            24.9,
            24.64,
            24.44,
            24.18,
            23.92,
            23.66,
            23.46,
            23.29,
            23.3,
            23.44,
            23.31,
            22.93,
            22.63,
            22.36,
            22.08,
            21.77,
            21.43,
            21.11,
            20.72,
            20.15,
            19.6,
            19.47,
            19.45,
            19.43,
            19.41,
            19.36,
            19.34,
            19.33,
            19.46,
            19.66,
            19.73,
            19.78,
            19.72,
            19.6,
            19.39,
            19.17,
            18.94,
            18.66,
            18.25,
            17.93,
            17.67,
            17.38,
            17.08,
            16.73,
            16.45,
            16.15,
            15.89,
            15.74,
            15.68,
            15.54,
            15.39,
            15.25,
            15.11,
            15.1,
            15.03,
            15.03,
            14.96,
            14.86,
            14.7,
            14.59,
            14.48,
            14.38,
            14.21,
            14.12,
            14.03,
            13.94,
            13.86,
            13.61,
            13.32,
            13.12,
            12.91,
            12.76,
            12.7,
            12.32,
            11.99,
            11.58,
            11.16,
            10.87,
            10.54,
            10.15,
            9.8,
            9.41,
            8.97,
            8.78,
            8.69,
            8.72,
            8.75,
            8.68,
            8.74,
            8.73,
            8.76,
            8.83,
            8.92,
            8.95,
            8.84,
            8.94,
            9.01,
            9.07,
            9.01,
            8.93,
            8.87,
            8.85,
            8.88,
            9.01,
            9.13,
            9,
            8.82,
            8.7,
            8.6,
            8.56,
            8.53,
            8.39,
            8.2,
            7.91,
            7.71,
            7.57,
            7.64,
            7.8,
            8,
            8.22,
            8.4,
            8.61,
            8.83,
            9.13,
            9.49,
            9.76,
            9.85,
            9.91,
            10.02,
            10.02,
            9.97,
            9.9,
            9.83,
            9.72,
            9.5,
            9.35,
            9.26,
            9.11,
            8.98,
            8.86,
            8.75,
            8.65,
            8.61,
            8.52,
            8.41,
            8.29,
            8.14,
            8.07,
            7.94,
            7.93,
            7.88,
            7.76,
            7.53,
            7.34,
            7.11,
            6.9,
            6.81
           ],
           [
            null,
            null,
            null,
            null,
            null,
            null,
            null,
            null,
            null,
            null,
            null,
            null,
            null,
            null,
            null,
            null,
            null,
            null,
            null,
            null,
            null,
            null,
            null,
            null,
            null,
            null,
            null,
            null,
            null,
            null,
            null,
            null,
            null,
            null,
            null,
            null,
            null,
            null,
            null,
            null,
            null,
            null,
            null,
            null,
            null,
            null,
            null,
            null,
            null,
            34.98,
            35.27,
            35.54,
            35.8,
            36.04,
            36.24,
            36.32,
            36.44,
            36.57,
            36.65,
            36.65,
            36.62,
            36.52,
            36.41,
            36.28,
            36.1,
            35.85,
            35.63,
            35.41,
            35.22,
            35.02,
            34.85,
            34.65,
            34.43,
            34.19,
            34.01,
            33.76,
            33.46,
            33.14,
            32.51,
            31.93,
            31.5,
            31.08,
            30.7,
            30.29,
            29.84,
            29.43,
            28.9,
            28.41,
            28.1,
            27.86,
            27.72,
            27.58,
            27.48,
            27.3,
            27.11,
            26.95,
            26.81,
            26.67,
            26.51,
            26.36,
            26.2,
            26.05,
            25.91,
            25.75,
            25.6,
            25.46,
            25.23,
            24.96,
            24.65,
            24.43,
            24.28,
            24.16,
            24.05,
            23.94,
            23.8,
            23.66,
            23.55,
            23.45,
            23.34,
            23.21,
            23.07,
            22.96,
            22.83,
            22.75,
            22.62,
            22.47,
            22.33,
            22.22,
            22.1,
            21.95,
            21.78,
            21.62,
            21.48,
            21.34,
            21.2,
            21.04,
            20.84,
            20.67,
            20.46,
            20.25,
            20.02,
            19.81,
            19.62,
            19.48,
            19.34,
            19.14,
            18.96,
            18.8,
            18.64,
            18.47,
            18.3,
            18.11,
            17.94,
            17.76,
            17.57,
            17.37,
            17.25,
            17.12,
            17,
            16.86,
            16.73,
            16.6,
            16.44,
            16.28,
            16.17,
            16.04,
            15.91,
            15.76,
            15.57,
            15.38,
            15.17,
            14.96,
            14.75,
            14.5,
            14.27,
            14.05,
            13.83,
            13.61,
            13.41,
            13.24,
            13.08,
            12.93,
            12.75,
            12.6,
            12.43,
            12.27,
            12.13,
            11.98,
            11.85,
            11.71,
            11.64,
            11.55,
            11.42,
            11.26,
            11.1,
            10.96,
            10.85,
            10.74,
            10.63,
            10.54,
            10.44,
            10.32,
            10.19,
            10.04,
            9.9,
            9.77,
            9.65,
            9.53,
            9.39,
            9.27,
            9.16,
            9.08,
            9.02,
            8.98,
            8.92,
            8.87,
            8.82,
            8.76,
            8.75,
            8.77,
            8.8,
            8.81,
            8.83,
            8.87,
            8.89,
            8.91,
            8.92,
            8.93,
            8.94,
            8.94,
            8.92,
            8.92,
            8.92,
            8.92,
            8.92,
            8.9,
            8.88,
            8.87,
            8.86,
            8.85,
            8.79,
            8.74,
            8.72,
            8.71,
            8.72,
            8.71,
            8.66,
            8.6,
            8.52,
            8.44,
            8.37,
            8.34
           ],
           [
            null,
            null,
            null,
            null,
            null,
            null,
            null,
            null,
            null,
            null,
            null,
            null,
            null,
            null,
            null,
            null,
            null,
            null,
            null,
            null,
            null,
            null,
            null,
            null,
            null,
            null,
            null,
            null,
            null,
            null,
            null,
            null,
            null,
            null,
            null,
            null,
            null,
            null,
            null,
            null,
            null,
            null,
            null,
            null,
            null,
            null,
            null,
            null,
            null,
            null,
            null,
            null,
            null,
            null,
            null,
            null,
            null,
            null,
            null,
            null,
            null,
            null,
            null,
            null,
            null,
            null,
            null,
            null,
            null,
            null,
            null,
            null,
            null,
            null,
            null,
            null,
            null,
            null,
            null,
            null,
            null,
            null,
            null,
            null,
            null,
            null,
            null,
            null,
            null,
            null,
            null,
            null,
            null,
            null,
            null,
            null,
            null,
            null,
            null,
            30.67,
            30.74,
            30.8,
            30.86,
            30.89,
            30.92,
            30.89,
            30.84,
            30.76,
            30.65,
            30.54,
            30.45,
            30.34,
            30.23,
            30.11,
            29.95,
            29.76,
            29.59,
            29.43,
            29.28,
            29.11,
            28.96,
            28.8,
            28.63,
            28.47,
            28.31,
            28.11,
            27.89,
            27.68,
            27.31,
            26.94,
            26.64,
            26.35,
            26.09,
            25.81,
            25.52,
            25.24,
            24.87,
            24.54,
            24.28,
            24.05,
            23.87,
            23.7,
            23.55,
            23.39,
            23.23,
            23.04,
            22.88,
            22.73,
            22.58,
            22.42,
            22.25,
            22.08,
            21.93,
            21.75,
            21.59,
            21.42,
            21.24,
            21.04,
            20.82,
            20.64,
            20.51,
            20.38,
            20.25,
            20.11,
            19.98,
            19.85,
            19.73,
            19.61,
            19.46,
            19.29,
            19.12,
            18.96,
            18.79,
            18.63,
            18.44,
            18.26,
            18.08,
            17.92,
            17.75,
            17.59,
            17.43,
            17.27,
            17.12,
            16.97,
            16.81,
            16.66,
            16.48,
            16.32,
            16.16,
            15.98,
            15.83,
            15.68,
            15.52,
            15.37,
            15.22,
            15.05,
            14.9,
            14.77,
            14.64,
            14.5,
            14.37,
            14.22,
            14.06,
            13.9,
            13.74,
            13.57,
            13.45,
            13.33,
            13.19,
            13.07,
            12.95,
            12.84,
            12.73,
            12.63,
            12.54,
            12.45,
            12.36,
            12.26,
            12.16,
            12.07,
            11.99,
            11.89,
            11.79,
            11.69,
            11.58,
            11.48,
            11.38,
            11.27,
            11.18,
            11.09,
            11,
            10.92,
            10.84,
            10.76,
            10.67,
            10.59,
            10.5,
            10.43,
            10.36,
            10.28,
            10.22,
            10.15,
            10.07,
            9.99,
            9.91,
            9.83,
            9.75,
            9.67,
            9.58,
            9.49,
            9.4,
            9.33
           ],
           [
            "2021-05-17T00:00:00",
            "2021-05-18T00:00:00",
            "2021-05-19T00:00:00",
            "2021-05-20T00:00:00",
            "2021-05-21T00:00:00",
            "2021-05-24T00:00:00",
            "2021-05-25T00:00:00",
            "2021-05-26T00:00:00",
            "2021-05-27T00:00:00",
            "2021-05-28T00:00:00",
            "2021-06-01T00:00:00",
            "2021-06-02T00:00:00",
            "2021-06-03T00:00:00",
            "2021-06-04T00:00:00",
            "2021-06-07T00:00:00",
            "2021-06-08T00:00:00",
            "2021-06-09T00:00:00",
            "2021-06-10T00:00:00",
            "2021-06-11T00:00:00",
            "2021-06-14T00:00:00",
            "2021-06-15T00:00:00",
            "2021-06-16T00:00:00",
            "2021-06-17T00:00:00",
            "2021-06-18T00:00:00",
            "2021-06-21T00:00:00",
            "2021-06-22T00:00:00",
            "2021-06-23T00:00:00",
            "2021-06-24T00:00:00",
            "2021-06-25T00:00:00",
            "2021-06-28T00:00:00",
            "2021-06-29T00:00:00",
            "2021-06-30T00:00:00",
            "2021-07-01T00:00:00",
            "2021-07-02T00:00:00",
            "2021-07-06T00:00:00",
            "2021-07-07T00:00:00",
            "2021-07-08T00:00:00",
            "2021-07-09T00:00:00",
            "2021-07-12T00:00:00",
            "2021-07-13T00:00:00",
            "2021-07-14T00:00:00",
            "2021-07-15T00:00:00",
            "2021-07-16T00:00:00",
            "2021-07-19T00:00:00",
            "2021-07-20T00:00:00",
            "2021-07-21T00:00:00",
            "2021-07-22T00:00:00",
            "2021-07-23T00:00:00",
            "2021-07-26T00:00:00",
            "2021-07-27T00:00:00",
            "2021-07-28T00:00:00",
            "2021-07-29T00:00:00",
            "2021-07-30T00:00:00",
            "2021-08-02T00:00:00",
            "2021-08-03T00:00:00",
            "2021-08-04T00:00:00",
            "2021-08-05T00:00:00",
            "2021-08-06T00:00:00",
            "2021-08-09T00:00:00",
            "2021-08-10T00:00:00",
            "2021-08-11T00:00:00",
            "2021-08-12T00:00:00",
            "2021-08-13T00:00:00",
            "2021-08-16T00:00:00",
            "2021-08-17T00:00:00",
            "2021-08-18T00:00:00",
            "2021-08-19T00:00:00",
            "2021-08-20T00:00:00",
            "2021-08-23T00:00:00",
            "2021-08-24T00:00:00",
            "2021-08-25T00:00:00",
            "2021-08-26T00:00:00",
            "2021-08-27T00:00:00",
            "2021-08-30T00:00:00",
            "2021-08-31T00:00:00",
            "2021-09-01T00:00:00",
            "2021-09-02T00:00:00",
            "2021-09-03T00:00:00",
            "2021-09-07T00:00:00",
            "2021-09-08T00:00:00",
            "2021-09-09T00:00:00",
            "2021-09-10T00:00:00",
            "2021-09-13T00:00:00",
            "2021-09-14T00:00:00",
            "2021-09-15T00:00:00",
            "2021-09-16T00:00:00",
            "2021-09-17T00:00:00",
            "2021-09-20T00:00:00",
            "2021-09-21T00:00:00",
            "2021-09-22T00:00:00",
            "2021-09-23T00:00:00",
            "2021-09-24T00:00:00",
            "2021-09-27T00:00:00",
            "2021-09-28T00:00:00",
            "2021-09-29T00:00:00",
            "2021-09-30T00:00:00",
            "2021-10-01T00:00:00",
            "2021-10-04T00:00:00",
            "2021-10-05T00:00:00",
            "2021-10-06T00:00:00",
            "2021-10-07T00:00:00",
            "2021-10-08T00:00:00",
            "2021-10-11T00:00:00",
            "2021-10-12T00:00:00",
            "2021-10-13T00:00:00",
            "2021-10-14T00:00:00",
            "2021-10-15T00:00:00",
            "2021-10-18T00:00:00",
            "2021-10-19T00:00:00",
            "2021-10-20T00:00:00",
            "2021-10-21T00:00:00",
            "2021-10-22T00:00:00",
            "2021-10-25T00:00:00",
            "2021-10-26T00:00:00",
            "2021-10-27T00:00:00",
            "2021-10-28T00:00:00",
            "2021-10-29T00:00:00",
            "2021-11-01T00:00:00",
            "2021-11-02T00:00:00",
            "2021-11-03T00:00:00",
            "2021-11-04T00:00:00",
            "2021-11-05T00:00:00",
            "2021-11-08T00:00:00",
            "2021-11-09T00:00:00",
            "2021-11-10T00:00:00",
            "2021-11-11T00:00:00",
            "2021-11-12T00:00:00",
            "2021-11-15T00:00:00",
            "2021-11-16T00:00:00",
            "2021-11-17T00:00:00",
            "2021-11-18T00:00:00",
            "2021-11-19T00:00:00",
            "2021-11-22T00:00:00",
            "2021-11-23T00:00:00",
            "2021-11-24T00:00:00",
            "2021-11-26T00:00:00",
            "2021-11-29T00:00:00",
            "2021-11-30T00:00:00",
            "2021-12-01T00:00:00",
            "2021-12-02T00:00:00",
            "2021-12-03T00:00:00",
            "2021-12-06T00:00:00",
            "2021-12-07T00:00:00",
            "2021-12-08T00:00:00",
            "2021-12-09T00:00:00",
            "2021-12-10T00:00:00",
            "2021-12-13T00:00:00",
            "2021-12-14T00:00:00",
            "2021-12-15T00:00:00",
            "2021-12-16T00:00:00",
            "2021-12-17T00:00:00",
            "2021-12-20T00:00:00",
            "2021-12-21T00:00:00",
            "2021-12-22T00:00:00",
            "2021-12-23T00:00:00",
            "2021-12-27T00:00:00",
            "2021-12-28T00:00:00",
            "2021-12-29T00:00:00",
            "2021-12-30T00:00:00",
            "2021-12-31T00:00:00",
            "2022-01-03T00:00:00",
            "2022-01-04T00:00:00",
            "2022-01-05T00:00:00",
            "2022-01-06T00:00:00",
            "2022-01-07T00:00:00",
            "2022-01-10T00:00:00",
            "2022-01-11T00:00:00",
            "2022-01-12T00:00:00",
            "2022-01-13T00:00:00",
            "2022-01-14T00:00:00",
            "2022-01-18T00:00:00",
            "2022-01-19T00:00:00",
            "2022-01-20T00:00:00",
            "2022-01-21T00:00:00",
            "2022-01-24T00:00:00",
            "2022-01-25T00:00:00",
            "2022-01-26T00:00:00",
            "2022-01-27T00:00:00",
            "2022-01-28T00:00:00",
            "2022-01-31T00:00:00",
            "2022-02-01T00:00:00",
            "2022-02-02T00:00:00",
            "2022-02-03T00:00:00",
            "2022-02-04T00:00:00",
            "2022-02-07T00:00:00",
            "2022-02-08T00:00:00",
            "2022-02-09T00:00:00",
            "2022-02-10T00:00:00",
            "2022-02-11T00:00:00",
            "2022-02-14T00:00:00",
            "2022-02-15T00:00:00",
            "2022-02-16T00:00:00",
            "2022-02-17T00:00:00",
            "2022-02-18T00:00:00",
            "2022-02-22T00:00:00",
            "2022-02-23T00:00:00",
            "2022-02-24T00:00:00",
            "2022-02-25T00:00:00",
            "2022-02-28T00:00:00",
            "2022-03-01T00:00:00",
            "2022-03-02T00:00:00",
            "2022-03-03T00:00:00",
            "2022-03-04T00:00:00",
            "2022-03-07T00:00:00",
            "2022-03-08T00:00:00",
            "2022-03-09T00:00:00",
            "2022-03-10T00:00:00",
            "2022-03-11T00:00:00",
            "2022-03-14T00:00:00",
            "2022-03-15T00:00:00",
            "2022-03-16T00:00:00",
            "2022-03-17T00:00:00",
            "2022-03-18T00:00:00",
            "2022-03-21T00:00:00",
            "2022-03-22T00:00:00",
            "2022-03-23T00:00:00",
            "2022-03-24T00:00:00",
            "2022-03-25T00:00:00",
            "2022-03-28T00:00:00",
            "2022-03-29T00:00:00",
            "2022-03-30T00:00:00",
            "2022-03-31T00:00:00",
            "2022-04-01T00:00:00",
            "2022-04-04T00:00:00",
            "2022-04-05T00:00:00",
            "2022-04-06T00:00:00",
            "2022-04-07T00:00:00",
            "2022-04-08T00:00:00",
            "2022-04-11T00:00:00",
            "2022-04-12T00:00:00",
            "2022-04-13T00:00:00",
            "2022-04-14T00:00:00",
            "2022-04-18T00:00:00",
            "2022-04-19T00:00:00",
            "2022-04-20T00:00:00",
            "2022-04-21T00:00:00",
            "2022-04-22T00:00:00",
            "2022-04-25T00:00:00",
            "2022-04-26T00:00:00",
            "2022-04-27T00:00:00",
            "2022-04-28T00:00:00",
            "2022-04-29T00:00:00",
            "2022-05-02T00:00:00",
            "2022-05-03T00:00:00",
            "2022-05-04T00:00:00",
            "2022-05-05T00:00:00",
            "2022-05-06T00:00:00",
            "2022-05-09T00:00:00",
            "2022-05-10T00:00:00",
            "2022-05-11T00:00:00",
            "2022-05-12T00:00:00",
            "2022-05-13T00:00:00"
           ]
          ]
         },
         "header": {
          "align": "left",
          "fill": {
           "color": "paleturquoise"
          },
          "font": {
           "size": 10
          },
          "values": [
           "High",
           "Low",
           "Open",
           "Close",
           "Volume",
           "Daily Return Pct",
           "10 Moving Average",
           "50 Moving Average",
           "100 Moving Average",
           "Date"
          ]
         },
         "type": "table"
        }
       ],
       "layout": {
        "template": {
         "data": {
          "bar": [
           {
            "error_x": {
             "color": "#2a3f5f"
            },
            "error_y": {
             "color": "#2a3f5f"
            },
            "marker": {
             "line": {
              "color": "#E5ECF6",
              "width": 0.5
             },
             "pattern": {
              "fillmode": "overlay",
              "size": 10,
              "solidity": 0.2
             }
            },
            "type": "bar"
           }
          ],
          "barpolar": [
           {
            "marker": {
             "line": {
              "color": "#E5ECF6",
              "width": 0.5
             },
             "pattern": {
              "fillmode": "overlay",
              "size": 10,
              "solidity": 0.2
             }
            },
            "type": "barpolar"
           }
          ],
          "carpet": [
           {
            "aaxis": {
             "endlinecolor": "#2a3f5f",
             "gridcolor": "white",
             "linecolor": "white",
             "minorgridcolor": "white",
             "startlinecolor": "#2a3f5f"
            },
            "baxis": {
             "endlinecolor": "#2a3f5f",
             "gridcolor": "white",
             "linecolor": "white",
             "minorgridcolor": "white",
             "startlinecolor": "#2a3f5f"
            },
            "type": "carpet"
           }
          ],
          "choropleth": [
           {
            "colorbar": {
             "outlinewidth": 0,
             "ticks": ""
            },
            "type": "choropleth"
           }
          ],
          "contour": [
           {
            "colorbar": {
             "outlinewidth": 0,
             "ticks": ""
            },
            "colorscale": [
             [
              0,
              "#0d0887"
             ],
             [
              0.1111111111111111,
              "#46039f"
             ],
             [
              0.2222222222222222,
              "#7201a8"
             ],
             [
              0.3333333333333333,
              "#9c179e"
             ],
             [
              0.4444444444444444,
              "#bd3786"
             ],
             [
              0.5555555555555556,
              "#d8576b"
             ],
             [
              0.6666666666666666,
              "#ed7953"
             ],
             [
              0.7777777777777778,
              "#fb9f3a"
             ],
             [
              0.8888888888888888,
              "#fdca26"
             ],
             [
              1,
              "#f0f921"
             ]
            ],
            "type": "contour"
           }
          ],
          "contourcarpet": [
           {
            "colorbar": {
             "outlinewidth": 0,
             "ticks": ""
            },
            "type": "contourcarpet"
           }
          ],
          "heatmap": [
           {
            "colorbar": {
             "outlinewidth": 0,
             "ticks": ""
            },
            "colorscale": [
             [
              0,
              "#0d0887"
             ],
             [
              0.1111111111111111,
              "#46039f"
             ],
             [
              0.2222222222222222,
              "#7201a8"
             ],
             [
              0.3333333333333333,
              "#9c179e"
             ],
             [
              0.4444444444444444,
              "#bd3786"
             ],
             [
              0.5555555555555556,
              "#d8576b"
             ],
             [
              0.6666666666666666,
              "#ed7953"
             ],
             [
              0.7777777777777778,
              "#fb9f3a"
             ],
             [
              0.8888888888888888,
              "#fdca26"
             ],
             [
              1,
              "#f0f921"
             ]
            ],
            "type": "heatmap"
           }
          ],
          "heatmapgl": [
           {
            "colorbar": {
             "outlinewidth": 0,
             "ticks": ""
            },
            "colorscale": [
             [
              0,
              "#0d0887"
             ],
             [
              0.1111111111111111,
              "#46039f"
             ],
             [
              0.2222222222222222,
              "#7201a8"
             ],
             [
              0.3333333333333333,
              "#9c179e"
             ],
             [
              0.4444444444444444,
              "#bd3786"
             ],
             [
              0.5555555555555556,
              "#d8576b"
             ],
             [
              0.6666666666666666,
              "#ed7953"
             ],
             [
              0.7777777777777778,
              "#fb9f3a"
             ],
             [
              0.8888888888888888,
              "#fdca26"
             ],
             [
              1,
              "#f0f921"
             ]
            ],
            "type": "heatmapgl"
           }
          ],
          "histogram": [
           {
            "marker": {
             "pattern": {
              "fillmode": "overlay",
              "size": 10,
              "solidity": 0.2
             }
            },
            "type": "histogram"
           }
          ],
          "histogram2d": [
           {
            "colorbar": {
             "outlinewidth": 0,
             "ticks": ""
            },
            "colorscale": [
             [
              0,
              "#0d0887"
             ],
             [
              0.1111111111111111,
              "#46039f"
             ],
             [
              0.2222222222222222,
              "#7201a8"
             ],
             [
              0.3333333333333333,
              "#9c179e"
             ],
             [
              0.4444444444444444,
              "#bd3786"
             ],
             [
              0.5555555555555556,
              "#d8576b"
             ],
             [
              0.6666666666666666,
              "#ed7953"
             ],
             [
              0.7777777777777778,
              "#fb9f3a"
             ],
             [
              0.8888888888888888,
              "#fdca26"
             ],
             [
              1,
              "#f0f921"
             ]
            ],
            "type": "histogram2d"
           }
          ],
          "histogram2dcontour": [
           {
            "colorbar": {
             "outlinewidth": 0,
             "ticks": ""
            },
            "colorscale": [
             [
              0,
              "#0d0887"
             ],
             [
              0.1111111111111111,
              "#46039f"
             ],
             [
              0.2222222222222222,
              "#7201a8"
             ],
             [
              0.3333333333333333,
              "#9c179e"
             ],
             [
              0.4444444444444444,
              "#bd3786"
             ],
             [
              0.5555555555555556,
              "#d8576b"
             ],
             [
              0.6666666666666666,
              "#ed7953"
             ],
             [
              0.7777777777777778,
              "#fb9f3a"
             ],
             [
              0.8888888888888888,
              "#fdca26"
             ],
             [
              1,
              "#f0f921"
             ]
            ],
            "type": "histogram2dcontour"
           }
          ],
          "mesh3d": [
           {
            "colorbar": {
             "outlinewidth": 0,
             "ticks": ""
            },
            "type": "mesh3d"
           }
          ],
          "parcoords": [
           {
            "line": {
             "colorbar": {
              "outlinewidth": 0,
              "ticks": ""
             }
            },
            "type": "parcoords"
           }
          ],
          "pie": [
           {
            "automargin": true,
            "type": "pie"
           }
          ],
          "scatter": [
           {
            "fillpattern": {
             "fillmode": "overlay",
             "size": 10,
             "solidity": 0.2
            },
            "type": "scatter"
           }
          ],
          "scatter3d": [
           {
            "line": {
             "colorbar": {
              "outlinewidth": 0,
              "ticks": ""
             }
            },
            "marker": {
             "colorbar": {
              "outlinewidth": 0,
              "ticks": ""
             }
            },
            "type": "scatter3d"
           }
          ],
          "scattercarpet": [
           {
            "marker": {
             "colorbar": {
              "outlinewidth": 0,
              "ticks": ""
             }
            },
            "type": "scattercarpet"
           }
          ],
          "scattergeo": [
           {
            "marker": {
             "colorbar": {
              "outlinewidth": 0,
              "ticks": ""
             }
            },
            "type": "scattergeo"
           }
          ],
          "scattergl": [
           {
            "marker": {
             "colorbar": {
              "outlinewidth": 0,
              "ticks": ""
             }
            },
            "type": "scattergl"
           }
          ],
          "scattermapbox": [
           {
            "marker": {
             "colorbar": {
              "outlinewidth": 0,
              "ticks": ""
             }
            },
            "type": "scattermapbox"
           }
          ],
          "scatterpolar": [
           {
            "marker": {
             "colorbar": {
              "outlinewidth": 0,
              "ticks": ""
             }
            },
            "type": "scatterpolar"
           }
          ],
          "scatterpolargl": [
           {
            "marker": {
             "colorbar": {
              "outlinewidth": 0,
              "ticks": ""
             }
            },
            "type": "scatterpolargl"
           }
          ],
          "scatterternary": [
           {
            "marker": {
             "colorbar": {
              "outlinewidth": 0,
              "ticks": ""
             }
            },
            "type": "scatterternary"
           }
          ],
          "surface": [
           {
            "colorbar": {
             "outlinewidth": 0,
             "ticks": ""
            },
            "colorscale": [
             [
              0,
              "#0d0887"
             ],
             [
              0.1111111111111111,
              "#46039f"
             ],
             [
              0.2222222222222222,
              "#7201a8"
             ],
             [
              0.3333333333333333,
              "#9c179e"
             ],
             [
              0.4444444444444444,
              "#bd3786"
             ],
             [
              0.5555555555555556,
              "#d8576b"
             ],
             [
              0.6666666666666666,
              "#ed7953"
             ],
             [
              0.7777777777777778,
              "#fb9f3a"
             ],
             [
              0.8888888888888888,
              "#fdca26"
             ],
             [
              1,
              "#f0f921"
             ]
            ],
            "type": "surface"
           }
          ],
          "table": [
           {
            "cells": {
             "fill": {
              "color": "#EBF0F8"
             },
             "line": {
              "color": "white"
             }
            },
            "header": {
             "fill": {
              "color": "#C8D4E3"
             },
             "line": {
              "color": "white"
             }
            },
            "type": "table"
           }
          ]
         },
         "layout": {
          "annotationdefaults": {
           "arrowcolor": "#2a3f5f",
           "arrowhead": 0,
           "arrowwidth": 1
          },
          "autotypenumbers": "strict",
          "coloraxis": {
           "colorbar": {
            "outlinewidth": 0,
            "ticks": ""
           }
          },
          "colorscale": {
           "diverging": [
            [
             0,
             "#8e0152"
            ],
            [
             0.1,
             "#c51b7d"
            ],
            [
             0.2,
             "#de77ae"
            ],
            [
             0.3,
             "#f1b6da"
            ],
            [
             0.4,
             "#fde0ef"
            ],
            [
             0.5,
             "#f7f7f7"
            ],
            [
             0.6,
             "#e6f5d0"
            ],
            [
             0.7,
             "#b8e186"
            ],
            [
             0.8,
             "#7fbc41"
            ],
            [
             0.9,
             "#4d9221"
            ],
            [
             1,
             "#276419"
            ]
           ],
           "sequential": [
            [
             0,
             "#0d0887"
            ],
            [
             0.1111111111111111,
             "#46039f"
            ],
            [
             0.2222222222222222,
             "#7201a8"
            ],
            [
             0.3333333333333333,
             "#9c179e"
            ],
            [
             0.4444444444444444,
             "#bd3786"
            ],
            [
             0.5555555555555556,
             "#d8576b"
            ],
            [
             0.6666666666666666,
             "#ed7953"
            ],
            [
             0.7777777777777778,
             "#fb9f3a"
            ],
            [
             0.8888888888888888,
             "#fdca26"
            ],
            [
             1,
             "#f0f921"
            ]
           ],
           "sequentialminus": [
            [
             0,
             "#0d0887"
            ],
            [
             0.1111111111111111,
             "#46039f"
            ],
            [
             0.2222222222222222,
             "#7201a8"
            ],
            [
             0.3333333333333333,
             "#9c179e"
            ],
            [
             0.4444444444444444,
             "#bd3786"
            ],
            [
             0.5555555555555556,
             "#d8576b"
            ],
            [
             0.6666666666666666,
             "#ed7953"
            ],
            [
             0.7777777777777778,
             "#fb9f3a"
            ],
            [
             0.8888888888888888,
             "#fdca26"
            ],
            [
             1,
             "#f0f921"
            ]
           ]
          },
          "colorway": [
           "#636efa",
           "#EF553B",
           "#00cc96",
           "#ab63fa",
           "#FFA15A",
           "#19d3f3",
           "#FF6692",
           "#B6E880",
           "#FF97FF",
           "#FECB52"
          ],
          "font": {
           "color": "#2a3f5f"
          },
          "geo": {
           "bgcolor": "white",
           "lakecolor": "white",
           "landcolor": "#E5ECF6",
           "showlakes": true,
           "showland": true,
           "subunitcolor": "white"
          },
          "hoverlabel": {
           "align": "left"
          },
          "hovermode": "closest",
          "mapbox": {
           "style": "light"
          },
          "paper_bgcolor": "white",
          "plot_bgcolor": "#E5ECF6",
          "polar": {
           "angularaxis": {
            "gridcolor": "white",
            "linecolor": "white",
            "ticks": ""
           },
           "bgcolor": "#E5ECF6",
           "radialaxis": {
            "gridcolor": "white",
            "linecolor": "white",
            "ticks": ""
           }
          },
          "scene": {
           "xaxis": {
            "backgroundcolor": "#E5ECF6",
            "gridcolor": "white",
            "gridwidth": 2,
            "linecolor": "white",
            "showbackground": true,
            "ticks": "",
            "zerolinecolor": "white"
           },
           "yaxis": {
            "backgroundcolor": "#E5ECF6",
            "gridcolor": "white",
            "gridwidth": 2,
            "linecolor": "white",
            "showbackground": true,
            "ticks": "",
            "zerolinecolor": "white"
           },
           "zaxis": {
            "backgroundcolor": "#E5ECF6",
            "gridcolor": "white",
            "gridwidth": 2,
            "linecolor": "white",
            "showbackground": true,
            "ticks": "",
            "zerolinecolor": "white"
           }
          },
          "shapedefaults": {
           "line": {
            "color": "#2a3f5f"
           }
          },
          "ternary": {
           "aaxis": {
            "gridcolor": "white",
            "linecolor": "white",
            "ticks": ""
           },
           "baxis": {
            "gridcolor": "white",
            "linecolor": "white",
            "ticks": ""
           },
           "bgcolor": "#E5ECF6",
           "caxis": {
            "gridcolor": "white",
            "linecolor": "white",
            "ticks": ""
           }
          },
          "title": {
           "x": 0.05
          },
          "xaxis": {
           "automargin": true,
           "gridcolor": "white",
           "linecolor": "white",
           "ticks": "",
           "title": {
            "standoff": 15
           },
           "zerolinecolor": "white",
           "zerolinewidth": 2
          },
          "yaxis": {
           "automargin": true,
           "gridcolor": "white",
           "linecolor": "white",
           "ticks": "",
           "title": {
            "standoff": 15
           },
           "zerolinecolor": "white",
           "zerolinewidth": 2
          }
         }
        }
       }
      },
      "text/html": [
       "<div>                            <div id=\"969787f7-38cf-4752-a20c-0fa2288196cb\" class=\"plotly-graph-div\" style=\"height:525px; width:100%;\"></div>            <script type=\"text/javascript\">                require([\"plotly\"], function(Plotly) {                    window.PLOTLYENV=window.PLOTLYENV || {};                                    if (document.getElementById(\"969787f7-38cf-4752-a20c-0fa2288196cb\")) {                    Plotly.newPlot(                        \"969787f7-38cf-4752-a20c-0fa2288196cb\",                        [{\"cells\":{\"align\":\"left\",\"fill\":{\"color\":\"lavender\"},\"values\":[[16.11,16.73,16.44,20.62,20.37,25.31,25.37,25.85,27.4,31.27,30.05,28.59,32.21,30.9,31.45,35.28,38.19,35.74,35.08,35.27,36.45,34.6,35.12,37.31,36.27,35.82,38.96,41.1,47.81,57.15,52.3,44.42,46.0,53.23,45.15,46.43,43.83,50.94,49.55,40.34,37.27,33.03,32.54,29.45,31.09,31.26,33.13,30.5,29.58,30.37,30.47,31.16,30.82,29.82,31.44,31.32,31.0,31.79,33.0,34.75,29.85,26.79,25.23,25.59,25.02,25.19,25.26,24.12,24.6,25.58,26.7,26.1,25.54,25.97,25.95,27.06,26.08,25.29,24.21,24.65,25.38,25.71,24.45,23.99,24.22,24.28,24.58,25.43,25.0,25.29,25.75,25.85,25.11,24.91,23.54,24.13,25.07,23.62,22.79,22.53,23.03,23.19,23.07,23.4,23.65,24.25,20.47,19.04,19.5,19.76,20.21,20.0,19.74,20.04,18.8,18.36,18.65,18.86,19.4,19.51,20.03,19.66,19.32,19.89,20.57,19.31,19.3,19.2,18.75,18.32,17.97,17.4,17.45,17.04,16.71,16.42,16.78,16.09,16.23,14.93,15.08,14.19,15.0,15.7,16.04,15.7,15.17,14.48,14.57,14.89,14.23,13.99,13.93,14.56,14.6,14.43,14.01,13.71,12.96,13.73,13.48,13.64,13.02,12.17,12.0,12.43,12.04,12.47,10.92,9.89,10.03,9.55,9.22,9.05,8.11,8.45,8.71,8.49,7.98,8.25,9.5,9.65,9.04,8.63,8.9,8.5,8.78,8.9,8.82,8.38,8.93,10.3,9.77,8.89,8.13,8.05,7.5,8.61,9.07,9.62,9.35,9.29,8.26,7.89,7.4,7.6,7.71,7.68,7.17,6.81,7.49,7.91,8.81,9.27,9.33,9.54,9.6,9.73,9.46,9.9,10.8,10.56,9.98,10.14,10.58,9.39,9.07,8.91,8.56,8.88,8.84,9.08,8.93,8.52,9.13,8.58,8.14,7.99,8.26,7.76,7.76,7.9,7.45,7.81,7.9,8.14,7.08,6.59,6.36,5.77,5.25,6.17],[16.64,17.25,17.27,19.81,21.07,26.89,25.59,27.0,31.09,31.23,28.88,31.13,31.01,31.38,34.69,37.49,35.16,35.41,35.1,36.49,34.87,35.37,37.32,36.8,36.02,39.42,40.82,40.26,55.91,54.84,47.02,46.0,43.19,44.94,46.31,44.92,52.69,49.2,40.69,37.76,33.07,31.74,30.2,32.4,32.03,33.37,30.82,29.58,30.62,30.25,31.19,30.78,29.99,31.87,31.4,30.78,31.53,33.37,35.21,31.33,27.36,25.94,25.37,25.33,25.24,25.25,24.25,24.53,25.44,26.48,26.26,25.45,26.05,24.88,27.11,26.79,25.99,24.28,24.61,25.45,25.68,25.16,24.26,24.0,23.91,24.49,26.42,24.75,25.19,25.53,25.85,25.04,25.0,23.39,22.56,25.3,23.83,22.73,22.53,22.98,23.21,23.12,23.22,23.51,23.94,24.06,20.01,19.72,19.84,20.15,20.15,19.66,20.04,19.61,18.24,18.56,18.75,19.55,19.6,19.94,19.62,19.53,19.89,20.9,20.26,19.27,19.22,19.0,18.32,17.91,17.38,17.25,17.08,16.83,17.03,16.73,16.25,16.0,14.86,15.08,14.37,14.64,15.62,16.24,15.64,15.21,14.81,14.65,14.77,14.3,14.46,13.93,14.63,14.6,14.53,14.07,13.81,13.04,13.83,13.38,13.54,13.21,12.05,11.78,12.45,11.97,12.39,12.37,10.03,10.14,9.37,9.09,9.1,8.47,8.6,8.48,8.44,7.96,8.14,9.2,9.72,9.37,8.46,8.99,8.57,8.73,9.16,8.85,8.44,8.14,10.74,10.03,9.01,8.4,7.82,8.09,9.0,9.18,9.68,9.35,9.42,8.25,7.84,7.36,7.42,7.82,7.57,7.28,6.79,7.36,7.99,8.99,9.43,9.35,9.65,9.57,9.73,9.43,9.76,11.01,10.69,9.88,9.99,10.54,9.61,9.11,8.99,8.69,8.72,8.82,9.12,8.99,8.56,9.19,8.42,7.99,7.99,8.33,7.79,7.71,7.9,7.49,7.89,7.93,8.26,7.5,6.8,6.07,5.85,5.37,5.84,6.54],[15.79,16.33,15.86,18.7,19.68,23.52,24.7,25.6,26.6,30.73,28.12,28.41,30.7,29.93,30.96,35.05,34.87,34.92,33.85,34.7,34.64,34.21,35.1,35.95,34.83,35.62,38.75,39.26,45.87,52.48,45.97,43.08,43.19,44.04,44.21,43.02,43.05,48.46,39.81,37.51,32.81,31.32,30.07,28.63,29.54,31.13,30.63,28.86,29.19,28.49,30.15,30.47,29.58,29.45,29.84,30.51,30.6,31.43,32.84,31.0,26.5,25.51,25.05,25.22,24.55,24.62,24.11,23.99,24.53,25.43,25.75,25.2,25.22,24.62,25.75,26.65,24.85,23.82,23.82,24.55,24.65,24.93,23.58,23.82,23.06,24.0,24.58,24.27,24.7,25.1,25.32,24.81,24.43,22.87,22.53,23.91,23.49,22.54,21.96,22.31,22.84,22.88,23.02,23.09,23.53,23.58,19.87,19.0,19.2,19.66,19.86,19.23,19.63,19.49,17.98,18.3,18.58,18.69,18.94,19.45,19.45,19.1,19.29,19.33,19.95,19.08,19.15,18.97,18.18,17.73,17.17,17.06,16.83,16.36,16.23,16.34,15.98,15.33,14.8,14.44,14.02,13.69,14.96,15.3,15.56,15.04,14.47,14.36,13.77,14.08,13.52,13.6,13.86,14.25,14.15,13.91,13.78,12.86,12.95,13.35,12.89,12.9,11.98,11.3,11.92,11.69,11.81,12.06,10.02,9.75,9.33,9.02,9.09,8.46,7.58,8.17,8.37,7.85,7.61,8.24,9.15,9.16,8.43,8.55,8.4,8.3,8.68,8.79,8.28,8.05,8.75,9.69,8.84,8.24,7.69,7.97,7.4,8.52,9.07,9.23,9.07,8.2,7.78,7.36,7.05,7.58,7.38,7.26,6.71,6.7,7.47,7.89,8.76,9.0,9.25,9.32,9.29,9.28,9.26,9.9,10.46,9.87,9.74,10.07,9.58,8.81,8.56,8.57,8.29,8.62,8.7,8.8,8.34,8.48,8.4,7.86,7.8,7.94,7.79,7.61,7.28,7.48,7.38,7.7,7.51,7.4,6.35,6.06,5.6,5.37,5.14,6.13],[16.93,17.91,17.27,21.63,21.75,27.72,26.34,27.75,32.07,35.04,30.61,32.09,33.7,32.16,34.79,38.22,38.65,37.88,36.09,37.69,36.78,36.15,37.52,37.54,36.7,39.8,41.65,41.58,57.29,57.51,53.6,47.98,46.43,54.4,49.39,46.76,52.76,52.63,50.75,41.56,37.97,34.44,33.3,32.97,32.37,33.9,33.69,31.17,31.15,30.98,31.75,32.01,31.24,32.8,31.75,32.62,32.16,35.62,35.54,34.8,30.0,27.42,26.3,26.58,25.67,25.98,25.68,24.77,25.82,26.65,27.04,26.71,26.38,26.19,27.86,27.33,28.77,25.54,24.95,26.0,25.78,26.83,24.87,25.15,24.22,24.8,26.44,26.03,25.57,25.83,25.97,25.89,25.59,24.94,23.73,26.5,25.52,23.72,22.88,23.31,23.66,23.74,23.78,23.95,24.13,24.32,21.32,19.92,20.08,20.54,20.76,20.01,20.53,20.26,18.91,18.73,19.08,19.68,19.6,20.04,20.2,19.91,20.02,21.68,21.49,19.54,19.53,19.5,18.81,18.55,18.0,17.71,17.65,17.34,17.22,17.15,16.85,16.44,16.42,15.45,15.08,14.9,15.88,16.54,16.56,16.05,15.55,15.08,14.94,15.2,14.74,14.25,14.67,14.75,14.65,14.57,14.39,13.77,14.22,14.2,13.73,13.65,13.33,12.35,12.81,12.46,12.55,12.7,10.99,10.16,10.06,9.72,9.81,9.19,8.61,8.7,9.15,8.76,8.15,9.23,9.84,9.8,9.14,9.1,9.04,8.8,9.24,9.45,9.15,8.6,10.97,10.5,9.9,8.91,8.28,9.1,9.03,9.2,9.82,10.03,9.58,9.35,8.32,8.17,7.83,7.96,7.72,7.74,7.3,7.37,8.0,8.99,9.55,9.6,9.78,9.87,9.8,9.74,9.91,11.25,11.14,10.65,10.4,10.69,10.69,9.4,9.32,8.99,9.1,9.24,9.19,9.17,8.95,9.22,9.17,8.73,8.32,8.41,8.34,8.04,8.0,8.18,7.89,8.11,8.32,8.14,7.09,6.6,6.42,6.07,6.2,6.69],[12113300,12524200,11444500,93183000,51030700,131070700,42375700,38697300,48704200,53988500,33144200,29735200,30748500,17823800,29047000,34194900,22543200,22565600,13931800,16543200,11827000,12796900,16351700,10637000,10825100,28072700,20805800,13388200,261349700,109574500,74308500,64211600,27076800,135451200,67327700,32690100,87460500,62594500,136485500,81501200,85253300,63432200,48790700,69866800,43650200,29571700,22501900,19844900,15401000,13380800,12894100,10094700,9283000,15638500,11706300,11296900,13663700,38723400,18125900,27157400,38907100,22871400,21417900,17764000,11583000,11752400,11139500,9059300,10897700,12710100,10425200,10124400,8578300,12912100,28429500,11593100,39715400,31122900,13754900,16479500,10330400,9949800,12597400,10886000,12381100,11827500,22997300,13197100,8181500,6048000,6594100,7887100,7678800,16464700,11285200,46612700,16868100,10849500,9055200,9677800,6855700,5154600,4948500,5406000,6339500,12932300,59068600,25100300,15227800,11115100,9978400,8635500,11296100,10847000,21577500,10401300,8307900,9701900,7911700,9040100,8253000,7411200,11882600,26605300,12948700,15965700,7009000,11356100,15359000,11587300,9551100,8673800,9344300,10241600,6988300,5409600,10278200,11979000,12880000,12985500,12958800,13114800,11251000,9800200,7069700,6349300,7375200,7526000,12518500,10235000,15631500,10324300,9863000,5879200,5963900,9247900,8452900,15971400,14674000,10225300,12474900,12804800,16690700,16056700,15906300,16469200,9942500,9501100,70536000,39518700,24038400,21176700,17954100,23620400,26558100,16177000,17476700,14614900,14041700,15748200,14935600,12013100,18265400,10685300,13941000,8332700,11271100,11338500,16097800,16313200,182253200,58462000,33539200,26169400,26465000,60946500,36472700,20855700,22777800,14932400,14676200,20311500,14888000,15869800,17984700,11470500,9681000,8636100,13663000,15127000,16488300,20029900,23798700,11265300,10640300,9911300,8210300,7030500,9594800,30799600,13839900,13557000,9931400,9703000,12182900,14943300,9180200,7928900,8796500,10404800,6330400,5878800,8090200,12183900,9154100,10465200,8624900,10567800,6674400,8451500,10304200,7909100,8698000,8000500,10324000,12625900,18926800,12586300,15537100,12635600,16577000,14122000],[null,3.67,0.12,14.71,6.36,27.62,-4.83,5.51,15.15,0.45,-7.52,7.79,-0.39,1.19,10.55,8.07,-6.21,0.71,-0.88,3.96,-4.44,1.43,5.51,-1.39,-2.12,9.44,3.55,-1.37,38.87,-1.91,-14.26,-2.17,-6.11,4.05,3.05,-3.0,17.3,-6.62,-17.3,-7.2,-12.42,-4.02,-4.85,7.28,-1.14,4.18,-7.64,-4.02,3.52,-1.21,3.11,-1.31,-2.57,6.27,-1.47,-1.97,2.44,5.84,5.51,-11.02,-12.67,-5.19,-2.2,-0.16,-0.36,0.04,-3.96,1.15,3.71,4.09,-0.83,-3.08,2.36,-4.49,8.96,-1.18,-2.99,-6.58,1.36,3.41,0.9,-2.02,-3.58,-1.07,-0.38,2.43,7.88,-6.32,1.78,1.35,1.25,-3.13,-0.16,-6.44,-3.55,12.15,-5.81,-4.62,-0.88,2.0,1.0,-0.39,0.43,1.25,1.83,0.5,-16.83,-1.45,0.61,1.56,0.0,-2.43,1.93,-2.15,-6.99,1.75,1.02,4.27,0.26,1.73,-1.6,-0.46,1.84,5.08,-3.06,-4.89,-0.26,-1.14,-3.58,-2.24,-2.96,-0.75,-0.99,-1.46,1.19,-1.76,-2.87,-1.54,-7.13,1.48,-4.71,1.88,6.69,3.97,-3.69,-2.75,-2.63,-1.08,0.82,-3.18,1.12,-3.67,5.03,-0.21,-0.48,-3.17,-1.85,-5.58,6.06,-3.25,1.2,-2.44,-8.78,-2.24,5.69,-3.86,3.51,-0.16,-18.92,1.1,-7.59,-2.99,0.11,-6.92,1.53,-1.4,-0.47,-5.69,2.26,13.02,5.65,-3.6,-9.71,6.26,-4.67,1.87,4.93,-3.38,-4.63,-3.55,31.94,-6.61,-10.17,-6.77,-6.9,3.45,11.25,2.0,5.45,-3.41,0.75,-12.42,-4.97,-6.12,0.82,5.39,-3.2,-3.83,-6.73,8.39,8.56,12.52,4.89,-0.85,3.21,-0.83,1.67,-3.08,3.5,12.81,-2.91,-7.58,1.11,5.51,-8.82,-5.2,-1.32,-3.34,0.35,1.15,3.4,-1.43,-4.78,7.36,-8.38,-5.11,0.0,4.26,-6.48,-1.03,2.46,-5.19,5.34,0.51,4.16,-9.2,-9.33,-10.74,-3.62,-8.21,8.75,11.99],[null,null,null,null,null,null,null,null,null,23.38,24.61,26.0,27.37,28.53,29.89,30.95,31.91,32.75,33.15,33.67,34.27,34.7,35.33,35.87,36.0,36.2,36.76,37.25,39.33,41.16,42.38,43.44,44.03,44.84,45.87,46.42,47.61,48.5,46.98,45.27,43.88,42.45,41.15,39.9,38.47,37.31,35.13,33.17,32.16,31.41,31.22,31.12,31.1,31.05,30.99,30.73,30.8,31.18,31.64,31.75,31.36,30.88,30.42,29.76,29.15,28.59,27.86,26.98,26.0,25.52,25.41,25.36,25.43,25.38,25.57,25.72,25.9,25.87,25.79,25.69,25.63,25.6,25.42,25.33,25.01,24.78,24.83,24.87,24.93,24.94,24.96,24.94,25.02,24.96,24.82,24.9,24.64,24.44,24.18,23.92,23.66,23.46,23.29,23.3,23.44,23.31,22.93,22.63,22.36,22.08,21.77,21.43,21.11,20.72,20.15,19.6,19.47,19.45,19.43,19.41,19.36,19.34,19.33,19.46,19.66,19.73,19.78,19.72,19.6,19.39,19.17,18.94,18.66,18.25,17.93,17.67,17.38,17.08,16.73,16.45,16.15,15.89,15.74,15.68,15.54,15.39,15.25,15.11,15.1,15.03,15.03,14.96,14.86,14.7,14.59,14.48,14.38,14.21,14.12,14.03,13.94,13.86,13.61,13.32,13.12,12.91,12.76,12.7,12.32,11.99,11.58,11.16,10.87,10.54,10.15,9.8,9.41,8.97,8.78,8.69,8.72,8.75,8.68,8.74,8.73,8.76,8.83,8.92,8.95,8.84,8.94,9.01,9.07,9.01,8.93,8.87,8.85,8.88,9.01,9.13,9.0,8.82,8.7,8.6,8.56,8.53,8.39,8.2,7.91,7.71,7.57,7.64,7.8,8.0,8.22,8.4,8.61,8.83,9.13,9.49,9.76,9.85,9.91,10.02,10.02,9.97,9.9,9.83,9.72,9.5,9.35,9.26,9.11,8.98,8.86,8.75,8.65,8.61,8.52,8.41,8.29,8.14,8.07,7.94,7.93,7.88,7.76,7.53,7.34,7.11,6.9,6.81],[null,null,null,null,null,null,null,null,null,null,null,null,null,null,null,null,null,null,null,null,null,null,null,null,null,null,null,null,null,null,null,null,null,null,null,null,null,null,null,null,null,null,null,null,null,null,null,null,null,34.98,35.27,35.54,35.8,36.04,36.24,36.32,36.44,36.57,36.65,36.65,36.62,36.52,36.41,36.28,36.1,35.85,35.63,35.41,35.22,35.02,34.85,34.65,34.43,34.19,34.01,33.76,33.46,33.14,32.51,31.93,31.5,31.08,30.7,30.29,29.84,29.43,28.9,28.41,28.1,27.86,27.72,27.58,27.48,27.3,27.11,26.95,26.81,26.67,26.51,26.36,26.2,26.05,25.91,25.75,25.6,25.46,25.23,24.96,24.65,24.43,24.28,24.16,24.05,23.94,23.8,23.66,23.55,23.45,23.34,23.21,23.07,22.96,22.83,22.75,22.62,22.47,22.33,22.22,22.1,21.95,21.78,21.62,21.48,21.34,21.2,21.04,20.84,20.67,20.46,20.25,20.02,19.81,19.62,19.48,19.34,19.14,18.96,18.8,18.64,18.47,18.3,18.11,17.94,17.76,17.57,17.37,17.25,17.12,17.0,16.86,16.73,16.6,16.44,16.28,16.17,16.04,15.91,15.76,15.57,15.38,15.17,14.96,14.75,14.5,14.27,14.05,13.83,13.61,13.41,13.24,13.08,12.93,12.75,12.6,12.43,12.27,12.13,11.98,11.85,11.71,11.64,11.55,11.42,11.26,11.1,10.96,10.85,10.74,10.63,10.54,10.44,10.32,10.19,10.04,9.9,9.77,9.65,9.53,9.39,9.27,9.16,9.08,9.02,8.98,8.92,8.87,8.82,8.76,8.75,8.77,8.8,8.81,8.83,8.87,8.89,8.91,8.92,8.93,8.94,8.94,8.92,8.92,8.92,8.92,8.92,8.9,8.88,8.87,8.86,8.85,8.79,8.74,8.72,8.71,8.72,8.71,8.66,8.6,8.52,8.44,8.37,8.34],[null,null,null,null,null,null,null,null,null,null,null,null,null,null,null,null,null,null,null,null,null,null,null,null,null,null,null,null,null,null,null,null,null,null,null,null,null,null,null,null,null,null,null,null,null,null,null,null,null,null,null,null,null,null,null,null,null,null,null,null,null,null,null,null,null,null,null,null,null,null,null,null,null,null,null,null,null,null,null,null,null,null,null,null,null,null,null,null,null,null,null,null,null,null,null,null,null,null,null,30.67,30.74,30.8,30.86,30.89,30.92,30.89,30.84,30.76,30.65,30.54,30.45,30.34,30.23,30.11,29.95,29.76,29.59,29.43,29.28,29.11,28.96,28.8,28.63,28.47,28.31,28.11,27.89,27.68,27.31,26.94,26.64,26.35,26.09,25.81,25.52,25.24,24.87,24.54,24.28,24.05,23.87,23.7,23.55,23.39,23.23,23.04,22.88,22.73,22.58,22.42,22.25,22.08,21.93,21.75,21.59,21.42,21.24,21.04,20.82,20.64,20.51,20.38,20.25,20.11,19.98,19.85,19.73,19.61,19.46,19.29,19.12,18.96,18.79,18.63,18.44,18.26,18.08,17.92,17.75,17.59,17.43,17.27,17.12,16.97,16.81,16.66,16.48,16.32,16.16,15.98,15.83,15.68,15.52,15.37,15.22,15.05,14.9,14.77,14.64,14.5,14.37,14.22,14.06,13.9,13.74,13.57,13.45,13.33,13.19,13.07,12.95,12.84,12.73,12.63,12.54,12.45,12.36,12.26,12.16,12.07,11.99,11.89,11.79,11.69,11.58,11.48,11.38,11.27,11.18,11.09,11.0,10.92,10.84,10.76,10.67,10.59,10.5,10.43,10.36,10.28,10.22,10.15,10.07,9.99,9.91,9.83,9.75,9.67,9.58,9.49,9.4,9.33],[\"2021-05-17T00:00:00\",\"2021-05-18T00:00:00\",\"2021-05-19T00:00:00\",\"2021-05-20T00:00:00\",\"2021-05-21T00:00:00\",\"2021-05-24T00:00:00\",\"2021-05-25T00:00:00\",\"2021-05-26T00:00:00\",\"2021-05-27T00:00:00\",\"2021-05-28T00:00:00\",\"2021-06-01T00:00:00\",\"2021-06-02T00:00:00\",\"2021-06-03T00:00:00\",\"2021-06-04T00:00:00\",\"2021-06-07T00:00:00\",\"2021-06-08T00:00:00\",\"2021-06-09T00:00:00\",\"2021-06-10T00:00:00\",\"2021-06-11T00:00:00\",\"2021-06-14T00:00:00\",\"2021-06-15T00:00:00\",\"2021-06-16T00:00:00\",\"2021-06-17T00:00:00\",\"2021-06-18T00:00:00\",\"2021-06-21T00:00:00\",\"2021-06-22T00:00:00\",\"2021-06-23T00:00:00\",\"2021-06-24T00:00:00\",\"2021-06-25T00:00:00\",\"2021-06-28T00:00:00\",\"2021-06-29T00:00:00\",\"2021-06-30T00:00:00\",\"2021-07-01T00:00:00\",\"2021-07-02T00:00:00\",\"2021-07-06T00:00:00\",\"2021-07-07T00:00:00\",\"2021-07-08T00:00:00\",\"2021-07-09T00:00:00\",\"2021-07-12T00:00:00\",\"2021-07-13T00:00:00\",\"2021-07-14T00:00:00\",\"2021-07-15T00:00:00\",\"2021-07-16T00:00:00\",\"2021-07-19T00:00:00\",\"2021-07-20T00:00:00\",\"2021-07-21T00:00:00\",\"2021-07-22T00:00:00\",\"2021-07-23T00:00:00\",\"2021-07-26T00:00:00\",\"2021-07-27T00:00:00\",\"2021-07-28T00:00:00\",\"2021-07-29T00:00:00\",\"2021-07-30T00:00:00\",\"2021-08-02T00:00:00\",\"2021-08-03T00:00:00\",\"2021-08-04T00:00:00\",\"2021-08-05T00:00:00\",\"2021-08-06T00:00:00\",\"2021-08-09T00:00:00\",\"2021-08-10T00:00:00\",\"2021-08-11T00:00:00\",\"2021-08-12T00:00:00\",\"2021-08-13T00:00:00\",\"2021-08-16T00:00:00\",\"2021-08-17T00:00:00\",\"2021-08-18T00:00:00\",\"2021-08-19T00:00:00\",\"2021-08-20T00:00:00\",\"2021-08-23T00:00:00\",\"2021-08-24T00:00:00\",\"2021-08-25T00:00:00\",\"2021-08-26T00:00:00\",\"2021-08-27T00:00:00\",\"2021-08-30T00:00:00\",\"2021-08-31T00:00:00\",\"2021-09-01T00:00:00\",\"2021-09-02T00:00:00\",\"2021-09-03T00:00:00\",\"2021-09-07T00:00:00\",\"2021-09-08T00:00:00\",\"2021-09-09T00:00:00\",\"2021-09-10T00:00:00\",\"2021-09-13T00:00:00\",\"2021-09-14T00:00:00\",\"2021-09-15T00:00:00\",\"2021-09-16T00:00:00\",\"2021-09-17T00:00:00\",\"2021-09-20T00:00:00\",\"2021-09-21T00:00:00\",\"2021-09-22T00:00:00\",\"2021-09-23T00:00:00\",\"2021-09-24T00:00:00\",\"2021-09-27T00:00:00\",\"2021-09-28T00:00:00\",\"2021-09-29T00:00:00\",\"2021-09-30T00:00:00\",\"2021-10-01T00:00:00\",\"2021-10-04T00:00:00\",\"2021-10-05T00:00:00\",\"2021-10-06T00:00:00\",\"2021-10-07T00:00:00\",\"2021-10-08T00:00:00\",\"2021-10-11T00:00:00\",\"2021-10-12T00:00:00\",\"2021-10-13T00:00:00\",\"2021-10-14T00:00:00\",\"2021-10-15T00:00:00\",\"2021-10-18T00:00:00\",\"2021-10-19T00:00:00\",\"2021-10-20T00:00:00\",\"2021-10-21T00:00:00\",\"2021-10-22T00:00:00\",\"2021-10-25T00:00:00\",\"2021-10-26T00:00:00\",\"2021-10-27T00:00:00\",\"2021-10-28T00:00:00\",\"2021-10-29T00:00:00\",\"2021-11-01T00:00:00\",\"2021-11-02T00:00:00\",\"2021-11-03T00:00:00\",\"2021-11-04T00:00:00\",\"2021-11-05T00:00:00\",\"2021-11-08T00:00:00\",\"2021-11-09T00:00:00\",\"2021-11-10T00:00:00\",\"2021-11-11T00:00:00\",\"2021-11-12T00:00:00\",\"2021-11-15T00:00:00\",\"2021-11-16T00:00:00\",\"2021-11-17T00:00:00\",\"2021-11-18T00:00:00\",\"2021-11-19T00:00:00\",\"2021-11-22T00:00:00\",\"2021-11-23T00:00:00\",\"2021-11-24T00:00:00\",\"2021-11-26T00:00:00\",\"2021-11-29T00:00:00\",\"2021-11-30T00:00:00\",\"2021-12-01T00:00:00\",\"2021-12-02T00:00:00\",\"2021-12-03T00:00:00\",\"2021-12-06T00:00:00\",\"2021-12-07T00:00:00\",\"2021-12-08T00:00:00\",\"2021-12-09T00:00:00\",\"2021-12-10T00:00:00\",\"2021-12-13T00:00:00\",\"2021-12-14T00:00:00\",\"2021-12-15T00:00:00\",\"2021-12-16T00:00:00\",\"2021-12-17T00:00:00\",\"2021-12-20T00:00:00\",\"2021-12-21T00:00:00\",\"2021-12-22T00:00:00\",\"2021-12-23T00:00:00\",\"2021-12-27T00:00:00\",\"2021-12-28T00:00:00\",\"2021-12-29T00:00:00\",\"2021-12-30T00:00:00\",\"2021-12-31T00:00:00\",\"2022-01-03T00:00:00\",\"2022-01-04T00:00:00\",\"2022-01-05T00:00:00\",\"2022-01-06T00:00:00\",\"2022-01-07T00:00:00\",\"2022-01-10T00:00:00\",\"2022-01-11T00:00:00\",\"2022-01-12T00:00:00\",\"2022-01-13T00:00:00\",\"2022-01-14T00:00:00\",\"2022-01-18T00:00:00\",\"2022-01-19T00:00:00\",\"2022-01-20T00:00:00\",\"2022-01-21T00:00:00\",\"2022-01-24T00:00:00\",\"2022-01-25T00:00:00\",\"2022-01-26T00:00:00\",\"2022-01-27T00:00:00\",\"2022-01-28T00:00:00\",\"2022-01-31T00:00:00\",\"2022-02-01T00:00:00\",\"2022-02-02T00:00:00\",\"2022-02-03T00:00:00\",\"2022-02-04T00:00:00\",\"2022-02-07T00:00:00\",\"2022-02-08T00:00:00\",\"2022-02-09T00:00:00\",\"2022-02-10T00:00:00\",\"2022-02-11T00:00:00\",\"2022-02-14T00:00:00\",\"2022-02-15T00:00:00\",\"2022-02-16T00:00:00\",\"2022-02-17T00:00:00\",\"2022-02-18T00:00:00\",\"2022-02-22T00:00:00\",\"2022-02-23T00:00:00\",\"2022-02-24T00:00:00\",\"2022-02-25T00:00:00\",\"2022-02-28T00:00:00\",\"2022-03-01T00:00:00\",\"2022-03-02T00:00:00\",\"2022-03-03T00:00:00\",\"2022-03-04T00:00:00\",\"2022-03-07T00:00:00\",\"2022-03-08T00:00:00\",\"2022-03-09T00:00:00\",\"2022-03-10T00:00:00\",\"2022-03-11T00:00:00\",\"2022-03-14T00:00:00\",\"2022-03-15T00:00:00\",\"2022-03-16T00:00:00\",\"2022-03-17T00:00:00\",\"2022-03-18T00:00:00\",\"2022-03-21T00:00:00\",\"2022-03-22T00:00:00\",\"2022-03-23T00:00:00\",\"2022-03-24T00:00:00\",\"2022-03-25T00:00:00\",\"2022-03-28T00:00:00\",\"2022-03-29T00:00:00\",\"2022-03-30T00:00:00\",\"2022-03-31T00:00:00\",\"2022-04-01T00:00:00\",\"2022-04-04T00:00:00\",\"2022-04-05T00:00:00\",\"2022-04-06T00:00:00\",\"2022-04-07T00:00:00\",\"2022-04-08T00:00:00\",\"2022-04-11T00:00:00\",\"2022-04-12T00:00:00\",\"2022-04-13T00:00:00\",\"2022-04-14T00:00:00\",\"2022-04-18T00:00:00\",\"2022-04-19T00:00:00\",\"2022-04-20T00:00:00\",\"2022-04-21T00:00:00\",\"2022-04-22T00:00:00\",\"2022-04-25T00:00:00\",\"2022-04-26T00:00:00\",\"2022-04-27T00:00:00\",\"2022-04-28T00:00:00\",\"2022-04-29T00:00:00\",\"2022-05-02T00:00:00\",\"2022-05-03T00:00:00\",\"2022-05-04T00:00:00\",\"2022-05-05T00:00:00\",\"2022-05-06T00:00:00\",\"2022-05-09T00:00:00\",\"2022-05-10T00:00:00\",\"2022-05-11T00:00:00\",\"2022-05-12T00:00:00\",\"2022-05-13T00:00:00\"]],\"font\":{\"size\":10}},\"header\":{\"align\":\"left\",\"fill\":{\"color\":\"paleturquoise\"},\"values\":[\"High\",\"Low\",\"Open\",\"Close\",\"Volume\",\"Daily Return Pct\",\"10 Moving Average\",\"50 Moving Average\",\"100 Moving Average\",\"Date\"],\"font\":{\"size\":10}},\"type\":\"table\"}],                        {\"template\":{\"data\":{\"histogram2dcontour\":[{\"type\":\"histogram2dcontour\",\"colorbar\":{\"outlinewidth\":0,\"ticks\":\"\"},\"colorscale\":[[0.0,\"#0d0887\"],[0.1111111111111111,\"#46039f\"],[0.2222222222222222,\"#7201a8\"],[0.3333333333333333,\"#9c179e\"],[0.4444444444444444,\"#bd3786\"],[0.5555555555555556,\"#d8576b\"],[0.6666666666666666,\"#ed7953\"],[0.7777777777777778,\"#fb9f3a\"],[0.8888888888888888,\"#fdca26\"],[1.0,\"#f0f921\"]]}],\"choropleth\":[{\"type\":\"choropleth\",\"colorbar\":{\"outlinewidth\":0,\"ticks\":\"\"}}],\"histogram2d\":[{\"type\":\"histogram2d\",\"colorbar\":{\"outlinewidth\":0,\"ticks\":\"\"},\"colorscale\":[[0.0,\"#0d0887\"],[0.1111111111111111,\"#46039f\"],[0.2222222222222222,\"#7201a8\"],[0.3333333333333333,\"#9c179e\"],[0.4444444444444444,\"#bd3786\"],[0.5555555555555556,\"#d8576b\"],[0.6666666666666666,\"#ed7953\"],[0.7777777777777778,\"#fb9f3a\"],[0.8888888888888888,\"#fdca26\"],[1.0,\"#f0f921\"]]}],\"heatmap\":[{\"type\":\"heatmap\",\"colorbar\":{\"outlinewidth\":0,\"ticks\":\"\"},\"colorscale\":[[0.0,\"#0d0887\"],[0.1111111111111111,\"#46039f\"],[0.2222222222222222,\"#7201a8\"],[0.3333333333333333,\"#9c179e\"],[0.4444444444444444,\"#bd3786\"],[0.5555555555555556,\"#d8576b\"],[0.6666666666666666,\"#ed7953\"],[0.7777777777777778,\"#fb9f3a\"],[0.8888888888888888,\"#fdca26\"],[1.0,\"#f0f921\"]]}],\"heatmapgl\":[{\"type\":\"heatmapgl\",\"colorbar\":{\"outlinewidth\":0,\"ticks\":\"\"},\"colorscale\":[[0.0,\"#0d0887\"],[0.1111111111111111,\"#46039f\"],[0.2222222222222222,\"#7201a8\"],[0.3333333333333333,\"#9c179e\"],[0.4444444444444444,\"#bd3786\"],[0.5555555555555556,\"#d8576b\"],[0.6666666666666666,\"#ed7953\"],[0.7777777777777778,\"#fb9f3a\"],[0.8888888888888888,\"#fdca26\"],[1.0,\"#f0f921\"]]}],\"contourcarpet\":[{\"type\":\"contourcarpet\",\"colorbar\":{\"outlinewidth\":0,\"ticks\":\"\"}}],\"contour\":[{\"type\":\"contour\",\"colorbar\":{\"outlinewidth\":0,\"ticks\":\"\"},\"colorscale\":[[0.0,\"#0d0887\"],[0.1111111111111111,\"#46039f\"],[0.2222222222222222,\"#7201a8\"],[0.3333333333333333,\"#9c179e\"],[0.4444444444444444,\"#bd3786\"],[0.5555555555555556,\"#d8576b\"],[0.6666666666666666,\"#ed7953\"],[0.7777777777777778,\"#fb9f3a\"],[0.8888888888888888,\"#fdca26\"],[1.0,\"#f0f921\"]]}],\"surface\":[{\"type\":\"surface\",\"colorbar\":{\"outlinewidth\":0,\"ticks\":\"\"},\"colorscale\":[[0.0,\"#0d0887\"],[0.1111111111111111,\"#46039f\"],[0.2222222222222222,\"#7201a8\"],[0.3333333333333333,\"#9c179e\"],[0.4444444444444444,\"#bd3786\"],[0.5555555555555556,\"#d8576b\"],[0.6666666666666666,\"#ed7953\"],[0.7777777777777778,\"#fb9f3a\"],[0.8888888888888888,\"#fdca26\"],[1.0,\"#f0f921\"]]}],\"mesh3d\":[{\"type\":\"mesh3d\",\"colorbar\":{\"outlinewidth\":0,\"ticks\":\"\"}}],\"scatter\":[{\"fillpattern\":{\"fillmode\":\"overlay\",\"size\":10,\"solidity\":0.2},\"type\":\"scatter\"}],\"parcoords\":[{\"type\":\"parcoords\",\"line\":{\"colorbar\":{\"outlinewidth\":0,\"ticks\":\"\"}}}],\"scatterpolargl\":[{\"type\":\"scatterpolargl\",\"marker\":{\"colorbar\":{\"outlinewidth\":0,\"ticks\":\"\"}}}],\"bar\":[{\"error_x\":{\"color\":\"#2a3f5f\"},\"error_y\":{\"color\":\"#2a3f5f\"},\"marker\":{\"line\":{\"color\":\"#E5ECF6\",\"width\":0.5},\"pattern\":{\"fillmode\":\"overlay\",\"size\":10,\"solidity\":0.2}},\"type\":\"bar\"}],\"scattergeo\":[{\"type\":\"scattergeo\",\"marker\":{\"colorbar\":{\"outlinewidth\":0,\"ticks\":\"\"}}}],\"scatterpolar\":[{\"type\":\"scatterpolar\",\"marker\":{\"colorbar\":{\"outlinewidth\":0,\"ticks\":\"\"}}}],\"histogram\":[{\"marker\":{\"pattern\":{\"fillmode\":\"overlay\",\"size\":10,\"solidity\":0.2}},\"type\":\"histogram\"}],\"scattergl\":[{\"type\":\"scattergl\",\"marker\":{\"colorbar\":{\"outlinewidth\":0,\"ticks\":\"\"}}}],\"scatter3d\":[{\"type\":\"scatter3d\",\"line\":{\"colorbar\":{\"outlinewidth\":0,\"ticks\":\"\"}},\"marker\":{\"colorbar\":{\"outlinewidth\":0,\"ticks\":\"\"}}}],\"scattermapbox\":[{\"type\":\"scattermapbox\",\"marker\":{\"colorbar\":{\"outlinewidth\":0,\"ticks\":\"\"}}}],\"scatterternary\":[{\"type\":\"scatterternary\",\"marker\":{\"colorbar\":{\"outlinewidth\":0,\"ticks\":\"\"}}}],\"scattercarpet\":[{\"type\":\"scattercarpet\",\"marker\":{\"colorbar\":{\"outlinewidth\":0,\"ticks\":\"\"}}}],\"carpet\":[{\"aaxis\":{\"endlinecolor\":\"#2a3f5f\",\"gridcolor\":\"white\",\"linecolor\":\"white\",\"minorgridcolor\":\"white\",\"startlinecolor\":\"#2a3f5f\"},\"baxis\":{\"endlinecolor\":\"#2a3f5f\",\"gridcolor\":\"white\",\"linecolor\":\"white\",\"minorgridcolor\":\"white\",\"startlinecolor\":\"#2a3f5f\"},\"type\":\"carpet\"}],\"table\":[{\"cells\":{\"fill\":{\"color\":\"#EBF0F8\"},\"line\":{\"color\":\"white\"}},\"header\":{\"fill\":{\"color\":\"#C8D4E3\"},\"line\":{\"color\":\"white\"}},\"type\":\"table\"}],\"barpolar\":[{\"marker\":{\"line\":{\"color\":\"#E5ECF6\",\"width\":0.5},\"pattern\":{\"fillmode\":\"overlay\",\"size\":10,\"solidity\":0.2}},\"type\":\"barpolar\"}],\"pie\":[{\"automargin\":true,\"type\":\"pie\"}]},\"layout\":{\"autotypenumbers\":\"strict\",\"colorway\":[\"#636efa\",\"#EF553B\",\"#00cc96\",\"#ab63fa\",\"#FFA15A\",\"#19d3f3\",\"#FF6692\",\"#B6E880\",\"#FF97FF\",\"#FECB52\"],\"font\":{\"color\":\"#2a3f5f\"},\"hovermode\":\"closest\",\"hoverlabel\":{\"align\":\"left\"},\"paper_bgcolor\":\"white\",\"plot_bgcolor\":\"#E5ECF6\",\"polar\":{\"bgcolor\":\"#E5ECF6\",\"angularaxis\":{\"gridcolor\":\"white\",\"linecolor\":\"white\",\"ticks\":\"\"},\"radialaxis\":{\"gridcolor\":\"white\",\"linecolor\":\"white\",\"ticks\":\"\"}},\"ternary\":{\"bgcolor\":\"#E5ECF6\",\"aaxis\":{\"gridcolor\":\"white\",\"linecolor\":\"white\",\"ticks\":\"\"},\"baxis\":{\"gridcolor\":\"white\",\"linecolor\":\"white\",\"ticks\":\"\"},\"caxis\":{\"gridcolor\":\"white\",\"linecolor\":\"white\",\"ticks\":\"\"}},\"coloraxis\":{\"colorbar\":{\"outlinewidth\":0,\"ticks\":\"\"}},\"colorscale\":{\"sequential\":[[0.0,\"#0d0887\"],[0.1111111111111111,\"#46039f\"],[0.2222222222222222,\"#7201a8\"],[0.3333333333333333,\"#9c179e\"],[0.4444444444444444,\"#bd3786\"],[0.5555555555555556,\"#d8576b\"],[0.6666666666666666,\"#ed7953\"],[0.7777777777777778,\"#fb9f3a\"],[0.8888888888888888,\"#fdca26\"],[1.0,\"#f0f921\"]],\"sequentialminus\":[[0.0,\"#0d0887\"],[0.1111111111111111,\"#46039f\"],[0.2222222222222222,\"#7201a8\"],[0.3333333333333333,\"#9c179e\"],[0.4444444444444444,\"#bd3786\"],[0.5555555555555556,\"#d8576b\"],[0.6666666666666666,\"#ed7953\"],[0.7777777777777778,\"#fb9f3a\"],[0.8888888888888888,\"#fdca26\"],[1.0,\"#f0f921\"]],\"diverging\":[[0,\"#8e0152\"],[0.1,\"#c51b7d\"],[0.2,\"#de77ae\"],[0.3,\"#f1b6da\"],[0.4,\"#fde0ef\"],[0.5,\"#f7f7f7\"],[0.6,\"#e6f5d0\"],[0.7,\"#b8e186\"],[0.8,\"#7fbc41\"],[0.9,\"#4d9221\"],[1,\"#276419\"]]},\"xaxis\":{\"gridcolor\":\"white\",\"linecolor\":\"white\",\"ticks\":\"\",\"title\":{\"standoff\":15},\"zerolinecolor\":\"white\",\"automargin\":true,\"zerolinewidth\":2},\"yaxis\":{\"gridcolor\":\"white\",\"linecolor\":\"white\",\"ticks\":\"\",\"title\":{\"standoff\":15},\"zerolinecolor\":\"white\",\"automargin\":true,\"zerolinewidth\":2},\"scene\":{\"xaxis\":{\"backgroundcolor\":\"#E5ECF6\",\"gridcolor\":\"white\",\"linecolor\":\"white\",\"showbackground\":true,\"ticks\":\"\",\"zerolinecolor\":\"white\",\"gridwidth\":2},\"yaxis\":{\"backgroundcolor\":\"#E5ECF6\",\"gridcolor\":\"white\",\"linecolor\":\"white\",\"showbackground\":true,\"ticks\":\"\",\"zerolinecolor\":\"white\",\"gridwidth\":2},\"zaxis\":{\"backgroundcolor\":\"#E5ECF6\",\"gridcolor\":\"white\",\"linecolor\":\"white\",\"showbackground\":true,\"ticks\":\"\",\"zerolinecolor\":\"white\",\"gridwidth\":2}},\"shapedefaults\":{\"line\":{\"color\":\"#2a3f5f\"}},\"annotationdefaults\":{\"arrowcolor\":\"#2a3f5f\",\"arrowhead\":0,\"arrowwidth\":1},\"geo\":{\"bgcolor\":\"white\",\"landcolor\":\"#E5ECF6\",\"subunitcolor\":\"white\",\"showland\":true,\"showlakes\":true,\"lakecolor\":\"white\"},\"title\":{\"x\":0.05},\"mapbox\":{\"style\":\"light\"}}}},                        {\"responsive\": true}                    ).then(function(){\n",
       "                            \n",
       "var gd = document.getElementById('969787f7-38cf-4752-a20c-0fa2288196cb');\n",
       "var x = new MutationObserver(function (mutations, observer) {{\n",
       "        var display = window.getComputedStyle(gd).display;\n",
       "        if (!display || display === 'none') {{\n",
       "            console.log([gd, 'removed!']);\n",
       "            Plotly.purge(gd);\n",
       "            observer.disconnect();\n",
       "        }}\n",
       "}});\n",
       "\n",
       "// Listen for the removal of the full notebook cells\n",
       "var notebookContainer = gd.closest('#notebook-container');\n",
       "if (notebookContainer) {{\n",
       "    x.observe(notebookContainer, {childList: true});\n",
       "}}\n",
       "\n",
       "// Listen for the clearing of the current output cell\n",
       "var outputEl = gd.closest('.output');\n",
       "if (outputEl) {{\n",
       "    x.observe(outputEl, {childList: true});\n",
       "}}\n",
       "\n",
       "                        })                };                });            </script>        </div>"
      ]
     },
     "metadata": {},
     "output_type": "display_data"
    }
   ],
   "source": [
    "get_data_from_yahoo('SPCE')"
   ]
  },
  {
   "cell_type": "code",
   "execution_count": 344,
   "id": "2f8c2c64",
   "metadata": {
    "scrolled": false
   },
   "outputs": [
    {
     "data": {
      "application/vnd.plotly.v1+json": {
       "config": {
        "plotlyServerURL": "https://plot.ly"
       },
       "data": [
        {
         "close": [
          1519.28,
          1538.74,
          1531.84,
          1630.2,
          1653.42,
          1819.38,
          1788.26,
          1834.98,
          1943.28,
          1944.62,
          1877.15,
          1933.84,
          1899.72,
          1925.74,
          2024.29,
          2093.77,
          2026.22,
          2044.82,
          2044.62,
          2103.77,
          2037.48,
          2047.79,
          2123.51,
          2115.42,
          2094.45,
          2201.18,
          2253.44,
          2254.57,
          2657.68,
          2661.79,
          2470.1,
          2437.75,
          2365.8,
          2405.03,
          2443.92,
          2387.45,
          2570.71,
          2501.28,
          2285.72,
          2204.17,
          2075.14,
          2027.04,
          1974.02,
          2035.14,
          2041.81,
          2063.91,
          1993.17,
          1970.14,
          1993.29,
          1972.04,
          2009.66,
          1994.6,
          1970.83,
          2020.53,
          1999.08,
          2006.72,
          2045.97,
          2073.96,
          2127.71,
          2009.46,
          1905.38,
          1870.61,
          1853.85,
          1839.65,
          1833.14,
          1836.69,
          1827.95,
          1848.51,
          1897.4,
          1931.39,
          1918.75,
          1892.19,
          1932.1,
          1915.37,
          1970.93,
          1986.83,
          1980.16,
          1940.99,
          1966.85,
          1969.36,
          1967.6,
          1949.76,
          1904.5,
          1877.61,
          1886.29,
          1908.9,
          1975.22,
          1889.97,
          1903.22,
          1937.58,
          1954.86,
          1922.52,
          1921.32,
          1846.07,
          1831.47,
          1917.56,
          1887.38,
          1828.22,
          1870.22,
          1891.12,
          1901.47,
          1890.19,
          1884.15,
          1896.38,
          1921.36,
          1939.96,
          1833.2,
          1843.81,
          1860.8,
          1847.42,
          1885.84,
          1877.99,
          1916.04,
          1898.47,
          1844.9,
          1881.71,
          1903.52,
          1931.75,
          1918.71,
          1947.65,
          1914.53,
          1874.56,
          1895.99,
          1912.54,
          1865.49,
          1857.55,
          1892.08,
          1877.85,
          1877.48,
          1861.38,
          1822.02,
          1812.01,
          1760.49,
          1735.42,
          1754.55,
          1752.62,
          1737.46,
          1698.73,
          1605.82,
          1611.86,
          1549.46,
          1575.98,
          1641.75,
          1675.8,
          1612.85,
          1595.09,
          1568.22,
          1550.94,
          1572.45,
          1526.12,
          1551.58,
          1534.39,
          1583.5,
          1593.39,
          1595.51,
          1574.54,
          1556.25,
          1527.8,
          1563.76,
          1530.38,
          1540.29,
          1503.08,
          1412.87,
          1386.35,
          1382.62,
          1370.27,
          1393.66,
          1376.71,
          1273.69,
          1285.53,
          1231.76,
          1225.03,
          1216.75,
          1046.35,
          1047.28,
          1005.7,
          987.79,
          994.69,
          1009.28,
          1119.72,
          1176.96,
          1115.33,
          1043.42,
          1080.7,
          1059.17,
          1064.44,
          1105.02,
          1077.57,
          1040.07,
          1036.33,
          1133.85,
          1092.8,
          1030.15,
          1003.55,
          965.31,
          947.6,
          1021.14,
          1037.56,
          1067.77,
          1038.79,
          1029.34,
          964.23,
          931.23,
          894.56,
          888.71,
          934.6,
          915.07,
          868.28,
          828.41,
          868.45,
          928.99,
          985.08,
          1021.32,
          1003.16,
          1035.6,
          1016.99,
          1026.1,
          1006.92,
          1033.51,
          1102.38,
          1068.41,
          1027.96,
          1035.61,
          1085.8,
          1028.83,
          986.77,
          972.63,
          947.56,
          934.8,
          932.62,
          957.17,
          929.06,
          906.18,
          946.43,
          762.58,
          728.31,
          720.67,
          731.89,
          686.23,
          666.8,
          681.27,
          651.33,
          687.25,
          687.44,
          713.46,
          652.23,
          615.31,
          565.12,
          564.84,
          518.54,
          550.12,
          606.67
         ],
         "high": [
          1538.9,
          1575.88,
          1534.23,
          1679.54,
          1690.93,
          1845.47,
          1819.99,
          1857.47,
          1969.4,
          2065.81,
          1940.44,
          1967.26,
          1991.89,
          1957.71,
          2031.04,
          2127.93,
          2135.16,
          2110.9,
          2072.74,
          2140.99,
          2111.23,
          2078.48,
          2135.96,
          2143.14,
          2120.86,
          2216.51,
          2280.61,
          2300.75,
          2703.57,
          2732.63,
          2640.85,
          2503.28,
          2462.95,
          2663.4,
          2531.06,
          2463.97,
          2583.3,
          2591.16,
          2554.53,
          2318.15,
          2230.72,
          2127.1,
          2075.07,
          2054.04,
          2059.09,
          2099.24,
          2075.77,
          2012.94,
          2019.66,
          2008.44,
          2031.96,
          2041.34,
          2016.8,
          2056.02,
          2019.96,
          2054.03,
          2065.74,
          2151.31,
          2143.1,
          2122.8,
          1987.88,
          1912.67,
          1893.6,
          1889.06,
          1850.75,
          1871.11,
          1880.72,
          1861.72,
          1910.21,
          1938.22,
          1946.91,
          1942.62,
          1948.45,
          1951.64,
          1991.93,
          2016.1,
          2064.51,
          1976.81,
          1991.97,
          2009.14,
          1993.18,
          2016.94,
          1944.08,
          1931.11,
          1896.89,
          1919.73,
          1976.84,
          1953.68,
          1928.21,
          1955.56,
          1966.03,
          1950.9,
          1938.4,
          1920.85,
          1891.81,
          1963.85,
          1933.24,
          1898.46,
          1891.62,
          1902.24,
          1934.61,
          1931.61,
          1922.1,
          1925.59,
          1929.47,
          1955.16,
          1882.75,
          1850.04,
          1872.05,
          1880.38,
          1907.61,
          1894.45,
          1935.71,
          1940.54,
          1887.79,
          1891.36,
          1916.46,
          1945.71,
          1938.02,
          1951.62,
          1957.43,
          1919.02,
          1909.2,
          1955.7,
          1933.57,
          1881.38,
          1900.86,
          1905.19,
          1890.78,
          1898.49,
          1868.74,
          1852.24,
          1824.18,
          1776.17,
          1764.2,
          1784.49,
          1766.69,
          1765.86,
          1730.82,
          1642.28,
          1622.6,
          1588.65,
          1658.32,
          1692.05,
          1687.99,
          1645.39,
          1608.37,
          1573.35,
          1579.28,
          1588.75,
          1568.08,
          1562.01,
          1588.58,
          1605.93,
          1605.06,
          1597.95,
          1596.97,
          1556.78,
          1592.38,
          1582.27,
          1561.21,
          1546.74,
          1509.41,
          1422.63,
          1427.19,
          1387.38,
          1404.19,
          1417.32,
          1349.55,
          1306.49,
          1280.9,
          1268.25,
          1281.42,
          1102.41,
          1047.81,
          1050.05,
          1062.37,
          1045.98,
          1015.7,
          1121.19,
          1183.08,
          1175.18,
          1103.59,
          1091.05,
          1099.37,
          1071.71,
          1108.98,
          1117.22,
          1103.88,
          1076.76,
          1142.19,
          1113.5,
          1085.98,
          1044.49,
          1009.35,
          1015.05,
          1024.35,
          1038.65,
          1079.7,
          1080.9,
          1049.71,
          1037.32,
          979.96,
          949.55,
          932.41,
          948.77,
          936.1,
          931.41,
          871.98,
          872.28,
          932.19,
          987.42,
          1026.63,
          1028.18,
          1046.52,
          1046.85,
          1032.96,
          1029.17,
          1041.06,
          1117.07,
          1109.24,
          1070.3,
          1060.12,
          1096.55,
          1088.65,
          1012.61,
          999.1,
          972.65,
          957.34,
          978.57,
          962.75,
          959.53,
          929.06,
          954.62,
          824.89,
          785.24,
          754.37,
          743.34,
          730.43,
          700.43,
          689.83,
          706.37,
          688.15,
          703.69,
          716.81,
          700.5,
          640.1,
          609.71,
          599.29,
          573.85,
          570.8,
          613.12
         ],
         "low": [
          1478.82,
          1503.1,
          1470.9,
          1574.53,
          1617.26,
          1716.91,
          1758.17,
          1789.4,
          1809.6,
          1930.54,
          1850.54,
          1856.55,
          1889.15,
          1879.59,
          1907.31,
          2017.09,
          2016.58,
          2012.26,
          2005.69,
          2033.84,
          2027.68,
          1998.19,
          2033.78,
          2079.94,
          2044.09,
          2079.71,
          2184.72,
          2221.38,
          2396.9,
          2584.14,
          2428.58,
          2354.51,
          2347.01,
          2375.72,
          2376.92,
          2329.09,
          2308.11,
          2455.95,
          2254.8,
          2191.66,
          2059.81,
          2001.14,
          1961.46,
          1908.79,
          1945.11,
          1984.88,
          1980.4,
          1928.99,
          1945.31,
          1904.62,
          1963.93,
          1981.65,
          1950.75,
          1944.31,
          1945.04,
          1975.14,
          1990.52,
          2020.47,
          2057.49,
          1997.66,
          1871.02,
          1849.34,
          1839.61,
          1821.41,
          1801.94,
          1812.58,
          1796.69,
          1817.42,
          1850.04,
          1894.02,
          1899.29,
          1879.43,
          1886.23,
          1890.69,
          1921.28,
          1960.55,
          1941.92,
          1914.52,
          1929.19,
          1930.45,
          1936.71,
          1937.85,
          1869.54,
          1868.52,
          1845.02,
          1875.26,
          1900.82,
          1860.77,
          1881.84,
          1907.48,
          1930.61,
          1901.97,
          1876.09,
          1826.99,
          1816.86,
          1877.48,
          1849.96,
          1808.87,
          1815.12,
          1848.03,
          1882.24,
          1881.28,
          1876.44,
          1877.05,
          1894.47,
          1915.02,
          1823.49,
          1794.41,
          1826.53,
          1822.88,
          1842.73,
          1846.37,
          1868.24,
          1885.47,
          1837.12,
          1851.71,
          1873.66,
          1888.55,
          1891.43,
          1905.77,
          1901.29,
          1856.74,
          1862.85,
          1862.12,
          1845.28,
          1842.15,
          1846.88,
          1863.24,
          1847.33,
          1847.41,
          1811.04,
          1801.55,
          1746.46,
          1702.28,
          1705.27,
          1732.95,
          1713.97,
          1669.91,
          1603.13,
          1578.83,
          1521.6,
          1508.48,
          1596.93,
          1621.67,
          1608.73,
          1581.11,
          1543.47,
          1522.41,
          1495.81,
          1511.95,
          1484.09,
          1507.54,
          1532.63,
          1564.06,
          1562.86,
          1564.2,
          1553.53,
          1511.02,
          1523.89,
          1528.71,
          1498.12,
          1472.87,
          1407.91,
          1346.16,
          1363.36,
          1324.46,
          1347.83,
          1361.57,
          1271.51,
          1245.66,
          1228.22,
          1216.41,
          1213.62,
          1024.94,
          936.15,
          988.36,
          979.89,
          980.18,
          958.5,
          1032.69,
          1105.85,
          1100.35,
          1040.19,
          1030.77,
          1041.31,
          1034.8,
          1063.15,
          1060.88,
          1026.9,
          1018.32,
          1061.36,
          1069.06,
          1022.49,
          992.81,
          953.62,
          943.72,
          898.16,
          983.45,
          1022.56,
          1029.73,
          1002.75,
          956.23,
          921.6,
          894.34,
          866.15,
          911.61,
          899.21,
          866.28,
          823.83,
          825.58,
          876.97,
          915.86,
          972.36,
          980.78,
          990.51,
          1005.99,
          991.76,
          989.02,
          994.15,
          1043.57,
          1056.61,
          1026.43,
          1017.27,
          1039.46,
          1023.32,
          965,
          941.48,
          942.19,
          912.29,
          923.13,
          922.12,
          922.33,
          887.92,
          896.16,
          745.66,
          714.87,
          707.66,
          703.66,
          685.24,
          662.87,
          634.17,
          650.45,
          644.26,
          671.8,
          654.26,
          642.95,
          589.7,
          562.04,
          538.28,
          516.06,
          499.25,
          568.77
         ],
         "name": "Portfolio",
         "open": [
          1499.21,
          1520.88,
          1489.16,
          1625.46,
          1651.24,
          1768.16,
          1788.95,
          1798.91,
          1843.61,
          1949.32,
          1920.31,
          1871.18,
          1948.53,
          1906.9,
          1924.1,
          2047.15,
          2116.9,
          2040.35,
          2042.35,
          2052.32,
          2101.98,
          2033.5,
          2035.3,
          2117.28,
          2101.07,
          2088.95,
          2191.68,
          2273.6,
          2459.56,
          2705.99,
          2598.11,
          2404.12,
          2434.61,
          2622.75,
          2408.85,
          2453.89,
          2334.77,
          2528.75,
          2518.31,
          2273.86,
          2197.51,
          2080.76,
          2052.72,
          1937.11,
          1996.08,
          2017.23,
          2053,
          1987.09,
          1969.26,
          1985.95,
          1980.73,
          2008.75,
          1985.73,
          1971,
          2009.82,
          1999,
          2008.16,
          2049.9,
          2068.53,
          2117.1,
          1979.45,
          1888.48,
          1855.72,
          1854.29,
          1820.96,
          1834.05,
          1830.09,
          1828.86,
          1855.13,
          1902.78,
          1932.39,
          1911.49,
          1899.52,
          1929.15,
          1936.34,
          1971.8,
          1974.97,
          1957.81,
          1944.93,
          1961.16,
          1968.16,
          1973.79,
          1933.13,
          1895.32,
          1884.1,
          1895.51,
          1914.07,
          1924.75,
          1905.27,
          1913.78,
          1949.25,
          1947.7,
          1915.84,
          1906,
          1859.91,
          1884.66,
          1906.94,
          1880.17,
          1835.93,
          1857.07,
          1902.43,
          1905.6,
          1887.54,
          1898.47,
          1909.92,
          1939.93,
          1859.5,
          1809.67,
          1840.36,
          1845.39,
          1852.12,
          1877.67,
          1882.94,
          1922.76,
          1879.15,
          1857.64,
          1878.52,
          1908.02,
          1927.53,
          1911.87,
          1947.48,
          1908.06,
          1871.8,
          1901.24,
          1889.96,
          1854.44,
          1863.36,
          1891.74,
          1866.37,
          1877.85,
          1864.83,
          1837.27,
          1814.6,
          1755.62,
          1732.51,
          1758.36,
          1758.09,
          1739.09,
          1718.75,
          1606.97,
          1617.6,
          1542.11,
          1608.2,
          1651.1,
          1667.5,
          1627.39,
          1592.6,
          1542.3,
          1547.32,
          1572.96,
          1519.78,
          1528.47,
          1546,
          1579.23,
          1595.23,
          1592.25,
          1574.39,
          1549.55,
          1526.24,
          1558.81,
          1543.73,
          1544.54,
          1493.15,
          1399.31,
          1388.6,
          1373.05,
          1367.49,
          1404.72,
          1342.52,
          1265.62,
          1268.55,
          1245.25,
          1236.93,
          1080.77,
          1006.39,
          1023.02,
          1038.87,
          1023.67,
          994.71,
          1038.91,
          1140.5,
          1166.2,
          1082.43,
          1053.27,
          1078.05,
          1050.47,
          1078.03,
          1076.57,
          1078.15,
          1032.31,
          1072.75,
          1108.44,
          1075.51,
          1028.86,
          987.24,
          980.91,
          901.36,
          1011.83,
          1031.9,
          1061.42,
          1042.82,
          1035.56,
          964.4,
          933.89,
          893.21,
          921.08,
          922.79,
          927.33,
          861.16,
          835.72,
          884.09,
          925.84,
          978.05,
          1011.07,
          998.17,
          1023.92,
          1027.06,
          1026.93,
          1013.88,
          1051.41,
          1089.86,
          1066.26,
          1035.48,
          1042.86,
          1082.51,
          1007.98,
          980.55,
          968.1,
          930.55,
          956.28,
          931.6,
          955.79,
          924.1,
          898.91,
          818.84,
          767.3,
          735.37,
          716.52,
          726.16,
          679.86,
          667.27,
          679.07,
          651.3,
          681.6,
          683.38,
          700.19,
          639.3,
          598.54,
          583.46,
          551.86,
          507.6,
          571.89
         ],
         "showlegend": true,
         "type": "candlestick",
         "x": [
          "2021-05-17T00:00:00",
          "2021-05-18T00:00:00",
          "2021-05-19T00:00:00",
          "2021-05-20T00:00:00",
          "2021-05-21T00:00:00",
          "2021-05-24T00:00:00",
          "2021-05-25T00:00:00",
          "2021-05-26T00:00:00",
          "2021-05-27T00:00:00",
          "2021-05-28T00:00:00",
          "2021-06-01T00:00:00",
          "2021-06-02T00:00:00",
          "2021-06-03T00:00:00",
          "2021-06-04T00:00:00",
          "2021-06-07T00:00:00",
          "2021-06-08T00:00:00",
          "2021-06-09T00:00:00",
          "2021-06-10T00:00:00",
          "2021-06-11T00:00:00",
          "2021-06-14T00:00:00",
          "2021-06-15T00:00:00",
          "2021-06-16T00:00:00",
          "2021-06-17T00:00:00",
          "2021-06-18T00:00:00",
          "2021-06-21T00:00:00",
          "2021-06-22T00:00:00",
          "2021-06-23T00:00:00",
          "2021-06-24T00:00:00",
          "2021-06-25T00:00:00",
          "2021-06-28T00:00:00",
          "2021-06-29T00:00:00",
          "2021-06-30T00:00:00",
          "2021-07-01T00:00:00",
          "2021-07-02T00:00:00",
          "2021-07-06T00:00:00",
          "2021-07-07T00:00:00",
          "2021-07-08T00:00:00",
          "2021-07-09T00:00:00",
          "2021-07-12T00:00:00",
          "2021-07-13T00:00:00",
          "2021-07-14T00:00:00",
          "2021-07-15T00:00:00",
          "2021-07-16T00:00:00",
          "2021-07-19T00:00:00",
          "2021-07-20T00:00:00",
          "2021-07-21T00:00:00",
          "2021-07-22T00:00:00",
          "2021-07-23T00:00:00",
          "2021-07-26T00:00:00",
          "2021-07-27T00:00:00",
          "2021-07-28T00:00:00",
          "2021-07-29T00:00:00",
          "2021-07-30T00:00:00",
          "2021-08-02T00:00:00",
          "2021-08-03T00:00:00",
          "2021-08-04T00:00:00",
          "2021-08-05T00:00:00",
          "2021-08-06T00:00:00",
          "2021-08-09T00:00:00",
          "2021-08-10T00:00:00",
          "2021-08-11T00:00:00",
          "2021-08-12T00:00:00",
          "2021-08-13T00:00:00",
          "2021-08-16T00:00:00",
          "2021-08-17T00:00:00",
          "2021-08-18T00:00:00",
          "2021-08-19T00:00:00",
          "2021-08-20T00:00:00",
          "2021-08-23T00:00:00",
          "2021-08-24T00:00:00",
          "2021-08-25T00:00:00",
          "2021-08-26T00:00:00",
          "2021-08-27T00:00:00",
          "2021-08-30T00:00:00",
          "2021-08-31T00:00:00",
          "2021-09-01T00:00:00",
          "2021-09-02T00:00:00",
          "2021-09-03T00:00:00",
          "2021-09-07T00:00:00",
          "2021-09-08T00:00:00",
          "2021-09-09T00:00:00",
          "2021-09-10T00:00:00",
          "2021-09-13T00:00:00",
          "2021-09-14T00:00:00",
          "2021-09-15T00:00:00",
          "2021-09-16T00:00:00",
          "2021-09-17T00:00:00",
          "2021-09-20T00:00:00",
          "2021-09-21T00:00:00",
          "2021-09-22T00:00:00",
          "2021-09-23T00:00:00",
          "2021-09-24T00:00:00",
          "2021-09-27T00:00:00",
          "2021-09-28T00:00:00",
          "2021-09-29T00:00:00",
          "2021-09-30T00:00:00",
          "2021-10-01T00:00:00",
          "2021-10-04T00:00:00",
          "2021-10-05T00:00:00",
          "2021-10-06T00:00:00",
          "2021-10-07T00:00:00",
          "2021-10-08T00:00:00",
          "2021-10-11T00:00:00",
          "2021-10-12T00:00:00",
          "2021-10-13T00:00:00",
          "2021-10-14T00:00:00",
          "2021-10-15T00:00:00",
          "2021-10-18T00:00:00",
          "2021-10-19T00:00:00",
          "2021-10-20T00:00:00",
          "2021-10-21T00:00:00",
          "2021-10-22T00:00:00",
          "2021-10-25T00:00:00",
          "2021-10-26T00:00:00",
          "2021-10-27T00:00:00",
          "2021-10-28T00:00:00",
          "2021-10-29T00:00:00",
          "2021-11-01T00:00:00",
          "2021-11-02T00:00:00",
          "2021-11-03T00:00:00",
          "2021-11-04T00:00:00",
          "2021-11-05T00:00:00",
          "2021-11-08T00:00:00",
          "2021-11-09T00:00:00",
          "2021-11-10T00:00:00",
          "2021-11-11T00:00:00",
          "2021-11-12T00:00:00",
          "2021-11-15T00:00:00",
          "2021-11-16T00:00:00",
          "2021-11-17T00:00:00",
          "2021-11-18T00:00:00",
          "2021-11-19T00:00:00",
          "2021-11-22T00:00:00",
          "2021-11-23T00:00:00",
          "2021-11-24T00:00:00",
          "2021-11-26T00:00:00",
          "2021-11-29T00:00:00",
          "2021-11-30T00:00:00",
          "2021-12-01T00:00:00",
          "2021-12-02T00:00:00",
          "2021-12-03T00:00:00",
          "2021-12-06T00:00:00",
          "2021-12-07T00:00:00",
          "2021-12-08T00:00:00",
          "2021-12-09T00:00:00",
          "2021-12-10T00:00:00",
          "2021-12-13T00:00:00",
          "2021-12-14T00:00:00",
          "2021-12-15T00:00:00",
          "2021-12-16T00:00:00",
          "2021-12-17T00:00:00",
          "2021-12-20T00:00:00",
          "2021-12-21T00:00:00",
          "2021-12-22T00:00:00",
          "2021-12-23T00:00:00",
          "2021-12-27T00:00:00",
          "2021-12-28T00:00:00",
          "2021-12-29T00:00:00",
          "2021-12-30T00:00:00",
          "2021-12-31T00:00:00",
          "2022-01-03T00:00:00",
          "2022-01-04T00:00:00",
          "2022-01-05T00:00:00",
          "2022-01-06T00:00:00",
          "2022-01-07T00:00:00",
          "2022-01-10T00:00:00",
          "2022-01-11T00:00:00",
          "2022-01-12T00:00:00",
          "2022-01-13T00:00:00",
          "2022-01-14T00:00:00",
          "2022-01-18T00:00:00",
          "2022-01-19T00:00:00",
          "2022-01-20T00:00:00",
          "2022-01-21T00:00:00",
          "2022-01-24T00:00:00",
          "2022-01-25T00:00:00",
          "2022-01-26T00:00:00",
          "2022-01-27T00:00:00",
          "2022-01-28T00:00:00",
          "2022-01-31T00:00:00",
          "2022-02-01T00:00:00",
          "2022-02-02T00:00:00",
          "2022-02-03T00:00:00",
          "2022-02-04T00:00:00",
          "2022-02-07T00:00:00",
          "2022-02-08T00:00:00",
          "2022-02-09T00:00:00",
          "2022-02-10T00:00:00",
          "2022-02-11T00:00:00",
          "2022-02-14T00:00:00",
          "2022-02-15T00:00:00",
          "2022-02-16T00:00:00",
          "2022-02-17T00:00:00",
          "2022-02-18T00:00:00",
          "2022-02-22T00:00:00",
          "2022-02-23T00:00:00",
          "2022-02-24T00:00:00",
          "2022-02-25T00:00:00",
          "2022-02-28T00:00:00",
          "2022-03-01T00:00:00",
          "2022-03-02T00:00:00",
          "2022-03-03T00:00:00",
          "2022-03-04T00:00:00",
          "2022-03-07T00:00:00",
          "2022-03-08T00:00:00",
          "2022-03-09T00:00:00",
          "2022-03-10T00:00:00",
          "2022-03-11T00:00:00",
          "2022-03-14T00:00:00",
          "2022-03-15T00:00:00",
          "2022-03-16T00:00:00",
          "2022-03-17T00:00:00",
          "2022-03-18T00:00:00",
          "2022-03-21T00:00:00",
          "2022-03-22T00:00:00",
          "2022-03-23T00:00:00",
          "2022-03-24T00:00:00",
          "2022-03-25T00:00:00",
          "2022-03-28T00:00:00",
          "2022-03-29T00:00:00",
          "2022-03-30T00:00:00",
          "2022-03-31T00:00:00",
          "2022-04-01T00:00:00",
          "2022-04-04T00:00:00",
          "2022-04-05T00:00:00",
          "2022-04-06T00:00:00",
          "2022-04-07T00:00:00",
          "2022-04-08T00:00:00",
          "2022-04-11T00:00:00",
          "2022-04-12T00:00:00",
          "2022-04-13T00:00:00",
          "2022-04-14T00:00:00",
          "2022-04-18T00:00:00",
          "2022-04-19T00:00:00",
          "2022-04-20T00:00:00",
          "2022-04-21T00:00:00",
          "2022-04-22T00:00:00",
          "2022-04-25T00:00:00",
          "2022-04-26T00:00:00",
          "2022-04-27T00:00:00",
          "2022-04-28T00:00:00",
          "2022-04-29T00:00:00",
          "2022-05-02T00:00:00",
          "2022-05-03T00:00:00",
          "2022-05-04T00:00:00",
          "2022-05-05T00:00:00",
          "2022-05-06T00:00:00",
          "2022-05-09T00:00:00",
          "2022-05-10T00:00:00",
          "2022-05-11T00:00:00",
          "2022-05-12T00:00:00",
          "2022-05-13T00:00:00"
         ]
        }
       ],
       "layout": {
        "template": {
         "data": {
          "bar": [
           {
            "error_x": {
             "color": "#f2f5fa"
            },
            "error_y": {
             "color": "#f2f5fa"
            },
            "marker": {
             "line": {
              "color": "rgb(17,17,17)",
              "width": 0.5
             },
             "pattern": {
              "fillmode": "overlay",
              "size": 10,
              "solidity": 0.2
             }
            },
            "type": "bar"
           }
          ],
          "barpolar": [
           {
            "marker": {
             "line": {
              "color": "rgb(17,17,17)",
              "width": 0.5
             },
             "pattern": {
              "fillmode": "overlay",
              "size": 10,
              "solidity": 0.2
             }
            },
            "type": "barpolar"
           }
          ],
          "carpet": [
           {
            "aaxis": {
             "endlinecolor": "#A2B1C6",
             "gridcolor": "#506784",
             "linecolor": "#506784",
             "minorgridcolor": "#506784",
             "startlinecolor": "#A2B1C6"
            },
            "baxis": {
             "endlinecolor": "#A2B1C6",
             "gridcolor": "#506784",
             "linecolor": "#506784",
             "minorgridcolor": "#506784",
             "startlinecolor": "#A2B1C6"
            },
            "type": "carpet"
           }
          ],
          "choropleth": [
           {
            "colorbar": {
             "outlinewidth": 0,
             "ticks": ""
            },
            "type": "choropleth"
           }
          ],
          "contour": [
           {
            "colorbar": {
             "outlinewidth": 0,
             "ticks": ""
            },
            "colorscale": [
             [
              0,
              "#0d0887"
             ],
             [
              0.1111111111111111,
              "#46039f"
             ],
             [
              0.2222222222222222,
              "#7201a8"
             ],
             [
              0.3333333333333333,
              "#9c179e"
             ],
             [
              0.4444444444444444,
              "#bd3786"
             ],
             [
              0.5555555555555556,
              "#d8576b"
             ],
             [
              0.6666666666666666,
              "#ed7953"
             ],
             [
              0.7777777777777778,
              "#fb9f3a"
             ],
             [
              0.8888888888888888,
              "#fdca26"
             ],
             [
              1,
              "#f0f921"
             ]
            ],
            "type": "contour"
           }
          ],
          "contourcarpet": [
           {
            "colorbar": {
             "outlinewidth": 0,
             "ticks": ""
            },
            "type": "contourcarpet"
           }
          ],
          "heatmap": [
           {
            "colorbar": {
             "outlinewidth": 0,
             "ticks": ""
            },
            "colorscale": [
             [
              0,
              "#0d0887"
             ],
             [
              0.1111111111111111,
              "#46039f"
             ],
             [
              0.2222222222222222,
              "#7201a8"
             ],
             [
              0.3333333333333333,
              "#9c179e"
             ],
             [
              0.4444444444444444,
              "#bd3786"
             ],
             [
              0.5555555555555556,
              "#d8576b"
             ],
             [
              0.6666666666666666,
              "#ed7953"
             ],
             [
              0.7777777777777778,
              "#fb9f3a"
             ],
             [
              0.8888888888888888,
              "#fdca26"
             ],
             [
              1,
              "#f0f921"
             ]
            ],
            "type": "heatmap"
           }
          ],
          "heatmapgl": [
           {
            "colorbar": {
             "outlinewidth": 0,
             "ticks": ""
            },
            "colorscale": [
             [
              0,
              "#0d0887"
             ],
             [
              0.1111111111111111,
              "#46039f"
             ],
             [
              0.2222222222222222,
              "#7201a8"
             ],
             [
              0.3333333333333333,
              "#9c179e"
             ],
             [
              0.4444444444444444,
              "#bd3786"
             ],
             [
              0.5555555555555556,
              "#d8576b"
             ],
             [
              0.6666666666666666,
              "#ed7953"
             ],
             [
              0.7777777777777778,
              "#fb9f3a"
             ],
             [
              0.8888888888888888,
              "#fdca26"
             ],
             [
              1,
              "#f0f921"
             ]
            ],
            "type": "heatmapgl"
           }
          ],
          "histogram": [
           {
            "marker": {
             "pattern": {
              "fillmode": "overlay",
              "size": 10,
              "solidity": 0.2
             }
            },
            "type": "histogram"
           }
          ],
          "histogram2d": [
           {
            "colorbar": {
             "outlinewidth": 0,
             "ticks": ""
            },
            "colorscale": [
             [
              0,
              "#0d0887"
             ],
             [
              0.1111111111111111,
              "#46039f"
             ],
             [
              0.2222222222222222,
              "#7201a8"
             ],
             [
              0.3333333333333333,
              "#9c179e"
             ],
             [
              0.4444444444444444,
              "#bd3786"
             ],
             [
              0.5555555555555556,
              "#d8576b"
             ],
             [
              0.6666666666666666,
              "#ed7953"
             ],
             [
              0.7777777777777778,
              "#fb9f3a"
             ],
             [
              0.8888888888888888,
              "#fdca26"
             ],
             [
              1,
              "#f0f921"
             ]
            ],
            "type": "histogram2d"
           }
          ],
          "histogram2dcontour": [
           {
            "colorbar": {
             "outlinewidth": 0,
             "ticks": ""
            },
            "colorscale": [
             [
              0,
              "#0d0887"
             ],
             [
              0.1111111111111111,
              "#46039f"
             ],
             [
              0.2222222222222222,
              "#7201a8"
             ],
             [
              0.3333333333333333,
              "#9c179e"
             ],
             [
              0.4444444444444444,
              "#bd3786"
             ],
             [
              0.5555555555555556,
              "#d8576b"
             ],
             [
              0.6666666666666666,
              "#ed7953"
             ],
             [
              0.7777777777777778,
              "#fb9f3a"
             ],
             [
              0.8888888888888888,
              "#fdca26"
             ],
             [
              1,
              "#f0f921"
             ]
            ],
            "type": "histogram2dcontour"
           }
          ],
          "mesh3d": [
           {
            "colorbar": {
             "outlinewidth": 0,
             "ticks": ""
            },
            "type": "mesh3d"
           }
          ],
          "parcoords": [
           {
            "line": {
             "colorbar": {
              "outlinewidth": 0,
              "ticks": ""
             }
            },
            "type": "parcoords"
           }
          ],
          "pie": [
           {
            "automargin": true,
            "type": "pie"
           }
          ],
          "scatter": [
           {
            "marker": {
             "line": {
              "color": "#283442"
             }
            },
            "type": "scatter"
           }
          ],
          "scatter3d": [
           {
            "line": {
             "colorbar": {
              "outlinewidth": 0,
              "ticks": ""
             }
            },
            "marker": {
             "colorbar": {
              "outlinewidth": 0,
              "ticks": ""
             }
            },
            "type": "scatter3d"
           }
          ],
          "scattercarpet": [
           {
            "marker": {
             "colorbar": {
              "outlinewidth": 0,
              "ticks": ""
             }
            },
            "type": "scattercarpet"
           }
          ],
          "scattergeo": [
           {
            "marker": {
             "colorbar": {
              "outlinewidth": 0,
              "ticks": ""
             }
            },
            "type": "scattergeo"
           }
          ],
          "scattergl": [
           {
            "marker": {
             "line": {
              "color": "#283442"
             }
            },
            "type": "scattergl"
           }
          ],
          "scattermapbox": [
           {
            "marker": {
             "colorbar": {
              "outlinewidth": 0,
              "ticks": ""
             }
            },
            "type": "scattermapbox"
           }
          ],
          "scatterpolar": [
           {
            "marker": {
             "colorbar": {
              "outlinewidth": 0,
              "ticks": ""
             }
            },
            "type": "scatterpolar"
           }
          ],
          "scatterpolargl": [
           {
            "marker": {
             "colorbar": {
              "outlinewidth": 0,
              "ticks": ""
             }
            },
            "type": "scatterpolargl"
           }
          ],
          "scatterternary": [
           {
            "marker": {
             "colorbar": {
              "outlinewidth": 0,
              "ticks": ""
             }
            },
            "type": "scatterternary"
           }
          ],
          "surface": [
           {
            "colorbar": {
             "outlinewidth": 0,
             "ticks": ""
            },
            "colorscale": [
             [
              0,
              "#0d0887"
             ],
             [
              0.1111111111111111,
              "#46039f"
             ],
             [
              0.2222222222222222,
              "#7201a8"
             ],
             [
              0.3333333333333333,
              "#9c179e"
             ],
             [
              0.4444444444444444,
              "#bd3786"
             ],
             [
              0.5555555555555556,
              "#d8576b"
             ],
             [
              0.6666666666666666,
              "#ed7953"
             ],
             [
              0.7777777777777778,
              "#fb9f3a"
             ],
             [
              0.8888888888888888,
              "#fdca26"
             ],
             [
              1,
              "#f0f921"
             ]
            ],
            "type": "surface"
           }
          ],
          "table": [
           {
            "cells": {
             "fill": {
              "color": "#506784"
             },
             "line": {
              "color": "rgb(17,17,17)"
             }
            },
            "header": {
             "fill": {
              "color": "#2a3f5f"
             },
             "line": {
              "color": "rgb(17,17,17)"
             }
            },
            "type": "table"
           }
          ]
         },
         "layout": {
          "annotationdefaults": {
           "arrowcolor": "#f2f5fa",
           "arrowhead": 0,
           "arrowwidth": 1
          },
          "autotypenumbers": "strict",
          "coloraxis": {
           "colorbar": {
            "outlinewidth": 0,
            "ticks": ""
           }
          },
          "colorscale": {
           "diverging": [
            [
             0,
             "#8e0152"
            ],
            [
             0.1,
             "#c51b7d"
            ],
            [
             0.2,
             "#de77ae"
            ],
            [
             0.3,
             "#f1b6da"
            ],
            [
             0.4,
             "#fde0ef"
            ],
            [
             0.5,
             "#f7f7f7"
            ],
            [
             0.6,
             "#e6f5d0"
            ],
            [
             0.7,
             "#b8e186"
            ],
            [
             0.8,
             "#7fbc41"
            ],
            [
             0.9,
             "#4d9221"
            ],
            [
             1,
             "#276419"
            ]
           ],
           "sequential": [
            [
             0,
             "#0d0887"
            ],
            [
             0.1111111111111111,
             "#46039f"
            ],
            [
             0.2222222222222222,
             "#7201a8"
            ],
            [
             0.3333333333333333,
             "#9c179e"
            ],
            [
             0.4444444444444444,
             "#bd3786"
            ],
            [
             0.5555555555555556,
             "#d8576b"
            ],
            [
             0.6666666666666666,
             "#ed7953"
            ],
            [
             0.7777777777777778,
             "#fb9f3a"
            ],
            [
             0.8888888888888888,
             "#fdca26"
            ],
            [
             1,
             "#f0f921"
            ]
           ],
           "sequentialminus": [
            [
             0,
             "#0d0887"
            ],
            [
             0.1111111111111111,
             "#46039f"
            ],
            [
             0.2222222222222222,
             "#7201a8"
            ],
            [
             0.3333333333333333,
             "#9c179e"
            ],
            [
             0.4444444444444444,
             "#bd3786"
            ],
            [
             0.5555555555555556,
             "#d8576b"
            ],
            [
             0.6666666666666666,
             "#ed7953"
            ],
            [
             0.7777777777777778,
             "#fb9f3a"
            ],
            [
             0.8888888888888888,
             "#fdca26"
            ],
            [
             1,
             "#f0f921"
            ]
           ]
          },
          "colorway": [
           "#636efa",
           "#EF553B",
           "#00cc96",
           "#ab63fa",
           "#FFA15A",
           "#19d3f3",
           "#FF6692",
           "#B6E880",
           "#FF97FF",
           "#FECB52"
          ],
          "font": {
           "color": "#f2f5fa"
          },
          "geo": {
           "bgcolor": "rgb(17,17,17)",
           "lakecolor": "rgb(17,17,17)",
           "landcolor": "rgb(17,17,17)",
           "showlakes": true,
           "showland": true,
           "subunitcolor": "#506784"
          },
          "hoverlabel": {
           "align": "left"
          },
          "hovermode": "closest",
          "mapbox": {
           "style": "dark"
          },
          "paper_bgcolor": "rgb(17,17,17)",
          "plot_bgcolor": "rgb(17,17,17)",
          "polar": {
           "angularaxis": {
            "gridcolor": "#506784",
            "linecolor": "#506784",
            "ticks": ""
           },
           "bgcolor": "rgb(17,17,17)",
           "radialaxis": {
            "gridcolor": "#506784",
            "linecolor": "#506784",
            "ticks": ""
           }
          },
          "scene": {
           "xaxis": {
            "backgroundcolor": "rgb(17,17,17)",
            "gridcolor": "#506784",
            "gridwidth": 2,
            "linecolor": "#506784",
            "showbackground": true,
            "ticks": "",
            "zerolinecolor": "#C8D4E3"
           },
           "yaxis": {
            "backgroundcolor": "rgb(17,17,17)",
            "gridcolor": "#506784",
            "gridwidth": 2,
            "linecolor": "#506784",
            "showbackground": true,
            "ticks": "",
            "zerolinecolor": "#C8D4E3"
           },
           "zaxis": {
            "backgroundcolor": "rgb(17,17,17)",
            "gridcolor": "#506784",
            "gridwidth": 2,
            "linecolor": "#506784",
            "showbackground": true,
            "ticks": "",
            "zerolinecolor": "#C8D4E3"
           }
          },
          "shapedefaults": {
           "line": {
            "color": "#f2f5fa"
           }
          },
          "sliderdefaults": {
           "bgcolor": "#C8D4E3",
           "bordercolor": "rgb(17,17,17)",
           "borderwidth": 1,
           "tickwidth": 0
          },
          "ternary": {
           "aaxis": {
            "gridcolor": "#506784",
            "linecolor": "#506784",
            "ticks": ""
           },
           "baxis": {
            "gridcolor": "#506784",
            "linecolor": "#506784",
            "ticks": ""
           },
           "bgcolor": "rgb(17,17,17)",
           "caxis": {
            "gridcolor": "#506784",
            "linecolor": "#506784",
            "ticks": ""
           }
          },
          "title": {
           "x": 0.05
          },
          "updatemenudefaults": {
           "bgcolor": "#506784",
           "borderwidth": 0
          },
          "xaxis": {
           "automargin": true,
           "gridcolor": "#283442",
           "linecolor": "#506784",
           "ticks": "",
           "title": {
            "standoff": 15
           },
           "zerolinecolor": "#283442",
           "zerolinewidth": 2
          },
          "yaxis": {
           "automargin": true,
           "gridcolor": "#283442",
           "linecolor": "#506784",
           "ticks": "",
           "title": {
            "standoff": 15
           },
           "zerolinecolor": "#283442",
           "zerolinewidth": 2
          }
         }
        },
        "title": {
         "text": "Portfolio Value"
        },
        "xaxis": {
         "rangeslider": {
          "visible": false
         }
        }
       }
      },
      "text/html": [
       "<div>                            <div id=\"568b1fa2-f3b7-4794-83dd-59d721e1038e\" class=\"plotly-graph-div\" style=\"height:525px; width:100%;\"></div>            <script type=\"text/javascript\">                require([\"plotly\"], function(Plotly) {                    window.PLOTLYENV=window.PLOTLYENV || {};                                    if (document.getElementById(\"568b1fa2-f3b7-4794-83dd-59d721e1038e\")) {                    Plotly.newPlot(                        \"568b1fa2-f3b7-4794-83dd-59d721e1038e\",                        [{\"close\":[1519.28,1538.74,1531.84,1630.2,1653.42,1819.38,1788.26,1834.98,1943.28,1944.62,1877.15,1933.84,1899.72,1925.74,2024.29,2093.77,2026.22,2044.82,2044.62,2103.77,2037.48,2047.79,2123.51,2115.42,2094.45,2201.18,2253.44,2254.57,2657.68,2661.79,2470.1,2437.75,2365.8,2405.03,2443.92,2387.45,2570.71,2501.28,2285.72,2204.17,2075.14,2027.04,1974.02,2035.14,2041.81,2063.91,1993.17,1970.14,1993.29,1972.04,2009.66,1994.6,1970.83,2020.53,1999.08,2006.72,2045.97,2073.96,2127.71,2009.46,1905.38,1870.61,1853.85,1839.65,1833.14,1836.69,1827.95,1848.51,1897.4,1931.39,1918.75,1892.19,1932.1,1915.37,1970.93,1986.83,1980.16,1940.99,1966.85,1969.36,1967.6,1949.76,1904.5,1877.61,1886.29,1908.9,1975.22,1889.97,1903.22,1937.58,1954.86,1922.52,1921.32,1846.07,1831.47,1917.56,1887.38,1828.22,1870.22,1891.12,1901.47,1890.19,1884.15,1896.38,1921.36,1939.96,1833.2,1843.81,1860.8,1847.42,1885.84,1877.99,1916.04,1898.47,1844.9,1881.71,1903.52,1931.75,1918.71,1947.65,1914.53,1874.56,1895.99,1912.54,1865.49,1857.55,1892.08,1877.85,1877.48,1861.38,1822.02,1812.01,1760.49,1735.42,1754.55,1752.62,1737.46,1698.73,1605.82,1611.86,1549.46,1575.98,1641.75,1675.8,1612.85,1595.09,1568.22,1550.94,1572.45,1526.12,1551.58,1534.39,1583.5,1593.39,1595.51,1574.54,1556.25,1527.8,1563.76,1530.38,1540.29,1503.08,1412.87,1386.35,1382.62,1370.27,1393.66,1376.71,1273.69,1285.53,1231.76,1225.03,1216.75,1046.35,1047.28,1005.7,987.79,994.69,1009.28,1119.72,1176.96,1115.33,1043.42,1080.7,1059.17,1064.44,1105.02,1077.57,1040.07,1036.33,1133.85,1092.8,1030.15,1003.55,965.31,947.6,1021.14,1037.56,1067.77,1038.79,1029.34,964.23,931.23,894.56,888.71,934.6,915.07,868.28,828.41,868.45,928.99,985.08,1021.32,1003.16,1035.6,1016.99,1026.1,1006.92,1033.51,1102.38,1068.41,1027.96,1035.61,1085.8,1028.83,986.77,972.63,947.56,934.8,932.62,957.17,929.06,906.18,946.43,762.58,728.31,720.67,731.89,686.23,666.8,681.27,651.33,687.25,687.44,713.46,652.23,615.31,565.12,564.84,518.54,550.12,606.67],\"high\":[1538.9,1575.88,1534.23,1679.54,1690.93,1845.47,1819.99,1857.47,1969.4,2065.81,1940.44,1967.26,1991.89,1957.71,2031.04,2127.93,2135.16,2110.9,2072.74,2140.99,2111.23,2078.48,2135.96,2143.14,2120.86,2216.51,2280.61,2300.75,2703.57,2732.63,2640.85,2503.28,2462.95,2663.4,2531.06,2463.97,2583.3,2591.16,2554.53,2318.15,2230.72,2127.1,2075.07,2054.04,2059.09,2099.24,2075.77,2012.94,2019.66,2008.44,2031.96,2041.34,2016.8,2056.02,2019.96,2054.03,2065.74,2151.31,2143.1,2122.8,1987.88,1912.67,1893.6,1889.06,1850.75,1871.11,1880.72,1861.72,1910.21,1938.22,1946.91,1942.62,1948.45,1951.64,1991.93,2016.1,2064.51,1976.81,1991.97,2009.14,1993.18,2016.94,1944.08,1931.11,1896.89,1919.73,1976.84,1953.68,1928.21,1955.56,1966.03,1950.9,1938.4,1920.85,1891.81,1963.85,1933.24,1898.46,1891.62,1902.24,1934.61,1931.61,1922.1,1925.59,1929.47,1955.16,1882.75,1850.04,1872.05,1880.38,1907.61,1894.45,1935.71,1940.54,1887.79,1891.36,1916.46,1945.71,1938.02,1951.62,1957.43,1919.02,1909.2,1955.7,1933.57,1881.38,1900.86,1905.19,1890.78,1898.49,1868.74,1852.24,1824.18,1776.17,1764.2,1784.49,1766.69,1765.86,1730.82,1642.28,1622.6,1588.65,1658.32,1692.05,1687.99,1645.39,1608.37,1573.35,1579.28,1588.75,1568.08,1562.01,1588.58,1605.93,1605.06,1597.95,1596.97,1556.78,1592.38,1582.27,1561.21,1546.74,1509.41,1422.63,1427.19,1387.38,1404.19,1417.32,1349.55,1306.49,1280.9,1268.25,1281.42,1102.41,1047.81,1050.05,1062.37,1045.98,1015.7,1121.19,1183.08,1175.18,1103.59,1091.05,1099.37,1071.71,1108.98,1117.22,1103.88,1076.76,1142.19,1113.5,1085.98,1044.49,1009.35,1015.05,1024.35,1038.65,1079.7,1080.9,1049.71,1037.32,979.96,949.55,932.41,948.77,936.1,931.41,871.98,872.28,932.19,987.42,1026.63,1028.18,1046.52,1046.85,1032.96,1029.17,1041.06,1117.07,1109.24,1070.3,1060.12,1096.55,1088.65,1012.61,999.1,972.65,957.34,978.57,962.75,959.53,929.06,954.62,824.89,785.24,754.37,743.34,730.43,700.43,689.83,706.37,688.15,703.69,716.81,700.5,640.1,609.71,599.29,573.85,570.8,613.12],\"low\":[1478.82,1503.1,1470.9,1574.53,1617.26,1716.91,1758.17,1789.4,1809.6,1930.54,1850.54,1856.55,1889.15,1879.59,1907.31,2017.09,2016.58,2012.26,2005.69,2033.84,2027.68,1998.19,2033.78,2079.94,2044.09,2079.71,2184.72,2221.38,2396.9,2584.14,2428.58,2354.51,2347.01,2375.72,2376.92,2329.09,2308.11,2455.95,2254.8,2191.66,2059.81,2001.14,1961.46,1908.79,1945.11,1984.88,1980.4,1928.99,1945.31,1904.62,1963.93,1981.65,1950.75,1944.31,1945.04,1975.14,1990.52,2020.47,2057.49,1997.66,1871.02,1849.34,1839.61,1821.41,1801.94,1812.58,1796.69,1817.42,1850.04,1894.02,1899.29,1879.43,1886.23,1890.69,1921.28,1960.55,1941.92,1914.52,1929.19,1930.45,1936.71,1937.85,1869.54,1868.52,1845.02,1875.26,1900.82,1860.77,1881.84,1907.48,1930.61,1901.97,1876.09,1826.99,1816.86,1877.48,1849.96,1808.87,1815.12,1848.03,1882.24,1881.28,1876.44,1877.05,1894.47,1915.02,1823.49,1794.41,1826.53,1822.88,1842.73,1846.37,1868.24,1885.47,1837.12,1851.71,1873.66,1888.55,1891.43,1905.77,1901.29,1856.74,1862.85,1862.12,1845.28,1842.15,1846.88,1863.24,1847.33,1847.41,1811.04,1801.55,1746.46,1702.28,1705.27,1732.95,1713.97,1669.91,1603.13,1578.83,1521.6,1508.48,1596.93,1621.67,1608.73,1581.11,1543.47,1522.41,1495.81,1511.95,1484.09,1507.54,1532.63,1564.06,1562.86,1564.2,1553.53,1511.02,1523.89,1528.71,1498.12,1472.87,1407.91,1346.16,1363.36,1324.46,1347.83,1361.57,1271.51,1245.66,1228.22,1216.41,1213.62,1024.94,936.15,988.36,979.89,980.18,958.5,1032.69,1105.85,1100.35,1040.19,1030.77,1041.31,1034.8,1063.15,1060.88,1026.9,1018.32,1061.36,1069.06,1022.49,992.81,953.62,943.72,898.16,983.45,1022.56,1029.73,1002.75,956.23,921.6,894.34,866.15,911.61,899.21,866.28,823.83,825.58,876.97,915.86,972.36,980.78,990.51,1005.99,991.76,989.02,994.15,1043.57,1056.61,1026.43,1017.27,1039.46,1023.32,965.0,941.48,942.19,912.29,923.13,922.12,922.33,887.92,896.16,745.66,714.87,707.66,703.66,685.24,662.87,634.17,650.45,644.26,671.8,654.26,642.95,589.7,562.04,538.28,516.06,499.25,568.77],\"name\":\"Portfolio\",\"open\":[1499.21,1520.88,1489.16,1625.46,1651.24,1768.16,1788.95,1798.91,1843.61,1949.32,1920.31,1871.18,1948.53,1906.9,1924.1,2047.15,2116.9,2040.35,2042.35,2052.32,2101.98,2033.5,2035.3,2117.28,2101.07,2088.95,2191.68,2273.6,2459.56,2705.99,2598.11,2404.12,2434.61,2622.75,2408.85,2453.89,2334.77,2528.75,2518.31,2273.86,2197.51,2080.76,2052.72,1937.11,1996.08,2017.23,2053.0,1987.09,1969.26,1985.95,1980.73,2008.75,1985.73,1971.0,2009.82,1999.0,2008.16,2049.9,2068.53,2117.1,1979.45,1888.48,1855.72,1854.29,1820.96,1834.05,1830.09,1828.86,1855.13,1902.78,1932.39,1911.49,1899.52,1929.15,1936.34,1971.8,1974.97,1957.81,1944.93,1961.16,1968.16,1973.79,1933.13,1895.32,1884.1,1895.51,1914.07,1924.75,1905.27,1913.78,1949.25,1947.7,1915.84,1906.0,1859.91,1884.66,1906.94,1880.17,1835.93,1857.07,1902.43,1905.6,1887.54,1898.47,1909.92,1939.93,1859.5,1809.67,1840.36,1845.39,1852.12,1877.67,1882.94,1922.76,1879.15,1857.64,1878.52,1908.02,1927.53,1911.87,1947.48,1908.06,1871.8,1901.24,1889.96,1854.44,1863.36,1891.74,1866.37,1877.85,1864.83,1837.27,1814.6,1755.62,1732.51,1758.36,1758.09,1739.09,1718.75,1606.97,1617.6,1542.11,1608.2,1651.1,1667.5,1627.39,1592.6,1542.3,1547.32,1572.96,1519.78,1528.47,1546.0,1579.23,1595.23,1592.25,1574.39,1549.55,1526.24,1558.81,1543.73,1544.54,1493.15,1399.31,1388.6,1373.05,1367.49,1404.72,1342.52,1265.62,1268.55,1245.25,1236.93,1080.77,1006.39,1023.02,1038.87,1023.67,994.71,1038.91,1140.5,1166.2,1082.43,1053.27,1078.05,1050.47,1078.03,1076.57,1078.15,1032.31,1072.75,1108.44,1075.51,1028.86,987.24,980.91,901.36,1011.83,1031.9,1061.42,1042.82,1035.56,964.4,933.89,893.21,921.08,922.79,927.33,861.16,835.72,884.09,925.84,978.05,1011.07,998.17,1023.92,1027.06,1026.93,1013.88,1051.41,1089.86,1066.26,1035.48,1042.86,1082.51,1007.98,980.55,968.1,930.55,956.28,931.6,955.79,924.1,898.91,818.84,767.3,735.37,716.52,726.16,679.86,667.27,679.07,651.3,681.6,683.38,700.19,639.3,598.54,583.46,551.86,507.6,571.89],\"showlegend\":true,\"x\":[\"2021-05-17T00:00:00\",\"2021-05-18T00:00:00\",\"2021-05-19T00:00:00\",\"2021-05-20T00:00:00\",\"2021-05-21T00:00:00\",\"2021-05-24T00:00:00\",\"2021-05-25T00:00:00\",\"2021-05-26T00:00:00\",\"2021-05-27T00:00:00\",\"2021-05-28T00:00:00\",\"2021-06-01T00:00:00\",\"2021-06-02T00:00:00\",\"2021-06-03T00:00:00\",\"2021-06-04T00:00:00\",\"2021-06-07T00:00:00\",\"2021-06-08T00:00:00\",\"2021-06-09T00:00:00\",\"2021-06-10T00:00:00\",\"2021-06-11T00:00:00\",\"2021-06-14T00:00:00\",\"2021-06-15T00:00:00\",\"2021-06-16T00:00:00\",\"2021-06-17T00:00:00\",\"2021-06-18T00:00:00\",\"2021-06-21T00:00:00\",\"2021-06-22T00:00:00\",\"2021-06-23T00:00:00\",\"2021-06-24T00:00:00\",\"2021-06-25T00:00:00\",\"2021-06-28T00:00:00\",\"2021-06-29T00:00:00\",\"2021-06-30T00:00:00\",\"2021-07-01T00:00:00\",\"2021-07-02T00:00:00\",\"2021-07-06T00:00:00\",\"2021-07-07T00:00:00\",\"2021-07-08T00:00:00\",\"2021-07-09T00:00:00\",\"2021-07-12T00:00:00\",\"2021-07-13T00:00:00\",\"2021-07-14T00:00:00\",\"2021-07-15T00:00:00\",\"2021-07-16T00:00:00\",\"2021-07-19T00:00:00\",\"2021-07-20T00:00:00\",\"2021-07-21T00:00:00\",\"2021-07-22T00:00:00\",\"2021-07-23T00:00:00\",\"2021-07-26T00:00:00\",\"2021-07-27T00:00:00\",\"2021-07-28T00:00:00\",\"2021-07-29T00:00:00\",\"2021-07-30T00:00:00\",\"2021-08-02T00:00:00\",\"2021-08-03T00:00:00\",\"2021-08-04T00:00:00\",\"2021-08-05T00:00:00\",\"2021-08-06T00:00:00\",\"2021-08-09T00:00:00\",\"2021-08-10T00:00:00\",\"2021-08-11T00:00:00\",\"2021-08-12T00:00:00\",\"2021-08-13T00:00:00\",\"2021-08-16T00:00:00\",\"2021-08-17T00:00:00\",\"2021-08-18T00:00:00\",\"2021-08-19T00:00:00\",\"2021-08-20T00:00:00\",\"2021-08-23T00:00:00\",\"2021-08-24T00:00:00\",\"2021-08-25T00:00:00\",\"2021-08-26T00:00:00\",\"2021-08-27T00:00:00\",\"2021-08-30T00:00:00\",\"2021-08-31T00:00:00\",\"2021-09-01T00:00:00\",\"2021-09-02T00:00:00\",\"2021-09-03T00:00:00\",\"2021-09-07T00:00:00\",\"2021-09-08T00:00:00\",\"2021-09-09T00:00:00\",\"2021-09-10T00:00:00\",\"2021-09-13T00:00:00\",\"2021-09-14T00:00:00\",\"2021-09-15T00:00:00\",\"2021-09-16T00:00:00\",\"2021-09-17T00:00:00\",\"2021-09-20T00:00:00\",\"2021-09-21T00:00:00\",\"2021-09-22T00:00:00\",\"2021-09-23T00:00:00\",\"2021-09-24T00:00:00\",\"2021-09-27T00:00:00\",\"2021-09-28T00:00:00\",\"2021-09-29T00:00:00\",\"2021-09-30T00:00:00\",\"2021-10-01T00:00:00\",\"2021-10-04T00:00:00\",\"2021-10-05T00:00:00\",\"2021-10-06T00:00:00\",\"2021-10-07T00:00:00\",\"2021-10-08T00:00:00\",\"2021-10-11T00:00:00\",\"2021-10-12T00:00:00\",\"2021-10-13T00:00:00\",\"2021-10-14T00:00:00\",\"2021-10-15T00:00:00\",\"2021-10-18T00:00:00\",\"2021-10-19T00:00:00\",\"2021-10-20T00:00:00\",\"2021-10-21T00:00:00\",\"2021-10-22T00:00:00\",\"2021-10-25T00:00:00\",\"2021-10-26T00:00:00\",\"2021-10-27T00:00:00\",\"2021-10-28T00:00:00\",\"2021-10-29T00:00:00\",\"2021-11-01T00:00:00\",\"2021-11-02T00:00:00\",\"2021-11-03T00:00:00\",\"2021-11-04T00:00:00\",\"2021-11-05T00:00:00\",\"2021-11-08T00:00:00\",\"2021-11-09T00:00:00\",\"2021-11-10T00:00:00\",\"2021-11-11T00:00:00\",\"2021-11-12T00:00:00\",\"2021-11-15T00:00:00\",\"2021-11-16T00:00:00\",\"2021-11-17T00:00:00\",\"2021-11-18T00:00:00\",\"2021-11-19T00:00:00\",\"2021-11-22T00:00:00\",\"2021-11-23T00:00:00\",\"2021-11-24T00:00:00\",\"2021-11-26T00:00:00\",\"2021-11-29T00:00:00\",\"2021-11-30T00:00:00\",\"2021-12-01T00:00:00\",\"2021-12-02T00:00:00\",\"2021-12-03T00:00:00\",\"2021-12-06T00:00:00\",\"2021-12-07T00:00:00\",\"2021-12-08T00:00:00\",\"2021-12-09T00:00:00\",\"2021-12-10T00:00:00\",\"2021-12-13T00:00:00\",\"2021-12-14T00:00:00\",\"2021-12-15T00:00:00\",\"2021-12-16T00:00:00\",\"2021-12-17T00:00:00\",\"2021-12-20T00:00:00\",\"2021-12-21T00:00:00\",\"2021-12-22T00:00:00\",\"2021-12-23T00:00:00\",\"2021-12-27T00:00:00\",\"2021-12-28T00:00:00\",\"2021-12-29T00:00:00\",\"2021-12-30T00:00:00\",\"2021-12-31T00:00:00\",\"2022-01-03T00:00:00\",\"2022-01-04T00:00:00\",\"2022-01-05T00:00:00\",\"2022-01-06T00:00:00\",\"2022-01-07T00:00:00\",\"2022-01-10T00:00:00\",\"2022-01-11T00:00:00\",\"2022-01-12T00:00:00\",\"2022-01-13T00:00:00\",\"2022-01-14T00:00:00\",\"2022-01-18T00:00:00\",\"2022-01-19T00:00:00\",\"2022-01-20T00:00:00\",\"2022-01-21T00:00:00\",\"2022-01-24T00:00:00\",\"2022-01-25T00:00:00\",\"2022-01-26T00:00:00\",\"2022-01-27T00:00:00\",\"2022-01-28T00:00:00\",\"2022-01-31T00:00:00\",\"2022-02-01T00:00:00\",\"2022-02-02T00:00:00\",\"2022-02-03T00:00:00\",\"2022-02-04T00:00:00\",\"2022-02-07T00:00:00\",\"2022-02-08T00:00:00\",\"2022-02-09T00:00:00\",\"2022-02-10T00:00:00\",\"2022-02-11T00:00:00\",\"2022-02-14T00:00:00\",\"2022-02-15T00:00:00\",\"2022-02-16T00:00:00\",\"2022-02-17T00:00:00\",\"2022-02-18T00:00:00\",\"2022-02-22T00:00:00\",\"2022-02-23T00:00:00\",\"2022-02-24T00:00:00\",\"2022-02-25T00:00:00\",\"2022-02-28T00:00:00\",\"2022-03-01T00:00:00\",\"2022-03-02T00:00:00\",\"2022-03-03T00:00:00\",\"2022-03-04T00:00:00\",\"2022-03-07T00:00:00\",\"2022-03-08T00:00:00\",\"2022-03-09T00:00:00\",\"2022-03-10T00:00:00\",\"2022-03-11T00:00:00\",\"2022-03-14T00:00:00\",\"2022-03-15T00:00:00\",\"2022-03-16T00:00:00\",\"2022-03-17T00:00:00\",\"2022-03-18T00:00:00\",\"2022-03-21T00:00:00\",\"2022-03-22T00:00:00\",\"2022-03-23T00:00:00\",\"2022-03-24T00:00:00\",\"2022-03-25T00:00:00\",\"2022-03-28T00:00:00\",\"2022-03-29T00:00:00\",\"2022-03-30T00:00:00\",\"2022-03-31T00:00:00\",\"2022-04-01T00:00:00\",\"2022-04-04T00:00:00\",\"2022-04-05T00:00:00\",\"2022-04-06T00:00:00\",\"2022-04-07T00:00:00\",\"2022-04-08T00:00:00\",\"2022-04-11T00:00:00\",\"2022-04-12T00:00:00\",\"2022-04-13T00:00:00\",\"2022-04-14T00:00:00\",\"2022-04-18T00:00:00\",\"2022-04-19T00:00:00\",\"2022-04-20T00:00:00\",\"2022-04-21T00:00:00\",\"2022-04-22T00:00:00\",\"2022-04-25T00:00:00\",\"2022-04-26T00:00:00\",\"2022-04-27T00:00:00\",\"2022-04-28T00:00:00\",\"2022-04-29T00:00:00\",\"2022-05-02T00:00:00\",\"2022-05-03T00:00:00\",\"2022-05-04T00:00:00\",\"2022-05-05T00:00:00\",\"2022-05-06T00:00:00\",\"2022-05-09T00:00:00\",\"2022-05-10T00:00:00\",\"2022-05-11T00:00:00\",\"2022-05-12T00:00:00\",\"2022-05-13T00:00:00\"],\"type\":\"candlestick\"}],                        {\"template\":{\"data\":{\"barpolar\":[{\"marker\":{\"line\":{\"color\":\"rgb(17,17,17)\",\"width\":0.5},\"pattern\":{\"fillmode\":\"overlay\",\"size\":10,\"solidity\":0.2}},\"type\":\"barpolar\"}],\"bar\":[{\"error_x\":{\"color\":\"#f2f5fa\"},\"error_y\":{\"color\":\"#f2f5fa\"},\"marker\":{\"line\":{\"color\":\"rgb(17,17,17)\",\"width\":0.5},\"pattern\":{\"fillmode\":\"overlay\",\"size\":10,\"solidity\":0.2}},\"type\":\"bar\"}],\"carpet\":[{\"aaxis\":{\"endlinecolor\":\"#A2B1C6\",\"gridcolor\":\"#506784\",\"linecolor\":\"#506784\",\"minorgridcolor\":\"#506784\",\"startlinecolor\":\"#A2B1C6\"},\"baxis\":{\"endlinecolor\":\"#A2B1C6\",\"gridcolor\":\"#506784\",\"linecolor\":\"#506784\",\"minorgridcolor\":\"#506784\",\"startlinecolor\":\"#A2B1C6\"},\"type\":\"carpet\"}],\"choropleth\":[{\"colorbar\":{\"outlinewidth\":0,\"ticks\":\"\"},\"type\":\"choropleth\"}],\"contourcarpet\":[{\"colorbar\":{\"outlinewidth\":0,\"ticks\":\"\"},\"type\":\"contourcarpet\"}],\"contour\":[{\"colorbar\":{\"outlinewidth\":0,\"ticks\":\"\"},\"colorscale\":[[0.0,\"#0d0887\"],[0.1111111111111111,\"#46039f\"],[0.2222222222222222,\"#7201a8\"],[0.3333333333333333,\"#9c179e\"],[0.4444444444444444,\"#bd3786\"],[0.5555555555555556,\"#d8576b\"],[0.6666666666666666,\"#ed7953\"],[0.7777777777777778,\"#fb9f3a\"],[0.8888888888888888,\"#fdca26\"],[1.0,\"#f0f921\"]],\"type\":\"contour\"}],\"heatmapgl\":[{\"colorbar\":{\"outlinewidth\":0,\"ticks\":\"\"},\"colorscale\":[[0.0,\"#0d0887\"],[0.1111111111111111,\"#46039f\"],[0.2222222222222222,\"#7201a8\"],[0.3333333333333333,\"#9c179e\"],[0.4444444444444444,\"#bd3786\"],[0.5555555555555556,\"#d8576b\"],[0.6666666666666666,\"#ed7953\"],[0.7777777777777778,\"#fb9f3a\"],[0.8888888888888888,\"#fdca26\"],[1.0,\"#f0f921\"]],\"type\":\"heatmapgl\"}],\"heatmap\":[{\"colorbar\":{\"outlinewidth\":0,\"ticks\":\"\"},\"colorscale\":[[0.0,\"#0d0887\"],[0.1111111111111111,\"#46039f\"],[0.2222222222222222,\"#7201a8\"],[0.3333333333333333,\"#9c179e\"],[0.4444444444444444,\"#bd3786\"],[0.5555555555555556,\"#d8576b\"],[0.6666666666666666,\"#ed7953\"],[0.7777777777777778,\"#fb9f3a\"],[0.8888888888888888,\"#fdca26\"],[1.0,\"#f0f921\"]],\"type\":\"heatmap\"}],\"histogram2dcontour\":[{\"colorbar\":{\"outlinewidth\":0,\"ticks\":\"\"},\"colorscale\":[[0.0,\"#0d0887\"],[0.1111111111111111,\"#46039f\"],[0.2222222222222222,\"#7201a8\"],[0.3333333333333333,\"#9c179e\"],[0.4444444444444444,\"#bd3786\"],[0.5555555555555556,\"#d8576b\"],[0.6666666666666666,\"#ed7953\"],[0.7777777777777778,\"#fb9f3a\"],[0.8888888888888888,\"#fdca26\"],[1.0,\"#f0f921\"]],\"type\":\"histogram2dcontour\"}],\"histogram2d\":[{\"colorbar\":{\"outlinewidth\":0,\"ticks\":\"\"},\"colorscale\":[[0.0,\"#0d0887\"],[0.1111111111111111,\"#46039f\"],[0.2222222222222222,\"#7201a8\"],[0.3333333333333333,\"#9c179e\"],[0.4444444444444444,\"#bd3786\"],[0.5555555555555556,\"#d8576b\"],[0.6666666666666666,\"#ed7953\"],[0.7777777777777778,\"#fb9f3a\"],[0.8888888888888888,\"#fdca26\"],[1.0,\"#f0f921\"]],\"type\":\"histogram2d\"}],\"histogram\":[{\"marker\":{\"pattern\":{\"fillmode\":\"overlay\",\"size\":10,\"solidity\":0.2}},\"type\":\"histogram\"}],\"mesh3d\":[{\"colorbar\":{\"outlinewidth\":0,\"ticks\":\"\"},\"type\":\"mesh3d\"}],\"parcoords\":[{\"line\":{\"colorbar\":{\"outlinewidth\":0,\"ticks\":\"\"}},\"type\":\"parcoords\"}],\"pie\":[{\"automargin\":true,\"type\":\"pie\"}],\"scatter3d\":[{\"line\":{\"colorbar\":{\"outlinewidth\":0,\"ticks\":\"\"}},\"marker\":{\"colorbar\":{\"outlinewidth\":0,\"ticks\":\"\"}},\"type\":\"scatter3d\"}],\"scattercarpet\":[{\"marker\":{\"colorbar\":{\"outlinewidth\":0,\"ticks\":\"\"}},\"type\":\"scattercarpet\"}],\"scattergeo\":[{\"marker\":{\"colorbar\":{\"outlinewidth\":0,\"ticks\":\"\"}},\"type\":\"scattergeo\"}],\"scattergl\":[{\"marker\":{\"line\":{\"color\":\"#283442\"}},\"type\":\"scattergl\"}],\"scattermapbox\":[{\"marker\":{\"colorbar\":{\"outlinewidth\":0,\"ticks\":\"\"}},\"type\":\"scattermapbox\"}],\"scatterpolargl\":[{\"marker\":{\"colorbar\":{\"outlinewidth\":0,\"ticks\":\"\"}},\"type\":\"scatterpolargl\"}],\"scatterpolar\":[{\"marker\":{\"colorbar\":{\"outlinewidth\":0,\"ticks\":\"\"}},\"type\":\"scatterpolar\"}],\"scatter\":[{\"marker\":{\"line\":{\"color\":\"#283442\"}},\"type\":\"scatter\"}],\"scatterternary\":[{\"marker\":{\"colorbar\":{\"outlinewidth\":0,\"ticks\":\"\"}},\"type\":\"scatterternary\"}],\"surface\":[{\"colorbar\":{\"outlinewidth\":0,\"ticks\":\"\"},\"colorscale\":[[0.0,\"#0d0887\"],[0.1111111111111111,\"#46039f\"],[0.2222222222222222,\"#7201a8\"],[0.3333333333333333,\"#9c179e\"],[0.4444444444444444,\"#bd3786\"],[0.5555555555555556,\"#d8576b\"],[0.6666666666666666,\"#ed7953\"],[0.7777777777777778,\"#fb9f3a\"],[0.8888888888888888,\"#fdca26\"],[1.0,\"#f0f921\"]],\"type\":\"surface\"}],\"table\":[{\"cells\":{\"fill\":{\"color\":\"#506784\"},\"line\":{\"color\":\"rgb(17,17,17)\"}},\"header\":{\"fill\":{\"color\":\"#2a3f5f\"},\"line\":{\"color\":\"rgb(17,17,17)\"}},\"type\":\"table\"}]},\"layout\":{\"annotationdefaults\":{\"arrowcolor\":\"#f2f5fa\",\"arrowhead\":0,\"arrowwidth\":1},\"autotypenumbers\":\"strict\",\"coloraxis\":{\"colorbar\":{\"outlinewidth\":0,\"ticks\":\"\"}},\"colorscale\":{\"diverging\":[[0,\"#8e0152\"],[0.1,\"#c51b7d\"],[0.2,\"#de77ae\"],[0.3,\"#f1b6da\"],[0.4,\"#fde0ef\"],[0.5,\"#f7f7f7\"],[0.6,\"#e6f5d0\"],[0.7,\"#b8e186\"],[0.8,\"#7fbc41\"],[0.9,\"#4d9221\"],[1,\"#276419\"]],\"sequential\":[[0.0,\"#0d0887\"],[0.1111111111111111,\"#46039f\"],[0.2222222222222222,\"#7201a8\"],[0.3333333333333333,\"#9c179e\"],[0.4444444444444444,\"#bd3786\"],[0.5555555555555556,\"#d8576b\"],[0.6666666666666666,\"#ed7953\"],[0.7777777777777778,\"#fb9f3a\"],[0.8888888888888888,\"#fdca26\"],[1.0,\"#f0f921\"]],\"sequentialminus\":[[0.0,\"#0d0887\"],[0.1111111111111111,\"#46039f\"],[0.2222222222222222,\"#7201a8\"],[0.3333333333333333,\"#9c179e\"],[0.4444444444444444,\"#bd3786\"],[0.5555555555555556,\"#d8576b\"],[0.6666666666666666,\"#ed7953\"],[0.7777777777777778,\"#fb9f3a\"],[0.8888888888888888,\"#fdca26\"],[1.0,\"#f0f921\"]]},\"colorway\":[\"#636efa\",\"#EF553B\",\"#00cc96\",\"#ab63fa\",\"#FFA15A\",\"#19d3f3\",\"#FF6692\",\"#B6E880\",\"#FF97FF\",\"#FECB52\"],\"font\":{\"color\":\"#f2f5fa\"},\"geo\":{\"bgcolor\":\"rgb(17,17,17)\",\"lakecolor\":\"rgb(17,17,17)\",\"landcolor\":\"rgb(17,17,17)\",\"showlakes\":true,\"showland\":true,\"subunitcolor\":\"#506784\"},\"hoverlabel\":{\"align\":\"left\"},\"hovermode\":\"closest\",\"mapbox\":{\"style\":\"dark\"},\"paper_bgcolor\":\"rgb(17,17,17)\",\"plot_bgcolor\":\"rgb(17,17,17)\",\"polar\":{\"angularaxis\":{\"gridcolor\":\"#506784\",\"linecolor\":\"#506784\",\"ticks\":\"\"},\"bgcolor\":\"rgb(17,17,17)\",\"radialaxis\":{\"gridcolor\":\"#506784\",\"linecolor\":\"#506784\",\"ticks\":\"\"}},\"scene\":{\"xaxis\":{\"backgroundcolor\":\"rgb(17,17,17)\",\"gridcolor\":\"#506784\",\"gridwidth\":2,\"linecolor\":\"#506784\",\"showbackground\":true,\"ticks\":\"\",\"zerolinecolor\":\"#C8D4E3\"},\"yaxis\":{\"backgroundcolor\":\"rgb(17,17,17)\",\"gridcolor\":\"#506784\",\"gridwidth\":2,\"linecolor\":\"#506784\",\"showbackground\":true,\"ticks\":\"\",\"zerolinecolor\":\"#C8D4E3\"},\"zaxis\":{\"backgroundcolor\":\"rgb(17,17,17)\",\"gridcolor\":\"#506784\",\"gridwidth\":2,\"linecolor\":\"#506784\",\"showbackground\":true,\"ticks\":\"\",\"zerolinecolor\":\"#C8D4E3\"}},\"shapedefaults\":{\"line\":{\"color\":\"#f2f5fa\"}},\"sliderdefaults\":{\"bgcolor\":\"#C8D4E3\",\"bordercolor\":\"rgb(17,17,17)\",\"borderwidth\":1,\"tickwidth\":0},\"ternary\":{\"aaxis\":{\"gridcolor\":\"#506784\",\"linecolor\":\"#506784\",\"ticks\":\"\"},\"baxis\":{\"gridcolor\":\"#506784\",\"linecolor\":\"#506784\",\"ticks\":\"\"},\"bgcolor\":\"rgb(17,17,17)\",\"caxis\":{\"gridcolor\":\"#506784\",\"linecolor\":\"#506784\",\"ticks\":\"\"}},\"title\":{\"x\":0.05},\"updatemenudefaults\":{\"bgcolor\":\"#506784\",\"borderwidth\":0},\"xaxis\":{\"automargin\":true,\"gridcolor\":\"#283442\",\"linecolor\":\"#506784\",\"ticks\":\"\",\"title\":{\"standoff\":15},\"zerolinecolor\":\"#283442\",\"zerolinewidth\":2},\"yaxis\":{\"automargin\":true,\"gridcolor\":\"#283442\",\"linecolor\":\"#506784\",\"ticks\":\"\",\"title\":{\"standoff\":15},\"zerolinecolor\":\"#283442\",\"zerolinewidth\":2}}},\"title\":{\"text\":\"Portfolio Value\"},\"xaxis\":{\"rangeslider\":{\"visible\":false}}},                        {\"responsive\": true}                    ).then(function(){\n",
       "                            \n",
       "var gd = document.getElementById('568b1fa2-f3b7-4794-83dd-59d721e1038e');\n",
       "var x = new MutationObserver(function (mutations, observer) {{\n",
       "        var display = window.getComputedStyle(gd).display;\n",
       "        if (!display || display === 'none') {{\n",
       "            console.log([gd, 'removed!']);\n",
       "            Plotly.purge(gd);\n",
       "            observer.disconnect();\n",
       "        }}\n",
       "}});\n",
       "\n",
       "// Listen for the removal of the full notebook cells\n",
       "var notebookContainer = gd.closest('#notebook-container');\n",
       "if (notebookContainer) {{\n",
       "    x.observe(notebookContainer, {childList: true});\n",
       "}}\n",
       "\n",
       "// Listen for the clearing of the current output cell\n",
       "var outputEl = gd.closest('.output');\n",
       "if (outputEl) {{\n",
       "    x.observe(outputEl, {childList: true});\n",
       "}}\n",
       "\n",
       "                        })                };                });            </script>        </div>"
      ]
     },
     "metadata": {},
     "output_type": "display_data"
    },
    {
     "name": "stdout",
     "output_type": "stream",
     "text": [
      "Max daily percent increase: 17.88%, Max daily percent decrease: -19.43%\n",
      "Total return over timeframe: -59.53%\n",
      "Mean daily return: -0.29%\n",
      "Standard Deviation of returns: 3.8%\n",
      "Largest increase from start value: 75.2%\n",
      "Largest decrease from start value: -65.87%\n"
     ]
    }
   ],
   "source": [
    "analyse_portfolio(['ARKK', 'SPCE', 'NFLX'], [5, 25, 1.2])"
   ]
  },
  {
   "cell_type": "code",
   "execution_count": 345,
   "id": "38200c47",
   "metadata": {},
   "outputs": [
    {
     "data": {
      "application/vnd.plotly.v1+json": {
       "config": {
        "plotlyServerURL": "https://plot.ly"
       },
       "data": [
        {
         "colorscale": [
          [
           0,
           "rgb(243, 231, 155)"
          ],
          [
           0.16666666666666666,
           "rgb(250, 196, 132)"
          ],
          [
           0.3333333333333333,
           "rgb(248, 160, 126)"
          ],
          [
           0.5,
           "rgb(235, 127, 134)"
          ],
          [
           0.6666666666666666,
           "rgb(206, 102, 147)"
          ],
          [
           0.8333333333333334,
           "rgb(160, 89, 160)"
          ],
          [
           1,
           "rgb(92, 83, 165)"
          ]
         ],
         "hoverinfo": "z",
         "reversescale": false,
         "showscale": false,
         "type": "heatmap",
         "x": [
          "TSLA",
          "NFLX",
          "TWTR",
          "ETH-USD"
         ],
         "y": [
          "TSLA",
          "NFLX",
          "TWTR",
          "ETH-USD"
         ],
         "z": [
          [
           1,
           0.39391444861492536,
           0.2872830319316457,
           0.316007646154224
          ],
          [
           0.39391444861492536,
           1,
           0.28873438627840653,
           0.24460750024797395
          ],
          [
           0.2872830319316457,
           0.28873438627840653,
           1,
           0.2621262888641992
          ],
          [
           0.316007646154224,
           0.24460750024797395,
           0.2621262888641992,
           1
          ]
         ]
        }
       ],
       "layout": {
        "annotations": [
         {
          "font": {
           "color": "#FFFFFF"
          },
          "showarrow": false,
          "text": "1.0",
          "x": "TSLA",
          "xref": "x",
          "y": "TSLA",
          "yref": "y"
         },
         {
          "font": {
           "color": "#000000"
          },
          "showarrow": false,
          "text": "0.39",
          "x": "NFLX",
          "xref": "x",
          "y": "TSLA",
          "yref": "y"
         },
         {
          "font": {
           "color": "#000000"
          },
          "showarrow": false,
          "text": "0.29",
          "x": "TWTR",
          "xref": "x",
          "y": "TSLA",
          "yref": "y"
         },
         {
          "font": {
           "color": "#000000"
          },
          "showarrow": false,
          "text": "0.32",
          "x": "ETH-USD",
          "xref": "x",
          "y": "TSLA",
          "yref": "y"
         },
         {
          "font": {
           "color": "#000000"
          },
          "showarrow": false,
          "text": "0.39",
          "x": "TSLA",
          "xref": "x",
          "y": "NFLX",
          "yref": "y"
         },
         {
          "font": {
           "color": "#FFFFFF"
          },
          "showarrow": false,
          "text": "1.0",
          "x": "NFLX",
          "xref": "x",
          "y": "NFLX",
          "yref": "y"
         },
         {
          "font": {
           "color": "#000000"
          },
          "showarrow": false,
          "text": "0.29",
          "x": "TWTR",
          "xref": "x",
          "y": "NFLX",
          "yref": "y"
         },
         {
          "font": {
           "color": "#000000"
          },
          "showarrow": false,
          "text": "0.24",
          "x": "ETH-USD",
          "xref": "x",
          "y": "NFLX",
          "yref": "y"
         },
         {
          "font": {
           "color": "#000000"
          },
          "showarrow": false,
          "text": "0.29",
          "x": "TSLA",
          "xref": "x",
          "y": "TWTR",
          "yref": "y"
         },
         {
          "font": {
           "color": "#000000"
          },
          "showarrow": false,
          "text": "0.29",
          "x": "NFLX",
          "xref": "x",
          "y": "TWTR",
          "yref": "y"
         },
         {
          "font": {
           "color": "#FFFFFF"
          },
          "showarrow": false,
          "text": "1.0",
          "x": "TWTR",
          "xref": "x",
          "y": "TWTR",
          "yref": "y"
         },
         {
          "font": {
           "color": "#000000"
          },
          "showarrow": false,
          "text": "0.26",
          "x": "ETH-USD",
          "xref": "x",
          "y": "TWTR",
          "yref": "y"
         },
         {
          "font": {
           "color": "#000000"
          },
          "showarrow": false,
          "text": "0.32",
          "x": "TSLA",
          "xref": "x",
          "y": "ETH-USD",
          "yref": "y"
         },
         {
          "font": {
           "color": "#000000"
          },
          "showarrow": false,
          "text": "0.24",
          "x": "NFLX",
          "xref": "x",
          "y": "ETH-USD",
          "yref": "y"
         },
         {
          "font": {
           "color": "#000000"
          },
          "showarrow": false,
          "text": "0.26",
          "x": "TWTR",
          "xref": "x",
          "y": "ETH-USD",
          "yref": "y"
         },
         {
          "font": {
           "color": "#FFFFFF"
          },
          "showarrow": false,
          "text": "1.0",
          "x": "ETH-USD",
          "xref": "x",
          "y": "ETH-USD",
          "yref": "y"
         }
        ],
        "template": {
         "data": {
          "bar": [
           {
            "error_x": {
             "color": "#2a3f5f"
            },
            "error_y": {
             "color": "#2a3f5f"
            },
            "marker": {
             "line": {
              "color": "#E5ECF6",
              "width": 0.5
             },
             "pattern": {
              "fillmode": "overlay",
              "size": 10,
              "solidity": 0.2
             }
            },
            "type": "bar"
           }
          ],
          "barpolar": [
           {
            "marker": {
             "line": {
              "color": "#E5ECF6",
              "width": 0.5
             },
             "pattern": {
              "fillmode": "overlay",
              "size": 10,
              "solidity": 0.2
             }
            },
            "type": "barpolar"
           }
          ],
          "carpet": [
           {
            "aaxis": {
             "endlinecolor": "#2a3f5f",
             "gridcolor": "white",
             "linecolor": "white",
             "minorgridcolor": "white",
             "startlinecolor": "#2a3f5f"
            },
            "baxis": {
             "endlinecolor": "#2a3f5f",
             "gridcolor": "white",
             "linecolor": "white",
             "minorgridcolor": "white",
             "startlinecolor": "#2a3f5f"
            },
            "type": "carpet"
           }
          ],
          "choropleth": [
           {
            "colorbar": {
             "outlinewidth": 0,
             "ticks": ""
            },
            "type": "choropleth"
           }
          ],
          "contour": [
           {
            "colorbar": {
             "outlinewidth": 0,
             "ticks": ""
            },
            "colorscale": [
             [
              0,
              "#0d0887"
             ],
             [
              0.1111111111111111,
              "#46039f"
             ],
             [
              0.2222222222222222,
              "#7201a8"
             ],
             [
              0.3333333333333333,
              "#9c179e"
             ],
             [
              0.4444444444444444,
              "#bd3786"
             ],
             [
              0.5555555555555556,
              "#d8576b"
             ],
             [
              0.6666666666666666,
              "#ed7953"
             ],
             [
              0.7777777777777778,
              "#fb9f3a"
             ],
             [
              0.8888888888888888,
              "#fdca26"
             ],
             [
              1,
              "#f0f921"
             ]
            ],
            "type": "contour"
           }
          ],
          "contourcarpet": [
           {
            "colorbar": {
             "outlinewidth": 0,
             "ticks": ""
            },
            "type": "contourcarpet"
           }
          ],
          "heatmap": [
           {
            "colorbar": {
             "outlinewidth": 0,
             "ticks": ""
            },
            "colorscale": [
             [
              0,
              "#0d0887"
             ],
             [
              0.1111111111111111,
              "#46039f"
             ],
             [
              0.2222222222222222,
              "#7201a8"
             ],
             [
              0.3333333333333333,
              "#9c179e"
             ],
             [
              0.4444444444444444,
              "#bd3786"
             ],
             [
              0.5555555555555556,
              "#d8576b"
             ],
             [
              0.6666666666666666,
              "#ed7953"
             ],
             [
              0.7777777777777778,
              "#fb9f3a"
             ],
             [
              0.8888888888888888,
              "#fdca26"
             ],
             [
              1,
              "#f0f921"
             ]
            ],
            "type": "heatmap"
           }
          ],
          "heatmapgl": [
           {
            "colorbar": {
             "outlinewidth": 0,
             "ticks": ""
            },
            "colorscale": [
             [
              0,
              "#0d0887"
             ],
             [
              0.1111111111111111,
              "#46039f"
             ],
             [
              0.2222222222222222,
              "#7201a8"
             ],
             [
              0.3333333333333333,
              "#9c179e"
             ],
             [
              0.4444444444444444,
              "#bd3786"
             ],
             [
              0.5555555555555556,
              "#d8576b"
             ],
             [
              0.6666666666666666,
              "#ed7953"
             ],
             [
              0.7777777777777778,
              "#fb9f3a"
             ],
             [
              0.8888888888888888,
              "#fdca26"
             ],
             [
              1,
              "#f0f921"
             ]
            ],
            "type": "heatmapgl"
           }
          ],
          "histogram": [
           {
            "marker": {
             "pattern": {
              "fillmode": "overlay",
              "size": 10,
              "solidity": 0.2
             }
            },
            "type": "histogram"
           }
          ],
          "histogram2d": [
           {
            "colorbar": {
             "outlinewidth": 0,
             "ticks": ""
            },
            "colorscale": [
             [
              0,
              "#0d0887"
             ],
             [
              0.1111111111111111,
              "#46039f"
             ],
             [
              0.2222222222222222,
              "#7201a8"
             ],
             [
              0.3333333333333333,
              "#9c179e"
             ],
             [
              0.4444444444444444,
              "#bd3786"
             ],
             [
              0.5555555555555556,
              "#d8576b"
             ],
             [
              0.6666666666666666,
              "#ed7953"
             ],
             [
              0.7777777777777778,
              "#fb9f3a"
             ],
             [
              0.8888888888888888,
              "#fdca26"
             ],
             [
              1,
              "#f0f921"
             ]
            ],
            "type": "histogram2d"
           }
          ],
          "histogram2dcontour": [
           {
            "colorbar": {
             "outlinewidth": 0,
             "ticks": ""
            },
            "colorscale": [
             [
              0,
              "#0d0887"
             ],
             [
              0.1111111111111111,
              "#46039f"
             ],
             [
              0.2222222222222222,
              "#7201a8"
             ],
             [
              0.3333333333333333,
              "#9c179e"
             ],
             [
              0.4444444444444444,
              "#bd3786"
             ],
             [
              0.5555555555555556,
              "#d8576b"
             ],
             [
              0.6666666666666666,
              "#ed7953"
             ],
             [
              0.7777777777777778,
              "#fb9f3a"
             ],
             [
              0.8888888888888888,
              "#fdca26"
             ],
             [
              1,
              "#f0f921"
             ]
            ],
            "type": "histogram2dcontour"
           }
          ],
          "mesh3d": [
           {
            "colorbar": {
             "outlinewidth": 0,
             "ticks": ""
            },
            "type": "mesh3d"
           }
          ],
          "parcoords": [
           {
            "line": {
             "colorbar": {
              "outlinewidth": 0,
              "ticks": ""
             }
            },
            "type": "parcoords"
           }
          ],
          "pie": [
           {
            "automargin": true,
            "type": "pie"
           }
          ],
          "scatter": [
           {
            "fillpattern": {
             "fillmode": "overlay",
             "size": 10,
             "solidity": 0.2
            },
            "type": "scatter"
           }
          ],
          "scatter3d": [
           {
            "line": {
             "colorbar": {
              "outlinewidth": 0,
              "ticks": ""
             }
            },
            "marker": {
             "colorbar": {
              "outlinewidth": 0,
              "ticks": ""
             }
            },
            "type": "scatter3d"
           }
          ],
          "scattercarpet": [
           {
            "marker": {
             "colorbar": {
              "outlinewidth": 0,
              "ticks": ""
             }
            },
            "type": "scattercarpet"
           }
          ],
          "scattergeo": [
           {
            "marker": {
             "colorbar": {
              "outlinewidth": 0,
              "ticks": ""
             }
            },
            "type": "scattergeo"
           }
          ],
          "scattergl": [
           {
            "marker": {
             "colorbar": {
              "outlinewidth": 0,
              "ticks": ""
             }
            },
            "type": "scattergl"
           }
          ],
          "scattermapbox": [
           {
            "marker": {
             "colorbar": {
              "outlinewidth": 0,
              "ticks": ""
             }
            },
            "type": "scattermapbox"
           }
          ],
          "scatterpolar": [
           {
            "marker": {
             "colorbar": {
              "outlinewidth": 0,
              "ticks": ""
             }
            },
            "type": "scatterpolar"
           }
          ],
          "scatterpolargl": [
           {
            "marker": {
             "colorbar": {
              "outlinewidth": 0,
              "ticks": ""
             }
            },
            "type": "scatterpolargl"
           }
          ],
          "scatterternary": [
           {
            "marker": {
             "colorbar": {
              "outlinewidth": 0,
              "ticks": ""
             }
            },
            "type": "scatterternary"
           }
          ],
          "surface": [
           {
            "colorbar": {
             "outlinewidth": 0,
             "ticks": ""
            },
            "colorscale": [
             [
              0,
              "#0d0887"
             ],
             [
              0.1111111111111111,
              "#46039f"
             ],
             [
              0.2222222222222222,
              "#7201a8"
             ],
             [
              0.3333333333333333,
              "#9c179e"
             ],
             [
              0.4444444444444444,
              "#bd3786"
             ],
             [
              0.5555555555555556,
              "#d8576b"
             ],
             [
              0.6666666666666666,
              "#ed7953"
             ],
             [
              0.7777777777777778,
              "#fb9f3a"
             ],
             [
              0.8888888888888888,
              "#fdca26"
             ],
             [
              1,
              "#f0f921"
             ]
            ],
            "type": "surface"
           }
          ],
          "table": [
           {
            "cells": {
             "fill": {
              "color": "#EBF0F8"
             },
             "line": {
              "color": "white"
             }
            },
            "header": {
             "fill": {
              "color": "#C8D4E3"
             },
             "line": {
              "color": "white"
             }
            },
            "type": "table"
           }
          ]
         },
         "layout": {
          "annotationdefaults": {
           "arrowcolor": "#2a3f5f",
           "arrowhead": 0,
           "arrowwidth": 1
          },
          "autotypenumbers": "strict",
          "coloraxis": {
           "colorbar": {
            "outlinewidth": 0,
            "ticks": ""
           }
          },
          "colorscale": {
           "diverging": [
            [
             0,
             "#8e0152"
            ],
            [
             0.1,
             "#c51b7d"
            ],
            [
             0.2,
             "#de77ae"
            ],
            [
             0.3,
             "#f1b6da"
            ],
            [
             0.4,
             "#fde0ef"
            ],
            [
             0.5,
             "#f7f7f7"
            ],
            [
             0.6,
             "#e6f5d0"
            ],
            [
             0.7,
             "#b8e186"
            ],
            [
             0.8,
             "#7fbc41"
            ],
            [
             0.9,
             "#4d9221"
            ],
            [
             1,
             "#276419"
            ]
           ],
           "sequential": [
            [
             0,
             "#0d0887"
            ],
            [
             0.1111111111111111,
             "#46039f"
            ],
            [
             0.2222222222222222,
             "#7201a8"
            ],
            [
             0.3333333333333333,
             "#9c179e"
            ],
            [
             0.4444444444444444,
             "#bd3786"
            ],
            [
             0.5555555555555556,
             "#d8576b"
            ],
            [
             0.6666666666666666,
             "#ed7953"
            ],
            [
             0.7777777777777778,
             "#fb9f3a"
            ],
            [
             0.8888888888888888,
             "#fdca26"
            ],
            [
             1,
             "#f0f921"
            ]
           ],
           "sequentialminus": [
            [
             0,
             "#0d0887"
            ],
            [
             0.1111111111111111,
             "#46039f"
            ],
            [
             0.2222222222222222,
             "#7201a8"
            ],
            [
             0.3333333333333333,
             "#9c179e"
            ],
            [
             0.4444444444444444,
             "#bd3786"
            ],
            [
             0.5555555555555556,
             "#d8576b"
            ],
            [
             0.6666666666666666,
             "#ed7953"
            ],
            [
             0.7777777777777778,
             "#fb9f3a"
            ],
            [
             0.8888888888888888,
             "#fdca26"
            ],
            [
             1,
             "#f0f921"
            ]
           ]
          },
          "colorway": [
           "#636efa",
           "#EF553B",
           "#00cc96",
           "#ab63fa",
           "#FFA15A",
           "#19d3f3",
           "#FF6692",
           "#B6E880",
           "#FF97FF",
           "#FECB52"
          ],
          "font": {
           "color": "#2a3f5f"
          },
          "geo": {
           "bgcolor": "white",
           "lakecolor": "white",
           "landcolor": "#E5ECF6",
           "showlakes": true,
           "showland": true,
           "subunitcolor": "white"
          },
          "hoverlabel": {
           "align": "left"
          },
          "hovermode": "closest",
          "mapbox": {
           "style": "light"
          },
          "paper_bgcolor": "white",
          "plot_bgcolor": "#E5ECF6",
          "polar": {
           "angularaxis": {
            "gridcolor": "white",
            "linecolor": "white",
            "ticks": ""
           },
           "bgcolor": "#E5ECF6",
           "radialaxis": {
            "gridcolor": "white",
            "linecolor": "white",
            "ticks": ""
           }
          },
          "scene": {
           "xaxis": {
            "backgroundcolor": "#E5ECF6",
            "gridcolor": "white",
            "gridwidth": 2,
            "linecolor": "white",
            "showbackground": true,
            "ticks": "",
            "zerolinecolor": "white"
           },
           "yaxis": {
            "backgroundcolor": "#E5ECF6",
            "gridcolor": "white",
            "gridwidth": 2,
            "linecolor": "white",
            "showbackground": true,
            "ticks": "",
            "zerolinecolor": "white"
           },
           "zaxis": {
            "backgroundcolor": "#E5ECF6",
            "gridcolor": "white",
            "gridwidth": 2,
            "linecolor": "white",
            "showbackground": true,
            "ticks": "",
            "zerolinecolor": "white"
           }
          },
          "shapedefaults": {
           "line": {
            "color": "#2a3f5f"
           }
          },
          "ternary": {
           "aaxis": {
            "gridcolor": "white",
            "linecolor": "white",
            "ticks": ""
           },
           "baxis": {
            "gridcolor": "white",
            "linecolor": "white",
            "ticks": ""
           },
           "bgcolor": "#E5ECF6",
           "caxis": {
            "gridcolor": "white",
            "linecolor": "white",
            "ticks": ""
           }
          },
          "title": {
           "x": 0.05
          },
          "xaxis": {
           "automargin": true,
           "gridcolor": "white",
           "linecolor": "white",
           "ticks": "",
           "title": {
            "standoff": 15
           },
           "zerolinecolor": "white",
           "zerolinewidth": 2
          },
          "yaxis": {
           "automargin": true,
           "gridcolor": "white",
           "linecolor": "white",
           "ticks": "",
           "title": {
            "standoff": 15
           },
           "zerolinecolor": "white",
           "zerolinewidth": 2
          }
         }
        },
        "xaxis": {
         "dtick": 1,
         "gridcolor": "rgb(0, 0, 0)",
         "side": "top",
         "ticks": ""
        },
        "yaxis": {
         "dtick": 1,
         "ticks": "",
         "ticksuffix": "  "
        }
       }
      },
      "text/html": [
       "<div>                            <div id=\"9921dc06-1660-4a5d-ab35-440f98720d07\" class=\"plotly-graph-div\" style=\"height:525px; width:100%;\"></div>            <script type=\"text/javascript\">                require([\"plotly\"], function(Plotly) {                    window.PLOTLYENV=window.PLOTLYENV || {};                                    if (document.getElementById(\"9921dc06-1660-4a5d-ab35-440f98720d07\")) {                    Plotly.newPlot(                        \"9921dc06-1660-4a5d-ab35-440f98720d07\",                        [{\"colorscale\":[[0.0,\"rgb(243, 231, 155)\"],[0.16666666666666666,\"rgb(250, 196, 132)\"],[0.3333333333333333,\"rgb(248, 160, 126)\"],[0.5,\"rgb(235, 127, 134)\"],[0.6666666666666666,\"rgb(206, 102, 147)\"],[0.8333333333333334,\"rgb(160, 89, 160)\"],[1.0,\"rgb(92, 83, 165)\"]],\"hoverinfo\":\"z\",\"reversescale\":false,\"showscale\":false,\"x\":[\"TSLA\",\"NFLX\",\"TWTR\",\"ETH-USD\"],\"y\":[\"TSLA\",\"NFLX\",\"TWTR\",\"ETH-USD\"],\"z\":[[1.0,0.39391444861492536,0.2872830319316457,0.316007646154224],[0.39391444861492536,1.0,0.28873438627840653,0.24460750024797395],[0.2872830319316457,0.28873438627840653,1.0,0.2621262888641992],[0.316007646154224,0.24460750024797395,0.2621262888641992,1.0]],\"type\":\"heatmap\"}],                        {\"annotations\":[{\"font\":{\"color\":\"#FFFFFF\"},\"showarrow\":false,\"text\":\"1.0\",\"x\":\"TSLA\",\"xref\":\"x\",\"y\":\"TSLA\",\"yref\":\"y\"},{\"font\":{\"color\":\"#000000\"},\"showarrow\":false,\"text\":\"0.39\",\"x\":\"NFLX\",\"xref\":\"x\",\"y\":\"TSLA\",\"yref\":\"y\"},{\"font\":{\"color\":\"#000000\"},\"showarrow\":false,\"text\":\"0.29\",\"x\":\"TWTR\",\"xref\":\"x\",\"y\":\"TSLA\",\"yref\":\"y\"},{\"font\":{\"color\":\"#000000\"},\"showarrow\":false,\"text\":\"0.32\",\"x\":\"ETH-USD\",\"xref\":\"x\",\"y\":\"TSLA\",\"yref\":\"y\"},{\"font\":{\"color\":\"#000000\"},\"showarrow\":false,\"text\":\"0.39\",\"x\":\"TSLA\",\"xref\":\"x\",\"y\":\"NFLX\",\"yref\":\"y\"},{\"font\":{\"color\":\"#FFFFFF\"},\"showarrow\":false,\"text\":\"1.0\",\"x\":\"NFLX\",\"xref\":\"x\",\"y\":\"NFLX\",\"yref\":\"y\"},{\"font\":{\"color\":\"#000000\"},\"showarrow\":false,\"text\":\"0.29\",\"x\":\"TWTR\",\"xref\":\"x\",\"y\":\"NFLX\",\"yref\":\"y\"},{\"font\":{\"color\":\"#000000\"},\"showarrow\":false,\"text\":\"0.24\",\"x\":\"ETH-USD\",\"xref\":\"x\",\"y\":\"NFLX\",\"yref\":\"y\"},{\"font\":{\"color\":\"#000000\"},\"showarrow\":false,\"text\":\"0.29\",\"x\":\"TSLA\",\"xref\":\"x\",\"y\":\"TWTR\",\"yref\":\"y\"},{\"font\":{\"color\":\"#000000\"},\"showarrow\":false,\"text\":\"0.29\",\"x\":\"NFLX\",\"xref\":\"x\",\"y\":\"TWTR\",\"yref\":\"y\"},{\"font\":{\"color\":\"#FFFFFF\"},\"showarrow\":false,\"text\":\"1.0\",\"x\":\"TWTR\",\"xref\":\"x\",\"y\":\"TWTR\",\"yref\":\"y\"},{\"font\":{\"color\":\"#000000\"},\"showarrow\":false,\"text\":\"0.26\",\"x\":\"ETH-USD\",\"xref\":\"x\",\"y\":\"TWTR\",\"yref\":\"y\"},{\"font\":{\"color\":\"#000000\"},\"showarrow\":false,\"text\":\"0.32\",\"x\":\"TSLA\",\"xref\":\"x\",\"y\":\"ETH-USD\",\"yref\":\"y\"},{\"font\":{\"color\":\"#000000\"},\"showarrow\":false,\"text\":\"0.24\",\"x\":\"NFLX\",\"xref\":\"x\",\"y\":\"ETH-USD\",\"yref\":\"y\"},{\"font\":{\"color\":\"#000000\"},\"showarrow\":false,\"text\":\"0.26\",\"x\":\"TWTR\",\"xref\":\"x\",\"y\":\"ETH-USD\",\"yref\":\"y\"},{\"font\":{\"color\":\"#FFFFFF\"},\"showarrow\":false,\"text\":\"1.0\",\"x\":\"ETH-USD\",\"xref\":\"x\",\"y\":\"ETH-USD\",\"yref\":\"y\"}],\"xaxis\":{\"dtick\":1,\"gridcolor\":\"rgb(0, 0, 0)\",\"side\":\"top\",\"ticks\":\"\"},\"yaxis\":{\"dtick\":1,\"ticks\":\"\",\"ticksuffix\":\"  \"},\"template\":{\"data\":{\"histogram2dcontour\":[{\"type\":\"histogram2dcontour\",\"colorbar\":{\"outlinewidth\":0,\"ticks\":\"\"},\"colorscale\":[[0.0,\"#0d0887\"],[0.1111111111111111,\"#46039f\"],[0.2222222222222222,\"#7201a8\"],[0.3333333333333333,\"#9c179e\"],[0.4444444444444444,\"#bd3786\"],[0.5555555555555556,\"#d8576b\"],[0.6666666666666666,\"#ed7953\"],[0.7777777777777778,\"#fb9f3a\"],[0.8888888888888888,\"#fdca26\"],[1.0,\"#f0f921\"]]}],\"choropleth\":[{\"type\":\"choropleth\",\"colorbar\":{\"outlinewidth\":0,\"ticks\":\"\"}}],\"histogram2d\":[{\"type\":\"histogram2d\",\"colorbar\":{\"outlinewidth\":0,\"ticks\":\"\"},\"colorscale\":[[0.0,\"#0d0887\"],[0.1111111111111111,\"#46039f\"],[0.2222222222222222,\"#7201a8\"],[0.3333333333333333,\"#9c179e\"],[0.4444444444444444,\"#bd3786\"],[0.5555555555555556,\"#d8576b\"],[0.6666666666666666,\"#ed7953\"],[0.7777777777777778,\"#fb9f3a\"],[0.8888888888888888,\"#fdca26\"],[1.0,\"#f0f921\"]]}],\"heatmap\":[{\"type\":\"heatmap\",\"colorbar\":{\"outlinewidth\":0,\"ticks\":\"\"},\"colorscale\":[[0.0,\"#0d0887\"],[0.1111111111111111,\"#46039f\"],[0.2222222222222222,\"#7201a8\"],[0.3333333333333333,\"#9c179e\"],[0.4444444444444444,\"#bd3786\"],[0.5555555555555556,\"#d8576b\"],[0.6666666666666666,\"#ed7953\"],[0.7777777777777778,\"#fb9f3a\"],[0.8888888888888888,\"#fdca26\"],[1.0,\"#f0f921\"]]}],\"heatmapgl\":[{\"type\":\"heatmapgl\",\"colorbar\":{\"outlinewidth\":0,\"ticks\":\"\"},\"colorscale\":[[0.0,\"#0d0887\"],[0.1111111111111111,\"#46039f\"],[0.2222222222222222,\"#7201a8\"],[0.3333333333333333,\"#9c179e\"],[0.4444444444444444,\"#bd3786\"],[0.5555555555555556,\"#d8576b\"],[0.6666666666666666,\"#ed7953\"],[0.7777777777777778,\"#fb9f3a\"],[0.8888888888888888,\"#fdca26\"],[1.0,\"#f0f921\"]]}],\"contourcarpet\":[{\"type\":\"contourcarpet\",\"colorbar\":{\"outlinewidth\":0,\"ticks\":\"\"}}],\"contour\":[{\"type\":\"contour\",\"colorbar\":{\"outlinewidth\":0,\"ticks\":\"\"},\"colorscale\":[[0.0,\"#0d0887\"],[0.1111111111111111,\"#46039f\"],[0.2222222222222222,\"#7201a8\"],[0.3333333333333333,\"#9c179e\"],[0.4444444444444444,\"#bd3786\"],[0.5555555555555556,\"#d8576b\"],[0.6666666666666666,\"#ed7953\"],[0.7777777777777778,\"#fb9f3a\"],[0.8888888888888888,\"#fdca26\"],[1.0,\"#f0f921\"]]}],\"surface\":[{\"type\":\"surface\",\"colorbar\":{\"outlinewidth\":0,\"ticks\":\"\"},\"colorscale\":[[0.0,\"#0d0887\"],[0.1111111111111111,\"#46039f\"],[0.2222222222222222,\"#7201a8\"],[0.3333333333333333,\"#9c179e\"],[0.4444444444444444,\"#bd3786\"],[0.5555555555555556,\"#d8576b\"],[0.6666666666666666,\"#ed7953\"],[0.7777777777777778,\"#fb9f3a\"],[0.8888888888888888,\"#fdca26\"],[1.0,\"#f0f921\"]]}],\"mesh3d\":[{\"type\":\"mesh3d\",\"colorbar\":{\"outlinewidth\":0,\"ticks\":\"\"}}],\"scatter\":[{\"fillpattern\":{\"fillmode\":\"overlay\",\"size\":10,\"solidity\":0.2},\"type\":\"scatter\"}],\"parcoords\":[{\"type\":\"parcoords\",\"line\":{\"colorbar\":{\"outlinewidth\":0,\"ticks\":\"\"}}}],\"scatterpolargl\":[{\"type\":\"scatterpolargl\",\"marker\":{\"colorbar\":{\"outlinewidth\":0,\"ticks\":\"\"}}}],\"bar\":[{\"error_x\":{\"color\":\"#2a3f5f\"},\"error_y\":{\"color\":\"#2a3f5f\"},\"marker\":{\"line\":{\"color\":\"#E5ECF6\",\"width\":0.5},\"pattern\":{\"fillmode\":\"overlay\",\"size\":10,\"solidity\":0.2}},\"type\":\"bar\"}],\"scattergeo\":[{\"type\":\"scattergeo\",\"marker\":{\"colorbar\":{\"outlinewidth\":0,\"ticks\":\"\"}}}],\"scatterpolar\":[{\"type\":\"scatterpolar\",\"marker\":{\"colorbar\":{\"outlinewidth\":0,\"ticks\":\"\"}}}],\"histogram\":[{\"marker\":{\"pattern\":{\"fillmode\":\"overlay\",\"size\":10,\"solidity\":0.2}},\"type\":\"histogram\"}],\"scattergl\":[{\"type\":\"scattergl\",\"marker\":{\"colorbar\":{\"outlinewidth\":0,\"ticks\":\"\"}}}],\"scatter3d\":[{\"type\":\"scatter3d\",\"line\":{\"colorbar\":{\"outlinewidth\":0,\"ticks\":\"\"}},\"marker\":{\"colorbar\":{\"outlinewidth\":0,\"ticks\":\"\"}}}],\"scattermapbox\":[{\"type\":\"scattermapbox\",\"marker\":{\"colorbar\":{\"outlinewidth\":0,\"ticks\":\"\"}}}],\"scatterternary\":[{\"type\":\"scatterternary\",\"marker\":{\"colorbar\":{\"outlinewidth\":0,\"ticks\":\"\"}}}],\"scattercarpet\":[{\"type\":\"scattercarpet\",\"marker\":{\"colorbar\":{\"outlinewidth\":0,\"ticks\":\"\"}}}],\"carpet\":[{\"aaxis\":{\"endlinecolor\":\"#2a3f5f\",\"gridcolor\":\"white\",\"linecolor\":\"white\",\"minorgridcolor\":\"white\",\"startlinecolor\":\"#2a3f5f\"},\"baxis\":{\"endlinecolor\":\"#2a3f5f\",\"gridcolor\":\"white\",\"linecolor\":\"white\",\"minorgridcolor\":\"white\",\"startlinecolor\":\"#2a3f5f\"},\"type\":\"carpet\"}],\"table\":[{\"cells\":{\"fill\":{\"color\":\"#EBF0F8\"},\"line\":{\"color\":\"white\"}},\"header\":{\"fill\":{\"color\":\"#C8D4E3\"},\"line\":{\"color\":\"white\"}},\"type\":\"table\"}],\"barpolar\":[{\"marker\":{\"line\":{\"color\":\"#E5ECF6\",\"width\":0.5},\"pattern\":{\"fillmode\":\"overlay\",\"size\":10,\"solidity\":0.2}},\"type\":\"barpolar\"}],\"pie\":[{\"automargin\":true,\"type\":\"pie\"}]},\"layout\":{\"autotypenumbers\":\"strict\",\"colorway\":[\"#636efa\",\"#EF553B\",\"#00cc96\",\"#ab63fa\",\"#FFA15A\",\"#19d3f3\",\"#FF6692\",\"#B6E880\",\"#FF97FF\",\"#FECB52\"],\"font\":{\"color\":\"#2a3f5f\"},\"hovermode\":\"closest\",\"hoverlabel\":{\"align\":\"left\"},\"paper_bgcolor\":\"white\",\"plot_bgcolor\":\"#E5ECF6\",\"polar\":{\"bgcolor\":\"#E5ECF6\",\"angularaxis\":{\"gridcolor\":\"white\",\"linecolor\":\"white\",\"ticks\":\"\"},\"radialaxis\":{\"gridcolor\":\"white\",\"linecolor\":\"white\",\"ticks\":\"\"}},\"ternary\":{\"bgcolor\":\"#E5ECF6\",\"aaxis\":{\"gridcolor\":\"white\",\"linecolor\":\"white\",\"ticks\":\"\"},\"baxis\":{\"gridcolor\":\"white\",\"linecolor\":\"white\",\"ticks\":\"\"},\"caxis\":{\"gridcolor\":\"white\",\"linecolor\":\"white\",\"ticks\":\"\"}},\"coloraxis\":{\"colorbar\":{\"outlinewidth\":0,\"ticks\":\"\"}},\"colorscale\":{\"sequential\":[[0.0,\"#0d0887\"],[0.1111111111111111,\"#46039f\"],[0.2222222222222222,\"#7201a8\"],[0.3333333333333333,\"#9c179e\"],[0.4444444444444444,\"#bd3786\"],[0.5555555555555556,\"#d8576b\"],[0.6666666666666666,\"#ed7953\"],[0.7777777777777778,\"#fb9f3a\"],[0.8888888888888888,\"#fdca26\"],[1.0,\"#f0f921\"]],\"sequentialminus\":[[0.0,\"#0d0887\"],[0.1111111111111111,\"#46039f\"],[0.2222222222222222,\"#7201a8\"],[0.3333333333333333,\"#9c179e\"],[0.4444444444444444,\"#bd3786\"],[0.5555555555555556,\"#d8576b\"],[0.6666666666666666,\"#ed7953\"],[0.7777777777777778,\"#fb9f3a\"],[0.8888888888888888,\"#fdca26\"],[1.0,\"#f0f921\"]],\"diverging\":[[0,\"#8e0152\"],[0.1,\"#c51b7d\"],[0.2,\"#de77ae\"],[0.3,\"#f1b6da\"],[0.4,\"#fde0ef\"],[0.5,\"#f7f7f7\"],[0.6,\"#e6f5d0\"],[0.7,\"#b8e186\"],[0.8,\"#7fbc41\"],[0.9,\"#4d9221\"],[1,\"#276419\"]]},\"xaxis\":{\"gridcolor\":\"white\",\"linecolor\":\"white\",\"ticks\":\"\",\"title\":{\"standoff\":15},\"zerolinecolor\":\"white\",\"automargin\":true,\"zerolinewidth\":2},\"yaxis\":{\"gridcolor\":\"white\",\"linecolor\":\"white\",\"ticks\":\"\",\"title\":{\"standoff\":15},\"zerolinecolor\":\"white\",\"automargin\":true,\"zerolinewidth\":2},\"scene\":{\"xaxis\":{\"backgroundcolor\":\"#E5ECF6\",\"gridcolor\":\"white\",\"linecolor\":\"white\",\"showbackground\":true,\"ticks\":\"\",\"zerolinecolor\":\"white\",\"gridwidth\":2},\"yaxis\":{\"backgroundcolor\":\"#E5ECF6\",\"gridcolor\":\"white\",\"linecolor\":\"white\",\"showbackground\":true,\"ticks\":\"\",\"zerolinecolor\":\"white\",\"gridwidth\":2},\"zaxis\":{\"backgroundcolor\":\"#E5ECF6\",\"gridcolor\":\"white\",\"linecolor\":\"white\",\"showbackground\":true,\"ticks\":\"\",\"zerolinecolor\":\"white\",\"gridwidth\":2}},\"shapedefaults\":{\"line\":{\"color\":\"#2a3f5f\"}},\"annotationdefaults\":{\"arrowcolor\":\"#2a3f5f\",\"arrowhead\":0,\"arrowwidth\":1},\"geo\":{\"bgcolor\":\"white\",\"landcolor\":\"#E5ECF6\",\"subunitcolor\":\"white\",\"showland\":true,\"showlakes\":true,\"lakecolor\":\"white\"},\"title\":{\"x\":0.05},\"mapbox\":{\"style\":\"light\"}}}},                        {\"responsive\": true}                    ).then(function(){\n",
       "                            \n",
       "var gd = document.getElementById('9921dc06-1660-4a5d-ab35-440f98720d07');\n",
       "var x = new MutationObserver(function (mutations, observer) {{\n",
       "        var display = window.getComputedStyle(gd).display;\n",
       "        if (!display || display === 'none') {{\n",
       "            console.log([gd, 'removed!']);\n",
       "            Plotly.purge(gd);\n",
       "            observer.disconnect();\n",
       "        }}\n",
       "}});\n",
       "\n",
       "// Listen for the removal of the full notebook cells\n",
       "var notebookContainer = gd.closest('#notebook-container');\n",
       "if (notebookContainer) {{\n",
       "    x.observe(notebookContainer, {childList: true});\n",
       "}}\n",
       "\n",
       "// Listen for the clearing of the current output cell\n",
       "var outputEl = gd.closest('.output');\n",
       "if (outputEl) {{\n",
       "    x.observe(outputEl, {childList: true});\n",
       "}}\n",
       "\n",
       "                        })                };                });            </script>        </div>"
      ]
     },
     "metadata": {},
     "output_type": "display_data"
    }
   ],
   "source": [
    "correlation(['TSLA', 'NFLX', 'TWTR', 'ETH-USD'])"
   ]
  }
 ],
 "metadata": {
  "kernelspec": {
   "display_name": "Python 3 (ipykernel)",
   "language": "python",
   "name": "python3"
  },
  "language_info": {
   "codemirror_mode": {
    "name": "ipython",
    "version": 3
   },
   "file_extension": ".py",
   "mimetype": "text/x-python",
   "name": "python",
   "nbconvert_exporter": "python",
   "pygments_lexer": "ipython3",
   "version": "3.8.3"
  }
 },
 "nbformat": 4,
 "nbformat_minor": 5
}
