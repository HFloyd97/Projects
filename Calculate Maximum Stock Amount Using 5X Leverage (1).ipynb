{
 "cells": [
  {
   "cell_type": "markdown",
   "id": "928982a0",
   "metadata": {},
   "source": [
    "## Import Packages"
   ]
  },
  {
   "cell_type": "code",
   "execution_count": 94,
   "id": "b246b937",
   "metadata": {},
   "outputs": [],
   "source": [
    "from pandas_datareader import data as web\n",
    "from datetime import date\n",
    "import math\n",
    "from forex_python.converter import CurrencyRates\n",
    "\n",
    "c = CurrencyRates()"
   ]
  },
  {
   "cell_type": "markdown",
   "id": "431ca3b2",
   "metadata": {},
   "source": [
    "## Define Dates"
   ]
  },
  {
   "cell_type": "code",
   "execution_count": 101,
   "id": "6458aa8a",
   "metadata": {},
   "outputs": [],
   "source": [
    "# Dates should be in the format 'yyyy/mm/dd'\n",
    "sdate = '2019/07/05'\n",
    "\n",
    "# Get todays date\n",
    "edate = date.today()"
   ]
  },
  {
   "cell_type": "markdown",
   "id": "2b8e4c25",
   "metadata": {},
   "source": [
    "## Given some amount of cash £X, what is the most of Stock Y that can be bought at its current price, given a worst case scenario stock price of Z?"
   ]
  },
  {
   "cell_type": "code",
   "execution_count": 102,
   "id": "5a039d2c",
   "metadata": {},
   "outputs": [],
   "source": [
    "# This assumes the currency used to purchase the asset is £GBP and the asset being purchased is in $USD\n",
    "def amount_of_stock(amount, ticker, worst_case_scenario):    \n",
    "    \n",
    "    # Reads data into a dataframe\n",
    "    df = web.DataReader(ticker, 'yahoo', sdate, edate)\n",
    "    \n",
    "    # Get live conversion rate GBP:USD\n",
    "    conversion_rate = round(c.get_rate('GBP', 'USD'), 2)\n",
    "    # If forex_python is making the script slow then uncomment the line blow,\n",
    "    # comment out the line above and manually adjust\n",
    "    \n",
    "    # conversion_rate = 1.2\n",
    "\n",
    "    # Calculate the dollar amount using the conversion rate\n",
    "    dollar_amount = math.floor(conversion_rate * amount)\n",
    "   \n",
    "    # We define the current price as the latest closing price\n",
    "    price = round(df['Close'][-1], 2)\n",
    "    \n",
    "    # Calculate the amount required to hold a single share\n",
    "    maintenance_per_share = price / 10\n",
    "    \n",
    "    # Calculate the maximum number of stock we can buy\n",
    "    amount_of_stock = math.floor((dollar_amount/(price - worst_case_scenario + maintenance_per_share)) * 10) / 10.0\n",
    "    \n",
    "    # Calculate the required margin to hold the calculated amount of shares\n",
    "    required_margin = math.ceil((price / 5) * amount_of_stock)\n",
    "    maintenance_margin = math.ceil(required_margin / 2)\n",
    "    \n",
    "    # We define the highest price as the highest price in the period\n",
    "    period_high = round(max(df['High']), 2)\n",
    "    \n",
    "    # Calculate the profit if the stock went back to its period high\n",
    "    period_high_profit = round((period_high - price) * amount_of_stock, 0)\n",
    "    \n",
    "    # Calculate return on investment (ROI) if the stock reaches period high\n",
    "    roi = round((period_high_profit / dollar_amount) * 100, 2)\n",
    "    \n",
    "    # Print info\n",
    "    print(f\"With your £{amount}, your equity will be ${dollar_amount}.\")\n",
    "    print(f\"The current {ticker} share price is ${price}.\")\n",
    "    print(f\"You can buy {amount_of_stock} shares but your positions will close out if {ticker} reaches ${worst_case_scenario}.\")\n",
    "    print(\"\")\n",
    "    print(f\"The required margin for {amount_of_stock} shares is ${required_margin}\")\n",
    "    print(f\"The maintenance margin is ${maintenance_margin}.\")\n",
    "    print(f\"To ensure your position don't close out, your equity must exceed ${maintenance_margin}.\")\n",
    "    print(\"\")\n",
    "    print(f\"The period high for {ticker} is ${period_high}.\")\n",
    "    print(f\"If {ticker} reaches ${period_high} again, profit will be ${period_high_profit}.\")\n",
    "    print(f\"Your equity will be ${dollar_amount + period_high_profit}.\")\n",
    "    print(f\"Return on investment would be {roi}%\")\n",
    "    "
   ]
  },
  {
   "cell_type": "code",
   "execution_count": 103,
   "id": "8ca01540",
   "metadata": {},
   "outputs": [
    {
     "name": "stdout",
     "output_type": "stream",
     "text": [
      "With your £100, your equity will be $120.\n",
      "The current TSLA share price is $752.29.\n",
      "You can buy 0.4 shares but your positions will close out if TSLA reaches $550.\n",
      "\n",
      "The required margin for 0.4 shares is $61\n",
      "The maintenance margin is $31.\n",
      "To ensure your position don't close out, your equity must exceed $31.\n",
      "\n",
      "The period high for TSLA is $1243.49.\n",
      "If TSLA reaches $1243.49 again, profit will be $196.0.\n",
      "Your equity will be $316.0.\n",
      "Return on investment would be 163.33%\n"
     ]
    }
   ],
   "source": [
    "amount_of_stock(100, 'TSLA', 550)"
   ]
  },
  {
   "cell_type": "code",
   "execution_count": 104,
   "id": "b378b97e",
   "metadata": {},
   "outputs": [
    {
     "name": "stdout",
     "output_type": "stream",
     "text": [
      "With your £100, your equity will be $120.\n",
      "The current SPCE share price is $7.32.\n",
      "You can buy 29.6 shares but your positions will close out if SPCE reaches $4.\n",
      "\n",
      "The required margin for 29.6 shares is $44\n",
      "The maintenance margin is $22.\n",
      "To ensure your position don't close out, your equity must exceed $22.\n",
      "\n",
      "The period high for SPCE is $62.8.\n",
      "If SPCE reaches $62.8 again, profit will be $1642.0.\n",
      "Your equity will be $1762.0.\n",
      "Return on investment would be 1368.33%\n"
     ]
    }
   ],
   "source": [
    "amount_of_stock(100, 'SPCE', 4)"
   ]
  },
  {
   "cell_type": "code",
   "execution_count": 105,
   "id": "7457503c",
   "metadata": {},
   "outputs": [
    {
     "name": "stdout",
     "output_type": "stream",
     "text": [
      "With your £100, your equity will be $120.\n",
      "The current ARKG share price is $37.46.\n",
      "You can buy 5.6 shares but your positions will close out if ARKG reaches $20.\n",
      "\n",
      "The required margin for 5.6 shares is $42\n",
      "The maintenance margin is $21.\n",
      "To ensure your position don't close out, your equity must exceed $21.\n",
      "\n",
      "The period high for ARKG is $115.15.\n",
      "If ARKG reaches $115.15 again, profit will be $435.0.\n",
      "Your equity will be $555.0.\n",
      "Return on investment would be 362.5%\n"
     ]
    }
   ],
   "source": [
    "amount_of_stock(100, 'ARKG', 20)"
   ]
  },
  {
   "cell_type": "code",
   "execution_count": null,
   "id": "54cfe761",
   "metadata": {},
   "outputs": [],
   "source": []
  }
 ],
 "metadata": {
  "kernelspec": {
   "display_name": "Python 3 (ipykernel)",
   "language": "python",
   "name": "python3"
  },
  "language_info": {
   "codemirror_mode": {
    "name": "ipython",
    "version": 3
   },
   "file_extension": ".py",
   "mimetype": "text/x-python",
   "name": "python",
   "nbconvert_exporter": "python",
   "pygments_lexer": "ipython3",
   "version": "3.8.3"
  }
 },
 "nbformat": 4,
 "nbformat_minor": 5
}
